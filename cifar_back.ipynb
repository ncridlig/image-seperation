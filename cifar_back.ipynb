{
 "cells": [
  {
   "cell_type": "markdown",
   "metadata": {},
   "source": [
    "# Learning to CIFAR Back!\n",
    "The CIFAR-10 dataset is a benchmark for computer vision tasks dating to [2009](https://www.cs.toronto.edu/~kriz/cifar.html). We construct a model capable of disentangling an input image created by averaging two random samples from CIFAR-10 and predicting the categories of the two components. We achieve 80% accuracy with an F1 Score of ?. \n",
    "\n",
    "This novel task requires training on small datasets (order of 50,000 samples) with small spatial resolution (32x32x3). We overcome this difficulty by eliminating max pooling operations in favor of an All Convolutional Model, inspired by the (second place CIFAR-10 holders)[https://arxiv.org/abs/1412.6806]. The writeup takes the form of a Jupyter notebook, first displaying our most capable model, then chronologically detailing how we arrived to this result.\n",
    "\n",
    "### 80% Accuracy ACNN3\n",
    "![ACCN3](ACCN3.png)\n",
    "### Description\n",
    "The model has a feature extractor composed purely of two dimensional convolutions. Instead of maxpooling, down sampling the spatial resolution is accomplished by a stride of 2. The extractor reduces the resolution to a stack of 192 2x2 filters. This is flattened and passed to two independent classifiers. They are single layer fully connected layers, with a softmax to produce the 5 possible class probabilities. The network has 20% dropout layers after the stride 2 convolutions to prevent overfitting and no data augmentation, as it did not lead to better results. The standard optimizer has been replaced with [Adagrad](https://keras.io/api/optimizers/adagrad/) which lead to slow but stable convergence. Each classifier has its own cross entropy loss to back propagate through the network, and we observe they do not improve equally, an area for further research on the task.\n",
    "\n",
    "# Experimental Setup\n",
    "The reader is invited to train locally by uncommenting the **fit()** calls where indicated.\n",
    "### Libraries"
   ]
  },
  {
   "cell_type": "code",
   "execution_count": 1,
   "metadata": {},
   "outputs": [],
   "source": [
    "import tensorflow as tf\n",
    "import keras\n",
    "from tensorflow.keras import layers, regularizers\n",
    "from tensorflow.keras.layers import LeakyReLU\n",
    "from tensorflow.keras.models import Model\n",
    "from tensorflow.keras.datasets import cifar10\n",
    "from tensorflow.nn import fractional_max_pool\n",
    "from keras.optimizers import Adam\n",
    "from tensorflow.keras import backend as K\n",
    "import numpy as np\n",
    "from matplotlib import pyplot as plt\n",
    "from tqdm import tqdm\n",
    "from sklearn.model_selection import train_test_split\n",
    "import os\n",
    "from tensorflow.keras.callbacks import Callback\n",
    "from keras.saving import load_model, save_model, save_weights\n",
    "from sklearn.metrics import classification_report, f1_score, accuracy_score\n",
    "from sklearn.metrics import confusion_matrix\n",
    "import seaborn as sns"
   ]
  },
  {
   "cell_type": "markdown",
   "metadata": {},
   "source": [
    "### Data Preparation"
   ]
  },
  {
   "cell_type": "code",
   "execution_count": 2,
   "metadata": {},
   "outputs": [],
   "source": [
    "(cifar10_x_train, cifar10_y_train), (cifar10_x_test, cifar10_y_test) = cifar10.load_data()\n",
    "assert cifar10_x_train.shape == (50000, 32, 32, 3)\n",
    "assert cifar10_x_test.shape == (10000, 32, 32, 3)\n",
    "assert cifar10_y_train.shape == (50000, 1)\n",
    "assert cifar10_y_test.shape == (10000, 1)\n",
    "\n",
    "# Split part of the training set into validation set\n",
    "cifar10_x_train, cifar10_x_val, cifar10_y_train, cifar10_y_val = train_test_split(\n",
    "    cifar10_x_train, cifar10_y_train, test_size=0.1\n",
    ")\n",
    "\n",
    "# First classifier: \"airplane\", \"automobile\", \"bird\", \"cat\", \"deer\"\n",
    "# Second classifier: \"dog\", \"frog\", \"horse\", \"ship\", \"truck\"\n",
    "classes = [\"airplane\", \"automobile\", \"bird\", \"cat\", \"deer\", \"dog\", \"frog\", \"horse\", \"ship\", \"truck\"]\n",
    "\n",
    "# Normalizing to range (0,1)\n",
    "cifar10_x_train = (cifar10_x_train/255.).astype(np.float32)\n",
    "cifar10_x_val = (cifar10_x_val / 255.).astype(np.float32)\n",
    "cifar10_x_test = (cifar10_x_test/255.).astype(np.float32)"
   ]
  },
  {
   "cell_type": "markdown",
   "metadata": {},
   "source": [
    "Split the images in two groups, according to their label."
   ]
  },
  {
   "cell_type": "code",
   "execution_count": 3,
   "metadata": {},
   "outputs": [],
   "source": [
    "cond_1 = cifar10_y_train[:,0] < 5\n",
    "cifar10_x_train_1 = cifar10_x_train[cond_1]\n",
    "cifar10_y_train_1 = cifar10_y_train[cond_1]\n",
    "\n",
    "cond_2 = cifar10_y_train[:,0] >= 5\n",
    "cifar10_x_train_2 = cifar10_x_train[cond_2]\n",
    "cifar10_y_train_2 = cifar10_y_train[cond_2]\n",
    "\n",
    "cond_1_val = cifar10_y_val[:,0] < 5\n",
    "cifar10_x_val_1 = cifar10_x_val[cond_1_val]\n",
    "cifar10_y_val_1 = cifar10_y_val[cond_1_val]\n",
    "\n",
    "cond_2_val = cifar10_y_val[:,0] >= 5\n",
    "cifar10_x_val_2 = cifar10_x_val[cond_2_val]\n",
    "cifar10_y_val_2 = cifar10_y_val[cond_2_val]\n",
    "\n",
    "cond_1_test = cifar10_y_test[:,0] < 5\n",
    "cifar10_x_test_1 = cifar10_x_test[cond_1_test]\n",
    "cifar10_y_test_1 = cifar10_y_test[cond_1_test]\n",
    "\n",
    "cond_2_test = cifar10_y_test[:,0] >= 5\n",
    "cifar10_x_test_2 = cifar10_x_test[cond_2_test]\n",
    "cifar10_y_test_2 = cifar10_y_test[cond_2_test]"
   ]
  },
  {
   "cell_type": "markdown",
   "metadata": {},
   "source": [
    "Define the generator. The input consists of two datasets (X1,X2), their corresponding labels (Y1,Y2), and a batch size.\n",
    "\n",
    "The generator returns (x_data,y_data), where:\n",
    "* x_data is a batch of images obtained by averaging random samples from X1 and X2.\n",
    "* y_data is a dictionary of batches of labels corresponding to the component images, expressed in categorical format, in other words, one hot encoded."
   ]
  },
  {
   "cell_type": "code",
   "execution_count": 4,
   "metadata": {},
   "outputs": [],
   "source": [
    "batchsize = 64\n",
    "\n",
    "def datagenerator(X1,X2,Y1,Y2,batchsize):\n",
    "  size1 = X1.shape[0]\n",
    "  size2 = X2.shape[0]\n",
    "  Y1_cat = tf.keras.utils.to_categorical(Y1, num_classes=5)\n",
    "  Y2_cat = tf.keras.utils.to_categorical(Y2-5, num_classes=5)\n",
    "\n",
    "  while True:\n",
    "    num1 = np.random.randint(0, size1, batchsize)\n",
    "    num2 = np.random.randint(0, size2, batchsize)\n",
    "    x_data = (X1[num1] + X2[num2]) / 2.0\n",
    "    y_data = {'output1': Y1_cat[num1], 'output2': Y2_cat[num2]}\n",
    "    yield tf.convert_to_tensor(x_data), y_data\n",
    "\n",
    "traingen = datagenerator(cifar10_x_train_1,cifar10_x_train_2,cifar10_y_train_1,cifar10_y_train_2,batchsize)\n",
    "valgen = datagenerator(cifar10_x_val_1,cifar10_x_val_2,cifar10_y_val_1,cifar10_y_val_2,batchsize)\n",
    "testgen = datagenerator(cifar10_x_test_1,cifar10_x_test_2,cifar10_y_test_1,cifar10_y_test_2,1000)"
   ]
  },
  {
   "cell_type": "markdown",
   "metadata": {},
   "source": [
    "We generate an example, display the image that the model will take as input, and print the categories of the two overlapping components.\n",
    "\n",
    "The reader is invited to re-run the cell to display new examples."
   ]
  },
  {
   "cell_type": "code",
   "execution_count": 5,
   "metadata": {},
   "outputs": [
    {
     "name": "stdout",
     "output_type": "stream",
     "text": [
      "first: cat, second = dog\n"
     ]
    },
    {
     "data": {
      "text/plain": [
       "[]"
      ]
     },
     "execution_count": 5,
     "metadata": {},
     "output_type": "execute_result"
    },
    {
     "data": {
      "image/png": "[encoded data removed]",
      "text/plain": [
       "<Figure size 640x480 with 1 Axes>"
      ]
     },
     "metadata": {},
     "output_type": "display_data"
    }
   ],
   "source": [
    "datagen = datagenerator(cifar10_x_train_1,cifar10_x_train_2,cifar10_y_train_1,cifar10_y_train_2,1)\n",
    "x, y = next(datagen)\n",
    "print(\"first: {}, second = {}\".format(classes[np.argmax(y['output1'][0])],classes[np.argmax(y['output2'][0])+5]))\n",
    "plt.imshow(x[0])\n",
    "plt.plot()"
   ]
  },
  {
   "cell_type": "markdown",
   "metadata": {},
   "source": [
    "### Model Evaluation\n",
    "We create our evaluation method and test it with a model which generates random classes."
   ]
  },
  {
   "cell_type": "code",
   "execution_count": 6,
   "metadata": {},
   "outputs": [],
   "source": [
    "def random_model():\n",
    "    inputs = keras.Input(shape=(32,32,3))\n",
    "    x = layers.Flatten()(inputs)\n",
    "    output1 = layers.Dense(5, name='output1')(x)\n",
    "    output2 = layers.Dense(5, name='output2')(x)\n",
    "    model = keras.Model(\n",
    "    inputs,\n",
    "    outputs={'output1':output1, 'output2':output2}, name='Toy',\n",
    "    )\n",
    "    model.compile(\n",
    "    optimizer='Adam', \n",
    "    loss={'output1': 'categorical_crossentropy', 'output2': 'categorical_crossentropy'},\n",
    "    metrics={'output1':'accuracy', 'output2':'accuracy'})\n",
    "    return model\n",
    "\n",
    "def evaluate_model(model, gen, steps=10, repeat=10, classes=classes):\n",
    "    y1 = []\n",
    "    pred1 = []\n",
    "    y2 = []\n",
    "    pred2 = []\n",
    "    \n",
    "    for _ in tqdm(range(steps * repeat)):\n",
    "        # Generator returns 1000 image batches\n",
    "        x, y = next(gen)\n",
    "        \n",
    "        y1.extend(np.argmax(y['output1'], axis=1))\n",
    "        y2.extend(np.argmax(y['output2'], axis=1))\n",
    "        \n",
    "        pred = model.predict(x, verbose=0)\n",
    "        pred1.extend(np.argmax(pred['output1'], axis=1))\n",
    "        pred2.extend(np.argmax(pred['output2'], axis=1))\n",
    "    \n",
    "    acc1 = accuracy_score(y1, pred1)\n",
    "    acc2 = accuracy_score(y2, pred2)\n",
    "    mean_accuracy = np.mean([acc1, acc2])\n",
    "    std_accuracy = np.std([acc1, acc2])\n",
    "    print(f\"First Classifier Accuracy: {acc1:.4f}\")\n",
    "    print(f\"Second Classifier Accuracy: {acc2:.4f}\")\n",
    "    print(f\"Mean Accuracy: {mean_accuracy:.4f} ± {std_accuracy:.4f}\")\n",
    "    \n",
    "    cm1 = confusion_matrix(y1, pred1)\n",
    "    cm2 = confusion_matrix(y2, pred2)\n",
    "    fig, axes = plt.subplots(1, 2, figsize=(16, 6))\n",
    "    \n",
    "    sns.heatmap(cm1, annot=True, fmt='d', cmap='Blues', \n",
    "                xticklabels=classes[:5] if classes else None, \n",
    "                yticklabels=classes[:5] if classes else None, ax=axes[0])\n",
    "    axes[0].set_xlabel('Predicted')\n",
    "    axes[0].set_ylabel('True')\n",
    "    axes[0].set_title('First Classifier Confusion Matrix')\n",
    "    \n",
    "    sns.heatmap(cm2, annot=True, fmt='d', cmap='Blues', \n",
    "                xticklabels=classes[5:10] if classes else None, \n",
    "                yticklabels=classes[5:10] if classes else None, ax=axes[1])\n",
    "    axes[1].set_xlabel('Predicted')\n",
    "    axes[1].set_ylabel('True')\n",
    "    axes[1].set_title('Second Classifier Confusion Matrix')\n",
    "    \n",
    "    plt.tight_layout()\n",
    "    plt.show()"
   ]
  },
  {
   "cell_type": "code",
   "execution_count": 39,
   "metadata": {},
   "outputs": [
    {
     "name": "stderr",
     "output_type": "stream",
     "text": [
      "100%|██████████| 100/100 [00:05<00:00, 16.84it/s]\n"
     ]
    },
    {
     "name": "stdout",
     "output_type": "stream",
     "text": [
      "First Classifier Accuracy: 0.1899\n",
      "Second Classifier Accuracy: 0.1865\n",
      "Mean Accuracy: 0.1882 ± 0.0017\n"
     ]
    },
    {
     "data": {
      "image/png": "[encoded data removed]",
      "text/plain": [
       "<Figure size 1600x600 with 4 Axes>"
      ]
     },
     "metadata": {},
     "output_type": "display_data"
    }
   ],
   "source": [
    "model = random_model()\n",
    "evaluate_model(model, testgen)"
   ]
  },
  {
   "cell_type": "markdown",
   "metadata": {},
   "source": [
    "As expected, the accuracy is around 1/5 = 0.2! We repeat the evaluation ten times, and compute the standard deviation. This is how we compute our official project result. No more waiting, we load our top model weights to report!"
   ]
  },
  {
   "cell_type": "code",
   "execution_count": 40,
   "metadata": {},
   "outputs": [
    {
     "name": "stderr",
     "output_type": "stream",
     "text": [
      "100%|██████████| 100/100 [02:24<00:00,  1.44s/it]\n"
     ]
    },
    {
     "name": "stdout",
     "output_type": "stream",
     "text": [
      "First Classifier Accuracy: 0.7291\n",
      "Second Classifier Accuracy: 0.8141\n",
      "Mean Accuracy: 0.7716 ± 0.0425\n"
     ]
    },
    {
     "data": {
      "image/png": "[encoded data removed]",
      "text/plain": [
       "<Figure size 1600x600 with 4 Axes>"
      ]
     },
     "metadata": {},
     "output_type": "display_data"
    }
   ],
   "source": [
    "model = load_model('77.2acc.keras')\n",
    "evaluate_model(model, testgen)"
   ]
  },
  {
   "cell_type": "markdown",
   "metadata": {},
   "source": [
    "As stated in the beginning, our model performs admirably with an accuracy of 77.2\\%! From the confusion matrices, we can see it performs about equally well on all classes. However, the first classifier has greater difficulty than the second. We know this from the lower accuracy score and confusion between animals: notice the shaded areas for deer, cat, and bird!\n",
    "### Model Checkpoints\n",
    "We implement a custom model callback to save the model weights when the average accuracy of both classifiers improves during training. Without this, we would be forced to use a proxy like loss for the metric we care about the most. We use the validation accuracy since it is representative of the unseen data the model will see during testing. This being said, we did not use this often since training was fast and it saved a lot of models!"
   ]
  },
  {
   "cell_type": "code",
   "execution_count": 42,
   "metadata": {},
   "outputs": [],
   "source": [
    "class MeanAccModelCheckpoint(Callback):\n",
    "    def __init__(self, filepath, monitor1='val_output1_accuracy', monitor2='val_output2_accuracy', mode='max', verbose=1):\n",
    "        super(MeanAccModelCheckpoint, self).__init__()\n",
    "        self.filepath = filepath\n",
    "        self.monitor1 = monitor1\n",
    "        self.monitor2 = monitor2\n",
    "        self.mode = mode\n",
    "        self.verbose = verbose\n",
    "        self.best_score = -float('inf') if mode == 'max' else float('inf')\n",
    "\n",
    "    # Called at the end of an epoch during training\n",
    "    def on_epoch_end(self, epoch, logs=None):\n",
    "        acc1 = logs.get(self.monitor1)\n",
    "        acc2 = logs.get(self.monitor2)\n",
    "\n",
    "        # Compute the average accuracy\n",
    "        avg_accuracy = (acc1 + acc2) / 2 if acc1 is not None and acc2 is not None else None\n",
    "\n",
    "        if avg_accuracy is not None:\n",
    "            if (self.mode == 'max' and avg_accuracy > self.best_score) or \\\n",
    "               (self.mode == 'min' and avg_accuracy < self.best_score):\n",
    "                # Update the best score\n",
    "                self.best_score = avg_accuracy\n",
    "                \n",
    "                # Format the filepath\n",
    "                save_path = self.filepath.format(\n",
    "                    output1_accuracy=acc1,\n",
    "                    output2_accuracy=acc2,\n",
    "                    epoch=epoch + 1,  # Epoch is zero-indexed\n",
    "                    loss=logs.get('loss')\n",
    "                )\n",
    "                \n",
    "                # Save the model\n",
    "                if self.verbose:\n",
    "                    print(f\"\\nEpoch {epoch + 1}: Average accuracy improved to {avg_accuracy:.4f}, saving model to {save_path}\")\n",
    "                self.model.save(save_path)\n",
    "            elif self.verbose:\n",
    "                print(f\"\\nEpoch {epoch + 1}: Average accuracy did not improve (current: {avg_accuracy:.4f}, best: {self.best_score:.4f})\")\n"
   ]
  },
  {
   "cell_type": "markdown",
   "metadata": {},
   "source": [
    "We use the built in callback for early stopping so we do not have to worry about training for too few or too many epochs. When the validation loss stops decreasing, the model will try ten more times to improve or revert to the best weights. The validation loss metric is an average of the validation losses of each one of the two classifiers. We also use a built in callback to lower the learning rate when training stalls, to converge to better results."
   ]
  },
  {
   "cell_type": "code",
   "execution_count": 43,
   "metadata": {},
   "outputs": [],
   "source": [
    "early_stopping = keras.callbacks.EarlyStopping(monitor='val_loss', \n",
    "                                patience=10,         \n",
    "                                mode='min',         \n",
    "                                restore_best_weights=True,  \n",
    "                                verbose=1)\n",
    "reduce_lr = keras.callbacks.ReduceLROnPlateau(monitor='val_loss', \n",
    "                                factor=0.2,\n",
    "                                patience=5, \n",
    "                                min_lr=0.000001, \n",
    "                                verbose=1)"
   ]
  },
  {
   "cell_type": "markdown",
   "metadata": {},
   "source": [
    "### Model Creation\n",
    "We use the Keras Functional API to create our model."
   ]
  },
  {
   "cell_type": "code",
   "execution_count": 44,
   "metadata": {},
   "outputs": [],
   "source": [
    "def ACCNRR():\n",
    "    # CIFAR-10\n",
    "    inputs = keras.Input(shape=(32,32,3))\n",
    "    inputs = layers.RandomFlip(\"horizontal\")(inputs)\n",
    "    # Feature Extractor\n",
    "    x = layers.Conv2D(96, (3,3), activation='relu')(inputs)\n",
    "    x = layers.BatchNormalization()(x)\n",
    "    x = layers.Conv2D(96, (3,3), activation='relu')(x)\n",
    "    x = layers.BatchNormalization()(x)\n",
    "    x = layers.Conv2D(96, (3,3), activation='relu', strides=2)(x)\n",
    "    x = layers.BatchNormalization()(x)\n",
    "    x = layers.Conv2D(192, (3,3), activation='relu')(x)\n",
    "    x = layers.BatchNormalization()(x)\n",
    "    x = layers.Conv2D(192, (3,3), activation='relu')(x)\n",
    "    x = layers.BatchNormalization()(x)\n",
    "    x = layers.Conv2D(192, (3,3), activation='relu', strides=2)(x)\n",
    "    x = layers.BatchNormalization()(x)\n",
    "    x = layers.Conv2D(192, (3,3), activation='relu')(x)\n",
    "    x = layers.BatchNormalization()(x)\n",
    "    x = layers.Conv2D(192, (1,1), activation='relu')(x)\n",
    "    x = layers.BatchNormalization()(x)\n",
    "    # Classifers\n",
    "    x = layers.GlobalAveragePooling2D()(x)\n",
    "    output1 = layers.Dense(5, activation='softmax', name='output1', kernel_regularizer=regularizers.l2(0.01))(x)\n",
    "    output2 = layers.Dense(5, activation='softmax', name='output2', kernel_regularizer=regularizers.l2(0.01))(x)\n",
    "    # Model creation\n",
    "    model = keras.Model(\n",
    "        inputs,\n",
    "        outputs={'output1':output1, 'output2':output2}, name='ACCNRR',\n",
    "        )\n",
    "    return model"
   ]
  },
  {
   "cell_type": "markdown",
   "metadata": {},
   "source": [
    "We use the garbage collector to free all memory, then load and compile the model with its hyperparamters. The optimizer is RMS Prop, which combined with reducing learning rate over training leads to stable training. We apply label smoothing to the classifier losses, since the signal is quite noisy this will help with learning. Finally, we display the model summary and ascertain its size as a medium model, at over 1 Million trainable parameters."
   ]
  },
  {
   "cell_type": "code",
   "execution_count": 47,
   "metadata": {},
   "outputs": [
    {
     "data": {
      "text/html": [
       "<pre style=\"white-space:pre;overflow-x:auto;line-height:normal;font-family:Menlo,'DejaVu Sans Mono',consolas,'Courier New',monospace\"><span style=\"font-weight: bold\">Model: \"ACCNRR\"</span>\n",
       "</pre>\n"
      ],
      "text/plain": [
       "\u001b[1mModel: \"ACCNRR\"\u001b[0m\n"
      ]
     },
     "metadata": {},
     "output_type": "display_data"
    },
    {
     "data": {
      "text/html": [
       "<pre style=\"white-space:pre;overflow-x:auto;line-height:normal;font-family:Menlo,'DejaVu Sans Mono',consolas,'Courier New',monospace\">┏━━━━━━━━━━━━━━━━━━━━━┳━━━━━━━━━━━━━━━━━━━┳━━━━━━━━━━━━┳━━━━━━━━━━━━━━━━━━━┓\n",
       "┃<span style=\"font-weight: bold\"> Layer (type)        </span>┃<span style=\"font-weight: bold\"> Output Shape      </span>┃<span style=\"font-weight: bold\">    Param # </span>┃<span style=\"font-weight: bold\"> Connected to      </span>┃\n",
       "┡━━━━━━━━━━━━━━━━━━━━━╇━━━━━━━━━━━━━━━━━━━╇━━━━━━━━━━━━╇━━━━━━━━━━━━━━━━━━━┩\n",
       "│ keras_tensor_1CLONE │ (<span style=\"color: #00d7ff; text-decoration-color: #00d7ff\">None</span>, <span style=\"color: #00af00; text-decoration-color: #00af00\">32</span>, <span style=\"color: #00af00; text-decoration-color: #00af00\">32</span>, <span style=\"color: #00af00; text-decoration-color: #00af00\">3</span>) │          <span style=\"color: #00af00; text-decoration-color: #00af00\">0</span> │ -                 │\n",
       "│ (<span style=\"color: #0087ff; text-decoration-color: #0087ff\">InputLayer</span>)        │                   │            │                   │\n",
       "├─────────────────────┼───────────────────┼────────────┼───────────────────┤\n",
       "│ conv2d (<span style=\"color: #0087ff; text-decoration-color: #0087ff\">Conv2D</span>)     │ (<span style=\"color: #00d7ff; text-decoration-color: #00d7ff\">None</span>, <span style=\"color: #00af00; text-decoration-color: #00af00\">30</span>, <span style=\"color: #00af00; text-decoration-color: #00af00\">30</span>,    │      <span style=\"color: #00af00; text-decoration-color: #00af00\">2,688</span> │ keras_tensor_1CL… │\n",
       "│                     │ <span style=\"color: #00af00; text-decoration-color: #00af00\">96</span>)               │            │                   │\n",
       "├─────────────────────┼───────────────────┼────────────┼───────────────────┤\n",
       "│ batch_normalization │ (<span style=\"color: #00d7ff; text-decoration-color: #00d7ff\">None</span>, <span style=\"color: #00af00; text-decoration-color: #00af00\">30</span>, <span style=\"color: #00af00; text-decoration-color: #00af00\">30</span>,    │        <span style=\"color: #00af00; text-decoration-color: #00af00\">384</span> │ conv2d[<span style=\"color: #00af00; text-decoration-color: #00af00\">2</span>][<span style=\"color: #00af00; text-decoration-color: #00af00\">0</span>]      │\n",
       "│ (<span style=\"color: #0087ff; text-decoration-color: #0087ff\">BatchNormalizatio…</span> │ <span style=\"color: #00af00; text-decoration-color: #00af00\">96</span>)               │            │                   │\n",
       "├─────────────────────┼───────────────────┼────────────┼───────────────────┤\n",
       "│ conv2d_1 (<span style=\"color: #0087ff; text-decoration-color: #0087ff\">Conv2D</span>)   │ (<span style=\"color: #00d7ff; text-decoration-color: #00d7ff\">None</span>, <span style=\"color: #00af00; text-decoration-color: #00af00\">28</span>, <span style=\"color: #00af00; text-decoration-color: #00af00\">28</span>,    │     <span style=\"color: #00af00; text-decoration-color: #00af00\">83,040</span> │ batch_normalizat… │\n",
       "│                     │ <span style=\"color: #00af00; text-decoration-color: #00af00\">96</span>)               │            │                   │\n",
       "├─────────────────────┼───────────────────┼────────────┼───────────────────┤\n",
       "│ batch_normalizatio… │ (<span style=\"color: #00d7ff; text-decoration-color: #00d7ff\">None</span>, <span style=\"color: #00af00; text-decoration-color: #00af00\">28</span>, <span style=\"color: #00af00; text-decoration-color: #00af00\">28</span>,    │        <span style=\"color: #00af00; text-decoration-color: #00af00\">384</span> │ conv2d_1[<span style=\"color: #00af00; text-decoration-color: #00af00\">2</span>][<span style=\"color: #00af00; text-decoration-color: #00af00\">0</span>]    │\n",
       "│ (<span style=\"color: #0087ff; text-decoration-color: #0087ff\">BatchNormalizatio…</span> │ <span style=\"color: #00af00; text-decoration-color: #00af00\">96</span>)               │            │                   │\n",
       "├─────────────────────┼───────────────────┼────────────┼───────────────────┤\n",
       "│ conv2d_2 (<span style=\"color: #0087ff; text-decoration-color: #0087ff\">Conv2D</span>)   │ (<span style=\"color: #00d7ff; text-decoration-color: #00d7ff\">None</span>, <span style=\"color: #00af00; text-decoration-color: #00af00\">13</span>, <span style=\"color: #00af00; text-decoration-color: #00af00\">13</span>,    │     <span style=\"color: #00af00; text-decoration-color: #00af00\">83,040</span> │ batch_normalizat… │\n",
       "│                     │ <span style=\"color: #00af00; text-decoration-color: #00af00\">96</span>)               │            │                   │\n",
       "├─────────────────────┼───────────────────┼────────────┼───────────────────┤\n",
       "│ batch_normalizatio… │ (<span style=\"color: #00d7ff; text-decoration-color: #00d7ff\">None</span>, <span style=\"color: #00af00; text-decoration-color: #00af00\">13</span>, <span style=\"color: #00af00; text-decoration-color: #00af00\">13</span>,    │        <span style=\"color: #00af00; text-decoration-color: #00af00\">384</span> │ conv2d_2[<span style=\"color: #00af00; text-decoration-color: #00af00\">2</span>][<span style=\"color: #00af00; text-decoration-color: #00af00\">0</span>]    │\n",
       "│ (<span style=\"color: #0087ff; text-decoration-color: #0087ff\">BatchNormalizatio…</span> │ <span style=\"color: #00af00; text-decoration-color: #00af00\">96</span>)               │            │                   │\n",
       "├─────────────────────┼───────────────────┼────────────┼───────────────────┤\n",
       "│ conv2d_3 (<span style=\"color: #0087ff; text-decoration-color: #0087ff\">Conv2D</span>)   │ (<span style=\"color: #00d7ff; text-decoration-color: #00d7ff\">None</span>, <span style=\"color: #00af00; text-decoration-color: #00af00\">11</span>, <span style=\"color: #00af00; text-decoration-color: #00af00\">11</span>,    │    <span style=\"color: #00af00; text-decoration-color: #00af00\">166,080</span> │ batch_normalizat… │\n",
       "│                     │ <span style=\"color: #00af00; text-decoration-color: #00af00\">192</span>)              │            │                   │\n",
       "├─────────────────────┼───────────────────┼────────────┼───────────────────┤\n",
       "│ batch_normalizatio… │ (<span style=\"color: #00d7ff; text-decoration-color: #00d7ff\">None</span>, <span style=\"color: #00af00; text-decoration-color: #00af00\">11</span>, <span style=\"color: #00af00; text-decoration-color: #00af00\">11</span>,    │        <span style=\"color: #00af00; text-decoration-color: #00af00\">768</span> │ conv2d_3[<span style=\"color: #00af00; text-decoration-color: #00af00\">2</span>][<span style=\"color: #00af00; text-decoration-color: #00af00\">0</span>]    │\n",
       "│ (<span style=\"color: #0087ff; text-decoration-color: #0087ff\">BatchNormalizatio…</span> │ <span style=\"color: #00af00; text-decoration-color: #00af00\">192</span>)              │            │                   │\n",
       "├─────────────────────┼───────────────────┼────────────┼───────────────────┤\n",
       "│ conv2d_4 (<span style=\"color: #0087ff; text-decoration-color: #0087ff\">Conv2D</span>)   │ (<span style=\"color: #00d7ff; text-decoration-color: #00d7ff\">None</span>, <span style=\"color: #00af00; text-decoration-color: #00af00\">9</span>, <span style=\"color: #00af00; text-decoration-color: #00af00\">9</span>, <span style=\"color: #00af00; text-decoration-color: #00af00\">192</span>) │    <span style=\"color: #00af00; text-decoration-color: #00af00\">331,968</span> │ batch_normalizat… │\n",
       "├─────────────────────┼───────────────────┼────────────┼───────────────────┤\n",
       "│ batch_normalizatio… │ (<span style=\"color: #00d7ff; text-decoration-color: #00d7ff\">None</span>, <span style=\"color: #00af00; text-decoration-color: #00af00\">9</span>, <span style=\"color: #00af00; text-decoration-color: #00af00\">9</span>, <span style=\"color: #00af00; text-decoration-color: #00af00\">192</span>) │        <span style=\"color: #00af00; text-decoration-color: #00af00\">768</span> │ conv2d_4[<span style=\"color: #00af00; text-decoration-color: #00af00\">2</span>][<span style=\"color: #00af00; text-decoration-color: #00af00\">0</span>]    │\n",
       "│ (<span style=\"color: #0087ff; text-decoration-color: #0087ff\">BatchNormalizatio…</span> │                   │            │                   │\n",
       "├─────────────────────┼───────────────────┼────────────┼───────────────────┤\n",
       "│ conv2d_5 (<span style=\"color: #0087ff; text-decoration-color: #0087ff\">Conv2D</span>)   │ (<span style=\"color: #00d7ff; text-decoration-color: #00d7ff\">None</span>, <span style=\"color: #00af00; text-decoration-color: #00af00\">4</span>, <span style=\"color: #00af00; text-decoration-color: #00af00\">4</span>, <span style=\"color: #00af00; text-decoration-color: #00af00\">192</span>) │    <span style=\"color: #00af00; text-decoration-color: #00af00\">331,968</span> │ batch_normalizat… │\n",
       "├─────────────────────┼───────────────────┼────────────┼───────────────────┤\n",
       "│ batch_normalizatio… │ (<span style=\"color: #00d7ff; text-decoration-color: #00d7ff\">None</span>, <span style=\"color: #00af00; text-decoration-color: #00af00\">4</span>, <span style=\"color: #00af00; text-decoration-color: #00af00\">4</span>, <span style=\"color: #00af00; text-decoration-color: #00af00\">192</span>) │        <span style=\"color: #00af00; text-decoration-color: #00af00\">768</span> │ conv2d_5[<span style=\"color: #00af00; text-decoration-color: #00af00\">2</span>][<span style=\"color: #00af00; text-decoration-color: #00af00\">0</span>]    │\n",
       "│ (<span style=\"color: #0087ff; text-decoration-color: #0087ff\">BatchNormalizatio…</span> │                   │            │                   │\n",
       "├─────────────────────┼───────────────────┼────────────┼───────────────────┤\n",
       "│ conv2d_6 (<span style=\"color: #0087ff; text-decoration-color: #0087ff\">Conv2D</span>)   │ (<span style=\"color: #00d7ff; text-decoration-color: #00d7ff\">None</span>, <span style=\"color: #00af00; text-decoration-color: #00af00\">2</span>, <span style=\"color: #00af00; text-decoration-color: #00af00\">2</span>, <span style=\"color: #00af00; text-decoration-color: #00af00\">192</span>) │    <span style=\"color: #00af00; text-decoration-color: #00af00\">331,968</span> │ batch_normalizat… │\n",
       "├─────────────────────┼───────────────────┼────────────┼───────────────────┤\n",
       "│ batch_normalizatio… │ (<span style=\"color: #00d7ff; text-decoration-color: #00d7ff\">None</span>, <span style=\"color: #00af00; text-decoration-color: #00af00\">2</span>, <span style=\"color: #00af00; text-decoration-color: #00af00\">2</span>, <span style=\"color: #00af00; text-decoration-color: #00af00\">192</span>) │        <span style=\"color: #00af00; text-decoration-color: #00af00\">768</span> │ conv2d_6[<span style=\"color: #00af00; text-decoration-color: #00af00\">2</span>][<span style=\"color: #00af00; text-decoration-color: #00af00\">0</span>]    │\n",
       "│ (<span style=\"color: #0087ff; text-decoration-color: #0087ff\">BatchNormalizatio…</span> │                   │            │                   │\n",
       "├─────────────────────┼───────────────────┼────────────┼───────────────────┤\n",
       "│ conv2d_7 (<span style=\"color: #0087ff; text-decoration-color: #0087ff\">Conv2D</span>)   │ (<span style=\"color: #00d7ff; text-decoration-color: #00d7ff\">None</span>, <span style=\"color: #00af00; text-decoration-color: #00af00\">2</span>, <span style=\"color: #00af00; text-decoration-color: #00af00\">2</span>, <span style=\"color: #00af00; text-decoration-color: #00af00\">192</span>) │     <span style=\"color: #00af00; text-decoration-color: #00af00\">37,056</span> │ batch_normalizat… │\n",
       "├─────────────────────┼───────────────────┼────────────┼───────────────────┤\n",
       "│ batch_normalizatio… │ (<span style=\"color: #00d7ff; text-decoration-color: #00d7ff\">None</span>, <span style=\"color: #00af00; text-decoration-color: #00af00\">2</span>, <span style=\"color: #00af00; text-decoration-color: #00af00\">2</span>, <span style=\"color: #00af00; text-decoration-color: #00af00\">192</span>) │        <span style=\"color: #00af00; text-decoration-color: #00af00\">768</span> │ conv2d_7[<span style=\"color: #00af00; text-decoration-color: #00af00\">2</span>][<span style=\"color: #00af00; text-decoration-color: #00af00\">0</span>]    │\n",
       "│ (<span style=\"color: #0087ff; text-decoration-color: #0087ff\">BatchNormalizatio…</span> │                   │            │                   │\n",
       "├─────────────────────┼───────────────────┼────────────┼───────────────────┤\n",
       "│ global_average_poo… │ (<span style=\"color: #00d7ff; text-decoration-color: #00d7ff\">None</span>, <span style=\"color: #00af00; text-decoration-color: #00af00\">192</span>)       │          <span style=\"color: #00af00; text-decoration-color: #00af00\">0</span> │ batch_normalizat… │\n",
       "│ (<span style=\"color: #0087ff; text-decoration-color: #0087ff\">GlobalAveragePool…</span> │                   │            │                   │\n",
       "├─────────────────────┼───────────────────┼────────────┼───────────────────┤\n",
       "│ output1 (<span style=\"color: #0087ff; text-decoration-color: #0087ff\">Dense</span>)     │ (<span style=\"color: #00d7ff; text-decoration-color: #00d7ff\">None</span>, <span style=\"color: #00af00; text-decoration-color: #00af00\">5</span>)         │        <span style=\"color: #00af00; text-decoration-color: #00af00\">965</span> │ global_average_p… │\n",
       "├─────────────────────┼───────────────────┼────────────┼───────────────────┤\n",
       "│ output2 (<span style=\"color: #0087ff; text-decoration-color: #0087ff\">Dense</span>)     │ (<span style=\"color: #00d7ff; text-decoration-color: #00d7ff\">None</span>, <span style=\"color: #00af00; text-decoration-color: #00af00\">5</span>)         │        <span style=\"color: #00af00; text-decoration-color: #00af00\">965</span> │ global_average_p… │\n",
       "└─────────────────────┴───────────────────┴────────────┴───────────────────┘\n",
       "</pre>\n"
      ],
      "text/plain": [
       "┏━━━━━━━━━━━━━━━━━━━━━┳━━━━━━━━━━━━━━━━━━━┳━━━━━━━━━━━━┳━━━━━━━━━━━━━━━━━━━┓\n",
       "┃\u001b[1m \u001b[0m\u001b[1mLayer (type)       \u001b[0m\u001b[1m \u001b[0m┃\u001b[1m \u001b[0m\u001b[1mOutput Shape     \u001b[0m\u001b[1m \u001b[0m┃\u001b[1m \u001b[0m\u001b[1m   Param #\u001b[0m\u001b[1m \u001b[0m┃\u001b[1m \u001b[0m\u001b[1mConnected to     \u001b[0m\u001b[1m \u001b[0m┃\n",
       "┡━━━━━━━━━━━━━━━━━━━━━╇━━━━━━━━━━━━━━━━━━━╇━━━━━━━━━━━━╇━━━━━━━━━━━━━━━━━━━┩\n",
       "│ keras_tensor_1CLONE │ (\u001b[38;5;45mNone\u001b[0m, \u001b[38;5;34m32\u001b[0m, \u001b[38;5;34m32\u001b[0m, \u001b[38;5;34m3\u001b[0m) │          \u001b[38;5;34m0\u001b[0m │ -                 │\n",
       "│ (\u001b[38;5;33mInputLayer\u001b[0m)        │                   │            │                   │\n",
       "├─────────────────────┼───────────────────┼────────────┼───────────────────┤\n",
       "│ conv2d (\u001b[38;5;33mConv2D\u001b[0m)     │ (\u001b[38;5;45mNone\u001b[0m, \u001b[38;5;34m30\u001b[0m, \u001b[38;5;34m30\u001b[0m,    │      \u001b[38;5;34m2,688\u001b[0m │ keras_tensor_1CL… │\n",
       "│                     │ \u001b[38;5;34m96\u001b[0m)               │            │                   │\n",
       "├─────────────────────┼───────────────────┼────────────┼───────────────────┤\n",
       "│ batch_normalization │ (\u001b[38;5;45mNone\u001b[0m, \u001b[38;5;34m30\u001b[0m, \u001b[38;5;34m30\u001b[0m,    │        \u001b[38;5;34m384\u001b[0m │ conv2d[\u001b[38;5;34m2\u001b[0m][\u001b[38;5;34m0\u001b[0m]      │\n",
       "│ (\u001b[38;5;33mBatchNormalizatio…\u001b[0m │ \u001b[38;5;34m96\u001b[0m)               │            │                   │\n",
       "├─────────────────────┼───────────────────┼────────────┼───────────────────┤\n",
       "│ conv2d_1 (\u001b[38;5;33mConv2D\u001b[0m)   │ (\u001b[38;5;45mNone\u001b[0m, \u001b[38;5;34m28\u001b[0m, \u001b[38;5;34m28\u001b[0m,    │     \u001b[38;5;34m83,040\u001b[0m │ batch_normalizat… │\n",
       "│                     │ \u001b[38;5;34m96\u001b[0m)               │            │                   │\n",
       "├─────────────────────┼───────────────────┼────────────┼───────────────────┤\n",
       "│ batch_normalizatio… │ (\u001b[38;5;45mNone\u001b[0m, \u001b[38;5;34m28\u001b[0m, \u001b[38;5;34m28\u001b[0m,    │        \u001b[38;5;34m384\u001b[0m │ conv2d_1[\u001b[38;5;34m2\u001b[0m][\u001b[38;5;34m0\u001b[0m]    │\n",
       "│ (\u001b[38;5;33mBatchNormalizatio…\u001b[0m │ \u001b[38;5;34m96\u001b[0m)               │            │                   │\n",
       "├─────────────────────┼───────────────────┼────────────┼───────────────────┤\n",
       "│ conv2d_2 (\u001b[38;5;33mConv2D\u001b[0m)   │ (\u001b[38;5;45mNone\u001b[0m, \u001b[38;5;34m13\u001b[0m, \u001b[38;5;34m13\u001b[0m,    │     \u001b[38;5;34m83,040\u001b[0m │ batch_normalizat… │\n",
       "│                     │ \u001b[38;5;34m96\u001b[0m)               │            │                   │\n",
       "├─────────────────────┼───────────────────┼────────────┼───────────────────┤\n",
       "│ batch_normalizatio… │ (\u001b[38;5;45mNone\u001b[0m, \u001b[38;5;34m13\u001b[0m, \u001b[38;5;34m13\u001b[0m,    │        \u001b[38;5;34m384\u001b[0m │ conv2d_2[\u001b[38;5;34m2\u001b[0m][\u001b[38;5;34m0\u001b[0m]    │\n",
       "│ (\u001b[38;5;33mBatchNormalizatio…\u001b[0m │ \u001b[38;5;34m96\u001b[0m)               │            │                   │\n",
       "├─────────────────────┼───────────────────┼────────────┼───────────────────┤\n",
       "│ conv2d_3 (\u001b[38;5;33mConv2D\u001b[0m)   │ (\u001b[38;5;45mNone\u001b[0m, \u001b[38;5;34m11\u001b[0m, \u001b[38;5;34m11\u001b[0m,    │    \u001b[38;5;34m166,080\u001b[0m │ batch_normalizat… │\n",
       "│                     │ \u001b[38;5;34m192\u001b[0m)              │            │                   │\n",
       "├─────────────────────┼───────────────────┼────────────┼───────────────────┤\n",
       "│ batch_normalizatio… │ (\u001b[38;5;45mNone\u001b[0m, \u001b[38;5;34m11\u001b[0m, \u001b[38;5;34m11\u001b[0m,    │        \u001b[38;5;34m768\u001b[0m │ conv2d_3[\u001b[38;5;34m2\u001b[0m][\u001b[38;5;34m0\u001b[0m]    │\n",
       "│ (\u001b[38;5;33mBatchNormalizatio…\u001b[0m │ \u001b[38;5;34m192\u001b[0m)              │            │                   │\n",
       "├─────────────────────┼───────────────────┼────────────┼───────────────────┤\n",
       "│ conv2d_4 (\u001b[38;5;33mConv2D\u001b[0m)   │ (\u001b[38;5;45mNone\u001b[0m, \u001b[38;5;34m9\u001b[0m, \u001b[38;5;34m9\u001b[0m, \u001b[38;5;34m192\u001b[0m) │    \u001b[38;5;34m331,968\u001b[0m │ batch_normalizat… │\n",
       "├─────────────────────┼───────────────────┼────────────┼───────────────────┤\n",
       "│ batch_normalizatio… │ (\u001b[38;5;45mNone\u001b[0m, \u001b[38;5;34m9\u001b[0m, \u001b[38;5;34m9\u001b[0m, \u001b[38;5;34m192\u001b[0m) │        \u001b[38;5;34m768\u001b[0m │ conv2d_4[\u001b[38;5;34m2\u001b[0m][\u001b[38;5;34m0\u001b[0m]    │\n",
       "│ (\u001b[38;5;33mBatchNormalizatio…\u001b[0m │                   │            │                   │\n",
       "├─────────────────────┼───────────────────┼────────────┼───────────────────┤\n",
       "│ conv2d_5 (\u001b[38;5;33mConv2D\u001b[0m)   │ (\u001b[38;5;45mNone\u001b[0m, \u001b[38;5;34m4\u001b[0m, \u001b[38;5;34m4\u001b[0m, \u001b[38;5;34m192\u001b[0m) │    \u001b[38;5;34m331,968\u001b[0m │ batch_normalizat… │\n",
       "├─────────────────────┼───────────────────┼────────────┼───────────────────┤\n",
       "│ batch_normalizatio… │ (\u001b[38;5;45mNone\u001b[0m, \u001b[38;5;34m4\u001b[0m, \u001b[38;5;34m4\u001b[0m, \u001b[38;5;34m192\u001b[0m) │        \u001b[38;5;34m768\u001b[0m │ conv2d_5[\u001b[38;5;34m2\u001b[0m][\u001b[38;5;34m0\u001b[0m]    │\n",
       "│ (\u001b[38;5;33mBatchNormalizatio…\u001b[0m │                   │            │                   │\n",
       "├─────────────────────┼───────────────────┼────────────┼───────────────────┤\n",
       "│ conv2d_6 (\u001b[38;5;33mConv2D\u001b[0m)   │ (\u001b[38;5;45mNone\u001b[0m, \u001b[38;5;34m2\u001b[0m, \u001b[38;5;34m2\u001b[0m, \u001b[38;5;34m192\u001b[0m) │    \u001b[38;5;34m331,968\u001b[0m │ batch_normalizat… │\n",
       "├─────────────────────┼───────────────────┼────────────┼───────────────────┤\n",
       "│ batch_normalizatio… │ (\u001b[38;5;45mNone\u001b[0m, \u001b[38;5;34m2\u001b[0m, \u001b[38;5;34m2\u001b[0m, \u001b[38;5;34m192\u001b[0m) │        \u001b[38;5;34m768\u001b[0m │ conv2d_6[\u001b[38;5;34m2\u001b[0m][\u001b[38;5;34m0\u001b[0m]    │\n",
       "│ (\u001b[38;5;33mBatchNormalizatio…\u001b[0m │                   │            │                   │\n",
       "├─────────────────────┼───────────────────┼────────────┼───────────────────┤\n",
       "│ conv2d_7 (\u001b[38;5;33mConv2D\u001b[0m)   │ (\u001b[38;5;45mNone\u001b[0m, \u001b[38;5;34m2\u001b[0m, \u001b[38;5;34m2\u001b[0m, \u001b[38;5;34m192\u001b[0m) │     \u001b[38;5;34m37,056\u001b[0m │ batch_normalizat… │\n",
       "├─────────────────────┼───────────────────┼────────────┼───────────────────┤\n",
       "│ batch_normalizatio… │ (\u001b[38;5;45mNone\u001b[0m, \u001b[38;5;34m2\u001b[0m, \u001b[38;5;34m2\u001b[0m, \u001b[38;5;34m192\u001b[0m) │        \u001b[38;5;34m768\u001b[0m │ conv2d_7[\u001b[38;5;34m2\u001b[0m][\u001b[38;5;34m0\u001b[0m]    │\n",
       "│ (\u001b[38;5;33mBatchNormalizatio…\u001b[0m │                   │            │                   │\n",
       "├─────────────────────┼───────────────────┼────────────┼───────────────────┤\n",
       "│ global_average_poo… │ (\u001b[38;5;45mNone\u001b[0m, \u001b[38;5;34m192\u001b[0m)       │          \u001b[38;5;34m0\u001b[0m │ batch_normalizat… │\n",
       "│ (\u001b[38;5;33mGlobalAveragePool…\u001b[0m │                   │            │                   │\n",
       "├─────────────────────┼───────────────────┼────────────┼───────────────────┤\n",
       "│ output1 (\u001b[38;5;33mDense\u001b[0m)     │ (\u001b[38;5;45mNone\u001b[0m, \u001b[38;5;34m5\u001b[0m)         │        \u001b[38;5;34m965\u001b[0m │ global_average_p… │\n",
       "├─────────────────────┼───────────────────┼────────────┼───────────────────┤\n",
       "│ output2 (\u001b[38;5;33mDense\u001b[0m)     │ (\u001b[38;5;45mNone\u001b[0m, \u001b[38;5;34m5\u001b[0m)         │        \u001b[38;5;34m965\u001b[0m │ global_average_p… │\n",
       "└─────────────────────┴───────────────────┴────────────┴───────────────────┘\n"
      ]
     },
     "metadata": {},
     "output_type": "display_data"
    },
    {
     "data": {
      "text/html": [
       "<pre style=\"white-space:pre;overflow-x:auto;line-height:normal;font-family:Menlo,'DejaVu Sans Mono',consolas,'Courier New',monospace\"><span style=\"font-weight: bold\"> Total params: </span><span style=\"color: #00af00; text-decoration-color: #00af00\">1,374,730</span> (5.24 MB)\n",
       "</pre>\n"
      ],
      "text/plain": [
       "\u001b[1m Total params: \u001b[0m\u001b[38;5;34m1,374,730\u001b[0m (5.24 MB)\n"
      ]
     },
     "metadata": {},
     "output_type": "display_data"
    },
    {
     "data": {
      "text/html": [
       "<pre style=\"white-space:pre;overflow-x:auto;line-height:normal;font-family:Menlo,'DejaVu Sans Mono',consolas,'Courier New',monospace\"><span style=\"font-weight: bold\"> Trainable params: </span><span style=\"color: #00af00; text-decoration-color: #00af00\">1,372,234</span> (5.23 MB)\n",
       "</pre>\n"
      ],
      "text/plain": [
       "\u001b[1m Trainable params: \u001b[0m\u001b[38;5;34m1,372,234\u001b[0m (5.23 MB)\n"
      ]
     },
     "metadata": {},
     "output_type": "display_data"
    },
    {
     "data": {
      "text/html": [
       "<pre style=\"white-space:pre;overflow-x:auto;line-height:normal;font-family:Menlo,'DejaVu Sans Mono',consolas,'Courier New',monospace\"><span style=\"font-weight: bold\"> Non-trainable params: </span><span style=\"color: #00af00; text-decoration-color: #00af00\">2,496</span> (9.75 KB)\n",
       "</pre>\n"
      ],
      "text/plain": [
       "\u001b[1m Non-trainable params: \u001b[0m\u001b[38;5;34m2,496\u001b[0m (9.75 KB)\n"
      ]
     },
     "metadata": {},
     "output_type": "display_data"
    }
   ],
   "source": [
    "K.clear_session()\n",
    "model = ACCNRR()\n",
    "model.compile(optimizer='rmsprop',\n",
    "              loss={'output1': keras.losses.CategoricalCrossentropy(label_smoothing=0.1), 'output2': keras.losses.CategoricalCrossentropy(label_smoothing=0.1)},\n",
    "              metrics={'output1': 'accuracy', 'output2': 'accuracy'})\n",
    "\n",
    "\n",
    "model.summary()"
   ]
  },
  {
   "cell_type": "markdown",
   "metadata": {},
   "source": [
    "Run the code cell below to train it for yourself!"
   ]
  },
  {
   "cell_type": "code",
   "execution_count": null,
   "metadata": {},
   "outputs": [],
   "source": [
    "# history = model.fit(\n",
    "#     traingen,            \n",
    "#     epochs=250,          \n",
    "#     steps_per_epoch=len(cifar10_x_train)//batchsize, # necessary since generator loops infinitely\n",
    "#     validation_data=valgen,\n",
    "#     validation_steps=len(cifar10_x_val)//batchsize,  # necessary since generator loops infinitely\n",
    "#     callbacks=[early_stopping, reduce_lr],\n",
    "#     verbose=1\n",
    "# )\n",
    "model.load('77.2acc.keras')"
   ]
  },
  {
   "cell_type": "markdown",
   "metadata": {},
   "source": [
    "Evaluate the model for yourself! This will match the results we shared earlier!"
   ]
  },
  {
   "cell_type": "code",
   "execution_count": null,
   "metadata": {},
   "outputs": [],
   "source": [
    "# evaluate_model(model, testgen)"
   ]
  },
  {
   "cell_type": "markdown",
   "metadata": {},
   "source": [
    "# Experimental Setup\n",
    "As the reader might imagine, one does not simply invent a top performing model. The first step was idea generation and research. A few key points:\n",
    "- CIFAR-10 is a small dataset\n",
    "- Images in CIFAR-10 only measure 32x32 pixels\n",
    "- Classifying CIFAR-10 is a very popular project\n",
    "- Everything was to be implemented in Keras and TensorFlow\n",
    "\n",
    "Since CIFAR-10 is a small dataset, the model should be slim, it should have strong regularization to avoid overfitting and the dataset should be augmented to help it generalize. It was also a shame to divide training data to create the validation set, this could be mitigated with a smarter data generator and k fold validation.\n",
    "Since we knew our library, we should take full advantage of its tools, namely the Functional API, so we spend more time experimenting and less troubleshooting.\n",
    "Most importantly, since CIFAR-10 is popular, we would be able to adapt an existing top performer to this task by adding a second classification head.\n",
    "### Research\n",
    "We googled \"CIFAR-10 best accuracy\" and fell upon a reddit post about a person trying to train it as [fast as possible](https://github.com/tysam-code/hlb-CIFAR10). However, we are not interested in light speed CIFAR-10, so we tried again, googling only \"CIFAR-10\" and finding the main website for this [dataset](https://www.cs.toronto.edu/~kriz/cifar.html). From there, we discovered the [world rankings](https://rodrigob.github.io/are_we_there_yet/build/classification_datasets_results.html#43494641522d3130). Now we will read these papers in order and apply the knowledge within to train our model. The first is [Fractional Max Pooling](https://arxiv.org/abs/1412.6071), with an accuracy of 96.53%. As we read this, a doubt strikes us, is the task similar enough? For example, as a human, it is harder distinguish the two classes than just one... Presumably, the model will struggle more as well.\n",
    "### Fractional Max Pooling\n",
    "The innovation of this paper is to allow max pooling to reduce the spatial size of the features by less than an integer factor. This will allow slower data compression and make training easier. For example, the paper finds good results with a factor of \n",
    "$$\n",
    "\\sqrt{2} \\approx 1.41\n",
    "$$\n",
    "rather than 2, the lowest integer factor. The authors of the paper use compressed notation to express their CIFAR-10 model.\n",
    "$$\n",
    "(160 n C2 −FMP \\sqrt[3]{2})_{12} −C2 −C1 −output\n",
    "$$\n",
    "It took several iterations to translate in code. Along the way, we decided to subclass keras.Model() rather than use the Functional API since fractional max pooling is a custom layer. The general model architecture is a feature extractor whose filters increases linearly by 160 each layer, followed  by the fractional max pool which downsamples by 1.26, repeated 10 times. The C2 represents a 2x2 kernel. At the end, there is a 1x1 kernel to lower the feature maps then a one layer fully connected classifier. The architecture with best performance we obtained is below.\n"
   ]
  },
  {
   "cell_type": "code",
   "execution_count": 7,
   "metadata": {},
   "outputs": [],
   "source": [
    "@keras.saving.register_keras_serializable()\n",
    "class FMP3(Model):\n",
    "    def __init__(self):\n",
    "        super(FMP3, self).__init__()\n",
    "        # Input layer size 32x32\n",
    "\n",
    "        # Six convolutional layers (C2 layers). Each convolutional layer should have an increasing number of filters, starting from 10n filters.\n",
    "        self.conv1 = layers.Conv2D(32, (2, 2), activation=LeakyReLU())\n",
    "        self.conv2 = layers.Conv2D(64, (2, 2), activation=LeakyReLU())\n",
    "        self.conv3 = layers.Conv2D(96, (2, 2), activation=LeakyReLU())\n",
    "        self.conv4 = layers.Conv2D(128, (2, 2), activation=LeakyReLU())\n",
    "        self.conv5 = layers.Conv2D(160, (2, 2), activation=LeakyReLU())\n",
    "        self.conv6 = layers.Conv2D(192, (2, 2), activation=LeakyReLU())\n",
    "\n",
    "        # Six fractional max pooling layers\n",
    "        self.pooling_ratio1 = [1.0, 31/22, 31/22, 1.0]\n",
    "        self.pooling_ratio2 = [1.0, 21/15, 21/15, 1.0]\n",
    "        self.pooling_ratio3 = [1.0, 14/10, 14/10, 1.0]\n",
    "        self.pooling_ratio4 = [1.0, 9/6, 9/6, 1.0]\n",
    "        self.pooling_ratio5 = [1.0, 5/4, 5/4, 1.0]\n",
    "        self.pooling_ratio6 = [1.0, 3/2, 3/2, 1.0]\n",
    "\n",
    "        # Two final convolutional layers\n",
    "        self.conv7 = layers.Conv2D(192, (2, 2), activation=LeakyReLU()) # 4x4\n",
    "        self.conv8 = layers.Conv2D(192, (1, 1), activation=LeakyReLU())\n",
    "\n",
    "        # Linearly increasing dropout in the hidden layers\n",
    "        self.dropout = layers.Dropout(0.5)  # 50% dropout in the final hidden layer\n",
    "\n",
    "        # Two Classifiers \n",
    "        self.fc1 = layers.Dense(5, activation='softmax', name='output1')  # First half\n",
    "        self.fc2 = layers.Dense(5, activation='softmax', name='output2')  # Second half\n",
    "\n",
    "    def call(self, inputs):\n",
    "        # Feature Extractor\n",
    "        x = self.conv1(inputs) # 31x31\n",
    "        x, _, _ = fractional_max_pool(x, self.pooling_ratio1, pseudo_random=True, overlapping=True) # 22x22\n",
    "        x = self.conv2(x) # 21x21\n",
    "        x, _, _ = fractional_max_pool(x, self.pooling_ratio2, pseudo_random=True, overlapping=True) # 15x15\n",
    "        x = self.conv3(x) # 14x14\n",
    "        x, _, _ = fractional_max_pool(x, self.pooling_ratio3, pseudo_random=True, overlapping=True) # 10x10\n",
    "        x = self.conv4(x) # 9x9\n",
    "        x, _, _ = fractional_max_pool(x, self.pooling_ratio4, pseudo_random=True, overlapping=True) # 6x6\n",
    "        x = self.conv5(x) #5x5\n",
    "        x, _, _ = fractional_max_pool(x, self.pooling_ratio5, pseudo_random=True, overlapping=True) # 4x4\n",
    "        x = self.conv6(x) # 3x3\n",
    "        x, _, _ = fractional_max_pool(x, self.pooling_ratio6, pseudo_random=True, overlapping=True) # 2x2\n",
    "        x = self.conv7(x) # 1x1\n",
    "        # IDEA: dropout here at 25%\n",
    "        x = self.conv8(x) #1x1\n",
    "\n",
    "        # Classifier\n",
    "        x = layers.Flatten()(x) # future improvement might be to use global average pooling to lower the FCN parameter count\n",
    "        x = self.dropout(x)\n",
    "        output1 = self.fc1(x)  # First half\n",
    "        output2 = self.fc2(x)  # Second half\n",
    "\n",
    "        return {'output1': output1, 'output2': output2}\n",
    "    \n",
    "    def get_config(self):\n",
    "        # Serialize the configuration of the model\n",
    "        config = super(FMP3, self).get_config()\n",
    "        config.update({\n",
    "            'conv1': self.conv1.get_config(),\n",
    "            'conv2': self.conv2.get_config(),\n",
    "            'conv3': self.conv3.get_config(),\n",
    "            'conv4': self.conv4.get_config(),\n",
    "            'conv5': self.conv5.get_config(),\n",
    "            'conv6': self.conv6.get_config(),\n",
    "            'conv7': self.conv7.get_config(),\n",
    "            'conv8': self.conv8.get_config(),\n",
    "            'dropout': self.dropout.get_config(),\n",
    "            'fc1': self.fc1.get_config(),\n",
    "            'fc2': self.fc2.get_config(),\n",
    "            'pooling_ratios': [\n",
    "                self.pooling_ratio1,\n",
    "                self.pooling_ratio2,\n",
    "                self.pooling_ratio3,\n",
    "                self.pooling_ratio4,\n",
    "                self.pooling_ratio5,\n",
    "                self.pooling_ratio6\n",
    "            ]\n",
    "        })\n",
    "        return config\n",
    "    \n",
    "    @classmethod\n",
    "    def from_config(cls, config):\n",
    "        return cls()"
   ]
  },
  {
   "cell_type": "markdown",
   "metadata": {},
   "source": [
    "It is substantially smaller than the model from the paper. Since we used a custom max pooling layer, this model was not optimized for CUDA and was CPU bottlenecked during training. Below, we verify the model size is under 500,000 parameters!"
   ]
  },
  {
   "cell_type": "code",
   "execution_count": 12,
   "metadata": {},
   "outputs": [
    {
     "name": "stderr",
     "output_type": "stream",
     "text": [
      "/opt/homebrew/lib/python3.9/site-packages/keras/src/layers/layer.py:361: UserWarning: `build()` was called on layer 'fmp3', however the layer does not have a `build()` method implemented and it looks like it has unbuilt state. This will cause the layer to be marked as built, despite not being actually built, which may cause failures down the line. Make sure to implement a proper `build()` method.\n",
      "  warnings.warn(\n"
     ]
    },
    {
     "data": {
      "text/html": [
       "<pre style=\"white-space:pre;overflow-x:auto;line-height:normal;font-family:Menlo,'DejaVu Sans Mono',consolas,'Courier New',monospace\"><span style=\"font-weight: bold\">Model: \"fmp3\"</span>\n",
       "</pre>\n"
      ],
      "text/plain": [
       "\u001b[1mModel: \"fmp3\"\u001b[0m\n"
      ]
     },
     "metadata": {},
     "output_type": "display_data"
    },
    {
     "data": {
      "text/html": [
       "<pre style=\"white-space:pre;overflow-x:auto;line-height:normal;font-family:Menlo,'DejaVu Sans Mono',consolas,'Courier New',monospace\">┏━━━━━━━━━━━━━━━━━━━━━━━━━━━━━━━━━┳━━━━━━━━━━━━━━━━━━━━━━━━┳━━━━━━━━━━━━━━━┓\n",
       "┃<span style=\"font-weight: bold\"> Layer (type)                    </span>┃<span style=\"font-weight: bold\"> Output Shape           </span>┃<span style=\"font-weight: bold\">       Param # </span>┃\n",
       "┡━━━━━━━━━━━━━━━━━━━━━━━━━━━━━━━━━╇━━━━━━━━━━━━━━━━━━━━━━━━╇━━━━━━━━━━━━━━━┩\n",
       "│ conv2d (<span style=\"color: #0087ff; text-decoration-color: #0087ff\">Conv2D</span>)                 │ ?                      │           <span style=\"color: #00af00; text-decoration-color: #00af00\">416</span> │\n",
       "├─────────────────────────────────┼────────────────────────┼───────────────┤\n",
       "│ conv2d_1 (<span style=\"color: #0087ff; text-decoration-color: #0087ff\">Conv2D</span>)               │ ?                      │         <span style=\"color: #00af00; text-decoration-color: #00af00\">8,256</span> │\n",
       "├─────────────────────────────────┼────────────────────────┼───────────────┤\n",
       "│ conv2d_2 (<span style=\"color: #0087ff; text-decoration-color: #0087ff\">Conv2D</span>)               │ ?                      │        <span style=\"color: #00af00; text-decoration-color: #00af00\">24,672</span> │\n",
       "├─────────────────────────────────┼────────────────────────┼───────────────┤\n",
       "│ conv2d_3 (<span style=\"color: #0087ff; text-decoration-color: #0087ff\">Conv2D</span>)               │ ?                      │        <span style=\"color: #00af00; text-decoration-color: #00af00\">49,280</span> │\n",
       "├─────────────────────────────────┼────────────────────────┼───────────────┤\n",
       "│ conv2d_4 (<span style=\"color: #0087ff; text-decoration-color: #0087ff\">Conv2D</span>)               │ ?                      │        <span style=\"color: #00af00; text-decoration-color: #00af00\">82,080</span> │\n",
       "├─────────────────────────────────┼────────────────────────┼───────────────┤\n",
       "│ conv2d_5 (<span style=\"color: #0087ff; text-decoration-color: #0087ff\">Conv2D</span>)               │ ?                      │       <span style=\"color: #00af00; text-decoration-color: #00af00\">123,072</span> │\n",
       "├─────────────────────────────────┼────────────────────────┼───────────────┤\n",
       "│ conv2d_6 (<span style=\"color: #0087ff; text-decoration-color: #0087ff\">Conv2D</span>)               │ ?                      │       <span style=\"color: #00af00; text-decoration-color: #00af00\">147,648</span> │\n",
       "├─────────────────────────────────┼────────────────────────┼───────────────┤\n",
       "│ conv2d_7 (<span style=\"color: #0087ff; text-decoration-color: #0087ff\">Conv2D</span>)               │ ?                      │        <span style=\"color: #00af00; text-decoration-color: #00af00\">37,056</span> │\n",
       "├─────────────────────────────────┼────────────────────────┼───────────────┤\n",
       "│ dropout (<span style=\"color: #0087ff; text-decoration-color: #0087ff\">Dropout</span>)               │ ?                      │             <span style=\"color: #00af00; text-decoration-color: #00af00\">0</span> │\n",
       "├─────────────────────────────────┼────────────────────────┼───────────────┤\n",
       "│ output1 (<span style=\"color: #0087ff; text-decoration-color: #0087ff\">Dense</span>)                 │ ?                      │           <span style=\"color: #00af00; text-decoration-color: #00af00\">965</span> │\n",
       "├─────────────────────────────────┼────────────────────────┼───────────────┤\n",
       "│ output2 (<span style=\"color: #0087ff; text-decoration-color: #0087ff\">Dense</span>)                 │ ?                      │           <span style=\"color: #00af00; text-decoration-color: #00af00\">965</span> │\n",
       "└─────────────────────────────────┴────────────────────────┴───────────────┘\n",
       "</pre>\n"
      ],
      "text/plain": [
       "┏━━━━━━━━━━━━━━━━━━━━━━━━━━━━━━━━━┳━━━━━━━━━━━━━━━━━━━━━━━━┳━━━━━━━━━━━━━━━┓\n",
       "┃\u001b[1m \u001b[0m\u001b[1mLayer (type)                   \u001b[0m\u001b[1m \u001b[0m┃\u001b[1m \u001b[0m\u001b[1mOutput Shape          \u001b[0m\u001b[1m \u001b[0m┃\u001b[1m \u001b[0m\u001b[1m      Param #\u001b[0m\u001b[1m \u001b[0m┃\n",
       "┡━━━━━━━━━━━━━━━━━━━━━━━━━━━━━━━━━╇━━━━━━━━━━━━━━━━━━━━━━━━╇━━━━━━━━━━━━━━━┩\n",
       "│ conv2d (\u001b[38;5;33mConv2D\u001b[0m)                 │ ?                      │           \u001b[38;5;34m416\u001b[0m │\n",
       "├─────────────────────────────────┼────────────────────────┼───────────────┤\n",
       "│ conv2d_1 (\u001b[38;5;33mConv2D\u001b[0m)               │ ?                      │         \u001b[38;5;34m8,256\u001b[0m │\n",
       "├─────────────────────────────────┼────────────────────────┼───────────────┤\n",
       "│ conv2d_2 (\u001b[38;5;33mConv2D\u001b[0m)               │ ?                      │        \u001b[38;5;34m24,672\u001b[0m │\n",
       "├─────────────────────────────────┼────────────────────────┼───────────────┤\n",
       "│ conv2d_3 (\u001b[38;5;33mConv2D\u001b[0m)               │ ?                      │        \u001b[38;5;34m49,280\u001b[0m │\n",
       "├─────────────────────────────────┼────────────────────────┼───────────────┤\n",
       "│ conv2d_4 (\u001b[38;5;33mConv2D\u001b[0m)               │ ?                      │        \u001b[38;5;34m82,080\u001b[0m │\n",
       "├─────────────────────────────────┼────────────────────────┼───────────────┤\n",
       "│ conv2d_5 (\u001b[38;5;33mConv2D\u001b[0m)               │ ?                      │       \u001b[38;5;34m123,072\u001b[0m │\n",
       "├─────────────────────────────────┼────────────────────────┼───────────────┤\n",
       "│ conv2d_6 (\u001b[38;5;33mConv2D\u001b[0m)               │ ?                      │       \u001b[38;5;34m147,648\u001b[0m │\n",
       "├─────────────────────────────────┼────────────────────────┼───────────────┤\n",
       "│ conv2d_7 (\u001b[38;5;33mConv2D\u001b[0m)               │ ?                      │        \u001b[38;5;34m37,056\u001b[0m │\n",
       "├─────────────────────────────────┼────────────────────────┼───────────────┤\n",
       "│ dropout (\u001b[38;5;33mDropout\u001b[0m)               │ ?                      │             \u001b[38;5;34m0\u001b[0m │\n",
       "├─────────────────────────────────┼────────────────────────┼───────────────┤\n",
       "│ output1 (\u001b[38;5;33mDense\u001b[0m)                 │ ?                      │           \u001b[38;5;34m965\u001b[0m │\n",
       "├─────────────────────────────────┼────────────────────────┼───────────────┤\n",
       "│ output2 (\u001b[38;5;33mDense\u001b[0m)                 │ ?                      │           \u001b[38;5;34m965\u001b[0m │\n",
       "└─────────────────────────────────┴────────────────────────┴───────────────┘\n"
      ]
     },
     "metadata": {},
     "output_type": "display_data"
    },
    {
     "data": {
      "text/html": [
       "<pre style=\"white-space:pre;overflow-x:auto;line-height:normal;font-family:Menlo,'DejaVu Sans Mono',consolas,'Courier New',monospace\"><span style=\"font-weight: bold\"> Total params: </span><span style=\"color: #00af00; text-decoration-color: #00af00\">474,410</span> (1.81 MB)\n",
       "</pre>\n"
      ],
      "text/plain": [
       "\u001b[1m Total params: \u001b[0m\u001b[38;5;34m474,410\u001b[0m (1.81 MB)\n"
      ]
     },
     "metadata": {},
     "output_type": "display_data"
    },
    {
     "data": {
      "text/html": [
       "<pre style=\"white-space:pre;overflow-x:auto;line-height:normal;font-family:Menlo,'DejaVu Sans Mono',consolas,'Courier New',monospace\"><span style=\"font-weight: bold\"> Trainable params: </span><span style=\"color: #00af00; text-decoration-color: #00af00\">474,410</span> (1.81 MB)\n",
       "</pre>\n"
      ],
      "text/plain": [
       "\u001b[1m Trainable params: \u001b[0m\u001b[38;5;34m474,410\u001b[0m (1.81 MB)\n"
      ]
     },
     "metadata": {},
     "output_type": "display_data"
    },
    {
     "data": {
      "text/html": [
       "<pre style=\"white-space:pre;overflow-x:auto;line-height:normal;font-family:Menlo,'DejaVu Sans Mono',consolas,'Courier New',monospace\"><span style=\"font-weight: bold\"> Non-trainable params: </span><span style=\"color: #00af00; text-decoration-color: #00af00\">0</span> (0.00 B)\n",
       "</pre>\n"
      ],
      "text/plain": [
       "\u001b[1m Non-trainable params: \u001b[0m\u001b[38;5;34m0\u001b[0m (0.00 B)\n"
      ]
     },
     "metadata": {},
     "output_type": "display_data"
    }
   ],
   "source": [
    "K.clear_session()\n",
    "model = FMP3()\n",
    "model.build(input_shape=(None, 32, 32, 3))\n",
    "model.compile(optimizer='adam',\n",
    "              loss={'output1': 'categorical_crossentropy', 'output2': 'categorical_crossentropy'},\n",
    "              metrics={'output1': 'accuracy', 'output2': 'accuracy'})\n",
    "model(tf.random.normal((1, 32, 32, 3)))\n",
    "model.summary()"
   ]
  },
  {
   "cell_type": "markdown",
   "metadata": {},
   "source": [
    "Train or load the best model weights to evaluate it."
   ]
  },
  {
   "cell_type": "code",
   "execution_count": 14,
   "metadata": {},
   "outputs": [],
   "source": [
    "# history = model.fit(\n",
    "#     traingen,            # Training data generator\n",
    "#     epochs=100,          # Number of epochs to train\n",
    "#     steps_per_epoch=len(cifar10_x_train)//batchsize,\n",
    "#     validation_data=valgen,  # Validation data generator\n",
    "#     validation_steps=len(cifar10_x_val)//batchsize,  # Steps per validation epoch (if using a generator)\n",
    "#     callbacks=[early_stopping],  # Early stopping callback\n",
    "#     verbose=2\n",
    "# )\n",
    "model = load_model('FMP3/0.67-0.74-epoch37-loss1.52.keras')"
   ]
  },
  {
   "cell_type": "code",
   "execution_count": 10,
   "metadata": {},
   "outputs": [
    {
     "name": "stderr",
     "output_type": "stream",
     "text": [
      "100%|██████████| 100/100 [00:32<00:00,  3.10it/s]\n"
     ]
    },
    {
     "name": "stdout",
     "output_type": "stream",
     "text": [
      "First Classifier Accuracy: 0.6581\n",
      "Second Classifier Accuracy: 0.7383\n",
      "Mean Accuracy: 0.6982 ± 0.0401\n"
     ]
    },
    {
     "data": {
      "image/png": "[encoded data removed]",
      "text/plain": [
       "<Figure size 1600x600 with 4 Axes>"
      ]
     },
     "metadata": {},
     "output_type": "display_data"
    }
   ],
   "source": [
    "evaluate_model(model, testgen)"
   ]
  },
  {
   "cell_type": "markdown",
   "metadata": {},
   "source": [
    "Along the way, we developed many new skills. Some of the problems:\n",
    "- overfitting from no checkpointing or early stopping\n",
    "- understanding the paper's notation\n",
    "- data augmentation in the form of horizontal flipping and pixel translation, which reduced performance\n",
    "- optimizing two losses from seperate heads\n",
    "- dropout making the gradient too noisy, stalling training\n",
    "- model.summary() not working on custom models without running dummy tensors through [39-upvote-answer](https://stackoverflow.com/questions/55908188/this-model-has-not-yet-been-built-error-on-model-summary)\n",
    "- fit_generator() deprecated in favor of [fit()](https://keras.io/api/models/model_training_apis/) but plenty of documentation on the internet still exists [1]((https://www.geeksforgeeks.org/keras-fit-and-keras-fit_generator/)), [2](https://datascience.stackexchange.com/questions/67266/how-to-write-a-generator-for-keras-fit-generator)\n",
    "- creating [our own data generator class](https://stanford.edu/~shervine/blog/keras-how-to-generate-data-on-the-fly) which inherits from Keras Sequences\n",
    "- why was the generator was not working with fit()? The output of the generator must have a dictionary whose entries [match those of the model](https://stackoverflow.com/questions/44036971/multiple-outputs-in-keras) when compiled, and the last layers must be named as well as the objects, or else if does not work in the Functional API\n",
    "- with **tqdm** we first imported it directly, then remembered we have the import the module with the same name as the library\n",
    "- custom model saving and loading requires a [decorator](https://keras.io/api/models/model_saving_apis/serialization_utils/)\n",
    "\n",
    "The Fractional Max Pooling claimed an accuracy of 96.53%, which we do not come close to reaching. We implement a behemeoth 62 Million parameter network. We decide to perform more research. We read the following.\n",
    "\n",
    "*In summary, I personally think the good performance in the Fractional Max-Pooling paper is achieved by a combination of using spatially-sparse CNN with fractional max-pooling and small filters (and network in network) which enable building a deep network even when the input image spatial size is small. Hence in regular CNN network, simply replace regular max pooling with fractional max pooling does not necessarily give you a better performance. [Zhongyu Kuang](https://stackoverflow.com/questions/39886715/fractional-max-pooling-in-tensorflow)*\n",
    "\n",
    "This makes sense and we head back to the best performing page, to read the second top performing model [STRIVING FOR SIMPLICITY:\n",
    "THE ALL CONVOLUTIONAL NET](https://arxiv.org/abs/1412.6806) with a reported accuracy of 95.59\\%. This model uses standard layers, and is therefore easier to implement since we can use the Functional API. This saves time, allowing for more experimentation! The paper does a nice job describing its architectural choices, summarizing their results compared to other models including our first try in this table.  \n",
    "![Model Comparison](CIFAR10-Classification-Error.png)\n",
    "\n",
    "We implement our own versions."
   ]
  },
  {
   "cell_type": "code",
   "execution_count": 43,
   "metadata": {},
   "outputs": [],
   "source": [
    "def ACCN():\n",
    "    # CIFAR-10\n",
    "    inputs = keras.Input(shape=(32,32,3))\n",
    "    # Feature Extractor\n",
    "    x = layers.Conv2D(96, (3,3), activation='relu')(inputs)\n",
    "    x = layers.BatchNormalization()(x)\n",
    "    x = layers.Conv2D(96, (3,3), activation='relu')(x)\n",
    "    x = layers.BatchNormalization()(x)\n",
    "    x = layers.Conv2D(96, (3,3), activation='relu', strides=2)(x)\n",
    "    x = layers.BatchNormalization()(x)\n",
    "    x = layers.Conv2D(192, (3,3), activation='relu')(x)\n",
    "    x = layers.BatchNormalization()(x)\n",
    "    x = layers.Conv2D(192, (3,3), activation='relu')(x)\n",
    "    x = layers.BatchNormalization()(x)\n",
    "    x = layers.Conv2D(192, (3,3), activation='relu', strides=2)(x)\n",
    "    x = layers.BatchNormalization()(x)\n",
    "    x = layers.Conv2D(192, (3,3), activation='relu')(x)\n",
    "    x = layers.BatchNormalization()(x)\n",
    "    x = layers.Conv2D(192, (1,1), activation='relu')(x)\n",
    "    x = layers.BatchNormalization()(x)\n",
    "    # Classifers\n",
    "    x = layers.GlobalAveragePooling2D()(x)\n",
    "    output1 = layers.Dense(5, activation='softmax', name='output1')(x)\n",
    "    output2 = layers.Dense(5, activation='softmax', name='output2')(x)\n",
    "    # Model creation\n",
    "    model = keras.Model(\n",
    "        inputs,\n",
    "        outputs={'output1':output1, 'output2':output2}, name='ACCN',\n",
    "        )\n",
    "    return model"
   ]
  },
  {
   "cell_type": "markdown",
   "metadata": {},
   "source": [
    "With a lot of experiementation, we reach the state of the art we shared earlier. Now, let's make a final groundbreaking change, we will take in a much larger input image!"
   ]
  },
  {
   "cell_type": "markdown",
   "metadata": {},
   "source": [
    "# ** ---------------------------------------- ** ** ---------------------------------------- **"
   ]
  },
  {
   "cell_type": "code",
   "execution_count": 17,
   "metadata": {},
   "outputs": [],
   "source": [
    "def LACNN():\n",
    "    # CIFAR-10 Large\n",
    "    inputs = keras.Input(shape=(126,126,3))\n",
    "    # Feature Extractor\n",
    "    x = layers.Conv2D(320, (2,2), activation=LeakyReLU())(inputs)\n",
    "    x = layers.Conv2D(320, (2,2), activation=LeakyReLU())(x)\n",
    "    x = layers.Conv2D(320, (2,2), activation=LeakyReLU(), strides=2)(x)\n",
    "\n",
    "    x = layers.Dropout(0.1)(layers.Conv2D(640, (2,2), activation=LeakyReLU())(x))\n",
    "    x = layers.Dropout(0.1)(layers.Conv2D(640, (2,2), activation=LeakyReLU())(x))\n",
    "    x = layers.Conv2D(640, (2,2), activation=LeakyReLU(), strides=2)(x)\n",
    "\n",
    "    x = layers.Dropout(0.2)(layers.Conv2D(960, (2,2), activation=LeakyReLU())(x))\n",
    "    x = layers.Dropout(0.2)(layers.Conv2D(960, (2,2), activation=LeakyReLU())(x))\n",
    "    x = layers.Conv2D(960, (2,2), activation=LeakyReLU(), strides=2)(x)\n",
    "\n",
    "    x = layers.Dropout(0.3)(layers.Conv2D(1280, (2,2), activation=LeakyReLU())(x))\n",
    "    x = layers.Dropout(0.3)(layers.Conv2D(1280, (2,2), activation=LeakyReLU())(x))\n",
    "    x = layers.Conv2D(960, (2,2), activation=LeakyReLU(), strides=2)(x)\n",
    "\n",
    "    x = layers.Dropout(0.4)(layers.Conv2D(1600, (2,2), activation=LeakyReLU())(x))\n",
    "    x = layers.Dropout(0.4)(layers.Conv2D(1600, (2,2), activation=LeakyReLU())(x))\n",
    "    x = layers.Conv2D(1600, (2,2), activation=LeakyReLU(), strides=2)(x)\n",
    "\n",
    "    x = layers.Dropout(0.5)(layers.Conv2D(1920, (2,2), activation=LeakyReLU())(x))\n",
    "    #x = layers.Dropout(0.5)(layers.Conv2D(1920, (2,2), activation=LeakyReLU())(x))\n",
    "\n",
    "    # Classifers\n",
    "    x = layers.Flatten()(x)\n",
    "    output1 = layers.Dense(5, activation='softmax', name='output1', kernel_regularizer=regularizers.l2(0.01))(x)\n",
    "    output2 = layers.Dense(5, activation='softmax', name='output2', kernel_regularizer=regularizers.l2(0.01))(x)\n",
    "    # Model creation\n",
    "    model = keras.Model(\n",
    "        inputs,\n",
    "        outputs={'output1':output1, 'output2':output2}, name='LACNN',\n",
    "        )\n",
    "    return model"
   ]
  },
  {
   "cell_type": "code",
   "execution_count": 18,
   "metadata": {},
   "outputs": [
    {
     "data": {
      "text/html": [
       "<pre style=\"white-space:pre;overflow-x:auto;line-height:normal;font-family:Menlo,'DejaVu Sans Mono',consolas,'Courier New',monospace\"><span style=\"font-weight: bold\">Model: \"LACNN\"</span>\n",
       "</pre>\n"
      ],
      "text/plain": [
       "\u001b[1mModel: \"LACNN\"\u001b[0m\n"
      ]
     },
     "metadata": {},
     "output_type": "display_data"
    },
    {
     "data": {
      "text/html": [
       "<pre style=\"white-space:pre;overflow-x:auto;line-height:normal;font-family:Menlo,'DejaVu Sans Mono',consolas,'Courier New',monospace\">┏━━━━━━━━━━━━━━━━━━━━━┳━━━━━━━━━━━━━━━━━━━┳━━━━━━━━━━━━┳━━━━━━━━━━━━━━━━━━━┓\n",
       "┃<span style=\"font-weight: bold\"> Layer (type)        </span>┃<span style=\"font-weight: bold\"> Output Shape      </span>┃<span style=\"font-weight: bold\">    Param # </span>┃<span style=\"font-weight: bold\"> Connected to      </span>┃\n",
       "┡━━━━━━━━━━━━━━━━━━━━━╇━━━━━━━━━━━━━━━━━━━╇━━━━━━━━━━━━╇━━━━━━━━━━━━━━━━━━━┩\n",
       "│ input_layer         │ (<span style=\"color: #00d7ff; text-decoration-color: #00d7ff\">None</span>, <span style=\"color: #00af00; text-decoration-color: #00af00\">126</span>, <span style=\"color: #00af00; text-decoration-color: #00af00\">126</span>,  │          <span style=\"color: #00af00; text-decoration-color: #00af00\">0</span> │ -                 │\n",
       "│ (<span style=\"color: #0087ff; text-decoration-color: #0087ff\">InputLayer</span>)        │ <span style=\"color: #00af00; text-decoration-color: #00af00\">3</span>)                │            │                   │\n",
       "├─────────────────────┼───────────────────┼────────────┼───────────────────┤\n",
       "│ conv2d (<span style=\"color: #0087ff; text-decoration-color: #0087ff\">Conv2D</span>)     │ (<span style=\"color: #00d7ff; text-decoration-color: #00d7ff\">None</span>, <span style=\"color: #00af00; text-decoration-color: #00af00\">125</span>, <span style=\"color: #00af00; text-decoration-color: #00af00\">125</span>,  │      <span style=\"color: #00af00; text-decoration-color: #00af00\">4,160</span> │ input_layer[<span style=\"color: #00af00; text-decoration-color: #00af00\">0</span>][<span style=\"color: #00af00; text-decoration-color: #00af00\">0</span>] │\n",
       "│                     │ <span style=\"color: #00af00; text-decoration-color: #00af00\">320</span>)              │            │                   │\n",
       "├─────────────────────┼───────────────────┼────────────┼───────────────────┤\n",
       "│ conv2d_1 (<span style=\"color: #0087ff; text-decoration-color: #0087ff\">Conv2D</span>)   │ (<span style=\"color: #00d7ff; text-decoration-color: #00d7ff\">None</span>, <span style=\"color: #00af00; text-decoration-color: #00af00\">124</span>, <span style=\"color: #00af00; text-decoration-color: #00af00\">124</span>,  │    <span style=\"color: #00af00; text-decoration-color: #00af00\">409,920</span> │ conv2d[<span style=\"color: #00af00; text-decoration-color: #00af00\">0</span>][<span style=\"color: #00af00; text-decoration-color: #00af00\">0</span>]      │\n",
       "│                     │ <span style=\"color: #00af00; text-decoration-color: #00af00\">320</span>)              │            │                   │\n",
       "├─────────────────────┼───────────────────┼────────────┼───────────────────┤\n",
       "│ conv2d_2 (<span style=\"color: #0087ff; text-decoration-color: #0087ff\">Conv2D</span>)   │ (<span style=\"color: #00d7ff; text-decoration-color: #00d7ff\">None</span>, <span style=\"color: #00af00; text-decoration-color: #00af00\">62</span>, <span style=\"color: #00af00; text-decoration-color: #00af00\">62</span>,    │    <span style=\"color: #00af00; text-decoration-color: #00af00\">409,920</span> │ conv2d_1[<span style=\"color: #00af00; text-decoration-color: #00af00\">0</span>][<span style=\"color: #00af00; text-decoration-color: #00af00\">0</span>]    │\n",
       "│                     │ <span style=\"color: #00af00; text-decoration-color: #00af00\">320</span>)              │            │                   │\n",
       "├─────────────────────┼───────────────────┼────────────┼───────────────────┤\n",
       "│ conv2d_3 (<span style=\"color: #0087ff; text-decoration-color: #0087ff\">Conv2D</span>)   │ (<span style=\"color: #00d7ff; text-decoration-color: #00d7ff\">None</span>, <span style=\"color: #00af00; text-decoration-color: #00af00\">61</span>, <span style=\"color: #00af00; text-decoration-color: #00af00\">61</span>,    │    <span style=\"color: #00af00; text-decoration-color: #00af00\">819,840</span> │ conv2d_2[<span style=\"color: #00af00; text-decoration-color: #00af00\">0</span>][<span style=\"color: #00af00; text-decoration-color: #00af00\">0</span>]    │\n",
       "│                     │ <span style=\"color: #00af00; text-decoration-color: #00af00\">640</span>)              │            │                   │\n",
       "├─────────────────────┼───────────────────┼────────────┼───────────────────┤\n",
       "│ dropout (<span style=\"color: #0087ff; text-decoration-color: #0087ff\">Dropout</span>)   │ (<span style=\"color: #00d7ff; text-decoration-color: #00d7ff\">None</span>, <span style=\"color: #00af00; text-decoration-color: #00af00\">61</span>, <span style=\"color: #00af00; text-decoration-color: #00af00\">61</span>,    │          <span style=\"color: #00af00; text-decoration-color: #00af00\">0</span> │ conv2d_3[<span style=\"color: #00af00; text-decoration-color: #00af00\">0</span>][<span style=\"color: #00af00; text-decoration-color: #00af00\">0</span>]    │\n",
       "│                     │ <span style=\"color: #00af00; text-decoration-color: #00af00\">640</span>)              │            │                   │\n",
       "├─────────────────────┼───────────────────┼────────────┼───────────────────┤\n",
       "│ conv2d_4 (<span style=\"color: #0087ff; text-decoration-color: #0087ff\">Conv2D</span>)   │ (<span style=\"color: #00d7ff; text-decoration-color: #00d7ff\">None</span>, <span style=\"color: #00af00; text-decoration-color: #00af00\">60</span>, <span style=\"color: #00af00; text-decoration-color: #00af00\">60</span>,    │  <span style=\"color: #00af00; text-decoration-color: #00af00\">1,639,040</span> │ dropout[<span style=\"color: #00af00; text-decoration-color: #00af00\">0</span>][<span style=\"color: #00af00; text-decoration-color: #00af00\">0</span>]     │\n",
       "│                     │ <span style=\"color: #00af00; text-decoration-color: #00af00\">640</span>)              │            │                   │\n",
       "├─────────────────────┼───────────────────┼────────────┼───────────────────┤\n",
       "│ dropout_1 (<span style=\"color: #0087ff; text-decoration-color: #0087ff\">Dropout</span>) │ (<span style=\"color: #00d7ff; text-decoration-color: #00d7ff\">None</span>, <span style=\"color: #00af00; text-decoration-color: #00af00\">60</span>, <span style=\"color: #00af00; text-decoration-color: #00af00\">60</span>,    │          <span style=\"color: #00af00; text-decoration-color: #00af00\">0</span> │ conv2d_4[<span style=\"color: #00af00; text-decoration-color: #00af00\">0</span>][<span style=\"color: #00af00; text-decoration-color: #00af00\">0</span>]    │\n",
       "│                     │ <span style=\"color: #00af00; text-decoration-color: #00af00\">640</span>)              │            │                   │\n",
       "├─────────────────────┼───────────────────┼────────────┼───────────────────┤\n",
       "│ conv2d_5 (<span style=\"color: #0087ff; text-decoration-color: #0087ff\">Conv2D</span>)   │ (<span style=\"color: #00d7ff; text-decoration-color: #00d7ff\">None</span>, <span style=\"color: #00af00; text-decoration-color: #00af00\">30</span>, <span style=\"color: #00af00; text-decoration-color: #00af00\">30</span>,    │  <span style=\"color: #00af00; text-decoration-color: #00af00\">1,639,040</span> │ dropout_1[<span style=\"color: #00af00; text-decoration-color: #00af00\">0</span>][<span style=\"color: #00af00; text-decoration-color: #00af00\">0</span>]   │\n",
       "│                     │ <span style=\"color: #00af00; text-decoration-color: #00af00\">640</span>)              │            │                   │\n",
       "├─────────────────────┼───────────────────┼────────────┼───────────────────┤\n",
       "│ conv2d_6 (<span style=\"color: #0087ff; text-decoration-color: #0087ff\">Conv2D</span>)   │ (<span style=\"color: #00d7ff; text-decoration-color: #00d7ff\">None</span>, <span style=\"color: #00af00; text-decoration-color: #00af00\">29</span>, <span style=\"color: #00af00; text-decoration-color: #00af00\">29</span>,    │  <span style=\"color: #00af00; text-decoration-color: #00af00\">2,458,560</span> │ conv2d_5[<span style=\"color: #00af00; text-decoration-color: #00af00\">0</span>][<span style=\"color: #00af00; text-decoration-color: #00af00\">0</span>]    │\n",
       "│                     │ <span style=\"color: #00af00; text-decoration-color: #00af00\">960</span>)              │            │                   │\n",
       "├─────────────────────┼───────────────────┼────────────┼───────────────────┤\n",
       "│ dropout_2 (<span style=\"color: #0087ff; text-decoration-color: #0087ff\">Dropout</span>) │ (<span style=\"color: #00d7ff; text-decoration-color: #00d7ff\">None</span>, <span style=\"color: #00af00; text-decoration-color: #00af00\">29</span>, <span style=\"color: #00af00; text-decoration-color: #00af00\">29</span>,    │          <span style=\"color: #00af00; text-decoration-color: #00af00\">0</span> │ conv2d_6[<span style=\"color: #00af00; text-decoration-color: #00af00\">0</span>][<span style=\"color: #00af00; text-decoration-color: #00af00\">0</span>]    │\n",
       "│                     │ <span style=\"color: #00af00; text-decoration-color: #00af00\">960</span>)              │            │                   │\n",
       "├─────────────────────┼───────────────────┼────────────┼───────────────────┤\n",
       "│ conv2d_7 (<span style=\"color: #0087ff; text-decoration-color: #0087ff\">Conv2D</span>)   │ (<span style=\"color: #00d7ff; text-decoration-color: #00d7ff\">None</span>, <span style=\"color: #00af00; text-decoration-color: #00af00\">28</span>, <span style=\"color: #00af00; text-decoration-color: #00af00\">28</span>,    │  <span style=\"color: #00af00; text-decoration-color: #00af00\">3,687,360</span> │ dropout_2[<span style=\"color: #00af00; text-decoration-color: #00af00\">0</span>][<span style=\"color: #00af00; text-decoration-color: #00af00\">0</span>]   │\n",
       "│                     │ <span style=\"color: #00af00; text-decoration-color: #00af00\">960</span>)              │            │                   │\n",
       "├─────────────────────┼───────────────────┼────────────┼───────────────────┤\n",
       "│ dropout_3 (<span style=\"color: #0087ff; text-decoration-color: #0087ff\">Dropout</span>) │ (<span style=\"color: #00d7ff; text-decoration-color: #00d7ff\">None</span>, <span style=\"color: #00af00; text-decoration-color: #00af00\">28</span>, <span style=\"color: #00af00; text-decoration-color: #00af00\">28</span>,    │          <span style=\"color: #00af00; text-decoration-color: #00af00\">0</span> │ conv2d_7[<span style=\"color: #00af00; text-decoration-color: #00af00\">0</span>][<span style=\"color: #00af00; text-decoration-color: #00af00\">0</span>]    │\n",
       "│                     │ <span style=\"color: #00af00; text-decoration-color: #00af00\">960</span>)              │            │                   │\n",
       "├─────────────────────┼───────────────────┼────────────┼───────────────────┤\n",
       "│ conv2d_8 (<span style=\"color: #0087ff; text-decoration-color: #0087ff\">Conv2D</span>)   │ (<span style=\"color: #00d7ff; text-decoration-color: #00d7ff\">None</span>, <span style=\"color: #00af00; text-decoration-color: #00af00\">14</span>, <span style=\"color: #00af00; text-decoration-color: #00af00\">14</span>,    │  <span style=\"color: #00af00; text-decoration-color: #00af00\">3,687,360</span> │ dropout_3[<span style=\"color: #00af00; text-decoration-color: #00af00\">0</span>][<span style=\"color: #00af00; text-decoration-color: #00af00\">0</span>]   │\n",
       "│                     │ <span style=\"color: #00af00; text-decoration-color: #00af00\">960</span>)              │            │                   │\n",
       "├─────────────────────┼───────────────────┼────────────┼───────────────────┤\n",
       "│ conv2d_9 (<span style=\"color: #0087ff; text-decoration-color: #0087ff\">Conv2D</span>)   │ (<span style=\"color: #00d7ff; text-decoration-color: #00d7ff\">None</span>, <span style=\"color: #00af00; text-decoration-color: #00af00\">13</span>, <span style=\"color: #00af00; text-decoration-color: #00af00\">13</span>,    │  <span style=\"color: #00af00; text-decoration-color: #00af00\">4,916,480</span> │ conv2d_8[<span style=\"color: #00af00; text-decoration-color: #00af00\">0</span>][<span style=\"color: #00af00; text-decoration-color: #00af00\">0</span>]    │\n",
       "│                     │ <span style=\"color: #00af00; text-decoration-color: #00af00\">1280</span>)             │            │                   │\n",
       "├─────────────────────┼───────────────────┼────────────┼───────────────────┤\n",
       "│ dropout_4 (<span style=\"color: #0087ff; text-decoration-color: #0087ff\">Dropout</span>) │ (<span style=\"color: #00d7ff; text-decoration-color: #00d7ff\">None</span>, <span style=\"color: #00af00; text-decoration-color: #00af00\">13</span>, <span style=\"color: #00af00; text-decoration-color: #00af00\">13</span>,    │          <span style=\"color: #00af00; text-decoration-color: #00af00\">0</span> │ conv2d_9[<span style=\"color: #00af00; text-decoration-color: #00af00\">0</span>][<span style=\"color: #00af00; text-decoration-color: #00af00\">0</span>]    │\n",
       "│                     │ <span style=\"color: #00af00; text-decoration-color: #00af00\">1280</span>)             │            │                   │\n",
       "├─────────────────────┼───────────────────┼────────────┼───────────────────┤\n",
       "│ conv2d_10 (<span style=\"color: #0087ff; text-decoration-color: #0087ff\">Conv2D</span>)  │ (<span style=\"color: #00d7ff; text-decoration-color: #00d7ff\">None</span>, <span style=\"color: #00af00; text-decoration-color: #00af00\">12</span>, <span style=\"color: #00af00; text-decoration-color: #00af00\">12</span>,    │  <span style=\"color: #00af00; text-decoration-color: #00af00\">6,554,880</span> │ dropout_4[<span style=\"color: #00af00; text-decoration-color: #00af00\">0</span>][<span style=\"color: #00af00; text-decoration-color: #00af00\">0</span>]   │\n",
       "│                     │ <span style=\"color: #00af00; text-decoration-color: #00af00\">1280</span>)             │            │                   │\n",
       "├─────────────────────┼───────────────────┼────────────┼───────────────────┤\n",
       "│ dropout_5 (<span style=\"color: #0087ff; text-decoration-color: #0087ff\">Dropout</span>) │ (<span style=\"color: #00d7ff; text-decoration-color: #00d7ff\">None</span>, <span style=\"color: #00af00; text-decoration-color: #00af00\">12</span>, <span style=\"color: #00af00; text-decoration-color: #00af00\">12</span>,    │          <span style=\"color: #00af00; text-decoration-color: #00af00\">0</span> │ conv2d_10[<span style=\"color: #00af00; text-decoration-color: #00af00\">0</span>][<span style=\"color: #00af00; text-decoration-color: #00af00\">0</span>]   │\n",
       "│                     │ <span style=\"color: #00af00; text-decoration-color: #00af00\">1280</span>)             │            │                   │\n",
       "├─────────────────────┼───────────────────┼────────────┼───────────────────┤\n",
       "│ conv2d_11 (<span style=\"color: #0087ff; text-decoration-color: #0087ff\">Conv2D</span>)  │ (<span style=\"color: #00d7ff; text-decoration-color: #00d7ff\">None</span>, <span style=\"color: #00af00; text-decoration-color: #00af00\">6</span>, <span style=\"color: #00af00; text-decoration-color: #00af00\">6</span>, <span style=\"color: #00af00; text-decoration-color: #00af00\">960</span>) │  <span style=\"color: #00af00; text-decoration-color: #00af00\">4,916,160</span> │ dropout_5[<span style=\"color: #00af00; text-decoration-color: #00af00\">0</span>][<span style=\"color: #00af00; text-decoration-color: #00af00\">0</span>]   │\n",
       "├─────────────────────┼───────────────────┼────────────┼───────────────────┤\n",
       "│ conv2d_12 (<span style=\"color: #0087ff; text-decoration-color: #0087ff\">Conv2D</span>)  │ (<span style=\"color: #00d7ff; text-decoration-color: #00d7ff\">None</span>, <span style=\"color: #00af00; text-decoration-color: #00af00\">5</span>, <span style=\"color: #00af00; text-decoration-color: #00af00\">5</span>,      │  <span style=\"color: #00af00; text-decoration-color: #00af00\">6,145,600</span> │ conv2d_11[<span style=\"color: #00af00; text-decoration-color: #00af00\">0</span>][<span style=\"color: #00af00; text-decoration-color: #00af00\">0</span>]   │\n",
       "│                     │ <span style=\"color: #00af00; text-decoration-color: #00af00\">1600</span>)             │            │                   │\n",
       "├─────────────────────┼───────────────────┼────────────┼───────────────────┤\n",
       "│ dropout_6 (<span style=\"color: #0087ff; text-decoration-color: #0087ff\">Dropout</span>) │ (<span style=\"color: #00d7ff; text-decoration-color: #00d7ff\">None</span>, <span style=\"color: #00af00; text-decoration-color: #00af00\">5</span>, <span style=\"color: #00af00; text-decoration-color: #00af00\">5</span>,      │          <span style=\"color: #00af00; text-decoration-color: #00af00\">0</span> │ conv2d_12[<span style=\"color: #00af00; text-decoration-color: #00af00\">0</span>][<span style=\"color: #00af00; text-decoration-color: #00af00\">0</span>]   │\n",
       "│                     │ <span style=\"color: #00af00; text-decoration-color: #00af00\">1600</span>)             │            │                   │\n",
       "├─────────────────────┼───────────────────┼────────────┼───────────────────┤\n",
       "│ conv2d_13 (<span style=\"color: #0087ff; text-decoration-color: #0087ff\">Conv2D</span>)  │ (<span style=\"color: #00d7ff; text-decoration-color: #00d7ff\">None</span>, <span style=\"color: #00af00; text-decoration-color: #00af00\">4</span>, <span style=\"color: #00af00; text-decoration-color: #00af00\">4</span>,      │ <span style=\"color: #00af00; text-decoration-color: #00af00\">10,241,600</span> │ dropout_6[<span style=\"color: #00af00; text-decoration-color: #00af00\">0</span>][<span style=\"color: #00af00; text-decoration-color: #00af00\">0</span>]   │\n",
       "│                     │ <span style=\"color: #00af00; text-decoration-color: #00af00\">1600</span>)             │            │                   │\n",
       "├─────────────────────┼───────────────────┼────────────┼───────────────────┤\n",
       "│ dropout_7 (<span style=\"color: #0087ff; text-decoration-color: #0087ff\">Dropout</span>) │ (<span style=\"color: #00d7ff; text-decoration-color: #00d7ff\">None</span>, <span style=\"color: #00af00; text-decoration-color: #00af00\">4</span>, <span style=\"color: #00af00; text-decoration-color: #00af00\">4</span>,      │          <span style=\"color: #00af00; text-decoration-color: #00af00\">0</span> │ conv2d_13[<span style=\"color: #00af00; text-decoration-color: #00af00\">0</span>][<span style=\"color: #00af00; text-decoration-color: #00af00\">0</span>]   │\n",
       "│                     │ <span style=\"color: #00af00; text-decoration-color: #00af00\">1600</span>)             │            │                   │\n",
       "├─────────────────────┼───────────────────┼────────────┼───────────────────┤\n",
       "│ conv2d_14 (<span style=\"color: #0087ff; text-decoration-color: #0087ff\">Conv2D</span>)  │ (<span style=\"color: #00d7ff; text-decoration-color: #00d7ff\">None</span>, <span style=\"color: #00af00; text-decoration-color: #00af00\">2</span>, <span style=\"color: #00af00; text-decoration-color: #00af00\">2</span>,      │ <span style=\"color: #00af00; text-decoration-color: #00af00\">10,241,600</span> │ dropout_7[<span style=\"color: #00af00; text-decoration-color: #00af00\">0</span>][<span style=\"color: #00af00; text-decoration-color: #00af00\">0</span>]   │\n",
       "│                     │ <span style=\"color: #00af00; text-decoration-color: #00af00\">1600</span>)             │            │                   │\n",
       "├─────────────────────┼───────────────────┼────────────┼───────────────────┤\n",
       "│ conv2d_15 (<span style=\"color: #0087ff; text-decoration-color: #0087ff\">Conv2D</span>)  │ (<span style=\"color: #00d7ff; text-decoration-color: #00d7ff\">None</span>, <span style=\"color: #00af00; text-decoration-color: #00af00\">1</span>, <span style=\"color: #00af00; text-decoration-color: #00af00\">1</span>,      │ <span style=\"color: #00af00; text-decoration-color: #00af00\">12,289,920</span> │ conv2d_14[<span style=\"color: #00af00; text-decoration-color: #00af00\">0</span>][<span style=\"color: #00af00; text-decoration-color: #00af00\">0</span>]   │\n",
       "│                     │ <span style=\"color: #00af00; text-decoration-color: #00af00\">1920</span>)             │            │                   │\n",
       "├─────────────────────┼───────────────────┼────────────┼───────────────────┤\n",
       "│ dropout_8 (<span style=\"color: #0087ff; text-decoration-color: #0087ff\">Dropout</span>) │ (<span style=\"color: #00d7ff; text-decoration-color: #00d7ff\">None</span>, <span style=\"color: #00af00; text-decoration-color: #00af00\">1</span>, <span style=\"color: #00af00; text-decoration-color: #00af00\">1</span>,      │          <span style=\"color: #00af00; text-decoration-color: #00af00\">0</span> │ conv2d_15[<span style=\"color: #00af00; text-decoration-color: #00af00\">0</span>][<span style=\"color: #00af00; text-decoration-color: #00af00\">0</span>]   │\n",
       "│                     │ <span style=\"color: #00af00; text-decoration-color: #00af00\">1920</span>)             │            │                   │\n",
       "├─────────────────────┼───────────────────┼────────────┼───────────────────┤\n",
       "│ flatten (<span style=\"color: #0087ff; text-decoration-color: #0087ff\">Flatten</span>)   │ (<span style=\"color: #00d7ff; text-decoration-color: #00d7ff\">None</span>, <span style=\"color: #00af00; text-decoration-color: #00af00\">1920</span>)      │          <span style=\"color: #00af00; text-decoration-color: #00af00\">0</span> │ dropout_8[<span style=\"color: #00af00; text-decoration-color: #00af00\">0</span>][<span style=\"color: #00af00; text-decoration-color: #00af00\">0</span>]   │\n",
       "├─────────────────────┼───────────────────┼────────────┼───────────────────┤\n",
       "│ output1 (<span style=\"color: #0087ff; text-decoration-color: #0087ff\">Dense</span>)     │ (<span style=\"color: #00d7ff; text-decoration-color: #00d7ff\">None</span>, <span style=\"color: #00af00; text-decoration-color: #00af00\">5</span>)         │      <span style=\"color: #00af00; text-decoration-color: #00af00\">9,605</span> │ flatten[<span style=\"color: #00af00; text-decoration-color: #00af00\">0</span>][<span style=\"color: #00af00; text-decoration-color: #00af00\">0</span>]     │\n",
       "├─────────────────────┼───────────────────┼────────────┼───────────────────┤\n",
       "│ output2 (<span style=\"color: #0087ff; text-decoration-color: #0087ff\">Dense</span>)     │ (<span style=\"color: #00d7ff; text-decoration-color: #00d7ff\">None</span>, <span style=\"color: #00af00; text-decoration-color: #00af00\">5</span>)         │      <span style=\"color: #00af00; text-decoration-color: #00af00\">9,605</span> │ flatten[<span style=\"color: #00af00; text-decoration-color: #00af00\">0</span>][<span style=\"color: #00af00; text-decoration-color: #00af00\">0</span>]     │\n",
       "└─────────────────────┴───────────────────┴────────────┴───────────────────┘\n",
       "</pre>\n"
      ],
      "text/plain": [
       "┏━━━━━━━━━━━━━━━━━━━━━┳━━━━━━━━━━━━━━━━━━━┳━━━━━━━━━━━━┳━━━━━━━━━━━━━━━━━━━┓\n",
       "┃\u001b[1m \u001b[0m\u001b[1mLayer (type)       \u001b[0m\u001b[1m \u001b[0m┃\u001b[1m \u001b[0m\u001b[1mOutput Shape     \u001b[0m\u001b[1m \u001b[0m┃\u001b[1m \u001b[0m\u001b[1m   Param #\u001b[0m\u001b[1m \u001b[0m┃\u001b[1m \u001b[0m\u001b[1mConnected to     \u001b[0m\u001b[1m \u001b[0m┃\n",
       "┡━━━━━━━━━━━━━━━━━━━━━╇━━━━━━━━━━━━━━━━━━━╇━━━━━━━━━━━━╇━━━━━━━━━━━━━━━━━━━┩\n",
       "│ input_layer         │ (\u001b[38;5;45mNone\u001b[0m, \u001b[38;5;34m126\u001b[0m, \u001b[38;5;34m126\u001b[0m,  │          \u001b[38;5;34m0\u001b[0m │ -                 │\n",
       "│ (\u001b[38;5;33mInputLayer\u001b[0m)        │ \u001b[38;5;34m3\u001b[0m)                │            │                   │\n",
       "├─────────────────────┼───────────────────┼────────────┼───────────────────┤\n",
       "│ conv2d (\u001b[38;5;33mConv2D\u001b[0m)     │ (\u001b[38;5;45mNone\u001b[0m, \u001b[38;5;34m125\u001b[0m, \u001b[38;5;34m125\u001b[0m,  │      \u001b[38;5;34m4,160\u001b[0m │ input_layer[\u001b[38;5;34m0\u001b[0m][\u001b[38;5;34m0\u001b[0m] │\n",
       "│                     │ \u001b[38;5;34m320\u001b[0m)              │            │                   │\n",
       "├─────────────────────┼───────────────────┼────────────┼───────────────────┤\n",
       "│ conv2d_1 (\u001b[38;5;33mConv2D\u001b[0m)   │ (\u001b[38;5;45mNone\u001b[0m, \u001b[38;5;34m124\u001b[0m, \u001b[38;5;34m124\u001b[0m,  │    \u001b[38;5;34m409,920\u001b[0m │ conv2d[\u001b[38;5;34m0\u001b[0m][\u001b[38;5;34m0\u001b[0m]      │\n",
       "│                     │ \u001b[38;5;34m320\u001b[0m)              │            │                   │\n",
       "├─────────────────────┼───────────────────┼────────────┼───────────────────┤\n",
       "│ conv2d_2 (\u001b[38;5;33mConv2D\u001b[0m)   │ (\u001b[38;5;45mNone\u001b[0m, \u001b[38;5;34m62\u001b[0m, \u001b[38;5;34m62\u001b[0m,    │    \u001b[38;5;34m409,920\u001b[0m │ conv2d_1[\u001b[38;5;34m0\u001b[0m][\u001b[38;5;34m0\u001b[0m]    │\n",
       "│                     │ \u001b[38;5;34m320\u001b[0m)              │            │                   │\n",
       "├─────────────────────┼───────────────────┼────────────┼───────────────────┤\n",
       "│ conv2d_3 (\u001b[38;5;33mConv2D\u001b[0m)   │ (\u001b[38;5;45mNone\u001b[0m, \u001b[38;5;34m61\u001b[0m, \u001b[38;5;34m61\u001b[0m,    │    \u001b[38;5;34m819,840\u001b[0m │ conv2d_2[\u001b[38;5;34m0\u001b[0m][\u001b[38;5;34m0\u001b[0m]    │\n",
       "│                     │ \u001b[38;5;34m640\u001b[0m)              │            │                   │\n",
       "├─────────────────────┼───────────────────┼────────────┼───────────────────┤\n",
       "│ dropout (\u001b[38;5;33mDropout\u001b[0m)   │ (\u001b[38;5;45mNone\u001b[0m, \u001b[38;5;34m61\u001b[0m, \u001b[38;5;34m61\u001b[0m,    │          \u001b[38;5;34m0\u001b[0m │ conv2d_3[\u001b[38;5;34m0\u001b[0m][\u001b[38;5;34m0\u001b[0m]    │\n",
       "│                     │ \u001b[38;5;34m640\u001b[0m)              │            │                   │\n",
       "├─────────────────────┼───────────────────┼────────────┼───────────────────┤\n",
       "│ conv2d_4 (\u001b[38;5;33mConv2D\u001b[0m)   │ (\u001b[38;5;45mNone\u001b[0m, \u001b[38;5;34m60\u001b[0m, \u001b[38;5;34m60\u001b[0m,    │  \u001b[38;5;34m1,639,040\u001b[0m │ dropout[\u001b[38;5;34m0\u001b[0m][\u001b[38;5;34m0\u001b[0m]     │\n",
       "│                     │ \u001b[38;5;34m640\u001b[0m)              │            │                   │\n",
       "├─────────────────────┼───────────────────┼────────────┼───────────────────┤\n",
       "│ dropout_1 (\u001b[38;5;33mDropout\u001b[0m) │ (\u001b[38;5;45mNone\u001b[0m, \u001b[38;5;34m60\u001b[0m, \u001b[38;5;34m60\u001b[0m,    │          \u001b[38;5;34m0\u001b[0m │ conv2d_4[\u001b[38;5;34m0\u001b[0m][\u001b[38;5;34m0\u001b[0m]    │\n",
       "│                     │ \u001b[38;5;34m640\u001b[0m)              │            │                   │\n",
       "├─────────────────────┼───────────────────┼────────────┼───────────────────┤\n",
       "│ conv2d_5 (\u001b[38;5;33mConv2D\u001b[0m)   │ (\u001b[38;5;45mNone\u001b[0m, \u001b[38;5;34m30\u001b[0m, \u001b[38;5;34m30\u001b[0m,    │  \u001b[38;5;34m1,639,040\u001b[0m │ dropout_1[\u001b[38;5;34m0\u001b[0m][\u001b[38;5;34m0\u001b[0m]   │\n",
       "│                     │ \u001b[38;5;34m640\u001b[0m)              │            │                   │\n",
       "├─────────────────────┼───────────────────┼────────────┼───────────────────┤\n",
       "│ conv2d_6 (\u001b[38;5;33mConv2D\u001b[0m)   │ (\u001b[38;5;45mNone\u001b[0m, \u001b[38;5;34m29\u001b[0m, \u001b[38;5;34m29\u001b[0m,    │  \u001b[38;5;34m2,458,560\u001b[0m │ conv2d_5[\u001b[38;5;34m0\u001b[0m][\u001b[38;5;34m0\u001b[0m]    │\n",
       "│                     │ \u001b[38;5;34m960\u001b[0m)              │            │                   │\n",
       "├─────────────────────┼───────────────────┼────────────┼───────────────────┤\n",
       "│ dropout_2 (\u001b[38;5;33mDropout\u001b[0m) │ (\u001b[38;5;45mNone\u001b[0m, \u001b[38;5;34m29\u001b[0m, \u001b[38;5;34m29\u001b[0m,    │          \u001b[38;5;34m0\u001b[0m │ conv2d_6[\u001b[38;5;34m0\u001b[0m][\u001b[38;5;34m0\u001b[0m]    │\n",
       "│                     │ \u001b[38;5;34m960\u001b[0m)              │            │                   │\n",
       "├─────────────────────┼───────────────────┼────────────┼───────────────────┤\n",
       "│ conv2d_7 (\u001b[38;5;33mConv2D\u001b[0m)   │ (\u001b[38;5;45mNone\u001b[0m, \u001b[38;5;34m28\u001b[0m, \u001b[38;5;34m28\u001b[0m,    │  \u001b[38;5;34m3,687,360\u001b[0m │ dropout_2[\u001b[38;5;34m0\u001b[0m][\u001b[38;5;34m0\u001b[0m]   │\n",
       "│                     │ \u001b[38;5;34m960\u001b[0m)              │            │                   │\n",
       "├─────────────────────┼───────────────────┼────────────┼───────────────────┤\n",
       "│ dropout_3 (\u001b[38;5;33mDropout\u001b[0m) │ (\u001b[38;5;45mNone\u001b[0m, \u001b[38;5;34m28\u001b[0m, \u001b[38;5;34m28\u001b[0m,    │          \u001b[38;5;34m0\u001b[0m │ conv2d_7[\u001b[38;5;34m0\u001b[0m][\u001b[38;5;34m0\u001b[0m]    │\n",
       "│                     │ \u001b[38;5;34m960\u001b[0m)              │            │                   │\n",
       "├─────────────────────┼───────────────────┼────────────┼───────────────────┤\n",
       "│ conv2d_8 (\u001b[38;5;33mConv2D\u001b[0m)   │ (\u001b[38;5;45mNone\u001b[0m, \u001b[38;5;34m14\u001b[0m, \u001b[38;5;34m14\u001b[0m,    │  \u001b[38;5;34m3,687,360\u001b[0m │ dropout_3[\u001b[38;5;34m0\u001b[0m][\u001b[38;5;34m0\u001b[0m]   │\n",
       "│                     │ \u001b[38;5;34m960\u001b[0m)              │            │                   │\n",
       "├─────────────────────┼───────────────────┼────────────┼───────────────────┤\n",
       "│ conv2d_9 (\u001b[38;5;33mConv2D\u001b[0m)   │ (\u001b[38;5;45mNone\u001b[0m, \u001b[38;5;34m13\u001b[0m, \u001b[38;5;34m13\u001b[0m,    │  \u001b[38;5;34m4,916,480\u001b[0m │ conv2d_8[\u001b[38;5;34m0\u001b[0m][\u001b[38;5;34m0\u001b[0m]    │\n",
       "│                     │ \u001b[38;5;34m1280\u001b[0m)             │            │                   │\n",
       "├─────────────────────┼───────────────────┼────────────┼───────────────────┤\n",
       "│ dropout_4 (\u001b[38;5;33mDropout\u001b[0m) │ (\u001b[38;5;45mNone\u001b[0m, \u001b[38;5;34m13\u001b[0m, \u001b[38;5;34m13\u001b[0m,    │          \u001b[38;5;34m0\u001b[0m │ conv2d_9[\u001b[38;5;34m0\u001b[0m][\u001b[38;5;34m0\u001b[0m]    │\n",
       "│                     │ \u001b[38;5;34m1280\u001b[0m)             │            │                   │\n",
       "├─────────────────────┼───────────────────┼────────────┼───────────────────┤\n",
       "│ conv2d_10 (\u001b[38;5;33mConv2D\u001b[0m)  │ (\u001b[38;5;45mNone\u001b[0m, \u001b[38;5;34m12\u001b[0m, \u001b[38;5;34m12\u001b[0m,    │  \u001b[38;5;34m6,554,880\u001b[0m │ dropout_4[\u001b[38;5;34m0\u001b[0m][\u001b[38;5;34m0\u001b[0m]   │\n",
       "│                     │ \u001b[38;5;34m1280\u001b[0m)             │            │                   │\n",
       "├─────────────────────┼───────────────────┼────────────┼───────────────────┤\n",
       "│ dropout_5 (\u001b[38;5;33mDropout\u001b[0m) │ (\u001b[38;5;45mNone\u001b[0m, \u001b[38;5;34m12\u001b[0m, \u001b[38;5;34m12\u001b[0m,    │          \u001b[38;5;34m0\u001b[0m │ conv2d_10[\u001b[38;5;34m0\u001b[0m][\u001b[38;5;34m0\u001b[0m]   │\n",
       "│                     │ \u001b[38;5;34m1280\u001b[0m)             │            │                   │\n",
       "├─────────────────────┼───────────────────┼────────────┼───────────────────┤\n",
       "│ conv2d_11 (\u001b[38;5;33mConv2D\u001b[0m)  │ (\u001b[38;5;45mNone\u001b[0m, \u001b[38;5;34m6\u001b[0m, \u001b[38;5;34m6\u001b[0m, \u001b[38;5;34m960\u001b[0m) │  \u001b[38;5;34m4,916,160\u001b[0m │ dropout_5[\u001b[38;5;34m0\u001b[0m][\u001b[38;5;34m0\u001b[0m]   │\n",
       "├─────────────────────┼───────────────────┼────────────┼───────────────────┤\n",
       "│ conv2d_12 (\u001b[38;5;33mConv2D\u001b[0m)  │ (\u001b[38;5;45mNone\u001b[0m, \u001b[38;5;34m5\u001b[0m, \u001b[38;5;34m5\u001b[0m,      │  \u001b[38;5;34m6,145,600\u001b[0m │ conv2d_11[\u001b[38;5;34m0\u001b[0m][\u001b[38;5;34m0\u001b[0m]   │\n",
       "│                     │ \u001b[38;5;34m1600\u001b[0m)             │            │                   │\n",
       "├─────────────────────┼───────────────────┼────────────┼───────────────────┤\n",
       "│ dropout_6 (\u001b[38;5;33mDropout\u001b[0m) │ (\u001b[38;5;45mNone\u001b[0m, \u001b[38;5;34m5\u001b[0m, \u001b[38;5;34m5\u001b[0m,      │          \u001b[38;5;34m0\u001b[0m │ conv2d_12[\u001b[38;5;34m0\u001b[0m][\u001b[38;5;34m0\u001b[0m]   │\n",
       "│                     │ \u001b[38;5;34m1600\u001b[0m)             │            │                   │\n",
       "├─────────────────────┼───────────────────┼────────────┼───────────────────┤\n",
       "│ conv2d_13 (\u001b[38;5;33mConv2D\u001b[0m)  │ (\u001b[38;5;45mNone\u001b[0m, \u001b[38;5;34m4\u001b[0m, \u001b[38;5;34m4\u001b[0m,      │ \u001b[38;5;34m10,241,600\u001b[0m │ dropout_6[\u001b[38;5;34m0\u001b[0m][\u001b[38;5;34m0\u001b[0m]   │\n",
       "│                     │ \u001b[38;5;34m1600\u001b[0m)             │            │                   │\n",
       "├─────────────────────┼───────────────────┼────────────┼───────────────────┤\n",
       "│ dropout_7 (\u001b[38;5;33mDropout\u001b[0m) │ (\u001b[38;5;45mNone\u001b[0m, \u001b[38;5;34m4\u001b[0m, \u001b[38;5;34m4\u001b[0m,      │          \u001b[38;5;34m0\u001b[0m │ conv2d_13[\u001b[38;5;34m0\u001b[0m][\u001b[38;5;34m0\u001b[0m]   │\n",
       "│                     │ \u001b[38;5;34m1600\u001b[0m)             │            │                   │\n",
       "├─────────────────────┼───────────────────┼────────────┼───────────────────┤\n",
       "│ conv2d_14 (\u001b[38;5;33mConv2D\u001b[0m)  │ (\u001b[38;5;45mNone\u001b[0m, \u001b[38;5;34m2\u001b[0m, \u001b[38;5;34m2\u001b[0m,      │ \u001b[38;5;34m10,241,600\u001b[0m │ dropout_7[\u001b[38;5;34m0\u001b[0m][\u001b[38;5;34m0\u001b[0m]   │\n",
       "│                     │ \u001b[38;5;34m1600\u001b[0m)             │            │                   │\n",
       "├─────────────────────┼───────────────────┼────────────┼───────────────────┤\n",
       "│ conv2d_15 (\u001b[38;5;33mConv2D\u001b[0m)  │ (\u001b[38;5;45mNone\u001b[0m, \u001b[38;5;34m1\u001b[0m, \u001b[38;5;34m1\u001b[0m,      │ \u001b[38;5;34m12,289,920\u001b[0m │ conv2d_14[\u001b[38;5;34m0\u001b[0m][\u001b[38;5;34m0\u001b[0m]   │\n",
       "│                     │ \u001b[38;5;34m1920\u001b[0m)             │            │                   │\n",
       "├─────────────────────┼───────────────────┼────────────┼───────────────────┤\n",
       "│ dropout_8 (\u001b[38;5;33mDropout\u001b[0m) │ (\u001b[38;5;45mNone\u001b[0m, \u001b[38;5;34m1\u001b[0m, \u001b[38;5;34m1\u001b[0m,      │          \u001b[38;5;34m0\u001b[0m │ conv2d_15[\u001b[38;5;34m0\u001b[0m][\u001b[38;5;34m0\u001b[0m]   │\n",
       "│                     │ \u001b[38;5;34m1920\u001b[0m)             │            │                   │\n",
       "├─────────────────────┼───────────────────┼────────────┼───────────────────┤\n",
       "│ flatten (\u001b[38;5;33mFlatten\u001b[0m)   │ (\u001b[38;5;45mNone\u001b[0m, \u001b[38;5;34m1920\u001b[0m)      │          \u001b[38;5;34m0\u001b[0m │ dropout_8[\u001b[38;5;34m0\u001b[0m][\u001b[38;5;34m0\u001b[0m]   │\n",
       "├─────────────────────┼───────────────────┼────────────┼───────────────────┤\n",
       "│ output1 (\u001b[38;5;33mDense\u001b[0m)     │ (\u001b[38;5;45mNone\u001b[0m, \u001b[38;5;34m5\u001b[0m)         │      \u001b[38;5;34m9,605\u001b[0m │ flatten[\u001b[38;5;34m0\u001b[0m][\u001b[38;5;34m0\u001b[0m]     │\n",
       "├─────────────────────┼───────────────────┼────────────┼───────────────────┤\n",
       "│ output2 (\u001b[38;5;33mDense\u001b[0m)     │ (\u001b[38;5;45mNone\u001b[0m, \u001b[38;5;34m5\u001b[0m)         │      \u001b[38;5;34m9,605\u001b[0m │ flatten[\u001b[38;5;34m0\u001b[0m][\u001b[38;5;34m0\u001b[0m]     │\n",
       "└─────────────────────┴───────────────────┴────────────┴───────────────────┘\n"
      ]
     },
     "metadata": {},
     "output_type": "display_data"
    },
    {
     "data": {
      "text/html": [
       "<pre style=\"white-space:pre;overflow-x:auto;line-height:normal;font-family:Menlo,'DejaVu Sans Mono',consolas,'Courier New',monospace\"><span style=\"font-weight: bold\"> Total params: </span><span style=\"color: #00af00; text-decoration-color: #00af00\">70,080,650</span> (267.34 MB)\n",
       "</pre>\n"
      ],
      "text/plain": [
       "\u001b[1m Total params: \u001b[0m\u001b[38;5;34m70,080,650\u001b[0m (267.34 MB)\n"
      ]
     },
     "metadata": {},
     "output_type": "display_data"
    },
    {
     "data": {
      "text/html": [
       "<pre style=\"white-space:pre;overflow-x:auto;line-height:normal;font-family:Menlo,'DejaVu Sans Mono',consolas,'Courier New',monospace\"><span style=\"font-weight: bold\"> Trainable params: </span><span style=\"color: #00af00; text-decoration-color: #00af00\">70,080,650</span> (267.34 MB)\n",
       "</pre>\n"
      ],
      "text/plain": [
       "\u001b[1m Trainable params: \u001b[0m\u001b[38;5;34m70,080,650\u001b[0m (267.34 MB)\n"
      ]
     },
     "metadata": {},
     "output_type": "display_data"
    },
    {
     "data": {
      "text/html": [
       "<pre style=\"white-space:pre;overflow-x:auto;line-height:normal;font-family:Menlo,'DejaVu Sans Mono',consolas,'Courier New',monospace\"><span style=\"font-weight: bold\"> Non-trainable params: </span><span style=\"color: #00af00; text-decoration-color: #00af00\">0</span> (0.00 B)\n",
       "</pre>\n"
      ],
      "text/plain": [
       "\u001b[1m Non-trainable params: \u001b[0m\u001b[38;5;34m0\u001b[0m (0.00 B)\n"
      ]
     },
     "metadata": {},
     "output_type": "display_data"
    }
   ],
   "source": [
    "K.clear_session()\n",
    "model = LACNN()\n",
    "model.compile(optimizer='rmsprop',\n",
    "              loss={'output1': keras.losses.CategoricalCrossentropy(), 'output2': keras.losses.CategoricalCrossentropy()},\n",
    "              metrics={'output1': 'accuracy', 'output2': 'accuracy'})\n",
    "model.summary()"
   ]
  },
  {
   "cell_type": "code",
   "execution_count": 19,
   "metadata": {},
   "outputs": [],
   "source": [
    "batchsize = 64\n",
    "\n",
    "def resize_images(images, target_size=(126, 126)):\n",
    "    # Resize all images in the batch to the target size with padding\n",
    "    return tf.image.resize_with_pad(images, target_size[0], target_size[1])\n",
    "\n",
    "def datageneratorlarge(X1, X2, Y1, Y2, batchsize, target_size=(126, 126)):\n",
    "    size1 = X1.shape[0]\n",
    "    size2 = X2.shape[0]\n",
    "    Y1_cat = tf.keras.utils.to_categorical(Y1, num_classes=5)\n",
    "    Y2_cat = tf.keras.utils.to_categorical(Y2 - 5, num_classes=5)\n",
    "\n",
    "    while True:\n",
    "        num1 = np.random.randint(0, size1, batchsize)\n",
    "        num2 = np.random.randint(0, size2, batchsize)\n",
    "        \n",
    "        # Generate images\n",
    "        x1_batch = X1[num1]\n",
    "        x2_batch = X2[num2]\n",
    "        \n",
    "        # Resize and average images\n",
    "        x1_resized = resize_images(x1_batch, target_size)\n",
    "        x2_resized = resize_images(x2_batch, target_size)\n",
    "        x_data = (x1_resized + x2_resized) / 2.0\n",
    "        \n",
    "        # Create labels\n",
    "        y_data = {'output1': Y1_cat[num1], 'output2': Y2_cat[num2]}\n",
    "        \n",
    "        yield tf.convert_to_tensor(x_data), y_data\n",
    "\n",
    "# Update data generators\n",
    "traingenlarge = datageneratorlarge(cifar10_x_train_1, cifar10_x_train_2, cifar10_y_train_1, cifar10_y_train_2, batchsize)\n",
    "valgenlarge = datageneratorlarge(cifar10_x_val_1, cifar10_x_val_2, cifar10_y_val_1, cifar10_y_val_2, batchsize)\n",
    "testgenlarge = datageneratorlarge(cifar10_x_test_1, cifar10_x_test_2, cifar10_y_test_1, cifar10_y_test_2, 1000)\n"
   ]
  },
  {
   "cell_type": "code",
   "execution_count": 20,
   "metadata": {},
   "outputs": [
    {
     "name": "stdout",
     "output_type": "stream",
     "text": [
      "Epoch 1/250\n",
      "\u001b[1m  4/703\u001b[0m \u001b[37m━━━━━━━━━━━━━━━━━━━━\u001b[0m \u001b[1m8:45:50\u001b[0m 45s/step - loss: 3.4063 - output1_accuracy: 0.1771 - output2_accuracy: 0.2220"
     ]
    },
    {
     "ename": "KeyboardInterrupt",
     "evalue": "",
     "output_type": "error",
     "traceback": [
      "\u001b[0;31m---------------------------------------------------------------------------\u001b[0m",
      "\u001b[0;31mKeyboardInterrupt\u001b[0m                         Traceback (most recent call last)",
      "Cell \u001b[0;32mIn[20], line 8\u001b[0m\n\u001b[1;32m      1\u001b[0m early_stopping \u001b[38;5;241m=\u001b[39m keras\u001b[38;5;241m.\u001b[39mcallbacks\u001b[38;5;241m.\u001b[39mEarlyStopping(monitor\u001b[38;5;241m=\u001b[39m\u001b[38;5;124m'\u001b[39m\u001b[38;5;124mval_loss\u001b[39m\u001b[38;5;124m'\u001b[39m,  \u001b[38;5;66;03m# Track the validation loss\u001b[39;00m\n\u001b[1;32m      2\u001b[0m                                patience\u001b[38;5;241m=\u001b[39m\u001b[38;5;241m20\u001b[39m,         \u001b[38;5;66;03m# Number of epochs to wait after the last improvement\u001b[39;00m\n\u001b[1;32m      3\u001b[0m                                mode\u001b[38;5;241m=\u001b[39m\u001b[38;5;124m'\u001b[39m\u001b[38;5;124mmin\u001b[39m\u001b[38;5;124m'\u001b[39m,         \u001b[38;5;66;03m# Stop when the value stops decreasing (minimization)\u001b[39;00m\n\u001b[1;32m      4\u001b[0m                                restore_best_weights\u001b[38;5;241m=\u001b[39m\u001b[38;5;28;01mTrue\u001b[39;00m,  \u001b[38;5;66;03m# Restore the best weights when stopping\u001b[39;00m\n\u001b[1;32m      5\u001b[0m                                verbose\u001b[38;5;241m=\u001b[39m\u001b[38;5;241m1\u001b[39m)\n\u001b[1;32m      6\u001b[0m reduce_lr \u001b[38;5;241m=\u001b[39m keras\u001b[38;5;241m.\u001b[39mcallbacks\u001b[38;5;241m.\u001b[39mReduceLROnPlateau(monitor\u001b[38;5;241m=\u001b[39m\u001b[38;5;124m'\u001b[39m\u001b[38;5;124mval_loss\u001b[39m\u001b[38;5;124m'\u001b[39m, factor\u001b[38;5;241m=\u001b[39m\u001b[38;5;241m0.2\u001b[39m,\n\u001b[1;32m      7\u001b[0m                               patience\u001b[38;5;241m=\u001b[39m\u001b[38;5;241m5\u001b[39m, min_lr\u001b[38;5;241m=\u001b[39m\u001b[38;5;241m1e-9\u001b[39m, verbose\u001b[38;5;241m=\u001b[39m\u001b[38;5;241m1\u001b[39m)\n\u001b[0;32m----> 8\u001b[0m history \u001b[38;5;241m=\u001b[39m \u001b[43mmodel\u001b[49m\u001b[38;5;241;43m.\u001b[39;49m\u001b[43mfit\u001b[49m\u001b[43m(\u001b[49m\n\u001b[1;32m      9\u001b[0m \u001b[43m    \u001b[49m\u001b[43mtraingen\u001b[49m\u001b[43m,\u001b[49m\u001b[43m            \u001b[49m\n\u001b[1;32m     10\u001b[0m \u001b[43m    \u001b[49m\u001b[43mepochs\u001b[49m\u001b[38;5;241;43m=\u001b[39;49m\u001b[38;5;241;43m250\u001b[39;49m\u001b[43m,\u001b[49m\u001b[43m          \u001b[49m\n\u001b[1;32m     11\u001b[0m \u001b[43m    \u001b[49m\u001b[43msteps_per_epoch\u001b[49m\u001b[38;5;241;43m=\u001b[39;49m\u001b[38;5;28;43mlen\u001b[39;49m\u001b[43m(\u001b[49m\u001b[43mcifar10_x_train\u001b[49m\u001b[43m)\u001b[49m\u001b[38;5;241;43m/\u001b[39;49m\u001b[38;5;241;43m/\u001b[39;49m\u001b[43mbatchsize\u001b[49m\u001b[43m,\u001b[49m\u001b[43m \u001b[49m\u001b[38;5;66;43;03m# necessary since generator loops infinitely\u001b[39;49;00m\n\u001b[1;32m     12\u001b[0m \u001b[43m    \u001b[49m\u001b[43mvalidation_data\u001b[49m\u001b[38;5;241;43m=\u001b[39;49m\u001b[43mvalgen\u001b[49m\u001b[43m,\u001b[49m\n\u001b[1;32m     13\u001b[0m \u001b[43m    \u001b[49m\u001b[43mvalidation_steps\u001b[49m\u001b[38;5;241;43m=\u001b[39;49m\u001b[38;5;28;43mlen\u001b[39;49m\u001b[43m(\u001b[49m\u001b[43mcifar10_x_val\u001b[49m\u001b[43m)\u001b[49m\u001b[38;5;241;43m/\u001b[39;49m\u001b[38;5;241;43m/\u001b[39;49m\u001b[43mbatchsize\u001b[49m\u001b[43m,\u001b[49m\u001b[43m  \u001b[49m\u001b[38;5;66;43;03m# necessary since generator loops infinitely\u001b[39;49;00m\n\u001b[1;32m     14\u001b[0m \u001b[43m    \u001b[49m\u001b[43mcallbacks\u001b[49m\u001b[38;5;241;43m=\u001b[39;49m\u001b[43m[\u001b[49m\u001b[43mearly_stopping\u001b[49m\u001b[43m,\u001b[49m\u001b[43m \u001b[49m\u001b[43mreduce_lr\u001b[49m\u001b[43m]\u001b[49m\u001b[43m,\u001b[49m\n\u001b[1;32m     15\u001b[0m \u001b[43m    \u001b[49m\u001b[43mverbose\u001b[49m\u001b[38;5;241;43m=\u001b[39;49m\u001b[38;5;241;43m1\u001b[39;49m\n\u001b[1;32m     16\u001b[0m \u001b[43m)\u001b[49m\n",
      "File \u001b[0;32m/opt/homebrew/lib/python3.9/site-packages/keras/src/utils/traceback_utils.py:117\u001b[0m, in \u001b[0;36mfilter_traceback.<locals>.error_handler\u001b[0;34m(*args, **kwargs)\u001b[0m\n\u001b[1;32m    115\u001b[0m filtered_tb \u001b[38;5;241m=\u001b[39m \u001b[38;5;28;01mNone\u001b[39;00m\n\u001b[1;32m    116\u001b[0m \u001b[38;5;28;01mtry\u001b[39;00m:\n\u001b[0;32m--> 117\u001b[0m     \u001b[38;5;28;01mreturn\u001b[39;00m \u001b[43mfn\u001b[49m\u001b[43m(\u001b[49m\u001b[38;5;241;43m*\u001b[39;49m\u001b[43margs\u001b[49m\u001b[43m,\u001b[49m\u001b[43m \u001b[49m\u001b[38;5;241;43m*\u001b[39;49m\u001b[38;5;241;43m*\u001b[39;49m\u001b[43mkwargs\u001b[49m\u001b[43m)\u001b[49m\n\u001b[1;32m    118\u001b[0m \u001b[38;5;28;01mexcept\u001b[39;00m \u001b[38;5;167;01mException\u001b[39;00m \u001b[38;5;28;01mas\u001b[39;00m e:\n\u001b[1;32m    119\u001b[0m     filtered_tb \u001b[38;5;241m=\u001b[39m _process_traceback_frames(e\u001b[38;5;241m.\u001b[39m__traceback__)\n",
      "File \u001b[0;32m/opt/homebrew/lib/python3.9/site-packages/keras/src/backend/tensorflow/trainer.py:314\u001b[0m, in \u001b[0;36mTensorFlowTrainer.fit\u001b[0;34m(self, x, y, batch_size, epochs, verbose, callbacks, validation_split, validation_data, shuffle, class_weight, sample_weight, initial_epoch, steps_per_epoch, validation_steps, validation_batch_size, validation_freq)\u001b[0m\n\u001b[1;32m    312\u001b[0m \u001b[38;5;28;01mfor\u001b[39;00m step, iterator \u001b[38;5;129;01min\u001b[39;00m epoch_iterator\u001b[38;5;241m.\u001b[39menumerate_epoch():\n\u001b[1;32m    313\u001b[0m     callbacks\u001b[38;5;241m.\u001b[39mon_train_batch_begin(step)\n\u001b[0;32m--> 314\u001b[0m     logs \u001b[38;5;241m=\u001b[39m \u001b[38;5;28;43mself\u001b[39;49m\u001b[38;5;241;43m.\u001b[39;49m\u001b[43mtrain_function\u001b[49m\u001b[43m(\u001b[49m\u001b[43miterator\u001b[49m\u001b[43m)\u001b[49m\n\u001b[1;32m    315\u001b[0m     logs \u001b[38;5;241m=\u001b[39m \u001b[38;5;28mself\u001b[39m\u001b[38;5;241m.\u001b[39m_pythonify_logs(logs)\n\u001b[1;32m    316\u001b[0m     callbacks\u001b[38;5;241m.\u001b[39mon_train_batch_end(step, logs)\n",
      "File \u001b[0;32m/opt/homebrew/lib/python3.9/site-packages/tensorflow/python/util/traceback_utils.py:150\u001b[0m, in \u001b[0;36mfilter_traceback.<locals>.error_handler\u001b[0;34m(*args, **kwargs)\u001b[0m\n\u001b[1;32m    148\u001b[0m filtered_tb \u001b[38;5;241m=\u001b[39m \u001b[38;5;28;01mNone\u001b[39;00m\n\u001b[1;32m    149\u001b[0m \u001b[38;5;28;01mtry\u001b[39;00m:\n\u001b[0;32m--> 150\u001b[0m   \u001b[38;5;28;01mreturn\u001b[39;00m \u001b[43mfn\u001b[49m\u001b[43m(\u001b[49m\u001b[38;5;241;43m*\u001b[39;49m\u001b[43margs\u001b[49m\u001b[43m,\u001b[49m\u001b[43m \u001b[49m\u001b[38;5;241;43m*\u001b[39;49m\u001b[38;5;241;43m*\u001b[39;49m\u001b[43mkwargs\u001b[49m\u001b[43m)\u001b[49m\n\u001b[1;32m    151\u001b[0m \u001b[38;5;28;01mexcept\u001b[39;00m \u001b[38;5;167;01mException\u001b[39;00m \u001b[38;5;28;01mas\u001b[39;00m e:\n\u001b[1;32m    152\u001b[0m   filtered_tb \u001b[38;5;241m=\u001b[39m _process_traceback_frames(e\u001b[38;5;241m.\u001b[39m__traceback__)\n",
      "File \u001b[0;32m/opt/homebrew/lib/python3.9/site-packages/tensorflow/python/eager/polymorphic_function/polymorphic_function.py:832\u001b[0m, in \u001b[0;36mFunction.__call__\u001b[0;34m(self, *args, **kwds)\u001b[0m\n\u001b[1;32m    829\u001b[0m compiler \u001b[38;5;241m=\u001b[39m \u001b[38;5;124m\"\u001b[39m\u001b[38;5;124mxla\u001b[39m\u001b[38;5;124m\"\u001b[39m \u001b[38;5;28;01mif\u001b[39;00m \u001b[38;5;28mself\u001b[39m\u001b[38;5;241m.\u001b[39m_jit_compile \u001b[38;5;28;01melse\u001b[39;00m \u001b[38;5;124m\"\u001b[39m\u001b[38;5;124mnonXla\u001b[39m\u001b[38;5;124m\"\u001b[39m\n\u001b[1;32m    831\u001b[0m \u001b[38;5;28;01mwith\u001b[39;00m OptionalXlaContext(\u001b[38;5;28mself\u001b[39m\u001b[38;5;241m.\u001b[39m_jit_compile):\n\u001b[0;32m--> 832\u001b[0m   result \u001b[38;5;241m=\u001b[39m \u001b[38;5;28;43mself\u001b[39;49m\u001b[38;5;241;43m.\u001b[39;49m\u001b[43m_call\u001b[49m\u001b[43m(\u001b[49m\u001b[38;5;241;43m*\u001b[39;49m\u001b[43margs\u001b[49m\u001b[43m,\u001b[49m\u001b[43m \u001b[49m\u001b[38;5;241;43m*\u001b[39;49m\u001b[38;5;241;43m*\u001b[39;49m\u001b[43mkwds\u001b[49m\u001b[43m)\u001b[49m\n\u001b[1;32m    834\u001b[0m new_tracing_count \u001b[38;5;241m=\u001b[39m \u001b[38;5;28mself\u001b[39m\u001b[38;5;241m.\u001b[39mexperimental_get_tracing_count()\n\u001b[1;32m    835\u001b[0m without_tracing \u001b[38;5;241m=\u001b[39m (tracing_count \u001b[38;5;241m==\u001b[39m new_tracing_count)\n",
      "File \u001b[0;32m/opt/homebrew/lib/python3.9/site-packages/tensorflow/python/eager/polymorphic_function/polymorphic_function.py:877\u001b[0m, in \u001b[0;36mFunction._call\u001b[0;34m(self, *args, **kwds)\u001b[0m\n\u001b[1;32m    874\u001b[0m \u001b[38;5;28mself\u001b[39m\u001b[38;5;241m.\u001b[39m_lock\u001b[38;5;241m.\u001b[39mrelease()\n\u001b[1;32m    875\u001b[0m \u001b[38;5;66;03m# In this case we have not created variables on the first call. So we can\u001b[39;00m\n\u001b[1;32m    876\u001b[0m \u001b[38;5;66;03m# run the first trace but we should fail if variables are created.\u001b[39;00m\n\u001b[0;32m--> 877\u001b[0m results \u001b[38;5;241m=\u001b[39m \u001b[43mtracing_compilation\u001b[49m\u001b[38;5;241;43m.\u001b[39;49m\u001b[43mcall_function\u001b[49m\u001b[43m(\u001b[49m\n\u001b[1;32m    878\u001b[0m \u001b[43m    \u001b[49m\u001b[43margs\u001b[49m\u001b[43m,\u001b[49m\u001b[43m \u001b[49m\u001b[43mkwds\u001b[49m\u001b[43m,\u001b[49m\u001b[43m \u001b[49m\u001b[38;5;28;43mself\u001b[39;49m\u001b[38;5;241;43m.\u001b[39;49m\u001b[43m_variable_creation_config\u001b[49m\n\u001b[1;32m    879\u001b[0m \u001b[43m\u001b[49m\u001b[43m)\u001b[49m\n\u001b[1;32m    880\u001b[0m \u001b[38;5;28;01mif\u001b[39;00m \u001b[38;5;28mself\u001b[39m\u001b[38;5;241m.\u001b[39m_created_variables:\n\u001b[1;32m    881\u001b[0m   \u001b[38;5;28;01mraise\u001b[39;00m \u001b[38;5;167;01mValueError\u001b[39;00m(\u001b[38;5;124m\"\u001b[39m\u001b[38;5;124mCreating variables on a non-first call to a function\u001b[39m\u001b[38;5;124m\"\u001b[39m\n\u001b[1;32m    882\u001b[0m                    \u001b[38;5;124m\"\u001b[39m\u001b[38;5;124m decorated with tf.function.\u001b[39m\u001b[38;5;124m\"\u001b[39m)\n",
      "File \u001b[0;32m/opt/homebrew/lib/python3.9/site-packages/tensorflow/python/eager/polymorphic_function/tracing_compilation.py:139\u001b[0m, in \u001b[0;36mcall_function\u001b[0;34m(args, kwargs, tracing_options)\u001b[0m\n\u001b[1;32m    137\u001b[0m bound_args \u001b[38;5;241m=\u001b[39m function\u001b[38;5;241m.\u001b[39mfunction_type\u001b[38;5;241m.\u001b[39mbind(\u001b[38;5;241m*\u001b[39margs, \u001b[38;5;241m*\u001b[39m\u001b[38;5;241m*\u001b[39mkwargs)\n\u001b[1;32m    138\u001b[0m flat_inputs \u001b[38;5;241m=\u001b[39m function\u001b[38;5;241m.\u001b[39mfunction_type\u001b[38;5;241m.\u001b[39munpack_inputs(bound_args)\n\u001b[0;32m--> 139\u001b[0m \u001b[38;5;28;01mreturn\u001b[39;00m \u001b[43mfunction\u001b[49m\u001b[38;5;241;43m.\u001b[39;49m\u001b[43m_call_flat\u001b[49m\u001b[43m(\u001b[49m\u001b[43m  \u001b[49m\u001b[38;5;66;43;03m# pylint: disable=protected-access\u001b[39;49;00m\n\u001b[1;32m    140\u001b[0m \u001b[43m    \u001b[49m\u001b[43mflat_inputs\u001b[49m\u001b[43m,\u001b[49m\u001b[43m \u001b[49m\u001b[43mcaptured_inputs\u001b[49m\u001b[38;5;241;43m=\u001b[39;49m\u001b[43mfunction\u001b[49m\u001b[38;5;241;43m.\u001b[39;49m\u001b[43mcaptured_inputs\u001b[49m\n\u001b[1;32m    141\u001b[0m \u001b[43m\u001b[49m\u001b[43m)\u001b[49m\n",
      "File \u001b[0;32m/opt/homebrew/lib/python3.9/site-packages/tensorflow/python/eager/polymorphic_function/concrete_function.py:1323\u001b[0m, in \u001b[0;36mConcreteFunction._call_flat\u001b[0;34m(self, tensor_inputs, captured_inputs)\u001b[0m\n\u001b[1;32m   1319\u001b[0m possible_gradient_type \u001b[38;5;241m=\u001b[39m gradients_util\u001b[38;5;241m.\u001b[39mPossibleTapeGradientTypes(args)\n\u001b[1;32m   1320\u001b[0m \u001b[38;5;28;01mif\u001b[39;00m (possible_gradient_type \u001b[38;5;241m==\u001b[39m gradients_util\u001b[38;5;241m.\u001b[39mPOSSIBLE_GRADIENT_TYPES_NONE\n\u001b[1;32m   1321\u001b[0m     \u001b[38;5;129;01mand\u001b[39;00m executing_eagerly):\n\u001b[1;32m   1322\u001b[0m   \u001b[38;5;66;03m# No tape is watching; skip to running the function.\u001b[39;00m\n\u001b[0;32m-> 1323\u001b[0m   \u001b[38;5;28;01mreturn\u001b[39;00m \u001b[38;5;28;43mself\u001b[39;49m\u001b[38;5;241;43m.\u001b[39;49m\u001b[43m_inference_function\u001b[49m\u001b[38;5;241;43m.\u001b[39;49m\u001b[43mcall_preflattened\u001b[49m\u001b[43m(\u001b[49m\u001b[43margs\u001b[49m\u001b[43m)\u001b[49m\n\u001b[1;32m   1324\u001b[0m forward_backward \u001b[38;5;241m=\u001b[39m \u001b[38;5;28mself\u001b[39m\u001b[38;5;241m.\u001b[39m_select_forward_and_backward_functions(\n\u001b[1;32m   1325\u001b[0m     args,\n\u001b[1;32m   1326\u001b[0m     possible_gradient_type,\n\u001b[1;32m   1327\u001b[0m     executing_eagerly)\n\u001b[1;32m   1328\u001b[0m forward_function, args_with_tangents \u001b[38;5;241m=\u001b[39m forward_backward\u001b[38;5;241m.\u001b[39mforward()\n",
      "File \u001b[0;32m/opt/homebrew/lib/python3.9/site-packages/tensorflow/python/eager/polymorphic_function/atomic_function.py:216\u001b[0m, in \u001b[0;36mAtomicFunction.call_preflattened\u001b[0;34m(self, args)\u001b[0m\n\u001b[1;32m    214\u001b[0m \u001b[38;5;28;01mdef\u001b[39;00m \u001b[38;5;21mcall_preflattened\u001b[39m(\u001b[38;5;28mself\u001b[39m, args: Sequence[core\u001b[38;5;241m.\u001b[39mTensor]) \u001b[38;5;241m-\u001b[39m\u001b[38;5;241m>\u001b[39m Any:\n\u001b[1;32m    215\u001b[0m \u001b[38;5;250m  \u001b[39m\u001b[38;5;124;03m\"\"\"Calls with flattened tensor inputs and returns the structured output.\"\"\"\u001b[39;00m\n\u001b[0;32m--> 216\u001b[0m   flat_outputs \u001b[38;5;241m=\u001b[39m \u001b[38;5;28;43mself\u001b[39;49m\u001b[38;5;241;43m.\u001b[39;49m\u001b[43mcall_flat\u001b[49m\u001b[43m(\u001b[49m\u001b[38;5;241;43m*\u001b[39;49m\u001b[43margs\u001b[49m\u001b[43m)\u001b[49m\n\u001b[1;32m    217\u001b[0m   \u001b[38;5;28;01mreturn\u001b[39;00m \u001b[38;5;28mself\u001b[39m\u001b[38;5;241m.\u001b[39mfunction_type\u001b[38;5;241m.\u001b[39mpack_output(flat_outputs)\n",
      "File \u001b[0;32m/opt/homebrew/lib/python3.9/site-packages/tensorflow/python/eager/polymorphic_function/atomic_function.py:251\u001b[0m, in \u001b[0;36mAtomicFunction.call_flat\u001b[0;34m(self, *args)\u001b[0m\n\u001b[1;32m    249\u001b[0m \u001b[38;5;28;01mwith\u001b[39;00m record\u001b[38;5;241m.\u001b[39mstop_recording():\n\u001b[1;32m    250\u001b[0m   \u001b[38;5;28;01mif\u001b[39;00m \u001b[38;5;28mself\u001b[39m\u001b[38;5;241m.\u001b[39m_bound_context\u001b[38;5;241m.\u001b[39mexecuting_eagerly():\n\u001b[0;32m--> 251\u001b[0m     outputs \u001b[38;5;241m=\u001b[39m \u001b[38;5;28;43mself\u001b[39;49m\u001b[38;5;241;43m.\u001b[39;49m\u001b[43m_bound_context\u001b[49m\u001b[38;5;241;43m.\u001b[39;49m\u001b[43mcall_function\u001b[49m\u001b[43m(\u001b[49m\n\u001b[1;32m    252\u001b[0m \u001b[43m        \u001b[49m\u001b[38;5;28;43mself\u001b[39;49m\u001b[38;5;241;43m.\u001b[39;49m\u001b[43mname\u001b[49m\u001b[43m,\u001b[49m\n\u001b[1;32m    253\u001b[0m \u001b[43m        \u001b[49m\u001b[38;5;28;43mlist\u001b[39;49m\u001b[43m(\u001b[49m\u001b[43margs\u001b[49m\u001b[43m)\u001b[49m\u001b[43m,\u001b[49m\n\u001b[1;32m    254\u001b[0m \u001b[43m        \u001b[49m\u001b[38;5;28;43mlen\u001b[39;49m\u001b[43m(\u001b[49m\u001b[38;5;28;43mself\u001b[39;49m\u001b[38;5;241;43m.\u001b[39;49m\u001b[43mfunction_type\u001b[49m\u001b[38;5;241;43m.\u001b[39;49m\u001b[43mflat_outputs\u001b[49m\u001b[43m)\u001b[49m\u001b[43m,\u001b[49m\n\u001b[1;32m    255\u001b[0m \u001b[43m    \u001b[49m\u001b[43m)\u001b[49m\n\u001b[1;32m    256\u001b[0m   \u001b[38;5;28;01melse\u001b[39;00m:\n\u001b[1;32m    257\u001b[0m     outputs \u001b[38;5;241m=\u001b[39m make_call_op_in_graph(\n\u001b[1;32m    258\u001b[0m         \u001b[38;5;28mself\u001b[39m,\n\u001b[1;32m    259\u001b[0m         \u001b[38;5;28mlist\u001b[39m(args),\n\u001b[1;32m    260\u001b[0m         \u001b[38;5;28mself\u001b[39m\u001b[38;5;241m.\u001b[39m_bound_context\u001b[38;5;241m.\u001b[39mfunction_call_options\u001b[38;5;241m.\u001b[39mas_attrs(),\n\u001b[1;32m    261\u001b[0m     )\n",
      "File \u001b[0;32m/opt/homebrew/lib/python3.9/site-packages/tensorflow/python/eager/context.py:1486\u001b[0m, in \u001b[0;36mContext.call_function\u001b[0;34m(self, name, tensor_inputs, num_outputs)\u001b[0m\n\u001b[1;32m   1484\u001b[0m cancellation_context \u001b[38;5;241m=\u001b[39m cancellation\u001b[38;5;241m.\u001b[39mcontext()\n\u001b[1;32m   1485\u001b[0m \u001b[38;5;28;01mif\u001b[39;00m cancellation_context \u001b[38;5;129;01mis\u001b[39;00m \u001b[38;5;28;01mNone\u001b[39;00m:\n\u001b[0;32m-> 1486\u001b[0m   outputs \u001b[38;5;241m=\u001b[39m \u001b[43mexecute\u001b[49m\u001b[38;5;241;43m.\u001b[39;49m\u001b[43mexecute\u001b[49m\u001b[43m(\u001b[49m\n\u001b[1;32m   1487\u001b[0m \u001b[43m      \u001b[49m\u001b[43mname\u001b[49m\u001b[38;5;241;43m.\u001b[39;49m\u001b[43mdecode\u001b[49m\u001b[43m(\u001b[49m\u001b[38;5;124;43m\"\u001b[39;49m\u001b[38;5;124;43mutf-8\u001b[39;49m\u001b[38;5;124;43m\"\u001b[39;49m\u001b[43m)\u001b[49m\u001b[43m,\u001b[49m\n\u001b[1;32m   1488\u001b[0m \u001b[43m      \u001b[49m\u001b[43mnum_outputs\u001b[49m\u001b[38;5;241;43m=\u001b[39;49m\u001b[43mnum_outputs\u001b[49m\u001b[43m,\u001b[49m\n\u001b[1;32m   1489\u001b[0m \u001b[43m      \u001b[49m\u001b[43minputs\u001b[49m\u001b[38;5;241;43m=\u001b[39;49m\u001b[43mtensor_inputs\u001b[49m\u001b[43m,\u001b[49m\n\u001b[1;32m   1490\u001b[0m \u001b[43m      \u001b[49m\u001b[43mattrs\u001b[49m\u001b[38;5;241;43m=\u001b[39;49m\u001b[43mattrs\u001b[49m\u001b[43m,\u001b[49m\n\u001b[1;32m   1491\u001b[0m \u001b[43m      \u001b[49m\u001b[43mctx\u001b[49m\u001b[38;5;241;43m=\u001b[39;49m\u001b[38;5;28;43mself\u001b[39;49m\u001b[43m,\u001b[49m\n\u001b[1;32m   1492\u001b[0m \u001b[43m  \u001b[49m\u001b[43m)\u001b[49m\n\u001b[1;32m   1493\u001b[0m \u001b[38;5;28;01melse\u001b[39;00m:\n\u001b[1;32m   1494\u001b[0m   outputs \u001b[38;5;241m=\u001b[39m execute\u001b[38;5;241m.\u001b[39mexecute_with_cancellation(\n\u001b[1;32m   1495\u001b[0m       name\u001b[38;5;241m.\u001b[39mdecode(\u001b[38;5;124m\"\u001b[39m\u001b[38;5;124mutf-8\u001b[39m\u001b[38;5;124m\"\u001b[39m),\n\u001b[1;32m   1496\u001b[0m       num_outputs\u001b[38;5;241m=\u001b[39mnum_outputs,\n\u001b[0;32m   (...)\u001b[0m\n\u001b[1;32m   1500\u001b[0m       cancellation_manager\u001b[38;5;241m=\u001b[39mcancellation_context,\n\u001b[1;32m   1501\u001b[0m   )\n",
      "File \u001b[0;32m/opt/homebrew/lib/python3.9/site-packages/tensorflow/python/eager/execute.py:53\u001b[0m, in \u001b[0;36mquick_execute\u001b[0;34m(op_name, num_outputs, inputs, attrs, ctx, name)\u001b[0m\n\u001b[1;32m     51\u001b[0m \u001b[38;5;28;01mtry\u001b[39;00m:\n\u001b[1;32m     52\u001b[0m   ctx\u001b[38;5;241m.\u001b[39mensure_initialized()\n\u001b[0;32m---> 53\u001b[0m   tensors \u001b[38;5;241m=\u001b[39m \u001b[43mpywrap_tfe\u001b[49m\u001b[38;5;241;43m.\u001b[39;49m\u001b[43mTFE_Py_Execute\u001b[49m\u001b[43m(\u001b[49m\u001b[43mctx\u001b[49m\u001b[38;5;241;43m.\u001b[39;49m\u001b[43m_handle\u001b[49m\u001b[43m,\u001b[49m\u001b[43m \u001b[49m\u001b[43mdevice_name\u001b[49m\u001b[43m,\u001b[49m\u001b[43m \u001b[49m\u001b[43mop_name\u001b[49m\u001b[43m,\u001b[49m\n\u001b[1;32m     54\u001b[0m \u001b[43m                                      \u001b[49m\u001b[43minputs\u001b[49m\u001b[43m,\u001b[49m\u001b[43m \u001b[49m\u001b[43mattrs\u001b[49m\u001b[43m,\u001b[49m\u001b[43m \u001b[49m\u001b[43mnum_outputs\u001b[49m\u001b[43m)\u001b[49m\n\u001b[1;32m     55\u001b[0m \u001b[38;5;28;01mexcept\u001b[39;00m core\u001b[38;5;241m.\u001b[39m_NotOkStatusException \u001b[38;5;28;01mas\u001b[39;00m e:\n\u001b[1;32m     56\u001b[0m   \u001b[38;5;28;01mif\u001b[39;00m name \u001b[38;5;129;01mis\u001b[39;00m \u001b[38;5;129;01mnot\u001b[39;00m \u001b[38;5;28;01mNone\u001b[39;00m:\n",
      "\u001b[0;31mKeyboardInterrupt\u001b[0m: "
     ]
    }
   ],
   "source": [
    "early_stopping = keras.callbacks.EarlyStopping(monitor='val_loss',  # Track the validation loss\n",
    "                               patience=20,         # Number of epochs to wait after the last improvement\n",
    "                               mode='min',         # Stop when the value stops decreasing (minimization)\n",
    "                               restore_best_weights=True,  # Restore the best weights when stopping\n",
    "                               verbose=1)\n",
    "reduce_lr = keras.callbacks.ReduceLROnPlateau(monitor='val_loss', factor=0.2,\n",
    "                              patience=5, min_lr=1e-9, verbose=1)\n",
    "history = model.fit(\n",
    "    traingenlarge,            \n",
    "    epochs=250,          \n",
    "    steps_per_epoch=len(cifar10_x_train)//batchsize, # necessary since generator loops infinitely\n",
    "    validation_data=valgenlarge,\n",
    "    validation_steps=len(cifar10_x_val)//batchsize,  # necessary since generator loops infinitely\n",
    "    callbacks=[early_stopping, reduce_lr],\n",
    "    verbose=1\n",
    ")"
   ]
  },
  {
   "cell_type": "markdown",
   "metadata": {},
   "source": [
    "# ** ---------------------------------------- ** ** ---------------------------------------- **"
   ]
  },
  {
   "cell_type": "code",
   "execution_count": 44,
   "metadata": {},
   "outputs": [
    {
     "data": {
      "text/html": [
       "<pre style=\"white-space:pre;overflow-x:auto;line-height:normal;font-family:Menlo,'DejaVu Sans Mono',consolas,'Courier New',monospace\"><span style=\"font-weight: bold\">Model: \"ACCN\"</span>\n",
       "</pre>\n"
      ],
      "text/plain": [
       "\u001b[1mModel: \"ACCN\"\u001b[0m\n"
      ]
     },
     "metadata": {},
     "output_type": "display_data"
    },
    {
     "data": {
      "text/html": [
       "<pre style=\"white-space:pre;overflow-x:auto;line-height:normal;font-family:Menlo,'DejaVu Sans Mono',consolas,'Courier New',monospace\">┏━━━━━━━━━━━━━━━━━━━━━┳━━━━━━━━━━━━━━━━━━━┳━━━━━━━━━━━━┳━━━━━━━━━━━━━━━━━━━┓\n",
       "┃<span style=\"font-weight: bold\"> Layer (type)        </span>┃<span style=\"font-weight: bold\"> Output Shape      </span>┃<span style=\"font-weight: bold\">    Param # </span>┃<span style=\"font-weight: bold\"> Connected to      </span>┃\n",
       "┡━━━━━━━━━━━━━━━━━━━━━╇━━━━━━━━━━━━━━━━━━━╇━━━━━━━━━━━━╇━━━━━━━━━━━━━━━━━━━┩\n",
       "│ input_layer         │ (<span style=\"color: #00d7ff; text-decoration-color: #00d7ff\">None</span>, <span style=\"color: #00af00; text-decoration-color: #00af00\">32</span>, <span style=\"color: #00af00; text-decoration-color: #00af00\">32</span>, <span style=\"color: #00af00; text-decoration-color: #00af00\">3</span>) │          <span style=\"color: #00af00; text-decoration-color: #00af00\">0</span> │ -                 │\n",
       "│ (<span style=\"color: #0087ff; text-decoration-color: #0087ff\">InputLayer</span>)        │                   │            │                   │\n",
       "├─────────────────────┼───────────────────┼────────────┼───────────────────┤\n",
       "│ conv2d (<span style=\"color: #0087ff; text-decoration-color: #0087ff\">Conv2D</span>)     │ (<span style=\"color: #00d7ff; text-decoration-color: #00d7ff\">None</span>, <span style=\"color: #00af00; text-decoration-color: #00af00\">30</span>, <span style=\"color: #00af00; text-decoration-color: #00af00\">30</span>,    │      <span style=\"color: #00af00; text-decoration-color: #00af00\">2,688</span> │ input_layer[<span style=\"color: #00af00; text-decoration-color: #00af00\">0</span>][<span style=\"color: #00af00; text-decoration-color: #00af00\">0</span>] │\n",
       "│                     │ <span style=\"color: #00af00; text-decoration-color: #00af00\">96</span>)               │            │                   │\n",
       "├─────────────────────┼───────────────────┼────────────┼───────────────────┤\n",
       "│ batch_normalization │ (<span style=\"color: #00d7ff; text-decoration-color: #00d7ff\">None</span>, <span style=\"color: #00af00; text-decoration-color: #00af00\">30</span>, <span style=\"color: #00af00; text-decoration-color: #00af00\">30</span>,    │        <span style=\"color: #00af00; text-decoration-color: #00af00\">384</span> │ conv2d[<span style=\"color: #00af00; text-decoration-color: #00af00\">0</span>][<span style=\"color: #00af00; text-decoration-color: #00af00\">0</span>]      │\n",
       "│ (<span style=\"color: #0087ff; text-decoration-color: #0087ff\">BatchNormalizatio…</span> │ <span style=\"color: #00af00; text-decoration-color: #00af00\">96</span>)               │            │                   │\n",
       "├─────────────────────┼───────────────────┼────────────┼───────────────────┤\n",
       "│ conv2d_1 (<span style=\"color: #0087ff; text-decoration-color: #0087ff\">Conv2D</span>)   │ (<span style=\"color: #00d7ff; text-decoration-color: #00d7ff\">None</span>, <span style=\"color: #00af00; text-decoration-color: #00af00\">28</span>, <span style=\"color: #00af00; text-decoration-color: #00af00\">28</span>,    │     <span style=\"color: #00af00; text-decoration-color: #00af00\">83,040</span> │ batch_normalizat… │\n",
       "│                     │ <span style=\"color: #00af00; text-decoration-color: #00af00\">96</span>)               │            │                   │\n",
       "├─────────────────────┼───────────────────┼────────────┼───────────────────┤\n",
       "│ batch_normalizatio… │ (<span style=\"color: #00d7ff; text-decoration-color: #00d7ff\">None</span>, <span style=\"color: #00af00; text-decoration-color: #00af00\">28</span>, <span style=\"color: #00af00; text-decoration-color: #00af00\">28</span>,    │        <span style=\"color: #00af00; text-decoration-color: #00af00\">384</span> │ conv2d_1[<span style=\"color: #00af00; text-decoration-color: #00af00\">0</span>][<span style=\"color: #00af00; text-decoration-color: #00af00\">0</span>]    │\n",
       "│ (<span style=\"color: #0087ff; text-decoration-color: #0087ff\">BatchNormalizatio…</span> │ <span style=\"color: #00af00; text-decoration-color: #00af00\">96</span>)               │            │                   │\n",
       "├─────────────────────┼───────────────────┼────────────┼───────────────────┤\n",
       "│ conv2d_2 (<span style=\"color: #0087ff; text-decoration-color: #0087ff\">Conv2D</span>)   │ (<span style=\"color: #00d7ff; text-decoration-color: #00d7ff\">None</span>, <span style=\"color: #00af00; text-decoration-color: #00af00\">13</span>, <span style=\"color: #00af00; text-decoration-color: #00af00\">13</span>,    │     <span style=\"color: #00af00; text-decoration-color: #00af00\">83,040</span> │ batch_normalizat… │\n",
       "│                     │ <span style=\"color: #00af00; text-decoration-color: #00af00\">96</span>)               │            │                   │\n",
       "├─────────────────────┼───────────────────┼────────────┼───────────────────┤\n",
       "│ batch_normalizatio… │ (<span style=\"color: #00d7ff; text-decoration-color: #00d7ff\">None</span>, <span style=\"color: #00af00; text-decoration-color: #00af00\">13</span>, <span style=\"color: #00af00; text-decoration-color: #00af00\">13</span>,    │        <span style=\"color: #00af00; text-decoration-color: #00af00\">384</span> │ conv2d_2[<span style=\"color: #00af00; text-decoration-color: #00af00\">0</span>][<span style=\"color: #00af00; text-decoration-color: #00af00\">0</span>]    │\n",
       "│ (<span style=\"color: #0087ff; text-decoration-color: #0087ff\">BatchNormalizatio…</span> │ <span style=\"color: #00af00; text-decoration-color: #00af00\">96</span>)               │            │                   │\n",
       "├─────────────────────┼───────────────────┼────────────┼───────────────────┤\n",
       "│ conv2d_3 (<span style=\"color: #0087ff; text-decoration-color: #0087ff\">Conv2D</span>)   │ (<span style=\"color: #00d7ff; text-decoration-color: #00d7ff\">None</span>, <span style=\"color: #00af00; text-decoration-color: #00af00\">11</span>, <span style=\"color: #00af00; text-decoration-color: #00af00\">11</span>,    │    <span style=\"color: #00af00; text-decoration-color: #00af00\">166,080</span> │ batch_normalizat… │\n",
       "│                     │ <span style=\"color: #00af00; text-decoration-color: #00af00\">192</span>)              │            │                   │\n",
       "├─────────────────────┼───────────────────┼────────────┼───────────────────┤\n",
       "│ batch_normalizatio… │ (<span style=\"color: #00d7ff; text-decoration-color: #00d7ff\">None</span>, <span style=\"color: #00af00; text-decoration-color: #00af00\">11</span>, <span style=\"color: #00af00; text-decoration-color: #00af00\">11</span>,    │        <span style=\"color: #00af00; text-decoration-color: #00af00\">768</span> │ conv2d_3[<span style=\"color: #00af00; text-decoration-color: #00af00\">0</span>][<span style=\"color: #00af00; text-decoration-color: #00af00\">0</span>]    │\n",
       "│ (<span style=\"color: #0087ff; text-decoration-color: #0087ff\">BatchNormalizatio…</span> │ <span style=\"color: #00af00; text-decoration-color: #00af00\">192</span>)              │            │                   │\n",
       "├─────────────────────┼───────────────────┼────────────┼───────────────────┤\n",
       "│ conv2d_4 (<span style=\"color: #0087ff; text-decoration-color: #0087ff\">Conv2D</span>)   │ (<span style=\"color: #00d7ff; text-decoration-color: #00d7ff\">None</span>, <span style=\"color: #00af00; text-decoration-color: #00af00\">9</span>, <span style=\"color: #00af00; text-decoration-color: #00af00\">9</span>, <span style=\"color: #00af00; text-decoration-color: #00af00\">192</span>) │    <span style=\"color: #00af00; text-decoration-color: #00af00\">331,968</span> │ batch_normalizat… │\n",
       "├─────────────────────┼───────────────────┼────────────┼───────────────────┤\n",
       "│ batch_normalizatio… │ (<span style=\"color: #00d7ff; text-decoration-color: #00d7ff\">None</span>, <span style=\"color: #00af00; text-decoration-color: #00af00\">9</span>, <span style=\"color: #00af00; text-decoration-color: #00af00\">9</span>, <span style=\"color: #00af00; text-decoration-color: #00af00\">192</span>) │        <span style=\"color: #00af00; text-decoration-color: #00af00\">768</span> │ conv2d_4[<span style=\"color: #00af00; text-decoration-color: #00af00\">0</span>][<span style=\"color: #00af00; text-decoration-color: #00af00\">0</span>]    │\n",
       "│ (<span style=\"color: #0087ff; text-decoration-color: #0087ff\">BatchNormalizatio…</span> │                   │            │                   │\n",
       "├─────────────────────┼───────────────────┼────────────┼───────────────────┤\n",
       "│ conv2d_5 (<span style=\"color: #0087ff; text-decoration-color: #0087ff\">Conv2D</span>)   │ (<span style=\"color: #00d7ff; text-decoration-color: #00d7ff\">None</span>, <span style=\"color: #00af00; text-decoration-color: #00af00\">4</span>, <span style=\"color: #00af00; text-decoration-color: #00af00\">4</span>, <span style=\"color: #00af00; text-decoration-color: #00af00\">192</span>) │    <span style=\"color: #00af00; text-decoration-color: #00af00\">331,968</span> │ batch_normalizat… │\n",
       "├─────────────────────┼───────────────────┼────────────┼───────────────────┤\n",
       "│ batch_normalizatio… │ (<span style=\"color: #00d7ff; text-decoration-color: #00d7ff\">None</span>, <span style=\"color: #00af00; text-decoration-color: #00af00\">4</span>, <span style=\"color: #00af00; text-decoration-color: #00af00\">4</span>, <span style=\"color: #00af00; text-decoration-color: #00af00\">192</span>) │        <span style=\"color: #00af00; text-decoration-color: #00af00\">768</span> │ conv2d_5[<span style=\"color: #00af00; text-decoration-color: #00af00\">0</span>][<span style=\"color: #00af00; text-decoration-color: #00af00\">0</span>]    │\n",
       "│ (<span style=\"color: #0087ff; text-decoration-color: #0087ff\">BatchNormalizatio…</span> │                   │            │                   │\n",
       "├─────────────────────┼───────────────────┼────────────┼───────────────────┤\n",
       "│ conv2d_6 (<span style=\"color: #0087ff; text-decoration-color: #0087ff\">Conv2D</span>)   │ (<span style=\"color: #00d7ff; text-decoration-color: #00d7ff\">None</span>, <span style=\"color: #00af00; text-decoration-color: #00af00\">2</span>, <span style=\"color: #00af00; text-decoration-color: #00af00\">2</span>, <span style=\"color: #00af00; text-decoration-color: #00af00\">192</span>) │    <span style=\"color: #00af00; text-decoration-color: #00af00\">331,968</span> │ batch_normalizat… │\n",
       "├─────────────────────┼───────────────────┼────────────┼───────────────────┤\n",
       "│ batch_normalizatio… │ (<span style=\"color: #00d7ff; text-decoration-color: #00d7ff\">None</span>, <span style=\"color: #00af00; text-decoration-color: #00af00\">2</span>, <span style=\"color: #00af00; text-decoration-color: #00af00\">2</span>, <span style=\"color: #00af00; text-decoration-color: #00af00\">192</span>) │        <span style=\"color: #00af00; text-decoration-color: #00af00\">768</span> │ conv2d_6[<span style=\"color: #00af00; text-decoration-color: #00af00\">0</span>][<span style=\"color: #00af00; text-decoration-color: #00af00\">0</span>]    │\n",
       "│ (<span style=\"color: #0087ff; text-decoration-color: #0087ff\">BatchNormalizatio…</span> │                   │            │                   │\n",
       "├─────────────────────┼───────────────────┼────────────┼───────────────────┤\n",
       "│ conv2d_7 (<span style=\"color: #0087ff; text-decoration-color: #0087ff\">Conv2D</span>)   │ (<span style=\"color: #00d7ff; text-decoration-color: #00d7ff\">None</span>, <span style=\"color: #00af00; text-decoration-color: #00af00\">2</span>, <span style=\"color: #00af00; text-decoration-color: #00af00\">2</span>, <span style=\"color: #00af00; text-decoration-color: #00af00\">192</span>) │     <span style=\"color: #00af00; text-decoration-color: #00af00\">37,056</span> │ batch_normalizat… │\n",
       "├─────────────────────┼───────────────────┼────────────┼───────────────────┤\n",
       "│ batch_normalizatio… │ (<span style=\"color: #00d7ff; text-decoration-color: #00d7ff\">None</span>, <span style=\"color: #00af00; text-decoration-color: #00af00\">2</span>, <span style=\"color: #00af00; text-decoration-color: #00af00\">2</span>, <span style=\"color: #00af00; text-decoration-color: #00af00\">192</span>) │        <span style=\"color: #00af00; text-decoration-color: #00af00\">768</span> │ conv2d_7[<span style=\"color: #00af00; text-decoration-color: #00af00\">0</span>][<span style=\"color: #00af00; text-decoration-color: #00af00\">0</span>]    │\n",
       "│ (<span style=\"color: #0087ff; text-decoration-color: #0087ff\">BatchNormalizatio…</span> │                   │            │                   │\n",
       "├─────────────────────┼───────────────────┼────────────┼───────────────────┤\n",
       "│ global_average_poo… │ (<span style=\"color: #00d7ff; text-decoration-color: #00d7ff\">None</span>, <span style=\"color: #00af00; text-decoration-color: #00af00\">192</span>)       │          <span style=\"color: #00af00; text-decoration-color: #00af00\">0</span> │ batch_normalizat… │\n",
       "│ (<span style=\"color: #0087ff; text-decoration-color: #0087ff\">GlobalAveragePool…</span> │                   │            │                   │\n",
       "├─────────────────────┼───────────────────┼────────────┼───────────────────┤\n",
       "│ output1 (<span style=\"color: #0087ff; text-decoration-color: #0087ff\">Dense</span>)     │ (<span style=\"color: #00d7ff; text-decoration-color: #00d7ff\">None</span>, <span style=\"color: #00af00; text-decoration-color: #00af00\">5</span>)         │        <span style=\"color: #00af00; text-decoration-color: #00af00\">965</span> │ global_average_p… │\n",
       "├─────────────────────┼───────────────────┼────────────┼───────────────────┤\n",
       "│ output2 (<span style=\"color: #0087ff; text-decoration-color: #0087ff\">Dense</span>)     │ (<span style=\"color: #00d7ff; text-decoration-color: #00d7ff\">None</span>, <span style=\"color: #00af00; text-decoration-color: #00af00\">5</span>)         │        <span style=\"color: #00af00; text-decoration-color: #00af00\">965</span> │ global_average_p… │\n",
       "└─────────────────────┴───────────────────┴────────────┴───────────────────┘\n",
       "</pre>\n"
      ],
      "text/plain": [
       "┏━━━━━━━━━━━━━━━━━━━━━┳━━━━━━━━━━━━━━━━━━━┳━━━━━━━━━━━━┳━━━━━━━━━━━━━━━━━━━┓\n",
       "┃\u001b[1m \u001b[0m\u001b[1mLayer (type)       \u001b[0m\u001b[1m \u001b[0m┃\u001b[1m \u001b[0m\u001b[1mOutput Shape     \u001b[0m\u001b[1m \u001b[0m┃\u001b[1m \u001b[0m\u001b[1m   Param #\u001b[0m\u001b[1m \u001b[0m┃\u001b[1m \u001b[0m\u001b[1mConnected to     \u001b[0m\u001b[1m \u001b[0m┃\n",
       "┡━━━━━━━━━━━━━━━━━━━━━╇━━━━━━━━━━━━━━━━━━━╇━━━━━━━━━━━━╇━━━━━━━━━━━━━━━━━━━┩\n",
       "│ input_layer         │ (\u001b[38;5;45mNone\u001b[0m, \u001b[38;5;34m32\u001b[0m, \u001b[38;5;34m32\u001b[0m, \u001b[38;5;34m3\u001b[0m) │          \u001b[38;5;34m0\u001b[0m │ -                 │\n",
       "│ (\u001b[38;5;33mInputLayer\u001b[0m)        │                   │            │                   │\n",
       "├─────────────────────┼───────────────────┼────────────┼───────────────────┤\n",
       "│ conv2d (\u001b[38;5;33mConv2D\u001b[0m)     │ (\u001b[38;5;45mNone\u001b[0m, \u001b[38;5;34m30\u001b[0m, \u001b[38;5;34m30\u001b[0m,    │      \u001b[38;5;34m2,688\u001b[0m │ input_layer[\u001b[38;5;34m0\u001b[0m][\u001b[38;5;34m0\u001b[0m] │\n",
       "│                     │ \u001b[38;5;34m96\u001b[0m)               │            │                   │\n",
       "├─────────────────────┼───────────────────┼────────────┼───────────────────┤\n",
       "│ batch_normalization │ (\u001b[38;5;45mNone\u001b[0m, \u001b[38;5;34m30\u001b[0m, \u001b[38;5;34m30\u001b[0m,    │        \u001b[38;5;34m384\u001b[0m │ conv2d[\u001b[38;5;34m0\u001b[0m][\u001b[38;5;34m0\u001b[0m]      │\n",
       "│ (\u001b[38;5;33mBatchNormalizatio…\u001b[0m │ \u001b[38;5;34m96\u001b[0m)               │            │                   │\n",
       "├─────────────────────┼───────────────────┼────────────┼───────────────────┤\n",
       "│ conv2d_1 (\u001b[38;5;33mConv2D\u001b[0m)   │ (\u001b[38;5;45mNone\u001b[0m, \u001b[38;5;34m28\u001b[0m, \u001b[38;5;34m28\u001b[0m,    │     \u001b[38;5;34m83,040\u001b[0m │ batch_normalizat… │\n",
       "│                     │ \u001b[38;5;34m96\u001b[0m)               │            │                   │\n",
       "├─────────────────────┼───────────────────┼────────────┼───────────────────┤\n",
       "│ batch_normalizatio… │ (\u001b[38;5;45mNone\u001b[0m, \u001b[38;5;34m28\u001b[0m, \u001b[38;5;34m28\u001b[0m,    │        \u001b[38;5;34m384\u001b[0m │ conv2d_1[\u001b[38;5;34m0\u001b[0m][\u001b[38;5;34m0\u001b[0m]    │\n",
       "│ (\u001b[38;5;33mBatchNormalizatio…\u001b[0m │ \u001b[38;5;34m96\u001b[0m)               │            │                   │\n",
       "├─────────────────────┼───────────────────┼────────────┼───────────────────┤\n",
       "│ conv2d_2 (\u001b[38;5;33mConv2D\u001b[0m)   │ (\u001b[38;5;45mNone\u001b[0m, \u001b[38;5;34m13\u001b[0m, \u001b[38;5;34m13\u001b[0m,    │     \u001b[38;5;34m83,040\u001b[0m │ batch_normalizat… │\n",
       "│                     │ \u001b[38;5;34m96\u001b[0m)               │            │                   │\n",
       "├─────────────────────┼───────────────────┼────────────┼───────────────────┤\n",
       "│ batch_normalizatio… │ (\u001b[38;5;45mNone\u001b[0m, \u001b[38;5;34m13\u001b[0m, \u001b[38;5;34m13\u001b[0m,    │        \u001b[38;5;34m384\u001b[0m │ conv2d_2[\u001b[38;5;34m0\u001b[0m][\u001b[38;5;34m0\u001b[0m]    │\n",
       "│ (\u001b[38;5;33mBatchNormalizatio…\u001b[0m │ \u001b[38;5;34m96\u001b[0m)               │            │                   │\n",
       "├─────────────────────┼───────────────────┼────────────┼───────────────────┤\n",
       "│ conv2d_3 (\u001b[38;5;33mConv2D\u001b[0m)   │ (\u001b[38;5;45mNone\u001b[0m, \u001b[38;5;34m11\u001b[0m, \u001b[38;5;34m11\u001b[0m,    │    \u001b[38;5;34m166,080\u001b[0m │ batch_normalizat… │\n",
       "│                     │ \u001b[38;5;34m192\u001b[0m)              │            │                   │\n",
       "├─────────────────────┼───────────────────┼────────────┼───────────────────┤\n",
       "│ batch_normalizatio… │ (\u001b[38;5;45mNone\u001b[0m, \u001b[38;5;34m11\u001b[0m, \u001b[38;5;34m11\u001b[0m,    │        \u001b[38;5;34m768\u001b[0m │ conv2d_3[\u001b[38;5;34m0\u001b[0m][\u001b[38;5;34m0\u001b[0m]    │\n",
       "│ (\u001b[38;5;33mBatchNormalizatio…\u001b[0m │ \u001b[38;5;34m192\u001b[0m)              │            │                   │\n",
       "├─────────────────────┼───────────────────┼────────────┼───────────────────┤\n",
       "│ conv2d_4 (\u001b[38;5;33mConv2D\u001b[0m)   │ (\u001b[38;5;45mNone\u001b[0m, \u001b[38;5;34m9\u001b[0m, \u001b[38;5;34m9\u001b[0m, \u001b[38;5;34m192\u001b[0m) │    \u001b[38;5;34m331,968\u001b[0m │ batch_normalizat… │\n",
       "├─────────────────────┼───────────────────┼────────────┼───────────────────┤\n",
       "│ batch_normalizatio… │ (\u001b[38;5;45mNone\u001b[0m, \u001b[38;5;34m9\u001b[0m, \u001b[38;5;34m9\u001b[0m, \u001b[38;5;34m192\u001b[0m) │        \u001b[38;5;34m768\u001b[0m │ conv2d_4[\u001b[38;5;34m0\u001b[0m][\u001b[38;5;34m0\u001b[0m]    │\n",
       "│ (\u001b[38;5;33mBatchNormalizatio…\u001b[0m │                   │            │                   │\n",
       "├─────────────────────┼───────────────────┼────────────┼───────────────────┤\n",
       "│ conv2d_5 (\u001b[38;5;33mConv2D\u001b[0m)   │ (\u001b[38;5;45mNone\u001b[0m, \u001b[38;5;34m4\u001b[0m, \u001b[38;5;34m4\u001b[0m, \u001b[38;5;34m192\u001b[0m) │    \u001b[38;5;34m331,968\u001b[0m │ batch_normalizat… │\n",
       "├─────────────────────┼───────────────────┼────────────┼───────────────────┤\n",
       "│ batch_normalizatio… │ (\u001b[38;5;45mNone\u001b[0m, \u001b[38;5;34m4\u001b[0m, \u001b[38;5;34m4\u001b[0m, \u001b[38;5;34m192\u001b[0m) │        \u001b[38;5;34m768\u001b[0m │ conv2d_5[\u001b[38;5;34m0\u001b[0m][\u001b[38;5;34m0\u001b[0m]    │\n",
       "│ (\u001b[38;5;33mBatchNormalizatio…\u001b[0m │                   │            │                   │\n",
       "├─────────────────────┼───────────────────┼────────────┼───────────────────┤\n",
       "│ conv2d_6 (\u001b[38;5;33mConv2D\u001b[0m)   │ (\u001b[38;5;45mNone\u001b[0m, \u001b[38;5;34m2\u001b[0m, \u001b[38;5;34m2\u001b[0m, \u001b[38;5;34m192\u001b[0m) │    \u001b[38;5;34m331,968\u001b[0m │ batch_normalizat… │\n",
       "├─────────────────────┼───────────────────┼────────────┼───────────────────┤\n",
       "│ batch_normalizatio… │ (\u001b[38;5;45mNone\u001b[0m, \u001b[38;5;34m2\u001b[0m, \u001b[38;5;34m2\u001b[0m, \u001b[38;5;34m192\u001b[0m) │        \u001b[38;5;34m768\u001b[0m │ conv2d_6[\u001b[38;5;34m0\u001b[0m][\u001b[38;5;34m0\u001b[0m]    │\n",
       "│ (\u001b[38;5;33mBatchNormalizatio…\u001b[0m │                   │            │                   │\n",
       "├─────────────────────┼───────────────────┼────────────┼───────────────────┤\n",
       "│ conv2d_7 (\u001b[38;5;33mConv2D\u001b[0m)   │ (\u001b[38;5;45mNone\u001b[0m, \u001b[38;5;34m2\u001b[0m, \u001b[38;5;34m2\u001b[0m, \u001b[38;5;34m192\u001b[0m) │     \u001b[38;5;34m37,056\u001b[0m │ batch_normalizat… │\n",
       "├─────────────────────┼───────────────────┼────────────┼───────────────────┤\n",
       "│ batch_normalizatio… │ (\u001b[38;5;45mNone\u001b[0m, \u001b[38;5;34m2\u001b[0m, \u001b[38;5;34m2\u001b[0m, \u001b[38;5;34m192\u001b[0m) │        \u001b[38;5;34m768\u001b[0m │ conv2d_7[\u001b[38;5;34m0\u001b[0m][\u001b[38;5;34m0\u001b[0m]    │\n",
       "│ (\u001b[38;5;33mBatchNormalizatio…\u001b[0m │                   │            │                   │\n",
       "├─────────────────────┼───────────────────┼────────────┼───────────────────┤\n",
       "│ global_average_poo… │ (\u001b[38;5;45mNone\u001b[0m, \u001b[38;5;34m192\u001b[0m)       │          \u001b[38;5;34m0\u001b[0m │ batch_normalizat… │\n",
       "│ (\u001b[38;5;33mGlobalAveragePool…\u001b[0m │                   │            │                   │\n",
       "├─────────────────────┼───────────────────┼────────────┼───────────────────┤\n",
       "│ output1 (\u001b[38;5;33mDense\u001b[0m)     │ (\u001b[38;5;45mNone\u001b[0m, \u001b[38;5;34m5\u001b[0m)         │        \u001b[38;5;34m965\u001b[0m │ global_average_p… │\n",
       "├─────────────────────┼───────────────────┼────────────┼───────────────────┤\n",
       "│ output2 (\u001b[38;5;33mDense\u001b[0m)     │ (\u001b[38;5;45mNone\u001b[0m, \u001b[38;5;34m5\u001b[0m)         │        \u001b[38;5;34m965\u001b[0m │ global_average_p… │\n",
       "└─────────────────────┴───────────────────┴────────────┴───────────────────┘\n"
      ]
     },
     "metadata": {},
     "output_type": "display_data"
    },
    {
     "data": {
      "text/html": [
       "<pre style=\"white-space:pre;overflow-x:auto;line-height:normal;font-family:Menlo,'DejaVu Sans Mono',consolas,'Courier New',monospace\"><span style=\"font-weight: bold\"> Total params: </span><span style=\"color: #00af00; text-decoration-color: #00af00\">1,374,730</span> (5.24 MB)\n",
       "</pre>\n"
      ],
      "text/plain": [
       "\u001b[1m Total params: \u001b[0m\u001b[38;5;34m1,374,730\u001b[0m (5.24 MB)\n"
      ]
     },
     "metadata": {},
     "output_type": "display_data"
    },
    {
     "data": {
      "text/html": [
       "<pre style=\"white-space:pre;overflow-x:auto;line-height:normal;font-family:Menlo,'DejaVu Sans Mono',consolas,'Courier New',monospace\"><span style=\"font-weight: bold\"> Trainable params: </span><span style=\"color: #00af00; text-decoration-color: #00af00\">1,372,234</span> (5.23 MB)\n",
       "</pre>\n"
      ],
      "text/plain": [
       "\u001b[1m Trainable params: \u001b[0m\u001b[38;5;34m1,372,234\u001b[0m (5.23 MB)\n"
      ]
     },
     "metadata": {},
     "output_type": "display_data"
    },
    {
     "data": {
      "text/html": [
       "<pre style=\"white-space:pre;overflow-x:auto;line-height:normal;font-family:Menlo,'DejaVu Sans Mono',consolas,'Courier New',monospace\"><span style=\"font-weight: bold\"> Non-trainable params: </span><span style=\"color: #00af00; text-decoration-color: #00af00\">2,496</span> (9.75 KB)\n",
       "</pre>\n"
      ],
      "text/plain": [
       "\u001b[1m Non-trainable params: \u001b[0m\u001b[38;5;34m2,496\u001b[0m (9.75 KB)\n"
      ]
     },
     "metadata": {},
     "output_type": "display_data"
    },
    {
     "name": "stdout",
     "output_type": "stream",
     "text": [
      "Epoch 1/250\n",
      "\u001b[1m703/703\u001b[0m \u001b[32m━━━━━━━━━━━━━━━━━━━━\u001b[0m\u001b[37m\u001b[0m \u001b[1m17s\u001b[0m 14ms/step - loss: 2.9636 - output1_accuracy: 0.3880 - output1_loss: 1.5019 - output2_accuracy: 0.4188 - output2_loss: 1.4617 - val_loss: 2.7082 - val_output1_accuracy: 0.4233 - val_output1_loss: 1.4208 - val_output2_accuracy: 0.5280 - val_output2_loss: 1.2874\n",
      "Epoch 2/250\n",
      "\u001b[1m703/703\u001b[0m \u001b[32m━━━━━━━━━━━━━━━━━━━━\u001b[0m\u001b[37m\u001b[0m \u001b[1m9s\u001b[0m 13ms/step - loss: 2.4176 - output1_accuracy: 0.5089 - output1_loss: 1.2855 - output2_accuracy: 0.6121 - output2_loss: 1.1321 - val_loss: 2.4614 - val_output1_accuracy: 0.4850 - val_output1_loss: 1.3249 - val_output2_accuracy: 0.6084 - val_output2_loss: 1.1365\n",
      "Epoch 3/250\n",
      "\u001b[1m703/703\u001b[0m \u001b[32m━━━━━━━━━━━━━━━━━━━━\u001b[0m\u001b[37m\u001b[0m \u001b[1m9s\u001b[0m 12ms/step - loss: 2.2226 - output1_accuracy: 0.5649 - output1_loss: 1.1966 - output2_accuracy: 0.6745 - output2_loss: 1.0260 - val_loss: 2.4530 - val_output1_accuracy: 0.4904 - val_output1_loss: 1.3271 - val_output2_accuracy: 0.6272 - val_output2_loss: 1.1259\n",
      "Epoch 4/250\n",
      "\u001b[1m703/703\u001b[0m \u001b[32m━━━━━━━━━━━━━━━━━━━━\u001b[0m\u001b[37m\u001b[0m \u001b[1m9s\u001b[0m 12ms/step - loss: 2.1361 - output1_accuracy: 0.5889 - output1_loss: 1.1577 - output2_accuracy: 0.7009 - output2_loss: 0.9783 - val_loss: 2.3285 - val_output1_accuracy: 0.5355 - val_output1_loss: 1.2485 - val_output2_accuracy: 0.6484 - val_output2_loss: 1.0800\n",
      "Epoch 5/250\n",
      "\u001b[1m703/703\u001b[0m \u001b[32m━━━━━━━━━━━━━━━━━━━━\u001b[0m\u001b[37m\u001b[0m \u001b[1m9s\u001b[0m 12ms/step - loss: 2.0515 - output1_accuracy: 0.6127 - output1_loss: 1.1186 - output2_accuracy: 0.7277 - output2_loss: 0.9329 - val_loss: 2.2242 - val_output1_accuracy: 0.5533 - val_output1_loss: 1.2255 - val_output2_accuracy: 0.6947 - val_output2_loss: 0.9987\n",
      "Epoch 6/250\n",
      "\u001b[1m703/703\u001b[0m \u001b[32m━━━━━━━━━━━━━━━━━━━━\u001b[0m\u001b[37m\u001b[0m \u001b[1m9s\u001b[0m 12ms/step - loss: 1.9990 - output1_accuracy: 0.6329 - output1_loss: 1.0859 - output2_accuracy: 0.7375 - output2_loss: 0.9131 - val_loss: 2.5412 - val_output1_accuracy: 0.4553 - val_output1_loss: 1.4357 - val_output2_accuracy: 0.6332 - val_output2_loss: 1.1055\n",
      "Epoch 7/250\n",
      "\u001b[1m703/703\u001b[0m \u001b[32m━━━━━━━━━━━━━━━━━━━━\u001b[0m\u001b[37m\u001b[0m \u001b[1m10s\u001b[0m 15ms/step - loss: 1.9556 - output1_accuracy: 0.6499 - output1_loss: 1.0575 - output2_accuracy: 0.7451 - output2_loss: 0.8981 - val_loss: 2.5744 - val_output1_accuracy: 0.4722 - val_output1_loss: 1.4701 - val_output2_accuracy: 0.6466 - val_output2_loss: 1.1043\n",
      "Epoch 8/250\n",
      "\u001b[1m703/703\u001b[0m \u001b[32m━━━━━━━━━━━━━━━━━━━━\u001b[0m\u001b[37m\u001b[0m \u001b[1m9s\u001b[0m 13ms/step - loss: 1.8957 - output1_accuracy: 0.6674 - output1_loss: 1.0271 - output2_accuracy: 0.7615 - output2_loss: 0.8686 - val_loss: 2.1488 - val_output1_accuracy: 0.5917 - val_output1_loss: 1.1753 - val_output2_accuracy: 0.7117 - val_output2_loss: 0.9736\n",
      "Epoch 9/250\n",
      "\u001b[1m703/703\u001b[0m \u001b[32m━━━━━━━━━━━━━━━━━━━━\u001b[0m\u001b[37m\u001b[0m \u001b[1m9s\u001b[0m 13ms/step - loss: 1.8684 - output1_accuracy: 0.6756 - output1_loss: 1.0113 - output2_accuracy: 0.7633 - output2_loss: 0.8571 - val_loss: 2.1623 - val_output1_accuracy: 0.5954 - val_output1_loss: 1.1622 - val_output2_accuracy: 0.6929 - val_output2_loss: 1.0001\n",
      "Epoch 10/250\n",
      "\u001b[1m703/703\u001b[0m \u001b[32m━━━━━━━━━━━━━━━━━━━━\u001b[0m\u001b[37m\u001b[0m \u001b[1m9s\u001b[0m 12ms/step - loss: 1.8332 - output1_accuracy: 0.6910 - output1_loss: 0.9961 - output2_accuracy: 0.7791 - output2_loss: 0.8371 - val_loss: 2.2495 - val_output1_accuracy: 0.5855 - val_output1_loss: 1.1951 - val_output2_accuracy: 0.6761 - val_output2_loss: 1.0544\n",
      "Epoch 11/250\n",
      "\u001b[1m703/703\u001b[0m \u001b[32m━━━━━━━━━━━━━━━━━━━━\u001b[0m\u001b[37m\u001b[0m \u001b[1m9s\u001b[0m 13ms/step - loss: 1.8077 - output1_accuracy: 0.6923 - output1_loss: 0.9841 - output2_accuracy: 0.7853 - output2_loss: 0.8236 - val_loss: 2.1929 - val_output1_accuracy: 0.6120 - val_output1_loss: 1.1396 - val_output2_accuracy: 0.6741 - val_output2_loss: 1.0532\n",
      "Epoch 12/250\n",
      "\u001b[1m703/703\u001b[0m \u001b[32m━━━━━━━━━━━━━━━━━━━━\u001b[0m\u001b[37m\u001b[0m \u001b[1m9s\u001b[0m 13ms/step - loss: 1.7828 - output1_accuracy: 0.7049 - output1_loss: 0.9706 - output2_accuracy: 0.7925 - output2_loss: 0.8121 - val_loss: 2.2187 - val_output1_accuracy: 0.6084 - val_output1_loss: 1.1648 - val_output2_accuracy: 0.6807 - val_output2_loss: 1.0539\n",
      "Epoch 13/250\n",
      "\u001b[1m703/703\u001b[0m \u001b[32m━━━━━━━━━━━━━━━━━━━━\u001b[0m\u001b[37m\u001b[0m \u001b[1m9s\u001b[0m 13ms/step - loss: 1.7504 - output1_accuracy: 0.7103 - output1_loss: 0.9517 - output2_accuracy: 0.8001 - output2_loss: 0.7986 - val_loss: 1.9874 - val_output1_accuracy: 0.6410 - val_output1_loss: 1.0853 - val_output2_accuracy: 0.7442 - val_output2_loss: 0.9021\n",
      "Epoch 14/250\n",
      "\u001b[1m703/703\u001b[0m \u001b[32m━━━━━━━━━━━━━━━━━━━━\u001b[0m\u001b[37m\u001b[0m \u001b[1m9s\u001b[0m 13ms/step - loss: 1.7327 - output1_accuracy: 0.7177 - output1_loss: 0.9364 - output2_accuracy: 0.7997 - output2_loss: 0.7963 - val_loss: 1.9480 - val_output1_accuracy: 0.6583 - val_output1_loss: 1.0597 - val_output2_accuracy: 0.7624 - val_output2_loss: 0.8884\n",
      "Epoch 15/250\n",
      "\u001b[1m703/703\u001b[0m \u001b[32m━━━━━━━━━━━━━━━━━━━━\u001b[0m\u001b[37m\u001b[0m \u001b[1m9s\u001b[0m 13ms/step - loss: 1.7129 - output1_accuracy: 0.7229 - output1_loss: 0.9299 - output2_accuracy: 0.8069 - output2_loss: 0.7830 - val_loss: 1.9725 - val_output1_accuracy: 0.6438 - val_output1_loss: 1.0671 - val_output2_accuracy: 0.7450 - val_output2_loss: 0.9054\n",
      "Epoch 16/250\n",
      "\u001b[1m703/703\u001b[0m \u001b[32m━━━━━━━━━━━━━━━━━━━━\u001b[0m\u001b[37m\u001b[0m \u001b[1m9s\u001b[0m 13ms/step - loss: 1.6962 - output1_accuracy: 0.7308 - output1_loss: 0.9210 - output2_accuracy: 0.8110 - output2_loss: 0.7752 - val_loss: 1.9930 - val_output1_accuracy: 0.6342 - val_output1_loss: 1.1006 - val_output2_accuracy: 0.7438 - val_output2_loss: 0.8924\n",
      "Epoch 17/250\n",
      "\u001b[1m703/703\u001b[0m \u001b[32m━━━━━━━━━━━━━━━━━━━━\u001b[0m\u001b[37m\u001b[0m \u001b[1m9s\u001b[0m 13ms/step - loss: 1.6659 - output1_accuracy: 0.7363 - output1_loss: 0.9087 - output2_accuracy: 0.8223 - output2_loss: 0.7572 - val_loss: 2.0321 - val_output1_accuracy: 0.6278 - val_output1_loss: 1.1044 - val_output2_accuracy: 0.7316 - val_output2_loss: 0.9277\n",
      "Epoch 18/250\n",
      "\u001b[1m703/703\u001b[0m \u001b[32m━━━━━━━━━━━━━━━━━━━━\u001b[0m\u001b[37m\u001b[0m \u001b[1m9s\u001b[0m 13ms/step - loss: 1.6580 - output1_accuracy: 0.7392 - output1_loss: 0.8991 - output2_accuracy: 0.8190 - output2_loss: 0.7589 - val_loss: 2.0387 - val_output1_accuracy: 0.6248 - val_output1_loss: 1.1235 - val_output2_accuracy: 0.7382 - val_output2_loss: 0.9152\n",
      "Epoch 19/250\n",
      "\u001b[1m703/703\u001b[0m \u001b[32m━━━━━━━━━━━━━━━━━━━━\u001b[0m\u001b[37m\u001b[0m \u001b[1m9s\u001b[0m 13ms/step - loss: 1.6408 - output1_accuracy: 0.7437 - output1_loss: 0.8926 - output2_accuracy: 0.8275 - output2_loss: 0.7482 - val_loss: 1.8864 - val_output1_accuracy: 0.6765 - val_output1_loss: 1.0185 - val_output2_accuracy: 0.7650 - val_output2_loss: 0.8680\n",
      "Epoch 20/250\n",
      "\u001b[1m703/703\u001b[0m \u001b[32m━━━━━━━━━━━━━━━━━━━━\u001b[0m\u001b[37m\u001b[0m \u001b[1m9s\u001b[0m 13ms/step - loss: 1.6375 - output1_accuracy: 0.7459 - output1_loss: 0.8888 - output2_accuracy: 0.8238 - output2_loss: 0.7488 - val_loss: 2.0912 - val_output1_accuracy: 0.6090 - val_output1_loss: 1.1846 - val_output2_accuracy: 0.7512 - val_output2_loss: 0.9066\n",
      "Epoch 21/250\n",
      "\u001b[1m703/703\u001b[0m \u001b[32m━━━━━━━━━━━━━━━━━━━━\u001b[0m\u001b[37m\u001b[0m \u001b[1m9s\u001b[0m 12ms/step - loss: 1.6200 - output1_accuracy: 0.7487 - output1_loss: 0.8810 - output2_accuracy: 0.8313 - output2_loss: 0.7389 - val_loss: 1.8965 - val_output1_accuracy: 0.6683 - val_output1_loss: 1.0268 - val_output2_accuracy: 0.7652 - val_output2_loss: 0.8698\n",
      "Epoch 22/250\n",
      "\u001b[1m703/703\u001b[0m \u001b[32m━━━━━━━━━━━━━━━━━━━━\u001b[0m\u001b[37m\u001b[0m \u001b[1m9s\u001b[0m 12ms/step - loss: 1.6104 - output1_accuracy: 0.7529 - output1_loss: 0.8783 - output2_accuracy: 0.8331 - output2_loss: 0.7321 - val_loss: 1.9333 - val_output1_accuracy: 0.6402 - val_output1_loss: 1.0705 - val_output2_accuracy: 0.7648 - val_output2_loss: 0.8628\n",
      "Epoch 23/250\n",
      "\u001b[1m703/703\u001b[0m \u001b[32m━━━━━━━━━━━━━━━━━━━━\u001b[0m\u001b[37m\u001b[0m \u001b[1m9s\u001b[0m 13ms/step - loss: 1.5944 - output1_accuracy: 0.7550 - output1_loss: 0.8698 - output2_accuracy: 0.8422 - output2_loss: 0.7246 - val_loss: 2.1918 - val_output1_accuracy: 0.6298 - val_output1_loss: 1.1408 - val_output2_accuracy: 0.6763 - val_output2_loss: 1.0510\n",
      "Epoch 24/250\n",
      "\u001b[1m703/703\u001b[0m \u001b[32m━━━━━━━━━━━━━━━━━━━━\u001b[0m\u001b[37m\u001b[0m \u001b[1m9s\u001b[0m 12ms/step - loss: 1.5850 - output1_accuracy: 0.7603 - output1_loss: 0.8640 - output2_accuracy: 0.8415 - output2_loss: 0.7210 - val_loss: 1.8926 - val_output1_accuracy: 0.6665 - val_output1_loss: 1.0470 - val_output2_accuracy: 0.7760 - val_output2_loss: 0.8456\n",
      "Epoch 25/250\n",
      "\u001b[1m703/703\u001b[0m \u001b[32m━━━━━━━━━━━━━━━━━━━━\u001b[0m\u001b[37m\u001b[0m \u001b[1m8s\u001b[0m 12ms/step - loss: 1.5761 - output1_accuracy: 0.7626 - output1_loss: 0.8570 - output2_accuracy: 0.8425 - output2_loss: 0.7192 - val_loss: 1.9094 - val_output1_accuracy: 0.6687 - val_output1_loss: 1.0457 - val_output2_accuracy: 0.7650 - val_output2_loss: 0.8637\n",
      "Epoch 26/250\n",
      "\u001b[1m703/703\u001b[0m \u001b[32m━━━━━━━━━━━━━━━━━━━━\u001b[0m\u001b[37m\u001b[0m \u001b[1m8s\u001b[0m 12ms/step - loss: 1.5591 - output1_accuracy: 0.7702 - output1_loss: 0.8464 - output2_accuracy: 0.8444 - output2_loss: 0.7127 - val_loss: 1.8772 - val_output1_accuracy: 0.6817 - val_output1_loss: 1.0142 - val_output2_accuracy: 0.7774 - val_output2_loss: 0.8631\n",
      "Epoch 27/250\n",
      "\u001b[1m703/703\u001b[0m \u001b[32m━━━━━━━━━━━━━━━━━━━━\u001b[0m\u001b[37m\u001b[0m \u001b[1m8s\u001b[0m 12ms/step - loss: 1.5562 - output1_accuracy: 0.7726 - output1_loss: 0.8435 - output2_accuracy: 0.8439 - output2_loss: 0.7127 - val_loss: 1.9836 - val_output1_accuracy: 0.6376 - val_output1_loss: 1.0937 - val_output2_accuracy: 0.7516 - val_output2_loss: 0.8899\n",
      "Epoch 28/250\n",
      "\u001b[1m703/703\u001b[0m \u001b[32m━━━━━━━━━━━━━━━━━━━━\u001b[0m\u001b[37m\u001b[0m \u001b[1m8s\u001b[0m 12ms/step - loss: 1.5490 - output1_accuracy: 0.7696 - output1_loss: 0.8466 - output2_accuracy: 0.8501 - output2_loss: 0.7024 - val_loss: 1.8803 - val_output1_accuracy: 0.6745 - val_output1_loss: 1.0351 - val_output2_accuracy: 0.7754 - val_output2_loss: 0.8452\n",
      "Epoch 29/250\n",
      "\u001b[1m703/703\u001b[0m \u001b[32m━━━━━━━━━━━━━━━━━━━━\u001b[0m\u001b[37m\u001b[0m \u001b[1m8s\u001b[0m 12ms/step - loss: 1.5361 - output1_accuracy: 0.7825 - output1_loss: 0.8294 - output2_accuracy: 0.8503 - output2_loss: 0.7066 - val_loss: 1.8943 - val_output1_accuracy: 0.6695 - val_output1_loss: 1.0461 - val_output2_accuracy: 0.7786 - val_output2_loss: 0.8482\n",
      "Epoch 30/250\n",
      "\u001b[1m703/703\u001b[0m \u001b[32m━━━━━━━━━━━━━━━━━━━━\u001b[0m\u001b[37m\u001b[0m \u001b[1m8s\u001b[0m 12ms/step - loss: 1.5192 - output1_accuracy: 0.7811 - output1_loss: 0.8266 - output2_accuracy: 0.8568 - output2_loss: 0.6926 - val_loss: 1.8655 - val_output1_accuracy: 0.6869 - val_output1_loss: 1.0224 - val_output2_accuracy: 0.7831 - val_output2_loss: 0.8431\n",
      "Epoch 31/250\n",
      "\u001b[1m703/703\u001b[0m \u001b[32m━━━━━━━━━━━━━━━━━━━━\u001b[0m\u001b[37m\u001b[0m \u001b[1m8s\u001b[0m 11ms/step - loss: 1.5126 - output1_accuracy: 0.7832 - output1_loss: 0.8214 - output2_accuracy: 0.8562 - output2_loss: 0.6912 - val_loss: 1.8872 - val_output1_accuracy: 0.6753 - val_output1_loss: 1.0328 - val_output2_accuracy: 0.7744 - val_output2_loss: 0.8544\n",
      "Epoch 32/250\n",
      "\u001b[1m703/703\u001b[0m \u001b[32m━━━━━━━━━━━━━━━━━━━━\u001b[0m\u001b[37m\u001b[0m \u001b[1m9s\u001b[0m 12ms/step - loss: 1.5089 - output1_accuracy: 0.7847 - output1_loss: 0.8201 - output2_accuracy: 0.8576 - output2_loss: 0.6888 - val_loss: 1.9439 - val_output1_accuracy: 0.6573 - val_output1_loss: 1.0655 - val_output2_accuracy: 0.7604 - val_output2_loss: 0.8784\n",
      "Epoch 33/250\n",
      "\u001b[1m703/703\u001b[0m \u001b[32m━━━━━━━━━━━━━━━━━━━━\u001b[0m\u001b[37m\u001b[0m \u001b[1m8s\u001b[0m 12ms/step - loss: 1.5039 - output1_accuracy: 0.7893 - output1_loss: 0.8163 - output2_accuracy: 0.8574 - output2_loss: 0.6876 - val_loss: 1.8503 - val_output1_accuracy: 0.6839 - val_output1_loss: 1.0279 - val_output2_accuracy: 0.7867 - val_output2_loss: 0.8224\n",
      "Epoch 34/250\n",
      "\u001b[1m703/703\u001b[0m \u001b[32m━━━━━━━━━━━━━━━━━━━━\u001b[0m\u001b[37m\u001b[0m \u001b[1m8s\u001b[0m 12ms/step - loss: 1.4947 - output1_accuracy: 0.7914 - output1_loss: 0.8107 - output2_accuracy: 0.8585 - output2_loss: 0.6841 - val_loss: 2.6457 - val_output1_accuracy: 0.5240 - val_output1_loss: 1.5188 - val_output2_accuracy: 0.6560 - val_output2_loss: 1.1269\n",
      "Epoch 35/250\n",
      "\u001b[1m703/703\u001b[0m \u001b[32m━━━━━━━━━━━━━━━━━━━━\u001b[0m\u001b[37m\u001b[0m \u001b[1m8s\u001b[0m 12ms/step - loss: 1.4842 - output1_accuracy: 0.7940 - output1_loss: 0.8041 - output2_accuracy: 0.8623 - output2_loss: 0.6802 - val_loss: 1.9125 - val_output1_accuracy: 0.6857 - val_output1_loss: 1.0167 - val_output2_accuracy: 0.7506 - val_output2_loss: 0.8958\n",
      "Epoch 36/250\n",
      "\u001b[1m703/703\u001b[0m \u001b[32m━━━━━━━━━━━━━━━━━━━━\u001b[0m\u001b[37m\u001b[0m \u001b[1m9s\u001b[0m 13ms/step - loss: 1.4696 - output1_accuracy: 0.7988 - output1_loss: 0.7898 - output2_accuracy: 0.8625 - output2_loss: 0.6798 - val_loss: 1.9091 - val_output1_accuracy: 0.6621 - val_output1_loss: 1.0600 - val_output2_accuracy: 0.7786 - val_output2_loss: 0.8490\n",
      "Epoch 37/250\n",
      "\u001b[1m703/703\u001b[0m \u001b[32m━━━━━━━━━━━━━━━━━━━━\u001b[0m\u001b[37m\u001b[0m \u001b[1m9s\u001b[0m 13ms/step - loss: 1.4746 - output1_accuracy: 0.8020 - output1_loss: 0.7923 - output2_accuracy: 0.8612 - output2_loss: 0.6823 - val_loss: 1.9428 - val_output1_accuracy: 0.6562 - val_output1_loss: 1.0762 - val_output2_accuracy: 0.7694 - val_output2_loss: 0.8666\n",
      "Epoch 38/250\n",
      "\u001b[1m703/703\u001b[0m \u001b[32m━━━━━━━━━━━━━━━━━━━━\u001b[0m\u001b[37m\u001b[0m \u001b[1m9s\u001b[0m 13ms/step - loss: 1.4570 - output1_accuracy: 0.8024 - output1_loss: 0.7896 - output2_accuracy: 0.8691 - output2_loss: 0.6674 - val_loss: 1.8284 - val_output1_accuracy: 0.6835 - val_output1_loss: 1.0079 - val_output2_accuracy: 0.7951 - val_output2_loss: 0.8205\n",
      "Epoch 39/250\n",
      "\u001b[1m703/703\u001b[0m \u001b[32m━━━━━━━━━━━━━━━━━━━━\u001b[0m\u001b[37m\u001b[0m \u001b[1m9s\u001b[0m 13ms/step - loss: 1.4573 - output1_accuracy: 0.8022 - output1_loss: 0.7866 - output2_accuracy: 0.8673 - output2_loss: 0.6708 - val_loss: 2.1252 - val_output1_accuracy: 0.6032 - val_output1_loss: 1.2089 - val_output2_accuracy: 0.7480 - val_output2_loss: 0.9163\n",
      "Epoch 40/250\n",
      "\u001b[1m703/703\u001b[0m \u001b[32m━━━━━━━━━━━━━━━━━━━━\u001b[0m\u001b[37m\u001b[0m \u001b[1m9s\u001b[0m 13ms/step - loss: 1.4612 - output1_accuracy: 0.8019 - output1_loss: 0.7903 - output2_accuracy: 0.8670 - output2_loss: 0.6710 - val_loss: 1.8753 - val_output1_accuracy: 0.6717 - val_output1_loss: 1.0306 - val_output2_accuracy: 0.7847 - val_output2_loss: 0.8446\n",
      "Epoch 41/250\n",
      "\u001b[1m703/703\u001b[0m \u001b[32m━━━━━━━━━━━━━━━━━━━━\u001b[0m\u001b[37m\u001b[0m \u001b[1m9s\u001b[0m 12ms/step - loss: 1.4424 - output1_accuracy: 0.8079 - output1_loss: 0.7809 - output2_accuracy: 0.8709 - output2_loss: 0.6615 - val_loss: 1.8667 - val_output1_accuracy: 0.6883 - val_output1_loss: 1.0034 - val_output2_accuracy: 0.7694 - val_output2_loss: 0.8634\n",
      "Epoch 42/250\n",
      "\u001b[1m703/703\u001b[0m \u001b[32m━━━━━━━━━━━━━━━━━━━━\u001b[0m\u001b[37m\u001b[0m \u001b[1m9s\u001b[0m 12ms/step - loss: 1.4447 - output1_accuracy: 0.8070 - output1_loss: 0.7786 - output2_accuracy: 0.8715 - output2_loss: 0.6661 - val_loss: 1.9017 - val_output1_accuracy: 0.6711 - val_output1_loss: 1.0436 - val_output2_accuracy: 0.7768 - val_output2_loss: 0.8581\n",
      "Epoch 43/250\n",
      "\u001b[1m703/703\u001b[0m \u001b[32m━━━━━━━━━━━━━━━━━━━━\u001b[0m\u001b[37m\u001b[0m \u001b[1m9s\u001b[0m 13ms/step - loss: 1.4329 - output1_accuracy: 0.8073 - output1_loss: 0.7786 - output2_accuracy: 0.8751 - output2_loss: 0.6543 - val_loss: 2.0538 - val_output1_accuracy: 0.6230 - val_output1_loss: 1.1600 - val_output2_accuracy: 0.7482 - val_output2_loss: 0.8937\n",
      "Epoch 44/250\n",
      "\u001b[1m703/703\u001b[0m \u001b[32m━━━━━━━━━━━━━━━━━━━━\u001b[0m\u001b[37m\u001b[0m \u001b[1m9s\u001b[0m 13ms/step - loss: 1.4373 - output1_accuracy: 0.8085 - output1_loss: 0.7766 - output2_accuracy: 0.8728 - output2_loss: 0.6607 - val_loss: 1.8353 - val_output1_accuracy: 0.6965 - val_output1_loss: 1.0018 - val_output2_accuracy: 0.7849 - val_output2_loss: 0.8335\n",
      "Epoch 45/250\n",
      "\u001b[1m703/703\u001b[0m \u001b[32m━━━━━━━━━━━━━━━━━━━━\u001b[0m\u001b[37m\u001b[0m \u001b[1m9s\u001b[0m 12ms/step - loss: 1.4324 - output1_accuracy: 0.8113 - output1_loss: 0.7774 - output2_accuracy: 0.8740 - output2_loss: 0.6550 - val_loss: 1.8718 - val_output1_accuracy: 0.6899 - val_output1_loss: 1.0113 - val_output2_accuracy: 0.7780 - val_output2_loss: 0.8605\n",
      "Epoch 46/250\n",
      "\u001b[1m703/703\u001b[0m \u001b[32m━━━━━━━━━━━━━━━━━━━━\u001b[0m\u001b[37m\u001b[0m \u001b[1m9s\u001b[0m 12ms/step - loss: 1.4119 - output1_accuracy: 0.8198 - output1_loss: 0.7575 - output2_accuracy: 0.8762 - output2_loss: 0.6544 - val_loss: 1.9552 - val_output1_accuracy: 0.6705 - val_output1_loss: 1.0731 - val_output2_accuracy: 0.7650 - val_output2_loss: 0.8822\n",
      "Epoch 47/250\n",
      "\u001b[1m703/703\u001b[0m \u001b[32m━━━━━━━━━━━━━━━━━━━━\u001b[0m\u001b[37m\u001b[0m \u001b[1m9s\u001b[0m 12ms/step - loss: 1.4159 - output1_accuracy: 0.8159 - output1_loss: 0.7622 - output2_accuracy: 0.8760 - output2_loss: 0.6537 - val_loss: 2.0706 - val_output1_accuracy: 0.6122 - val_output1_loss: 1.1894 - val_output2_accuracy: 0.7610 - val_output2_loss: 0.8812\n",
      "Epoch 48/250\n",
      "\u001b[1m703/703\u001b[0m \u001b[32m━━━━━━━━━━━━━━━━━━━━\u001b[0m\u001b[37m\u001b[0m \u001b[1m9s\u001b[0m 12ms/step - loss: 1.4071 - output1_accuracy: 0.8188 - output1_loss: 0.7591 - output2_accuracy: 0.8805 - output2_loss: 0.6481 - val_loss: 1.8576 - val_output1_accuracy: 0.6721 - val_output1_loss: 1.0291 - val_output2_accuracy: 0.7881 - val_output2_loss: 0.8285\n",
      "Epoch 48: early stopping\n",
      "Restoring model weights from the end of the best epoch: 38.\n"
     ]
    }
   ],
   "source": [
    "K.clear_session() # garbage collection\n",
    "model = ACCN()\n",
    "model.compile(optimizer='rmsprop',\n",
    "              loss={'output1': keras.losses.CategoricalCrossentropy(label_smoothing=0.1), 'output2': keras.losses.CategoricalCrossentropy(label_smoothing=0.1)},\n",
    "              metrics={'output1': 'accuracy', 'output2': 'accuracy'})\n",
    "model.summary()\n",
    "history = model.fit(\n",
    "    traingen,            \n",
    "    epochs=250,          \n",
    "    steps_per_epoch=len(cifar10_x_train)//batchsize, # necessary since generator loops infinitely\n",
    "    validation_data=valgen,\n",
    "    validation_steps=len(cifar10_x_val)//batchsize,  # necessary since generator loops infinitely\n",
    "    callbacks=[early_stopping],\n",
    "    verbose=1\n",
    ")"
   ]
  },
  {
   "cell_type": "code",
   "execution_count": 45,
   "metadata": {},
   "outputs": [
    {
     "name": "stderr",
     "output_type": "stream",
     "text": [
      "  0%|          | 0/10 [00:00<?, ?it/s]2025-01-11 10:50:04.735908: I external/local_xla/xla/stream_executor/cuda/cuda_asm_compiler.cc:397] ptxas warning : Registers are spilled to local memory in function 'gemm_fusion_dot', 240 bytes spill stores, 240 bytes spill loads\n",
      "\n",
      "100%|██████████| 10/10 [00:06<00:00,  1.46it/s]"
     ]
    },
    {
     "name": "stdout",
     "output_type": "stream",
     "text": [
      "mean accuracy =  0.7378099918365478\n",
      "standard deviation =  0.002947435931252253\n"
     ]
    },
    {
     "name": "stderr",
     "output_type": "stream",
     "text": [
      "\n"
     ]
    }
   ],
   "source": [
    "evaluate_model(model, testgen)"
   ]
  },
  {
   "cell_type": "code",
   "execution_count": 46,
   "metadata": {},
   "outputs": [],
   "source": [
    "model.save('73.7acc.keras')"
   ]
  },
  {
   "cell_type": "code",
   "execution_count": 47,
   "metadata": {},
   "outputs": [
    {
     "name": "stdout",
     "output_type": "stream",
     "text": [
      "Epoch 1/250\n",
      "\u001b[1m703/703\u001b[0m \u001b[32m━━━━━━━━━━━━━━━━━━━━\u001b[0m\u001b[37m\u001b[0m \u001b[1m18s\u001b[0m 14ms/step - loss: 1.4546 - output1_accuracy: 0.8030 - output1_loss: 0.7910 - output2_accuracy: 0.8693 - output2_loss: 0.6636 - val_loss: 1.7747 - val_output1_accuracy: 0.7071 - val_output1_loss: 0.9820 - val_output2_accuracy: 0.8059 - val_output2_loss: 0.7927\n",
      "Epoch 2/250\n",
      "\u001b[1m703/703\u001b[0m \u001b[32m━━━━━━━━━━━━━━━━━━━━\u001b[0m\u001b[37m\u001b[0m \u001b[1m9s\u001b[0m 13ms/step - loss: 1.4325 - output1_accuracy: 0.8118 - output1_loss: 0.7723 - output2_accuracy: 0.8720 - output2_loss: 0.6602 - val_loss: 1.7696 - val_output1_accuracy: 0.7031 - val_output1_loss: 0.9653 - val_output2_accuracy: 0.8047 - val_output2_loss: 0.8043\n",
      "Epoch 3/250\n",
      "\u001b[1m703/703\u001b[0m \u001b[32m━━━━━━━━━━━━━━━━━━━━\u001b[0m\u001b[37m\u001b[0m \u001b[1m9s\u001b[0m 13ms/step - loss: 1.4255 - output1_accuracy: 0.8118 - output1_loss: 0.7753 - output2_accuracy: 0.8774 - output2_loss: 0.6502 - val_loss: 1.7639 - val_output1_accuracy: 0.7073 - val_output1_loss: 0.9700 - val_output2_accuracy: 0.8021 - val_output2_loss: 0.7939\n",
      "Epoch 4/250\n",
      "\u001b[1m703/703\u001b[0m \u001b[32m━━━━━━━━━━━━━━━━━━━━\u001b[0m\u001b[37m\u001b[0m \u001b[1m9s\u001b[0m 13ms/step - loss: 1.4214 - output1_accuracy: 0.8145 - output1_loss: 0.7715 - output2_accuracy: 0.8801 - output2_loss: 0.6500 - val_loss: 1.7274 - val_output1_accuracy: 0.7129 - val_output1_loss: 0.9549 - val_output2_accuracy: 0.8111 - val_output2_loss: 0.7725\n",
      "Epoch 5/250\n",
      "\u001b[1m703/703\u001b[0m \u001b[32m━━━━━━━━━━━━━━━━━━━━\u001b[0m\u001b[37m\u001b[0m \u001b[1m9s\u001b[0m 13ms/step - loss: 1.4104 - output1_accuracy: 0.8164 - output1_loss: 0.7654 - output2_accuracy: 0.8820 - output2_loss: 0.6450 - val_loss: 1.7456 - val_output1_accuracy: 0.7151 - val_output1_loss: 0.9607 - val_output2_accuracy: 0.8053 - val_output2_loss: 0.7849\n",
      "Epoch 6/250\n",
      "\u001b[1m703/703\u001b[0m \u001b[32m━━━━━━━━━━━━━━━━━━━━\u001b[0m\u001b[37m\u001b[0m \u001b[1m9s\u001b[0m 13ms/step - loss: 1.4159 - output1_accuracy: 0.8146 - output1_loss: 0.7668 - output2_accuracy: 0.8787 - output2_loss: 0.6492 - val_loss: 1.7759 - val_output1_accuracy: 0.7157 - val_output1_loss: 0.9710 - val_output2_accuracy: 0.8029 - val_output2_loss: 0.8049\n",
      "Epoch 7/250\n",
      "\u001b[1m703/703\u001b[0m \u001b[32m━━━━━━━━━━━━━━━━━━━━\u001b[0m\u001b[37m\u001b[0m \u001b[1m9s\u001b[0m 13ms/step - loss: 1.4087 - output1_accuracy: 0.8175 - output1_loss: 0.7636 - output2_accuracy: 0.8800 - output2_loss: 0.6451 - val_loss: 1.7519 - val_output1_accuracy: 0.7139 - val_output1_loss: 0.9579 - val_output2_accuracy: 0.8093 - val_output2_loss: 0.7940\n",
      "Epoch 8/250\n",
      "\u001b[1m703/703\u001b[0m \u001b[32m━━━━━━━━━━━━━━━━━━━━\u001b[0m\u001b[37m\u001b[0m \u001b[1m9s\u001b[0m 13ms/step - loss: 1.4080 - output1_accuracy: 0.8174 - output1_loss: 0.7630 - output2_accuracy: 0.8793 - output2_loss: 0.6450 - val_loss: 1.7502 - val_output1_accuracy: 0.7171 - val_output1_loss: 0.9641 - val_output2_accuracy: 0.8069 - val_output2_loss: 0.7861\n",
      "Epoch 9/250\n",
      "\u001b[1m703/703\u001b[0m \u001b[32m━━━━━━━━━━━━━━━━━━━━\u001b[0m\u001b[37m\u001b[0m \u001b[1m9s\u001b[0m 13ms/step - loss: 1.4044 - output1_accuracy: 0.8199 - output1_loss: 0.7589 - output2_accuracy: 0.8805 - output2_loss: 0.6454 - val_loss: 1.7153 - val_output1_accuracy: 0.7256 - val_output1_loss: 0.9327 - val_output2_accuracy: 0.8059 - val_output2_loss: 0.7827\n",
      "Epoch 10/250\n",
      "\u001b[1m703/703\u001b[0m \u001b[32m━━━━━━━━━━━━━━━━━━━━\u001b[0m\u001b[37m\u001b[0m \u001b[1m9s\u001b[0m 13ms/step - loss: 1.4087 - output1_accuracy: 0.8182 - output1_loss: 0.7588 - output2_accuracy: 0.8766 - output2_loss: 0.6500 - val_loss: 1.7507 - val_output1_accuracy: 0.7151 - val_output1_loss: 0.9563 - val_output2_accuracy: 0.8005 - val_output2_loss: 0.7945\n",
      "Epoch 11/250\n",
      "\u001b[1m703/703\u001b[0m \u001b[32m━━━━━━━━━━━━━━━━━━━━\u001b[0m\u001b[37m\u001b[0m \u001b[1m9s\u001b[0m 13ms/step - loss: 1.3962 - output1_accuracy: 0.8195 - output1_loss: 0.7587 - output2_accuracy: 0.8854 - output2_loss: 0.6375 - val_loss: 1.7411 - val_output1_accuracy: 0.7173 - val_output1_loss: 0.9588 - val_output2_accuracy: 0.8123 - val_output2_loss: 0.7823\n",
      "Epoch 12/250\n",
      "\u001b[1m703/703\u001b[0m \u001b[32m━━━━━━━━━━━━━━━━━━━━\u001b[0m\u001b[37m\u001b[0m \u001b[1m10s\u001b[0m 14ms/step - loss: 1.4035 - output1_accuracy: 0.8160 - output1_loss: 0.7637 - output2_accuracy: 0.8840 - output2_loss: 0.6398 - val_loss: 1.7266 - val_output1_accuracy: 0.7163 - val_output1_loss: 0.9498 - val_output2_accuracy: 0.8105 - val_output2_loss: 0.7769\n",
      "Epoch 13/250\n",
      "\u001b[1m703/703\u001b[0m \u001b[32m━━━━━━━━━━━━━━━━━━━━\u001b[0m\u001b[37m\u001b[0m \u001b[1m10s\u001b[0m 14ms/step - loss: 1.4013 - output1_accuracy: 0.8163 - output1_loss: 0.7619 - output2_accuracy: 0.8851 - output2_loss: 0.6395 - val_loss: 1.7454 - val_output1_accuracy: 0.7157 - val_output1_loss: 0.9609 - val_output2_accuracy: 0.8097 - val_output2_loss: 0.7846\n",
      "Epoch 14/250\n",
      "\u001b[1m703/703\u001b[0m \u001b[32m━━━━━━━━━━━━━━━━━━━━\u001b[0m\u001b[37m\u001b[0m \u001b[1m10s\u001b[0m 14ms/step - loss: 1.4056 - output1_accuracy: 0.8185 - output1_loss: 0.7594 - output2_accuracy: 0.8823 - output2_loss: 0.6462 - val_loss: 1.7722 - val_output1_accuracy: 0.7121 - val_output1_loss: 0.9692 - val_output2_accuracy: 0.7989 - val_output2_loss: 0.8030\n",
      "Epoch 15/250\n",
      "\u001b[1m703/703\u001b[0m \u001b[32m━━━━━━━━━━━━━━━━━━━━\u001b[0m\u001b[37m\u001b[0m \u001b[1m10s\u001b[0m 14ms/step - loss: 1.3950 - output1_accuracy: 0.8227 - output1_loss: 0.7560 - output2_accuracy: 0.8820 - output2_loss: 0.6390 - val_loss: 1.7249 - val_output1_accuracy: 0.7157 - val_output1_loss: 0.9531 - val_output2_accuracy: 0.8191 - val_output2_loss: 0.7718\n",
      "Epoch 16/250\n",
      "\u001b[1m703/703\u001b[0m \u001b[32m━━━━━━━━━━━━━━━━━━━━\u001b[0m\u001b[37m\u001b[0m \u001b[1m10s\u001b[0m 14ms/step - loss: 1.3867 - output1_accuracy: 0.8229 - output1_loss: 0.7498 - output2_accuracy: 0.8857 - output2_loss: 0.6369 - val_loss: 1.7364 - val_output1_accuracy: 0.7165 - val_output1_loss: 0.9490 - val_output2_accuracy: 0.8065 - val_output2_loss: 0.7874\n",
      "Epoch 17/250\n",
      "\u001b[1m703/703\u001b[0m \u001b[32m━━━━━━━━━━━━━━━━━━━━\u001b[0m\u001b[37m\u001b[0m \u001b[1m9s\u001b[0m 13ms/step - loss: 1.4006 - output1_accuracy: 0.8179 - output1_loss: 0.7618 - output2_accuracy: 0.8845 - output2_loss: 0.6388 - val_loss: 1.7528 - val_output1_accuracy: 0.7137 - val_output1_loss: 0.9611 - val_output2_accuracy: 0.8109 - val_output2_loss: 0.7916\n",
      "Epoch 18/250\n",
      "\u001b[1m703/703\u001b[0m \u001b[32m━━━━━━━━━━━━━━━━━━━━\u001b[0m\u001b[37m\u001b[0m \u001b[1m9s\u001b[0m 13ms/step - loss: 1.3875 - output1_accuracy: 0.8242 - output1_loss: 0.7508 - output2_accuracy: 0.8874 - output2_loss: 0.6367 - val_loss: 1.7409 - val_output1_accuracy: 0.7220 - val_output1_loss: 0.9424 - val_output2_accuracy: 0.8035 - val_output2_loss: 0.7985\n",
      "Epoch 19/250\n",
      "\u001b[1m703/703\u001b[0m \u001b[32m━━━━━━━━━━━━━━━━━━━━\u001b[0m\u001b[37m\u001b[0m \u001b[1m9s\u001b[0m 13ms/step - loss: 1.3949 - output1_accuracy: 0.8215 - output1_loss: 0.7570 - output2_accuracy: 0.8851 - output2_loss: 0.6379 - val_loss: 1.7623 - val_output1_accuracy: 0.7021 - val_output1_loss: 0.9819 - val_output2_accuracy: 0.8083 - val_output2_loss: 0.7804\n",
      "Epoch 19: early stopping\n",
      "Restoring model weights from the end of the best epoch: 9.\n"
     ]
    }
   ],
   "source": [
    "from tensorflow.keras.optimizers import RMSprop\n",
    "\n",
    "# Custom small learning rate\n",
    "learning_rate = 1e-5  # You can adjust this value as needed for fine-tuning\n",
    "\n",
    "# Compile model with RMSprop optimizer and label smoothing for the loss\n",
    "model.compile(optimizer=RMSprop(learning_rate=learning_rate),\n",
    "              loss={'output1': keras.losses.CategoricalCrossentropy(label_smoothing=0.1),\n",
    "                    'output2': keras.losses.CategoricalCrossentropy(label_smoothing=0.1)},\n",
    "              metrics={'output1': 'accuracy', 'output2': 'accuracy'})\n",
    "\n",
    "history = model.fit(\n",
    "    traingen,            \n",
    "    epochs=250,          \n",
    "    steps_per_epoch=len(cifar10_x_train)//batchsize, # necessary since generator loops infinitely\n",
    "    validation_data=valgen,\n",
    "    validation_steps=len(cifar10_x_val)//batchsize,  # necessary since generator loops infinitely\n",
    "    callbacks=[early_stopping],\n",
    "    verbose=1\n",
    ")"
   ]
  },
  {
   "cell_type": "code",
   "execution_count": 48,
   "metadata": {},
   "outputs": [
    {
     "name": "stderr",
     "output_type": "stream",
     "text": [
      "100%|██████████| 10/10 [00:06<00:00,  1.51it/s]"
     ]
    },
    {
     "name": "stdout",
     "output_type": "stream",
     "text": [
      "mean accuracy =  0.7620449990034104\n",
      "standard deviation =  0.0027785288122172164\n"
     ]
    },
    {
     "name": "stderr",
     "output_type": "stream",
     "text": [
      "\n"
     ]
    }
   ],
   "source": [
    "evaluate_model(model, testgen)"
   ]
  },
  {
   "cell_type": "code",
   "execution_count": 49,
   "metadata": {},
   "outputs": [],
   "source": [
    "model.save('76.2acc.keras')"
   ]
  },
  {
   "cell_type": "code",
   "execution_count": 53,
   "metadata": {},
   "outputs": [
    {
     "name": "stdout",
     "output_type": "stream",
     "text": [
      "Epoch 1/250\n",
      "\u001b[1m703/703\u001b[0m \u001b[32m━━━━━━━━━━━━━━━━━━━━\u001b[0m\u001b[37m\u001b[0m \u001b[1m17s\u001b[0m 14ms/step - loss: 1.3996 - output1_accuracy: 0.8182 - output1_loss: 0.7606 - output2_accuracy: 0.8823 - output2_loss: 0.6390 - val_loss: 1.7521 - val_output1_accuracy: 0.7173 - val_output1_loss: 0.9571 - val_output2_accuracy: 0.8025 - val_output2_loss: 0.7950\n",
      "Epoch 2/250\n",
      "\u001b[1m703/703\u001b[0m \u001b[32m━━━━━━━━━━━━━━━━━━━━\u001b[0m\u001b[37m\u001b[0m \u001b[1m8s\u001b[0m 12ms/step - loss: 1.4034 - output1_accuracy: 0.8239 - output1_loss: 0.7555 - output2_accuracy: 0.8791 - output2_loss: 0.6480 - val_loss: 1.7386 - val_output1_accuracy: 0.7137 - val_output1_loss: 0.9600 - val_output2_accuracy: 0.8135 - val_output2_loss: 0.7786\n",
      "Epoch 3/250\n",
      "\u001b[1m703/703\u001b[0m \u001b[32m━━━━━━━━━━━━━━━━━━━━\u001b[0m\u001b[37m\u001b[0m \u001b[1m9s\u001b[0m 13ms/step - loss: 1.4068 - output1_accuracy: 0.8209 - output1_loss: 0.7576 - output2_accuracy: 0.8804 - output2_loss: 0.6492 - val_loss: 1.7251 - val_output1_accuracy: 0.7145 - val_output1_loss: 0.9411 - val_output2_accuracy: 0.8103 - val_output2_loss: 0.7840\n",
      "Epoch 4/250\n",
      "\u001b[1m703/703\u001b[0m \u001b[32m━━━━━━━━━━━━━━━━━━━━\u001b[0m\u001b[37m\u001b[0m \u001b[1m8s\u001b[0m 12ms/step - loss: 1.3956 - output1_accuracy: 0.8207 - output1_loss: 0.7572 - output2_accuracy: 0.8835 - output2_loss: 0.6384 - val_loss: 1.7400 - val_output1_accuracy: 0.7131 - val_output1_loss: 0.9621 - val_output2_accuracy: 0.8093 - val_output2_loss: 0.7779\n",
      "Epoch 5/250\n",
      "\u001b[1m703/703\u001b[0m \u001b[32m━━━━━━━━━━━━━━━━━━━━\u001b[0m\u001b[37m\u001b[0m \u001b[1m8s\u001b[0m 11ms/step - loss: 1.4011 - output1_accuracy: 0.8165 - output1_loss: 0.7628 - output2_accuracy: 0.8858 - output2_loss: 0.6383 - val_loss: 1.7300 - val_output1_accuracy: 0.7143 - val_output1_loss: 0.9643 - val_output2_accuracy: 0.8209 - val_output2_loss: 0.7657\n",
      "Epoch 6/250\n",
      "\u001b[1m703/703\u001b[0m \u001b[32m━━━━━━━━━━━━━━━━━━━━\u001b[0m\u001b[37m\u001b[0m \u001b[1m9s\u001b[0m 13ms/step - loss: 1.4059 - output1_accuracy: 0.8193 - output1_loss: 0.7617 - output2_accuracy: 0.8811 - output2_loss: 0.6442 - val_loss: 1.6861 - val_output1_accuracy: 0.7298 - val_output1_loss: 0.9179 - val_output2_accuracy: 0.8187 - val_output2_loss: 0.7682\n",
      "Epoch 7/250\n",
      "\u001b[1m703/703\u001b[0m \u001b[32m━━━━━━━━━━━━━━━━━━━━\u001b[0m\u001b[37m\u001b[0m \u001b[1m9s\u001b[0m 12ms/step - loss: 1.3998 - output1_accuracy: 0.8199 - output1_loss: 0.7587 - output2_accuracy: 0.8839 - output2_loss: 0.6411 - val_loss: 1.7184 - val_output1_accuracy: 0.7157 - val_output1_loss: 0.9403 - val_output2_accuracy: 0.8073 - val_output2_loss: 0.7781\n",
      "Epoch 8/250\n",
      "\u001b[1m703/703\u001b[0m \u001b[32m━━━━━━━━━━━━━━━━━━━━\u001b[0m\u001b[37m\u001b[0m \u001b[1m8s\u001b[0m 12ms/step - loss: 1.4018 - output1_accuracy: 0.8191 - output1_loss: 0.7587 - output2_accuracy: 0.8829 - output2_loss: 0.6431 - val_loss: 1.7179 - val_output1_accuracy: 0.7216 - val_output1_loss: 0.9380 - val_output2_accuracy: 0.8059 - val_output2_loss: 0.7799\n",
      "Epoch 9/250\n",
      "\u001b[1m703/703\u001b[0m \u001b[32m━━━━━━━━━━━━━━━━━━━━\u001b[0m\u001b[37m\u001b[0m \u001b[1m9s\u001b[0m 12ms/step - loss: 1.3988 - output1_accuracy: 0.8197 - output1_loss: 0.7613 - output2_accuracy: 0.8842 - output2_loss: 0.6375 - val_loss: 1.7344 - val_output1_accuracy: 0.7232 - val_output1_loss: 0.9404 - val_output2_accuracy: 0.8035 - val_output2_loss: 0.7940\n",
      "Epoch 10/250\n",
      "\u001b[1m703/703\u001b[0m \u001b[32m━━━━━━━━━━━━━━━━━━━━\u001b[0m\u001b[37m\u001b[0m \u001b[1m8s\u001b[0m 12ms/step - loss: 1.3975 - output1_accuracy: 0.8236 - output1_loss: 0.7547 - output2_accuracy: 0.8789 - output2_loss: 0.6428 - val_loss: 1.7372 - val_output1_accuracy: 0.7198 - val_output1_loss: 0.9496 - val_output2_accuracy: 0.8039 - val_output2_loss: 0.7876\n",
      "Epoch 11/250\n",
      "\u001b[1m703/703\u001b[0m \u001b[32m━━━━━━━━━━━━━━━━━━━━\u001b[0m\u001b[37m\u001b[0m \u001b[1m9s\u001b[0m 12ms/step - loss: 1.3923 - output1_accuracy: 0.8216 - output1_loss: 0.7540 - output2_accuracy: 0.8852 - output2_loss: 0.6384 - val_loss: 1.7504 - val_output1_accuracy: 0.7133 - val_output1_loss: 0.9644 - val_output2_accuracy: 0.8097 - val_output2_loss: 0.7861\n",
      "Epoch 12/250\n",
      "\u001b[1m703/703\u001b[0m \u001b[32m━━━━━━━━━━━━━━━━━━━━\u001b[0m\u001b[37m\u001b[0m \u001b[1m9s\u001b[0m 13ms/step - loss: 1.3974 - output1_accuracy: 0.8262 - output1_loss: 0.7497 - output2_accuracy: 0.8786 - output2_loss: 0.6477 - val_loss: 1.7291 - val_output1_accuracy: 0.7179 - val_output1_loss: 0.9484 - val_output2_accuracy: 0.8067 - val_output2_loss: 0.7807\n",
      "Epoch 13/250\n",
      "\u001b[1m703/703\u001b[0m \u001b[32m━━━━━━━━━━━━━━━━━━━━\u001b[0m\u001b[37m\u001b[0m \u001b[1m9s\u001b[0m 12ms/step - loss: 1.4012 - output1_accuracy: 0.8194 - output1_loss: 0.7566 - output2_accuracy: 0.8793 - output2_loss: 0.6446 - val_loss: 1.7262 - val_output1_accuracy: 0.7173 - val_output1_loss: 0.9481 - val_output2_accuracy: 0.8107 - val_output2_loss: 0.7780\n",
      "Epoch 14/250\n",
      "\u001b[1m703/703\u001b[0m \u001b[32m━━━━━━━━━━━━━━━━━━━━\u001b[0m\u001b[37m\u001b[0m \u001b[1m8s\u001b[0m 11ms/step - loss: 1.3949 - output1_accuracy: 0.8186 - output1_loss: 0.7585 - output2_accuracy: 0.8856 - output2_loss: 0.6363 - val_loss: 1.7574 - val_output1_accuracy: 0.7039 - val_output1_loss: 0.9676 - val_output2_accuracy: 0.8055 - val_output2_loss: 0.7898\n",
      "Epoch 15/250\n",
      "\u001b[1m703/703\u001b[0m \u001b[32m━━━━━━━━━━━━━━━━━━━━\u001b[0m\u001b[37m\u001b[0m \u001b[1m9s\u001b[0m 13ms/step - loss: 1.4022 - output1_accuracy: 0.8180 - output1_loss: 0.7615 - output2_accuracy: 0.8842 - output2_loss: 0.6406 - val_loss: 1.7579 - val_output1_accuracy: 0.7045 - val_output1_loss: 0.9668 - val_output2_accuracy: 0.8059 - val_output2_loss: 0.7911\n",
      "Epoch 16/250\n",
      "\u001b[1m703/703\u001b[0m \u001b[32m━━━━━━━━━━━━━━━━━━━━\u001b[0m\u001b[37m\u001b[0m \u001b[1m9s\u001b[0m 13ms/step - loss: 1.3934 - output1_accuracy: 0.8236 - output1_loss: 0.7517 - output2_accuracy: 0.8837 - output2_loss: 0.6416 - val_loss: 1.7400 - val_output1_accuracy: 0.7173 - val_output1_loss: 0.9585 - val_output2_accuracy: 0.8121 - val_output2_loss: 0.7815\n",
      "Epoch 16: early stopping\n",
      "Restoring model weights from the end of the best epoch: 6.\n"
     ]
    }
   ],
   "source": [
    "# Custom small learning rate\n",
    "learning_rate = 1e-7 # You can adjust this value as needed for fine-tuning\n",
    "\n",
    "# Compile model with RMSprop optimizer and label smoothing for the loss\n",
    "model.compile(optimizer='adagrad',\n",
    "              loss={'output1': keras.losses.CategoricalCrossentropy(label_smoothing=0.1),\n",
    "                    'output2': keras.losses.CategoricalCrossentropy(label_smoothing=0.1)},\n",
    "              metrics={'output1': 'accuracy', 'output2': 'accuracy'})\n",
    "\n",
    "history = model.fit(\n",
    "    traingen,            \n",
    "    epochs=250,          \n",
    "    steps_per_epoch=len(cifar10_x_train)//batchsize, # necessary since generator loops infinitely\n",
    "    validation_data=valgen,\n",
    "    validation_steps=len(cifar10_x_val)//batchsize,  # necessary since generator loops infinitely\n",
    "    callbacks=[early_stopping],\n",
    "    verbose=1\n",
    ")"
   ]
  },
  {
   "cell_type": "code",
   "execution_count": 54,
   "metadata": {},
   "outputs": [
    {
     "name": "stderr",
     "output_type": "stream",
     "text": [
      "100%|██████████| 10/10 [00:06<00:00,  1.48it/s]"
     ]
    },
    {
     "name": "stdout",
     "output_type": "stream",
     "text": [
      "mean accuracy =  0.7644650042057037\n",
      "standard deviation =  0.0022757387857020393\n"
     ]
    },
    {
     "name": "stderr",
     "output_type": "stream",
     "text": [
      "\n"
     ]
    }
   ],
   "source": [
    "evaluate_model(model, testgen)"
   ]
  },
  {
   "cell_type": "code",
   "execution_count": 55,
   "metadata": {},
   "outputs": [],
   "source": [
    "model.save('76.4acc.keras')"
   ]
  },
  {
   "cell_type": "code",
   "execution_count": 56,
   "metadata": {},
   "outputs": [],
   "source": [
    "def ACCNR():\n",
    "    # CIFAR-10\n",
    "    inputs = keras.Input(shape=(32,32,3))\n",
    "    inputs = layers.RandomFlip(\"horizontal\")(inputs)\n",
    "    # Feature Extractor\n",
    "    x = layers.Conv2D(96, (3,3), activation='relu')(inputs)\n",
    "    x = layers.BatchNormalization()(x)\n",
    "    x = layers.Conv2D(96, (3,3), activation='relu')(x)\n",
    "    x = layers.BatchNormalization()(x)\n",
    "    x = layers.Conv2D(96, (3,3), activation='relu', strides=2)(x)\n",
    "    x = layers.BatchNormalization()(x)\n",
    "    x = layers.Conv2D(192, (3,3), activation='relu')(x)\n",
    "    x = layers.BatchNormalization()(x)\n",
    "    x = layers.Conv2D(192, (3,3), activation='relu')(x)\n",
    "    x = layers.BatchNormalization()(x)\n",
    "    x = layers.Conv2D(192, (3,3), activation='relu', strides=2)(x)\n",
    "    x = layers.BatchNormalization()(x)\n",
    "    x = layers.Conv2D(192, (3,3), activation='relu')(x)\n",
    "    x = layers.BatchNormalization()(x)\n",
    "    x = layers.Conv2D(192, (1,1), activation='relu')(x)\n",
    "    x = layers.BatchNormalization()(x)\n",
    "    # Classifers\n",
    "    x = layers.GlobalAveragePooling2D()(x)\n",
    "    #x = layers.Flatten()(x)\n",
    "    output1 = layers.Dense(5, activation='softmax', name='output1')(x)\n",
    "    output2 = layers.Dense(5, activation='softmax', name='output2')(x)\n",
    "    # Model creation\n",
    "    model = keras.Model(\n",
    "        inputs,\n",
    "        outputs={'output1':output1, 'output2':output2}, name='ACCNR',\n",
    "        )\n",
    "    return model"
   ]
  },
  {
   "cell_type": "code",
   "execution_count": 57,
   "metadata": {},
   "outputs": [
    {
     "data": {
      "text/html": [
       "<pre style=\"white-space:pre;overflow-x:auto;line-height:normal;font-family:Menlo,'DejaVu Sans Mono',consolas,'Courier New',monospace\"><span style=\"font-weight: bold\">Model: \"ACCNR\"</span>\n",
       "</pre>\n"
      ],
      "text/plain": [
       "\u001b[1mModel: \"ACCNR\"\u001b[0m\n"
      ]
     },
     "metadata": {},
     "output_type": "display_data"
    },
    {
     "data": {
      "text/html": [
       "<pre style=\"white-space:pre;overflow-x:auto;line-height:normal;font-family:Menlo,'DejaVu Sans Mono',consolas,'Courier New',monospace\">┏━━━━━━━━━━━━━━━━━━━━━┳━━━━━━━━━━━━━━━━━━━┳━━━━━━━━━━━━┳━━━━━━━━━━━━━━━━━━━┓\n",
       "┃<span style=\"font-weight: bold\"> Layer (type)        </span>┃<span style=\"font-weight: bold\"> Output Shape      </span>┃<span style=\"font-weight: bold\">    Param # </span>┃<span style=\"font-weight: bold\"> Connected to      </span>┃\n",
       "┡━━━━━━━━━━━━━━━━━━━━━╇━━━━━━━━━━━━━━━━━━━╇━━━━━━━━━━━━╇━━━━━━━━━━━━━━━━━━━┩\n",
       "│ keras_tensor_1CLONE │ (<span style=\"color: #00d7ff; text-decoration-color: #00d7ff\">None</span>, <span style=\"color: #00af00; text-decoration-color: #00af00\">32</span>, <span style=\"color: #00af00; text-decoration-color: #00af00\">32</span>, <span style=\"color: #00af00; text-decoration-color: #00af00\">3</span>) │          <span style=\"color: #00af00; text-decoration-color: #00af00\">0</span> │ -                 │\n",
       "│ (<span style=\"color: #0087ff; text-decoration-color: #0087ff\">InputLayer</span>)        │                   │            │                   │\n",
       "├─────────────────────┼───────────────────┼────────────┼───────────────────┤\n",
       "│ conv2d (<span style=\"color: #0087ff; text-decoration-color: #0087ff\">Conv2D</span>)     │ (<span style=\"color: #00d7ff; text-decoration-color: #00d7ff\">None</span>, <span style=\"color: #00af00; text-decoration-color: #00af00\">30</span>, <span style=\"color: #00af00; text-decoration-color: #00af00\">30</span>,    │      <span style=\"color: #00af00; text-decoration-color: #00af00\">2,688</span> │ keras_tensor_1CL… │\n",
       "│                     │ <span style=\"color: #00af00; text-decoration-color: #00af00\">96</span>)               │            │                   │\n",
       "├─────────────────────┼───────────────────┼────────────┼───────────────────┤\n",
       "│ batch_normalization │ (<span style=\"color: #00d7ff; text-decoration-color: #00d7ff\">None</span>, <span style=\"color: #00af00; text-decoration-color: #00af00\">30</span>, <span style=\"color: #00af00; text-decoration-color: #00af00\">30</span>,    │        <span style=\"color: #00af00; text-decoration-color: #00af00\">384</span> │ conv2d[<span style=\"color: #00af00; text-decoration-color: #00af00\">1</span>][<span style=\"color: #00af00; text-decoration-color: #00af00\">0</span>]      │\n",
       "│ (<span style=\"color: #0087ff; text-decoration-color: #0087ff\">BatchNormalizatio…</span> │ <span style=\"color: #00af00; text-decoration-color: #00af00\">96</span>)               │            │                   │\n",
       "├─────────────────────┼───────────────────┼────────────┼───────────────────┤\n",
       "│ conv2d_1 (<span style=\"color: #0087ff; text-decoration-color: #0087ff\">Conv2D</span>)   │ (<span style=\"color: #00d7ff; text-decoration-color: #00d7ff\">None</span>, <span style=\"color: #00af00; text-decoration-color: #00af00\">28</span>, <span style=\"color: #00af00; text-decoration-color: #00af00\">28</span>,    │     <span style=\"color: #00af00; text-decoration-color: #00af00\">83,040</span> │ batch_normalizat… │\n",
       "│                     │ <span style=\"color: #00af00; text-decoration-color: #00af00\">96</span>)               │            │                   │\n",
       "├─────────────────────┼───────────────────┼────────────┼───────────────────┤\n",
       "│ batch_normalizatio… │ (<span style=\"color: #00d7ff; text-decoration-color: #00d7ff\">None</span>, <span style=\"color: #00af00; text-decoration-color: #00af00\">28</span>, <span style=\"color: #00af00; text-decoration-color: #00af00\">28</span>,    │        <span style=\"color: #00af00; text-decoration-color: #00af00\">384</span> │ conv2d_1[<span style=\"color: #00af00; text-decoration-color: #00af00\">1</span>][<span style=\"color: #00af00; text-decoration-color: #00af00\">0</span>]    │\n",
       "│ (<span style=\"color: #0087ff; text-decoration-color: #0087ff\">BatchNormalizatio…</span> │ <span style=\"color: #00af00; text-decoration-color: #00af00\">96</span>)               │            │                   │\n",
       "├─────────────────────┼───────────────────┼────────────┼───────────────────┤\n",
       "│ conv2d_2 (<span style=\"color: #0087ff; text-decoration-color: #0087ff\">Conv2D</span>)   │ (<span style=\"color: #00d7ff; text-decoration-color: #00d7ff\">None</span>, <span style=\"color: #00af00; text-decoration-color: #00af00\">13</span>, <span style=\"color: #00af00; text-decoration-color: #00af00\">13</span>,    │     <span style=\"color: #00af00; text-decoration-color: #00af00\">83,040</span> │ batch_normalizat… │\n",
       "│                     │ <span style=\"color: #00af00; text-decoration-color: #00af00\">96</span>)               │            │                   │\n",
       "├─────────────────────┼───────────────────┼────────────┼───────────────────┤\n",
       "│ batch_normalizatio… │ (<span style=\"color: #00d7ff; text-decoration-color: #00d7ff\">None</span>, <span style=\"color: #00af00; text-decoration-color: #00af00\">13</span>, <span style=\"color: #00af00; text-decoration-color: #00af00\">13</span>,    │        <span style=\"color: #00af00; text-decoration-color: #00af00\">384</span> │ conv2d_2[<span style=\"color: #00af00; text-decoration-color: #00af00\">1</span>][<span style=\"color: #00af00; text-decoration-color: #00af00\">0</span>]    │\n",
       "│ (<span style=\"color: #0087ff; text-decoration-color: #0087ff\">BatchNormalizatio…</span> │ <span style=\"color: #00af00; text-decoration-color: #00af00\">96</span>)               │            │                   │\n",
       "├─────────────────────┼───────────────────┼────────────┼───────────────────┤\n",
       "│ conv2d_3 (<span style=\"color: #0087ff; text-decoration-color: #0087ff\">Conv2D</span>)   │ (<span style=\"color: #00d7ff; text-decoration-color: #00d7ff\">None</span>, <span style=\"color: #00af00; text-decoration-color: #00af00\">11</span>, <span style=\"color: #00af00; text-decoration-color: #00af00\">11</span>,    │    <span style=\"color: #00af00; text-decoration-color: #00af00\">166,080</span> │ batch_normalizat… │\n",
       "│                     │ <span style=\"color: #00af00; text-decoration-color: #00af00\">192</span>)              │            │                   │\n",
       "├─────────────────────┼───────────────────┼────────────┼───────────────────┤\n",
       "│ batch_normalizatio… │ (<span style=\"color: #00d7ff; text-decoration-color: #00d7ff\">None</span>, <span style=\"color: #00af00; text-decoration-color: #00af00\">11</span>, <span style=\"color: #00af00; text-decoration-color: #00af00\">11</span>,    │        <span style=\"color: #00af00; text-decoration-color: #00af00\">768</span> │ conv2d_3[<span style=\"color: #00af00; text-decoration-color: #00af00\">1</span>][<span style=\"color: #00af00; text-decoration-color: #00af00\">0</span>]    │\n",
       "│ (<span style=\"color: #0087ff; text-decoration-color: #0087ff\">BatchNormalizatio…</span> │ <span style=\"color: #00af00; text-decoration-color: #00af00\">192</span>)              │            │                   │\n",
       "├─────────────────────┼───────────────────┼────────────┼───────────────────┤\n",
       "│ conv2d_4 (<span style=\"color: #0087ff; text-decoration-color: #0087ff\">Conv2D</span>)   │ (<span style=\"color: #00d7ff; text-decoration-color: #00d7ff\">None</span>, <span style=\"color: #00af00; text-decoration-color: #00af00\">9</span>, <span style=\"color: #00af00; text-decoration-color: #00af00\">9</span>, <span style=\"color: #00af00; text-decoration-color: #00af00\">192</span>) │    <span style=\"color: #00af00; text-decoration-color: #00af00\">331,968</span> │ batch_normalizat… │\n",
       "├─────────────────────┼───────────────────┼────────────┼───────────────────┤\n",
       "│ batch_normalizatio… │ (<span style=\"color: #00d7ff; text-decoration-color: #00d7ff\">None</span>, <span style=\"color: #00af00; text-decoration-color: #00af00\">9</span>, <span style=\"color: #00af00; text-decoration-color: #00af00\">9</span>, <span style=\"color: #00af00; text-decoration-color: #00af00\">192</span>) │        <span style=\"color: #00af00; text-decoration-color: #00af00\">768</span> │ conv2d_4[<span style=\"color: #00af00; text-decoration-color: #00af00\">1</span>][<span style=\"color: #00af00; text-decoration-color: #00af00\">0</span>]    │\n",
       "│ (<span style=\"color: #0087ff; text-decoration-color: #0087ff\">BatchNormalizatio…</span> │                   │            │                   │\n",
       "├─────────────────────┼───────────────────┼────────────┼───────────────────┤\n",
       "│ conv2d_5 (<span style=\"color: #0087ff; text-decoration-color: #0087ff\">Conv2D</span>)   │ (<span style=\"color: #00d7ff; text-decoration-color: #00d7ff\">None</span>, <span style=\"color: #00af00; text-decoration-color: #00af00\">4</span>, <span style=\"color: #00af00; text-decoration-color: #00af00\">4</span>, <span style=\"color: #00af00; text-decoration-color: #00af00\">192</span>) │    <span style=\"color: #00af00; text-decoration-color: #00af00\">331,968</span> │ batch_normalizat… │\n",
       "├─────────────────────┼───────────────────┼────────────┼───────────────────┤\n",
       "│ batch_normalizatio… │ (<span style=\"color: #00d7ff; text-decoration-color: #00d7ff\">None</span>, <span style=\"color: #00af00; text-decoration-color: #00af00\">4</span>, <span style=\"color: #00af00; text-decoration-color: #00af00\">4</span>, <span style=\"color: #00af00; text-decoration-color: #00af00\">192</span>) │        <span style=\"color: #00af00; text-decoration-color: #00af00\">768</span> │ conv2d_5[<span style=\"color: #00af00; text-decoration-color: #00af00\">1</span>][<span style=\"color: #00af00; text-decoration-color: #00af00\">0</span>]    │\n",
       "│ (<span style=\"color: #0087ff; text-decoration-color: #0087ff\">BatchNormalizatio…</span> │                   │            │                   │\n",
       "├─────────────────────┼───────────────────┼────────────┼───────────────────┤\n",
       "│ conv2d_6 (<span style=\"color: #0087ff; text-decoration-color: #0087ff\">Conv2D</span>)   │ (<span style=\"color: #00d7ff; text-decoration-color: #00d7ff\">None</span>, <span style=\"color: #00af00; text-decoration-color: #00af00\">2</span>, <span style=\"color: #00af00; text-decoration-color: #00af00\">2</span>, <span style=\"color: #00af00; text-decoration-color: #00af00\">192</span>) │    <span style=\"color: #00af00; text-decoration-color: #00af00\">331,968</span> │ batch_normalizat… │\n",
       "├─────────────────────┼───────────────────┼────────────┼───────────────────┤\n",
       "│ batch_normalizatio… │ (<span style=\"color: #00d7ff; text-decoration-color: #00d7ff\">None</span>, <span style=\"color: #00af00; text-decoration-color: #00af00\">2</span>, <span style=\"color: #00af00; text-decoration-color: #00af00\">2</span>, <span style=\"color: #00af00; text-decoration-color: #00af00\">192</span>) │        <span style=\"color: #00af00; text-decoration-color: #00af00\">768</span> │ conv2d_6[<span style=\"color: #00af00; text-decoration-color: #00af00\">1</span>][<span style=\"color: #00af00; text-decoration-color: #00af00\">0</span>]    │\n",
       "│ (<span style=\"color: #0087ff; text-decoration-color: #0087ff\">BatchNormalizatio…</span> │                   │            │                   │\n",
       "├─────────────────────┼───────────────────┼────────────┼───────────────────┤\n",
       "│ conv2d_7 (<span style=\"color: #0087ff; text-decoration-color: #0087ff\">Conv2D</span>)   │ (<span style=\"color: #00d7ff; text-decoration-color: #00d7ff\">None</span>, <span style=\"color: #00af00; text-decoration-color: #00af00\">2</span>, <span style=\"color: #00af00; text-decoration-color: #00af00\">2</span>, <span style=\"color: #00af00; text-decoration-color: #00af00\">192</span>) │     <span style=\"color: #00af00; text-decoration-color: #00af00\">37,056</span> │ batch_normalizat… │\n",
       "├─────────────────────┼───────────────────┼────────────┼───────────────────┤\n",
       "│ batch_normalizatio… │ (<span style=\"color: #00d7ff; text-decoration-color: #00d7ff\">None</span>, <span style=\"color: #00af00; text-decoration-color: #00af00\">2</span>, <span style=\"color: #00af00; text-decoration-color: #00af00\">2</span>, <span style=\"color: #00af00; text-decoration-color: #00af00\">192</span>) │        <span style=\"color: #00af00; text-decoration-color: #00af00\">768</span> │ conv2d_7[<span style=\"color: #00af00; text-decoration-color: #00af00\">1</span>][<span style=\"color: #00af00; text-decoration-color: #00af00\">0</span>]    │\n",
       "│ (<span style=\"color: #0087ff; text-decoration-color: #0087ff\">BatchNormalizatio…</span> │                   │            │                   │\n",
       "├─────────────────────┼───────────────────┼────────────┼───────────────────┤\n",
       "│ global_average_poo… │ (<span style=\"color: #00d7ff; text-decoration-color: #00d7ff\">None</span>, <span style=\"color: #00af00; text-decoration-color: #00af00\">192</span>)       │          <span style=\"color: #00af00; text-decoration-color: #00af00\">0</span> │ batch_normalizat… │\n",
       "│ (<span style=\"color: #0087ff; text-decoration-color: #0087ff\">GlobalAveragePool…</span> │                   │            │                   │\n",
       "├─────────────────────┼───────────────────┼────────────┼───────────────────┤\n",
       "│ output1 (<span style=\"color: #0087ff; text-decoration-color: #0087ff\">Dense</span>)     │ (<span style=\"color: #00d7ff; text-decoration-color: #00d7ff\">None</span>, <span style=\"color: #00af00; text-decoration-color: #00af00\">5</span>)         │        <span style=\"color: #00af00; text-decoration-color: #00af00\">965</span> │ global_average_p… │\n",
       "├─────────────────────┼───────────────────┼────────────┼───────────────────┤\n",
       "│ output2 (<span style=\"color: #0087ff; text-decoration-color: #0087ff\">Dense</span>)     │ (<span style=\"color: #00d7ff; text-decoration-color: #00d7ff\">None</span>, <span style=\"color: #00af00; text-decoration-color: #00af00\">5</span>)         │        <span style=\"color: #00af00; text-decoration-color: #00af00\">965</span> │ global_average_p… │\n",
       "└─────────────────────┴───────────────────┴────────────┴───────────────────┘\n",
       "</pre>\n"
      ],
      "text/plain": [
       "┏━━━━━━━━━━━━━━━━━━━━━┳━━━━━━━━━━━━━━━━━━━┳━━━━━━━━━━━━┳━━━━━━━━━━━━━━━━━━━┓\n",
       "┃\u001b[1m \u001b[0m\u001b[1mLayer (type)       \u001b[0m\u001b[1m \u001b[0m┃\u001b[1m \u001b[0m\u001b[1mOutput Shape     \u001b[0m\u001b[1m \u001b[0m┃\u001b[1m \u001b[0m\u001b[1m   Param #\u001b[0m\u001b[1m \u001b[0m┃\u001b[1m \u001b[0m\u001b[1mConnected to     \u001b[0m\u001b[1m \u001b[0m┃\n",
       "┡━━━━━━━━━━━━━━━━━━━━━╇━━━━━━━━━━━━━━━━━━━╇━━━━━━━━━━━━╇━━━━━━━━━━━━━━━━━━━┩\n",
       "│ keras_tensor_1CLONE │ (\u001b[38;5;45mNone\u001b[0m, \u001b[38;5;34m32\u001b[0m, \u001b[38;5;34m32\u001b[0m, \u001b[38;5;34m3\u001b[0m) │          \u001b[38;5;34m0\u001b[0m │ -                 │\n",
       "│ (\u001b[38;5;33mInputLayer\u001b[0m)        │                   │            │                   │\n",
       "├─────────────────────┼───────────────────┼────────────┼───────────────────┤\n",
       "│ conv2d (\u001b[38;5;33mConv2D\u001b[0m)     │ (\u001b[38;5;45mNone\u001b[0m, \u001b[38;5;34m30\u001b[0m, \u001b[38;5;34m30\u001b[0m,    │      \u001b[38;5;34m2,688\u001b[0m │ keras_tensor_1CL… │\n",
       "│                     │ \u001b[38;5;34m96\u001b[0m)               │            │                   │\n",
       "├─────────────────────┼───────────────────┼────────────┼───────────────────┤\n",
       "│ batch_normalization │ (\u001b[38;5;45mNone\u001b[0m, \u001b[38;5;34m30\u001b[0m, \u001b[38;5;34m30\u001b[0m,    │        \u001b[38;5;34m384\u001b[0m │ conv2d[\u001b[38;5;34m1\u001b[0m][\u001b[38;5;34m0\u001b[0m]      │\n",
       "│ (\u001b[38;5;33mBatchNormalizatio…\u001b[0m │ \u001b[38;5;34m96\u001b[0m)               │            │                   │\n",
       "├─────────────────────┼───────────────────┼────────────┼───────────────────┤\n",
       "│ conv2d_1 (\u001b[38;5;33mConv2D\u001b[0m)   │ (\u001b[38;5;45mNone\u001b[0m, \u001b[38;5;34m28\u001b[0m, \u001b[38;5;34m28\u001b[0m,    │     \u001b[38;5;34m83,040\u001b[0m │ batch_normalizat… │\n",
       "│                     │ \u001b[38;5;34m96\u001b[0m)               │            │                   │\n",
       "├─────────────────────┼───────────────────┼────────────┼───────────────────┤\n",
       "│ batch_normalizatio… │ (\u001b[38;5;45mNone\u001b[0m, \u001b[38;5;34m28\u001b[0m, \u001b[38;5;34m28\u001b[0m,    │        \u001b[38;5;34m384\u001b[0m │ conv2d_1[\u001b[38;5;34m1\u001b[0m][\u001b[38;5;34m0\u001b[0m]    │\n",
       "│ (\u001b[38;5;33mBatchNormalizatio…\u001b[0m │ \u001b[38;5;34m96\u001b[0m)               │            │                   │\n",
       "├─────────────────────┼───────────────────┼────────────┼───────────────────┤\n",
       "│ conv2d_2 (\u001b[38;5;33mConv2D\u001b[0m)   │ (\u001b[38;5;45mNone\u001b[0m, \u001b[38;5;34m13\u001b[0m, \u001b[38;5;34m13\u001b[0m,    │     \u001b[38;5;34m83,040\u001b[0m │ batch_normalizat… │\n",
       "│                     │ \u001b[38;5;34m96\u001b[0m)               │            │                   │\n",
       "├─────────────────────┼───────────────────┼────────────┼───────────────────┤\n",
       "│ batch_normalizatio… │ (\u001b[38;5;45mNone\u001b[0m, \u001b[38;5;34m13\u001b[0m, \u001b[38;5;34m13\u001b[0m,    │        \u001b[38;5;34m384\u001b[0m │ conv2d_2[\u001b[38;5;34m1\u001b[0m][\u001b[38;5;34m0\u001b[0m]    │\n",
       "│ (\u001b[38;5;33mBatchNormalizatio…\u001b[0m │ \u001b[38;5;34m96\u001b[0m)               │            │                   │\n",
       "├─────────────────────┼───────────────────┼────────────┼───────────────────┤\n",
       "│ conv2d_3 (\u001b[38;5;33mConv2D\u001b[0m)   │ (\u001b[38;5;45mNone\u001b[0m, \u001b[38;5;34m11\u001b[0m, \u001b[38;5;34m11\u001b[0m,    │    \u001b[38;5;34m166,080\u001b[0m │ batch_normalizat… │\n",
       "│                     │ \u001b[38;5;34m192\u001b[0m)              │            │                   │\n",
       "├─────────────────────┼───────────────────┼────────────┼───────────────────┤\n",
       "│ batch_normalizatio… │ (\u001b[38;5;45mNone\u001b[0m, \u001b[38;5;34m11\u001b[0m, \u001b[38;5;34m11\u001b[0m,    │        \u001b[38;5;34m768\u001b[0m │ conv2d_3[\u001b[38;5;34m1\u001b[0m][\u001b[38;5;34m0\u001b[0m]    │\n",
       "│ (\u001b[38;5;33mBatchNormalizatio…\u001b[0m │ \u001b[38;5;34m192\u001b[0m)              │            │                   │\n",
       "├─────────────────────┼───────────────────┼────────────┼───────────────────┤\n",
       "│ conv2d_4 (\u001b[38;5;33mConv2D\u001b[0m)   │ (\u001b[38;5;45mNone\u001b[0m, \u001b[38;5;34m9\u001b[0m, \u001b[38;5;34m9\u001b[0m, \u001b[38;5;34m192\u001b[0m) │    \u001b[38;5;34m331,968\u001b[0m │ batch_normalizat… │\n",
       "├─────────────────────┼───────────────────┼────────────┼───────────────────┤\n",
       "│ batch_normalizatio… │ (\u001b[38;5;45mNone\u001b[0m, \u001b[38;5;34m9\u001b[0m, \u001b[38;5;34m9\u001b[0m, \u001b[38;5;34m192\u001b[0m) │        \u001b[38;5;34m768\u001b[0m │ conv2d_4[\u001b[38;5;34m1\u001b[0m][\u001b[38;5;34m0\u001b[0m]    │\n",
       "│ (\u001b[38;5;33mBatchNormalizatio…\u001b[0m │                   │            │                   │\n",
       "├─────────────────────┼───────────────────┼────────────┼───────────────────┤\n",
       "│ conv2d_5 (\u001b[38;5;33mConv2D\u001b[0m)   │ (\u001b[38;5;45mNone\u001b[0m, \u001b[38;5;34m4\u001b[0m, \u001b[38;5;34m4\u001b[0m, \u001b[38;5;34m192\u001b[0m) │    \u001b[38;5;34m331,968\u001b[0m │ batch_normalizat… │\n",
       "├─────────────────────┼───────────────────┼────────────┼───────────────────┤\n",
       "│ batch_normalizatio… │ (\u001b[38;5;45mNone\u001b[0m, \u001b[38;5;34m4\u001b[0m, \u001b[38;5;34m4\u001b[0m, \u001b[38;5;34m192\u001b[0m) │        \u001b[38;5;34m768\u001b[0m │ conv2d_5[\u001b[38;5;34m1\u001b[0m][\u001b[38;5;34m0\u001b[0m]    │\n",
       "│ (\u001b[38;5;33mBatchNormalizatio…\u001b[0m │                   │            │                   │\n",
       "├─────────────────────┼───────────────────┼────────────┼───────────────────┤\n",
       "│ conv2d_6 (\u001b[38;5;33mConv2D\u001b[0m)   │ (\u001b[38;5;45mNone\u001b[0m, \u001b[38;5;34m2\u001b[0m, \u001b[38;5;34m2\u001b[0m, \u001b[38;5;34m192\u001b[0m) │    \u001b[38;5;34m331,968\u001b[0m │ batch_normalizat… │\n",
       "├─────────────────────┼───────────────────┼────────────┼───────────────────┤\n",
       "│ batch_normalizatio… │ (\u001b[38;5;45mNone\u001b[0m, \u001b[38;5;34m2\u001b[0m, \u001b[38;5;34m2\u001b[0m, \u001b[38;5;34m192\u001b[0m) │        \u001b[38;5;34m768\u001b[0m │ conv2d_6[\u001b[38;5;34m1\u001b[0m][\u001b[38;5;34m0\u001b[0m]    │\n",
       "│ (\u001b[38;5;33mBatchNormalizatio…\u001b[0m │                   │            │                   │\n",
       "├─────────────────────┼───────────────────┼────────────┼───────────────────┤\n",
       "│ conv2d_7 (\u001b[38;5;33mConv2D\u001b[0m)   │ (\u001b[38;5;45mNone\u001b[0m, \u001b[38;5;34m2\u001b[0m, \u001b[38;5;34m2\u001b[0m, \u001b[38;5;34m192\u001b[0m) │     \u001b[38;5;34m37,056\u001b[0m │ batch_normalizat… │\n",
       "├─────────────────────┼───────────────────┼────────────┼───────────────────┤\n",
       "│ batch_normalizatio… │ (\u001b[38;5;45mNone\u001b[0m, \u001b[38;5;34m2\u001b[0m, \u001b[38;5;34m2\u001b[0m, \u001b[38;5;34m192\u001b[0m) │        \u001b[38;5;34m768\u001b[0m │ conv2d_7[\u001b[38;5;34m1\u001b[0m][\u001b[38;5;34m0\u001b[0m]    │\n",
       "│ (\u001b[38;5;33mBatchNormalizatio…\u001b[0m │                   │            │                   │\n",
       "├─────────────────────┼───────────────────┼────────────┼───────────────────┤\n",
       "│ global_average_poo… │ (\u001b[38;5;45mNone\u001b[0m, \u001b[38;5;34m192\u001b[0m)       │          \u001b[38;5;34m0\u001b[0m │ batch_normalizat… │\n",
       "│ (\u001b[38;5;33mGlobalAveragePool…\u001b[0m │                   │            │                   │\n",
       "├─────────────────────┼───────────────────┼────────────┼───────────────────┤\n",
       "│ output1 (\u001b[38;5;33mDense\u001b[0m)     │ (\u001b[38;5;45mNone\u001b[0m, \u001b[38;5;34m5\u001b[0m)         │        \u001b[38;5;34m965\u001b[0m │ global_average_p… │\n",
       "├─────────────────────┼───────────────────┼────────────┼───────────────────┤\n",
       "│ output2 (\u001b[38;5;33mDense\u001b[0m)     │ (\u001b[38;5;45mNone\u001b[0m, \u001b[38;5;34m5\u001b[0m)         │        \u001b[38;5;34m965\u001b[0m │ global_average_p… │\n",
       "└─────────────────────┴───────────────────┴────────────┴───────────────────┘\n"
      ]
     },
     "metadata": {},
     "output_type": "display_data"
    },
    {
     "data": {
      "text/html": [
       "<pre style=\"white-space:pre;overflow-x:auto;line-height:normal;font-family:Menlo,'DejaVu Sans Mono',consolas,'Courier New',monospace\"><span style=\"font-weight: bold\"> Total params: </span><span style=\"color: #00af00; text-decoration-color: #00af00\">1,374,730</span> (5.24 MB)\n",
       "</pre>\n"
      ],
      "text/plain": [
       "\u001b[1m Total params: \u001b[0m\u001b[38;5;34m1,374,730\u001b[0m (5.24 MB)\n"
      ]
     },
     "metadata": {},
     "output_type": "display_data"
    },
    {
     "data": {
      "text/html": [
       "<pre style=\"white-space:pre;overflow-x:auto;line-height:normal;font-family:Menlo,'DejaVu Sans Mono',consolas,'Courier New',monospace\"><span style=\"font-weight: bold\"> Trainable params: </span><span style=\"color: #00af00; text-decoration-color: #00af00\">1,372,234</span> (5.23 MB)\n",
       "</pre>\n"
      ],
      "text/plain": [
       "\u001b[1m Trainable params: \u001b[0m\u001b[38;5;34m1,372,234\u001b[0m (5.23 MB)\n"
      ]
     },
     "metadata": {},
     "output_type": "display_data"
    },
    {
     "data": {
      "text/html": [
       "<pre style=\"white-space:pre;overflow-x:auto;line-height:normal;font-family:Menlo,'DejaVu Sans Mono',consolas,'Courier New',monospace\"><span style=\"font-weight: bold\"> Non-trainable params: </span><span style=\"color: #00af00; text-decoration-color: #00af00\">2,496</span> (9.75 KB)\n",
       "</pre>\n"
      ],
      "text/plain": [
       "\u001b[1m Non-trainable params: \u001b[0m\u001b[38;5;34m2,496\u001b[0m (9.75 KB)\n"
      ]
     },
     "metadata": {},
     "output_type": "display_data"
    },
    {
     "name": "stdout",
     "output_type": "stream",
     "text": [
      "Epoch 1/250\n",
      "\u001b[1m703/703\u001b[0m \u001b[32m━━━━━━━━━━━━━━━━━━━━\u001b[0m\u001b[37m\u001b[0m \u001b[1m18s\u001b[0m 15ms/step - loss: 2.9606 - output1_accuracy: 0.3894 - output1_loss: 1.5017 - output2_accuracy: 0.4277 - output2_loss: 1.4589 - val_loss: 2.7054 - val_output1_accuracy: 0.4345 - val_output1_loss: 1.4062 - val_output2_accuracy: 0.5254 - val_output2_loss: 1.2992\n",
      "Epoch 2/250\n",
      "\u001b[1m703/703\u001b[0m \u001b[32m━━━━━━━━━━━━━━━━━━━━\u001b[0m\u001b[37m\u001b[0m \u001b[1m8s\u001b[0m 12ms/step - loss: 2.4157 - output1_accuracy: 0.5137 - output1_loss: 1.2839 - output2_accuracy: 0.6157 - output2_loss: 1.1319 - val_loss: 2.5296 - val_output1_accuracy: 0.4830 - val_output1_loss: 1.3551 - val_output2_accuracy: 0.5811 - val_output2_loss: 1.1745\n",
      "Epoch 3/250\n",
      "\u001b[1m703/703\u001b[0m \u001b[32m━━━━━━━━━━━━━━━━━━━━\u001b[0m\u001b[37m\u001b[0m \u001b[1m9s\u001b[0m 13ms/step - loss: 2.2331 - output1_accuracy: 0.5686 - output1_loss: 1.1978 - output2_accuracy: 0.6686 - output2_loss: 1.0353 - val_loss: 2.5885 - val_output1_accuracy: 0.4587 - val_output1_loss: 1.3796 - val_output2_accuracy: 0.5663 - val_output2_loss: 1.2089\n",
      "Epoch 4/250\n",
      "\u001b[1m703/703\u001b[0m \u001b[32m━━━━━━━━━━━━━━━━━━━━\u001b[0m\u001b[37m\u001b[0m \u001b[1m8s\u001b[0m 11ms/step - loss: 2.1317 - output1_accuracy: 0.5943 - output1_loss: 1.1534 - output2_accuracy: 0.7001 - output2_loss: 0.9784 - val_loss: 2.4049 - val_output1_accuracy: 0.5236 - val_output1_loss: 1.2441 - val_output2_accuracy: 0.6032 - val_output2_loss: 1.1608\n",
      "Epoch 5/250\n",
      "\u001b[1m703/703\u001b[0m \u001b[32m━━━━━━━━━━━━━━━━━━━━\u001b[0m\u001b[37m\u001b[0m \u001b[1m9s\u001b[0m 13ms/step - loss: 2.0442 - output1_accuracy: 0.6248 - output1_loss: 1.1053 - output2_accuracy: 0.7260 - output2_loss: 0.9389 - val_loss: 2.6052 - val_output1_accuracy: 0.5152 - val_output1_loss: 1.2868 - val_output2_accuracy: 0.5383 - val_output2_loss: 1.3184\n",
      "Epoch 6/250\n",
      "\u001b[1m703/703\u001b[0m \u001b[32m━━━━━━━━━━━━━━━━━━━━\u001b[0m\u001b[37m\u001b[0m \u001b[1m9s\u001b[0m 13ms/step - loss: 1.9739 - output1_accuracy: 0.6469 - output1_loss: 1.0672 - output2_accuracy: 0.7422 - output2_loss: 0.9067 - val_loss: 2.3275 - val_output1_accuracy: 0.5559 - val_output1_loss: 1.2240 - val_output2_accuracy: 0.6406 - val_output2_loss: 1.1035\n",
      "Epoch 7/250\n",
      "\u001b[1m703/703\u001b[0m \u001b[32m━━━━━━━━━━━━━━━━━━━━\u001b[0m\u001b[37m\u001b[0m \u001b[1m9s\u001b[0m 13ms/step - loss: 1.9307 - output1_accuracy: 0.6569 - output1_loss: 1.0425 - output2_accuracy: 0.7529 - output2_loss: 0.8883 - val_loss: 2.3464 - val_output1_accuracy: 0.5795 - val_output1_loss: 1.1851 - val_output2_accuracy: 0.6208 - val_output2_loss: 1.1613\n",
      "Epoch 8/250\n",
      "\u001b[1m703/703\u001b[0m \u001b[32m━━━━━━━━━━━━━━━━━━━━\u001b[0m\u001b[37m\u001b[0m \u001b[1m9s\u001b[0m 13ms/step - loss: 1.8876 - output1_accuracy: 0.6705 - output1_loss: 1.0227 - output2_accuracy: 0.7653 - output2_loss: 0.8649 - val_loss: 2.0353 - val_output1_accuracy: 0.6336 - val_output1_loss: 1.0957 - val_output2_accuracy: 0.7244 - val_output2_loss: 0.9396\n",
      "Epoch 9/250\n",
      "\u001b[1m703/703\u001b[0m \u001b[32m━━━━━━━━━━━━━━━━━━━━\u001b[0m\u001b[37m\u001b[0m \u001b[1m8s\u001b[0m 12ms/step - loss: 1.8551 - output1_accuracy: 0.6800 - output1_loss: 1.0042 - output2_accuracy: 0.7731 - output2_loss: 0.8509 - val_loss: 2.1391 - val_output1_accuracy: 0.6034 - val_output1_loss: 1.1391 - val_output2_accuracy: 0.6901 - val_output2_loss: 1.0000\n",
      "Epoch 10/250\n",
      "\u001b[1m703/703\u001b[0m \u001b[32m━━━━━━━━━━━━━━━━━━━━\u001b[0m\u001b[37m\u001b[0m \u001b[1m9s\u001b[0m 12ms/step - loss: 1.8258 - output1_accuracy: 0.6883 - output1_loss: 0.9893 - output2_accuracy: 0.7790 - output2_loss: 0.8365 - val_loss: 2.2334 - val_output1_accuracy: 0.5887 - val_output1_loss: 1.1686 - val_output2_accuracy: 0.6693 - val_output2_loss: 1.0648\n",
      "Epoch 11/250\n",
      "\u001b[1m703/703\u001b[0m \u001b[32m━━━━━━━━━━━━━━━━━━━━\u001b[0m\u001b[37m\u001b[0m \u001b[1m9s\u001b[0m 12ms/step - loss: 1.7915 - output1_accuracy: 0.7014 - output1_loss: 0.9717 - output2_accuracy: 0.7896 - output2_loss: 0.8198 - val_loss: 2.1643 - val_output1_accuracy: 0.5978 - val_output1_loss: 1.1815 - val_output2_accuracy: 0.7033 - val_output2_loss: 0.9829\n",
      "Epoch 12/250\n",
      "\u001b[1m703/703\u001b[0m \u001b[32m━━━━━━━━━━━━━━━━━━━━\u001b[0m\u001b[37m\u001b[0m \u001b[1m9s\u001b[0m 13ms/step - loss: 1.7626 - output1_accuracy: 0.7105 - output1_loss: 0.9565 - output2_accuracy: 0.7950 - output2_loss: 0.8061 - val_loss: 2.1237 - val_output1_accuracy: 0.5960 - val_output1_loss: 1.1774 - val_output2_accuracy: 0.7266 - val_output2_loss: 0.9463\n",
      "Epoch 13/250\n",
      "\u001b[1m703/703\u001b[0m \u001b[32m━━━━━━━━━━━━━━━━━━━━\u001b[0m\u001b[37m\u001b[0m \u001b[1m9s\u001b[0m 13ms/step - loss: 1.7563 - output1_accuracy: 0.7066 - output1_loss: 0.9572 - output2_accuracy: 0.8000 - output2_loss: 0.7991 - val_loss: 2.0261 - val_output1_accuracy: 0.6114 - val_output1_loss: 1.1538 - val_output2_accuracy: 0.7582 - val_output2_loss: 0.8724\n",
      "Epoch 14/250\n",
      "\u001b[1m703/703\u001b[0m \u001b[32m━━━━━━━━━━━━━━━━━━━━\u001b[0m\u001b[37m\u001b[0m \u001b[1m9s\u001b[0m 13ms/step - loss: 1.7223 - output1_accuracy: 0.7181 - output1_loss: 0.9350 - output2_accuracy: 0.8062 - output2_loss: 0.7873 - val_loss: 1.8990 - val_output1_accuracy: 0.6643 - val_output1_loss: 1.0340 - val_output2_accuracy: 0.7660 - val_output2_loss: 0.8650\n",
      "Epoch 15/250\n",
      "\u001b[1m703/703\u001b[0m \u001b[32m━━━━━━━━━━━━━━━━━━━━\u001b[0m\u001b[37m\u001b[0m \u001b[1m9s\u001b[0m 12ms/step - loss: 1.7140 - output1_accuracy: 0.7227 - output1_loss: 0.9350 - output2_accuracy: 0.8077 - output2_loss: 0.7790 - val_loss: 2.0130 - val_output1_accuracy: 0.6591 - val_output1_loss: 1.0667 - val_output2_accuracy: 0.7220 - val_output2_loss: 0.9463\n",
      "Epoch 16/250\n",
      "\u001b[1m703/703\u001b[0m \u001b[32m━━━━━━━━━━━━━━━━━━━━\u001b[0m\u001b[37m\u001b[0m \u001b[1m9s\u001b[0m 13ms/step - loss: 1.6848 - output1_accuracy: 0.7302 - output1_loss: 0.9161 - output2_accuracy: 0.8167 - output2_loss: 0.7686 - val_loss: 1.9256 - val_output1_accuracy: 0.6629 - val_output1_loss: 1.0607 - val_output2_accuracy: 0.7654 - val_output2_loss: 0.8649\n",
      "Epoch 17/250\n",
      "\u001b[1m703/703\u001b[0m \u001b[32m━━━━━━━━━━━━━━━━━━━━\u001b[0m\u001b[37m\u001b[0m \u001b[1m9s\u001b[0m 13ms/step - loss: 1.6662 - output1_accuracy: 0.7342 - output1_loss: 0.9102 - output2_accuracy: 0.8199 - output2_loss: 0.7560 - val_loss: 2.2728 - val_output1_accuracy: 0.5889 - val_output1_loss: 1.1885 - val_output2_accuracy: 0.6667 - val_output2_loss: 1.0843\n",
      "Epoch 18/250\n",
      "\u001b[1m703/703\u001b[0m \u001b[32m━━━━━━━━━━━━━━━━━━━━\u001b[0m\u001b[37m\u001b[0m \u001b[1m9s\u001b[0m 12ms/step - loss: 1.6652 - output1_accuracy: 0.7412 - output1_loss: 0.8953 - output2_accuracy: 0.8157 - output2_loss: 0.7699 - val_loss: 2.0281 - val_output1_accuracy: 0.6454 - val_output1_loss: 1.0838 - val_output2_accuracy: 0.7296 - val_output2_loss: 0.9443\n",
      "Epoch 19/250\n",
      "\u001b[1m703/703\u001b[0m \u001b[32m━━━━━━━━━━━━━━━━━━━━\u001b[0m\u001b[37m\u001b[0m \u001b[1m9s\u001b[0m 13ms/step - loss: 1.6407 - output1_accuracy: 0.7413 - output1_loss: 0.8916 - output2_accuracy: 0.8246 - output2_loss: 0.7490 - val_loss: 1.9212 - val_output1_accuracy: 0.6775 - val_output1_loss: 1.0163 - val_output2_accuracy: 0.7504 - val_output2_loss: 0.9049\n",
      "Epoch 20/250\n",
      "\u001b[1m703/703\u001b[0m \u001b[32m━━━━━━━━━━━━━━━━━━━━\u001b[0m\u001b[37m\u001b[0m \u001b[1m9s\u001b[0m 13ms/step - loss: 1.6235 - output1_accuracy: 0.7488 - output1_loss: 0.8837 - output2_accuracy: 0.8289 - output2_loss: 0.7398 - val_loss: 1.9571 - val_output1_accuracy: 0.6472 - val_output1_loss: 1.0726 - val_output2_accuracy: 0.7602 - val_output2_loss: 0.8845\n",
      "Epoch 21/250\n",
      "\u001b[1m703/703\u001b[0m \u001b[32m━━━━━━━━━━━━━━━━━━━━\u001b[0m\u001b[37m\u001b[0m \u001b[1m9s\u001b[0m 13ms/step - loss: 1.6222 - output1_accuracy: 0.7538 - output1_loss: 0.8767 - output2_accuracy: 0.8264 - output2_loss: 0.7455 - val_loss: 1.8834 - val_output1_accuracy: 0.6765 - val_output1_loss: 1.0174 - val_output2_accuracy: 0.7618 - val_output2_loss: 0.8661\n",
      "Epoch 22/250\n",
      "\u001b[1m703/703\u001b[0m \u001b[32m━━━━━━━━━━━━━━━━━━━━\u001b[0m\u001b[37m\u001b[0m \u001b[1m9s\u001b[0m 13ms/step - loss: 1.5999 - output1_accuracy: 0.7602 - output1_loss: 0.8642 - output2_accuracy: 0.8322 - output2_loss: 0.7357 - val_loss: 1.9321 - val_output1_accuracy: 0.6583 - val_output1_loss: 1.0625 - val_output2_accuracy: 0.7612 - val_output2_loss: 0.8695\n",
      "Epoch 23/250\n",
      "\u001b[1m703/703\u001b[0m \u001b[32m━━━━━━━━━━━━━━━━━━━━\u001b[0m\u001b[37m\u001b[0m \u001b[1m9s\u001b[0m 13ms/step - loss: 1.5840 - output1_accuracy: 0.7651 - output1_loss: 0.8563 - output2_accuracy: 0.8377 - output2_loss: 0.7277 - val_loss: 1.9844 - val_output1_accuracy: 0.6494 - val_output1_loss: 1.0869 - val_output2_accuracy: 0.7522 - val_output2_loss: 0.8975\n",
      "Epoch 24/250\n",
      "\u001b[1m703/703\u001b[0m \u001b[32m━━━━━━━━━━━━━━━━━━━━\u001b[0m\u001b[37m\u001b[0m \u001b[1m9s\u001b[0m 13ms/step - loss: 1.5748 - output1_accuracy: 0.7655 - output1_loss: 0.8536 - output2_accuracy: 0.8398 - output2_loss: 0.7212 - val_loss: 1.8701 - val_output1_accuracy: 0.6765 - val_output1_loss: 1.0270 - val_output2_accuracy: 0.7804 - val_output2_loss: 0.8431\n",
      "Epoch 25/250\n",
      "\u001b[1m703/703\u001b[0m \u001b[32m━━━━━━━━━━━━━━━━━━━━\u001b[0m\u001b[37m\u001b[0m \u001b[1m9s\u001b[0m 13ms/step - loss: 1.5575 - output1_accuracy: 0.7686 - output1_loss: 0.8480 - output2_accuracy: 0.8436 - output2_loss: 0.7095 - val_loss: 1.9714 - val_output1_accuracy: 0.6454 - val_output1_loss: 1.1007 - val_output2_accuracy: 0.7640 - val_output2_loss: 0.8707\n",
      "Epoch 26/250\n",
      "\u001b[1m703/703\u001b[0m \u001b[32m━━━━━━━━━━━━━━━━━━━━\u001b[0m\u001b[37m\u001b[0m \u001b[1m9s\u001b[0m 13ms/step - loss: 1.5536 - output1_accuracy: 0.7702 - output1_loss: 0.8436 - output2_accuracy: 0.8445 - output2_loss: 0.7101 - val_loss: 1.8304 - val_output1_accuracy: 0.6951 - val_output1_loss: 1.0012 - val_output2_accuracy: 0.7877 - val_output2_loss: 0.8291\n",
      "Epoch 27/250\n",
      "\u001b[1m703/703\u001b[0m \u001b[32m━━━━━━━━━━━━━━━━━━━━\u001b[0m\u001b[37m\u001b[0m \u001b[1m9s\u001b[0m 13ms/step - loss: 1.5460 - output1_accuracy: 0.7733 - output1_loss: 0.8418 - output2_accuracy: 0.8490 - output2_loss: 0.7042 - val_loss: 1.8346 - val_output1_accuracy: 0.6909 - val_output1_loss: 0.9996 - val_output2_accuracy: 0.7812 - val_output2_loss: 0.8350\n",
      "Epoch 28/250\n",
      "\u001b[1m703/703\u001b[0m \u001b[32m━━━━━━━━━━━━━━━━━━━━\u001b[0m\u001b[37m\u001b[0m \u001b[1m9s\u001b[0m 13ms/step - loss: 1.5383 - output1_accuracy: 0.7785 - output1_loss: 0.8329 - output2_accuracy: 0.8494 - output2_loss: 0.7053 - val_loss: 1.8942 - val_output1_accuracy: 0.6841 - val_output1_loss: 1.0161 - val_output2_accuracy: 0.7612 - val_output2_loss: 0.8782\n",
      "Epoch 29/250\n",
      "\u001b[1m703/703\u001b[0m \u001b[32m━━━━━━━━━━━━━━━━━━━━\u001b[0m\u001b[37m\u001b[0m \u001b[1m9s\u001b[0m 13ms/step - loss: 1.5278 - output1_accuracy: 0.7810 - output1_loss: 0.8282 - output2_accuracy: 0.8518 - output2_loss: 0.6996 - val_loss: 1.9061 - val_output1_accuracy: 0.6787 - val_output1_loss: 1.0178 - val_output2_accuracy: 0.7554 - val_output2_loss: 0.8883\n",
      "Epoch 30/250\n",
      "\u001b[1m703/703\u001b[0m \u001b[32m━━━━━━━━━━━━━━━━━━━━\u001b[0m\u001b[37m\u001b[0m \u001b[1m9s\u001b[0m 13ms/step - loss: 1.5242 - output1_accuracy: 0.7801 - output1_loss: 0.8285 - output2_accuracy: 0.8555 - output2_loss: 0.6957 - val_loss: 1.8625 - val_output1_accuracy: 0.6835 - val_output1_loss: 1.0195 - val_output2_accuracy: 0.7861 - val_output2_loss: 0.8430\n",
      "Epoch 31/250\n",
      "\u001b[1m703/703\u001b[0m \u001b[32m━━━━━━━━━━━━━━━━━━━━\u001b[0m\u001b[37m\u001b[0m \u001b[1m9s\u001b[0m 13ms/step - loss: 1.5084 - output1_accuracy: 0.7844 - output1_loss: 0.8246 - output2_accuracy: 0.8599 - output2_loss: 0.6838 - val_loss: 1.8779 - val_output1_accuracy: 0.6813 - val_output1_loss: 1.0257 - val_output2_accuracy: 0.7758 - val_output2_loss: 0.8523\n",
      "Epoch 32/250\n",
      "\u001b[1m703/703\u001b[0m \u001b[32m━━━━━━━━━━━━━━━━━━━━\u001b[0m\u001b[37m\u001b[0m \u001b[1m9s\u001b[0m 13ms/step - loss: 1.5011 - output1_accuracy: 0.7881 - output1_loss: 0.8165 - output2_accuracy: 0.8578 - output2_loss: 0.6846 - val_loss: 1.8355 - val_output1_accuracy: 0.6913 - val_output1_loss: 1.0030 - val_output2_accuracy: 0.7883 - val_output2_loss: 0.8325\n",
      "Epoch 33/250\n",
      "\u001b[1m703/703\u001b[0m \u001b[32m━━━━━━━━━━━━━━━━━━━━\u001b[0m\u001b[37m\u001b[0m \u001b[1m9s\u001b[0m 13ms/step - loss: 1.5015 - output1_accuracy: 0.7904 - output1_loss: 0.8135 - output2_accuracy: 0.8588 - output2_loss: 0.6880 - val_loss: 1.7992 - val_output1_accuracy: 0.7009 - val_output1_loss: 0.9761 - val_output2_accuracy: 0.7893 - val_output2_loss: 0.8231\n",
      "Epoch 34/250\n",
      "\u001b[1m703/703\u001b[0m \u001b[32m━━━━━━━━━━━━━━━━━━━━\u001b[0m\u001b[37m\u001b[0m \u001b[1m9s\u001b[0m 13ms/step - loss: 1.4988 - output1_accuracy: 0.7933 - output1_loss: 0.8072 - output2_accuracy: 0.8545 - output2_loss: 0.6916 - val_loss: 1.8399 - val_output1_accuracy: 0.6885 - val_output1_loss: 1.0037 - val_output2_accuracy: 0.7879 - val_output2_loss: 0.8362\n",
      "Epoch 35/250\n",
      "\u001b[1m703/703\u001b[0m \u001b[32m━━━━━━━━━━━━━━━━━━━━\u001b[0m\u001b[37m\u001b[0m \u001b[1m9s\u001b[0m 13ms/step - loss: 1.4813 - output1_accuracy: 0.7964 - output1_loss: 0.8011 - output2_accuracy: 0.8606 - output2_loss: 0.6802 - val_loss: 1.8831 - val_output1_accuracy: 0.6801 - val_output1_loss: 1.0252 - val_output2_accuracy: 0.7712 - val_output2_loss: 0.8579\n",
      "Epoch 36/250\n",
      "\u001b[1m703/703\u001b[0m \u001b[32m━━━━━━━━━━━━━━━━━━━━\u001b[0m\u001b[37m\u001b[0m \u001b[1m9s\u001b[0m 13ms/step - loss: 1.4715 - output1_accuracy: 0.8014 - output1_loss: 0.7946 - output2_accuracy: 0.8648 - output2_loss: 0.6769 - val_loss: 2.0034 - val_output1_accuracy: 0.6440 - val_output1_loss: 1.1178 - val_output2_accuracy: 0.7528 - val_output2_loss: 0.8856\n",
      "Epoch 37/250\n",
      "\u001b[1m703/703\u001b[0m \u001b[32m━━━━━━━━━━━━━━━━━━━━\u001b[0m\u001b[37m\u001b[0m \u001b[1m9s\u001b[0m 13ms/step - loss: 1.4687 - output1_accuracy: 0.7968 - output1_loss: 0.7964 - output2_accuracy: 0.8671 - output2_loss: 0.6723 - val_loss: 1.8400 - val_output1_accuracy: 0.6965 - val_output1_loss: 1.0057 - val_output2_accuracy: 0.7861 - val_output2_loss: 0.8342\n",
      "Epoch 38/250\n",
      "\u001b[1m703/703\u001b[0m \u001b[32m━━━━━━━━━━━━━━━━━━━━\u001b[0m\u001b[37m\u001b[0m \u001b[1m9s\u001b[0m 13ms/step - loss: 1.4624 - output1_accuracy: 0.7981 - output1_loss: 0.7912 - output2_accuracy: 0.8673 - output2_loss: 0.6711 - val_loss: 1.8941 - val_output1_accuracy: 0.6801 - val_output1_loss: 1.0345 - val_output2_accuracy: 0.7670 - val_output2_loss: 0.8596\n",
      "Epoch 39/250\n",
      "\u001b[1m703/703\u001b[0m \u001b[32m━━━━━━━━━━━━━━━━━━━━\u001b[0m\u001b[37m\u001b[0m \u001b[1m9s\u001b[0m 13ms/step - loss: 1.4498 - output1_accuracy: 0.8042 - output1_loss: 0.7880 - output2_accuracy: 0.8709 - output2_loss: 0.6618 - val_loss: 1.9188 - val_output1_accuracy: 0.6653 - val_output1_loss: 1.0746 - val_output2_accuracy: 0.7855 - val_output2_loss: 0.8442\n",
      "Epoch 40/250\n",
      "\u001b[1m703/703\u001b[0m \u001b[32m━━━━━━━━━━━━━━━━━━━━\u001b[0m\u001b[37m\u001b[0m \u001b[1m9s\u001b[0m 13ms/step - loss: 1.4442 - output1_accuracy: 0.8091 - output1_loss: 0.7820 - output2_accuracy: 0.8721 - output2_loss: 0.6622 - val_loss: 2.0377 - val_output1_accuracy: 0.6242 - val_output1_loss: 1.1479 - val_output2_accuracy: 0.7574 - val_output2_loss: 0.8898\n",
      "Epoch 41/250\n",
      "\u001b[1m703/703\u001b[0m \u001b[32m━━━━━━━━━━━━━━━━━━━━\u001b[0m\u001b[37m\u001b[0m \u001b[1m10s\u001b[0m 14ms/step - loss: 1.4486 - output1_accuracy: 0.8079 - output1_loss: 0.7847 - output2_accuracy: 0.8701 - output2_loss: 0.6639 - val_loss: 1.8228 - val_output1_accuracy: 0.6963 - val_output1_loss: 0.9931 - val_output2_accuracy: 0.7861 - val_output2_loss: 0.8296\n",
      "Epoch 42/250\n",
      "\u001b[1m703/703\u001b[0m \u001b[32m━━━━━━━━━━━━━━━━━━━━\u001b[0m\u001b[37m\u001b[0m \u001b[1m9s\u001b[0m 13ms/step - loss: 1.4355 - output1_accuracy: 0.8084 - output1_loss: 0.7749 - output2_accuracy: 0.8730 - output2_loss: 0.6606 - val_loss: 1.8666 - val_output1_accuracy: 0.6819 - val_output1_loss: 1.0184 - val_output2_accuracy: 0.7855 - val_output2_loss: 0.8482\n",
      "Epoch 43/250\n",
      "\u001b[1m703/703\u001b[0m \u001b[32m━━━━━━━━━━━━━━━━━━━━\u001b[0m\u001b[37m\u001b[0m \u001b[1m9s\u001b[0m 13ms/step - loss: 1.4266 - output1_accuracy: 0.8159 - output1_loss: 0.7698 - output2_accuracy: 0.8743 - output2_loss: 0.6569 - val_loss: 1.8515 - val_output1_accuracy: 0.6899 - val_output1_loss: 1.0109 - val_output2_accuracy: 0.7825 - val_output2_loss: 0.8405\n",
      "Epoch 43: early stopping\n",
      "Restoring model weights from the end of the best epoch: 33.\n"
     ]
    }
   ],
   "source": [
    "K.clear_session() # garbage collection\n",
    "model = ACCNR()\n",
    "model.compile(optimizer='rmsprop',\n",
    "              loss={'output1': keras.losses.CategoricalCrossentropy(label_smoothing=0.1), 'output2': keras.losses.CategoricalCrossentropy(label_smoothing=0.1)},\n",
    "              metrics={'output1': 'accuracy', 'output2': 'accuracy'})\n",
    "model.summary()\n",
    "history = model.fit(\n",
    "    traingen,            \n",
    "    epochs=250,          \n",
    "    steps_per_epoch=len(cifar10_x_train)//batchsize, # necessary since generator loops infinitely\n",
    "    validation_data=valgen,\n",
    "    validation_steps=len(cifar10_x_val)//batchsize,  # necessary since generator loops infinitely\n",
    "    callbacks=[early_stopping],\n",
    "    verbose=1\n",
    ")"
   ]
  },
  {
   "cell_type": "code",
   "execution_count": 58,
   "metadata": {},
   "outputs": [
    {
     "name": "stderr",
     "output_type": "stream",
     "text": [
      "100%|██████████| 10/10 [00:13<00:00,  1.34s/it]"
     ]
    },
    {
     "name": "stdout",
     "output_type": "stream",
     "text": [
      "mean accuracy =  0.744294998049736\n",
      "standard deviation =  0.002647495965331791\n"
     ]
    },
    {
     "name": "stderr",
     "output_type": "stream",
     "text": [
      "\n"
     ]
    }
   ],
   "source": [
    "evaluate_model(model, testgen)"
   ]
  },
  {
   "cell_type": "code",
   "execution_count": 59,
   "metadata": {},
   "outputs": [
    {
     "name": "stdout",
     "output_type": "stream",
     "text": [
      "Epoch 1/250\n",
      "\u001b[1m703/703\u001b[0m \u001b[32m━━━━━━━━━━━━━━━━━━━━\u001b[0m\u001b[37m\u001b[0m \u001b[1m17s\u001b[0m 13ms/step - loss: 1.4750 - output1_accuracy: 0.7917 - output1_loss: 0.8013 - output2_accuracy: 0.8653 - output2_loss: 0.6737 - val_loss: 1.7586 - val_output1_accuracy: 0.7079 - val_output1_loss: 0.9746 - val_output2_accuracy: 0.8063 - val_output2_loss: 0.7840\n",
      "Epoch 2/250\n",
      "\u001b[1m703/703\u001b[0m \u001b[32m━━━━━━━━━━━━━━━━━━━━\u001b[0m\u001b[37m\u001b[0m \u001b[1m9s\u001b[0m 13ms/step - loss: 1.4559 - output1_accuracy: 0.8002 - output1_loss: 0.7922 - output2_accuracy: 0.8706 - output2_loss: 0.6637 - val_loss: 1.7576 - val_output1_accuracy: 0.7115 - val_output1_loss: 0.9623 - val_output2_accuracy: 0.7977 - val_output2_loss: 0.7953\n",
      "Epoch 3/250\n",
      "\u001b[1m703/703\u001b[0m \u001b[32m━━━━━━━━━━━━━━━━━━━━\u001b[0m\u001b[37m\u001b[0m \u001b[1m9s\u001b[0m 13ms/step - loss: 1.4420 - output1_accuracy: 0.8081 - output1_loss: 0.7799 - output2_accuracy: 0.8706 - output2_loss: 0.6621 - val_loss: 1.7502 - val_output1_accuracy: 0.7115 - val_output1_loss: 0.9603 - val_output2_accuracy: 0.8015 - val_output2_loss: 0.7899\n",
      "Epoch 4/250\n",
      "\u001b[1m703/703\u001b[0m \u001b[32m━━━━━━━━━━━━━━━━━━━━\u001b[0m\u001b[37m\u001b[0m \u001b[1m9s\u001b[0m 12ms/step - loss: 1.4448 - output1_accuracy: 0.8057 - output1_loss: 0.7843 - output2_accuracy: 0.8711 - output2_loss: 0.6605 - val_loss: 1.7488 - val_output1_accuracy: 0.7031 - val_output1_loss: 0.9761 - val_output2_accuracy: 0.8143 - val_output2_loss: 0.7727\n",
      "Epoch 5/250\n",
      "\u001b[1m703/703\u001b[0m \u001b[32m━━━━━━━━━━━━━━━━━━━━\u001b[0m\u001b[37m\u001b[0m \u001b[1m9s\u001b[0m 12ms/step - loss: 1.4315 - output1_accuracy: 0.8095 - output1_loss: 0.7720 - output2_accuracy: 0.8720 - output2_loss: 0.6595 - val_loss: 1.7134 - val_output1_accuracy: 0.7190 - val_output1_loss: 0.9405 - val_output2_accuracy: 0.8131 - val_output2_loss: 0.7730\n",
      "Epoch 6/250\n",
      "\u001b[1m703/703\u001b[0m \u001b[32m━━━━━━━━━━━━━━━━━━━━\u001b[0m\u001b[37m\u001b[0m \u001b[1m8s\u001b[0m 12ms/step - loss: 1.4405 - output1_accuracy: 0.8053 - output1_loss: 0.7840 - output2_accuracy: 0.8766 - output2_loss: 0.6565 - val_loss: 1.7322 - val_output1_accuracy: 0.7149 - val_output1_loss: 0.9545 - val_output2_accuracy: 0.8093 - val_output2_loss: 0.7777\n",
      "Epoch 7/250\n",
      "\u001b[1m703/703\u001b[0m \u001b[32m━━━━━━━━━━━━━━━━━━━━\u001b[0m\u001b[37m\u001b[0m \u001b[1m8s\u001b[0m 12ms/step - loss: 1.4301 - output1_accuracy: 0.8138 - output1_loss: 0.7739 - output2_accuracy: 0.8769 - output2_loss: 0.6562 - val_loss: 1.7330 - val_output1_accuracy: 0.7161 - val_output1_loss: 0.9497 - val_output2_accuracy: 0.7977 - val_output2_loss: 0.7834\n",
      "Epoch 8/250\n",
      "\u001b[1m703/703\u001b[0m \u001b[32m━━━━━━━━━━━━━━━━━━━━\u001b[0m\u001b[37m\u001b[0m \u001b[1m8s\u001b[0m 12ms/step - loss: 1.4368 - output1_accuracy: 0.8077 - output1_loss: 0.7802 - output2_accuracy: 0.8744 - output2_loss: 0.6566 - val_loss: 1.7398 - val_output1_accuracy: 0.7167 - val_output1_loss: 0.9539 - val_output2_accuracy: 0.8091 - val_output2_loss: 0.7859\n",
      "Epoch 9/250\n",
      "\u001b[1m703/703\u001b[0m \u001b[32m━━━━━━━━━━━━━━━━━━━━\u001b[0m\u001b[37m\u001b[0m \u001b[1m9s\u001b[0m 12ms/step - loss: 1.4297 - output1_accuracy: 0.8111 - output1_loss: 0.7730 - output2_accuracy: 0.8722 - output2_loss: 0.6567 - val_loss: 1.7548 - val_output1_accuracy: 0.7143 - val_output1_loss: 0.9575 - val_output2_accuracy: 0.8037 - val_output2_loss: 0.7973\n",
      "Epoch 10/250\n",
      "\u001b[1m703/703\u001b[0m \u001b[32m━━━━━━━━━━━━━━━━━━━━\u001b[0m\u001b[37m\u001b[0m \u001b[1m8s\u001b[0m 12ms/step - loss: 1.4257 - output1_accuracy: 0.8156 - output1_loss: 0.7695 - output2_accuracy: 0.8736 - output2_loss: 0.6562 - val_loss: 1.7309 - val_output1_accuracy: 0.7147 - val_output1_loss: 0.9626 - val_output2_accuracy: 0.8207 - val_output2_loss: 0.7682\n",
      "Epoch 11/250\n",
      "\u001b[1m703/703\u001b[0m \u001b[32m━━━━━━━━━━━━━━━━━━━━\u001b[0m\u001b[37m\u001b[0m \u001b[1m9s\u001b[0m 12ms/step - loss: 1.4194 - output1_accuracy: 0.8122 - output1_loss: 0.7719 - output2_accuracy: 0.8788 - output2_loss: 0.6475 - val_loss: 1.7228 - val_output1_accuracy: 0.7185 - val_output1_loss: 0.9466 - val_output2_accuracy: 0.8165 - val_output2_loss: 0.7762\n",
      "Epoch 12/250\n",
      "\u001b[1m703/703\u001b[0m \u001b[32m━━━━━━━━━━━━━━━━━━━━\u001b[0m\u001b[37m\u001b[0m \u001b[1m8s\u001b[0m 12ms/step - loss: 1.4223 - output1_accuracy: 0.8181 - output1_loss: 0.7671 - output2_accuracy: 0.8762 - output2_loss: 0.6551 - val_loss: 1.7224 - val_output1_accuracy: 0.7204 - val_output1_loss: 0.9435 - val_output2_accuracy: 0.8117 - val_output2_loss: 0.7790\n",
      "Epoch 13/250\n",
      "\u001b[1m703/703\u001b[0m \u001b[32m━━━━━━━━━━━━━━━━━━━━\u001b[0m\u001b[37m\u001b[0m \u001b[1m9s\u001b[0m 12ms/step - loss: 1.4172 - output1_accuracy: 0.8129 - output1_loss: 0.7688 - output2_accuracy: 0.8787 - output2_loss: 0.6485 - val_loss: 1.7302 - val_output1_accuracy: 0.7185 - val_output1_loss: 0.9494 - val_output2_accuracy: 0.8137 - val_output2_loss: 0.7807\n",
      "Epoch 14/250\n",
      "\u001b[1m703/703\u001b[0m \u001b[32m━━━━━━━━━━━━━━━━━━━━\u001b[0m\u001b[37m\u001b[0m \u001b[1m8s\u001b[0m 12ms/step - loss: 1.4147 - output1_accuracy: 0.8169 - output1_loss: 0.7675 - output2_accuracy: 0.8803 - output2_loss: 0.6472 - val_loss: 1.7499 - val_output1_accuracy: 0.7145 - val_output1_loss: 0.9537 - val_output2_accuracy: 0.8051 - val_output2_loss: 0.7962\n",
      "Epoch 15/250\n",
      "\u001b[1m703/703\u001b[0m \u001b[32m━━━━━━━━━━━━━━━━━━━━\u001b[0m\u001b[37m\u001b[0m \u001b[1m9s\u001b[0m 13ms/step - loss: 1.4086 - output1_accuracy: 0.8128 - output1_loss: 0.7668 - output2_accuracy: 0.8832 - output2_loss: 0.6418 - val_loss: 1.7190 - val_output1_accuracy: 0.7117 - val_output1_loss: 0.9499 - val_output2_accuracy: 0.8163 - val_output2_loss: 0.7692\n",
      "Epoch 15: early stopping\n",
      "Restoring model weights from the end of the best epoch: 5.\n"
     ]
    }
   ],
   "source": [
    "# Custom small learning rate\n",
    "learning_rate = 1e-5  # You can adjust this value as needed for fine-tuning\n",
    "\n",
    "# Compile model with RMSprop optimizer and label smoothing for the loss\n",
    "model.compile(optimizer=RMSprop(learning_rate=learning_rate),\n",
    "              loss={'output1': keras.losses.CategoricalCrossentropy(label_smoothing=0.1),\n",
    "                    'output2': keras.losses.CategoricalCrossentropy(label_smoothing=0.1)},\n",
    "              metrics={'output1': 'accuracy', 'output2': 'accuracy'})\n",
    "\n",
    "history = model.fit(\n",
    "    traingen,            \n",
    "    epochs=250,          \n",
    "    steps_per_epoch=len(cifar10_x_train)//batchsize, # necessary since generator loops infinitely\n",
    "    validation_data=valgen,\n",
    "    validation_steps=len(cifar10_x_val)//batchsize,  # necessary since generator loops infinitely\n",
    "    callbacks=[early_stopping],\n",
    "    verbose=1\n",
    ")"
   ]
  },
  {
   "cell_type": "code",
   "execution_count": 60,
   "metadata": {},
   "outputs": [
    {
     "name": "stderr",
     "output_type": "stream",
     "text": [
      "100%|██████████| 10/10 [00:12<00:00,  1.28s/it]"
     ]
    },
    {
     "name": "stdout",
     "output_type": "stream",
     "text": [
      "mean accuracy =  0.7637950003147125\n",
      "standard deviation =  0.0028752839783437894\n"
     ]
    },
    {
     "name": "stderr",
     "output_type": "stream",
     "text": [
      "\n"
     ]
    }
   ],
   "source": [
    "evaluate_model(model, testgen)"
   ]
  },
  {
   "cell_type": "code",
   "execution_count": 65,
   "metadata": {},
   "outputs": [
    {
     "name": "stdout",
     "output_type": "stream",
     "text": [
      "Epoch 1/250\n",
      "\u001b[1m703/703\u001b[0m \u001b[32m━━━━━━━━━━━━━━━━━━━━\u001b[0m\u001b[37m\u001b[0m \u001b[1m19s\u001b[0m 14ms/step - loss: 1.4774 - output1_accuracy: 0.7957 - output1_loss: 0.8000 - output2_accuracy: 0.8639 - output2_loss: 0.6774 - val_loss: 1.8565 - val_output1_accuracy: 0.6875 - val_output1_loss: 1.0168 - val_output2_accuracy: 0.7821 - val_output2_loss: 0.8397\n",
      "Epoch 2/250\n",
      "\u001b[1m703/703\u001b[0m \u001b[32m━━━━━━━━━━━━━━━━━━━━\u001b[0m\u001b[37m\u001b[0m \u001b[1m8s\u001b[0m 12ms/step - loss: 1.4984 - output1_accuracy: 0.7888 - output1_loss: 0.8117 - output2_accuracy: 0.8598 - output2_loss: 0.6867 - val_loss: 1.8383 - val_output1_accuracy: 0.6945 - val_output1_loss: 0.9821 - val_output2_accuracy: 0.7688 - val_output2_loss: 0.8562\n",
      "Epoch 3/250\n",
      "\u001b[1m703/703\u001b[0m \u001b[32m━━━━━━━━━━━━━━━━━━━━\u001b[0m\u001b[37m\u001b[0m \u001b[1m9s\u001b[0m 12ms/step - loss: 1.4799 - output1_accuracy: 0.7961 - output1_loss: 0.7988 - output2_accuracy: 0.8608 - output2_loss: 0.6811 - val_loss: 1.8162 - val_output1_accuracy: 0.6975 - val_output1_loss: 0.9789 - val_output2_accuracy: 0.7867 - val_output2_loss: 0.8373\n",
      "Epoch 4/250\n",
      "\u001b[1m703/703\u001b[0m \u001b[32m━━━━━━━━━━━━━━━━━━━━\u001b[0m\u001b[37m\u001b[0m \u001b[1m9s\u001b[0m 12ms/step - loss: 1.4774 - output1_accuracy: 0.7986 - output1_loss: 0.7974 - output2_accuracy: 0.8615 - output2_loss: 0.6800 - val_loss: 1.9060 - val_output1_accuracy: 0.6733 - val_output1_loss: 1.0288 - val_output2_accuracy: 0.7564 - val_output2_loss: 0.8772\n",
      "Epoch 5/250\n",
      "\u001b[1m703/703\u001b[0m \u001b[32m━━━━━━━━━━━━━━━━━━━━\u001b[0m\u001b[37m\u001b[0m \u001b[1m9s\u001b[0m 12ms/step - loss: 1.4732 - output1_accuracy: 0.7946 - output1_loss: 0.8003 - output2_accuracy: 0.8661 - output2_loss: 0.6730 - val_loss: 1.8642 - val_output1_accuracy: 0.6747 - val_output1_loss: 1.0314 - val_output2_accuracy: 0.7895 - val_output2_loss: 0.8329\n",
      "Epoch 6/250\n",
      "\u001b[1m703/703\u001b[0m \u001b[32m━━━━━━━━━━━━━━━━━━━━\u001b[0m\u001b[37m\u001b[0m \u001b[1m9s\u001b[0m 13ms/step - loss: 1.4571 - output1_accuracy: 0.8014 - output1_loss: 0.7920 - output2_accuracy: 0.8717 - output2_loss: 0.6652 - val_loss: 1.8431 - val_output1_accuracy: 0.6973 - val_output1_loss: 0.9870 - val_output2_accuracy: 0.7734 - val_output2_loss: 0.8560\n",
      "Epoch 7/250\n",
      "\u001b[1m703/703\u001b[0m \u001b[32m━━━━━━━━━━━━━━━━━━━━\u001b[0m\u001b[37m\u001b[0m \u001b[1m9s\u001b[0m 12ms/step - loss: 1.4682 - output1_accuracy: 0.8026 - output1_loss: 0.7917 - output2_accuracy: 0.8614 - output2_loss: 0.6765 - val_loss: 1.8638 - val_output1_accuracy: 0.6909 - val_output1_loss: 1.0100 - val_output2_accuracy: 0.7750 - val_output2_loss: 0.8537\n",
      "Epoch 8/250\n",
      "\u001b[1m703/703\u001b[0m \u001b[32m━━━━━━━━━━━━━━━━━━━━\u001b[0m\u001b[37m\u001b[0m \u001b[1m9s\u001b[0m 12ms/step - loss: 1.4527 - output1_accuracy: 0.8054 - output1_loss: 0.7865 - output2_accuracy: 0.8675 - output2_loss: 0.6662 - val_loss: 1.8566 - val_output1_accuracy: 0.6861 - val_output1_loss: 1.0041 - val_output2_accuracy: 0.7730 - val_output2_loss: 0.8525\n",
      "Epoch 9/250\n",
      "\u001b[1m703/703\u001b[0m \u001b[32m━━━━━━━━━━━━━━━━━━━━\u001b[0m\u001b[37m\u001b[0m \u001b[1m9s\u001b[0m 13ms/step - loss: 1.4554 - output1_accuracy: 0.8041 - output1_loss: 0.7865 - output2_accuracy: 0.8690 - output2_loss: 0.6689 - val_loss: 1.8876 - val_output1_accuracy: 0.6711 - val_output1_loss: 1.0433 - val_output2_accuracy: 0.7764 - val_output2_loss: 0.8442\n",
      "Epoch 10/250\n",
      "\u001b[1m703/703\u001b[0m \u001b[32m━━━━━━━━━━━━━━━━━━━━\u001b[0m\u001b[37m\u001b[0m \u001b[1m9s\u001b[0m 13ms/step - loss: 1.4463 - output1_accuracy: 0.8043 - output1_loss: 0.7828 - output2_accuracy: 0.8732 - output2_loss: 0.6635 - val_loss: 1.9082 - val_output1_accuracy: 0.6919 - val_output1_loss: 1.0234 - val_output2_accuracy: 0.7588 - val_output2_loss: 0.8848\n",
      "Epoch 11/250\n",
      "\u001b[1m703/703\u001b[0m \u001b[32m━━━━━━━━━━━━━━━━━━━━\u001b[0m\u001b[37m\u001b[0m \u001b[1m10s\u001b[0m 14ms/step - loss: 1.4278 - output1_accuracy: 0.8130 - output1_loss: 0.7733 - output2_accuracy: 0.8754 - output2_loss: 0.6545 - val_loss: 1.8718 - val_output1_accuracy: 0.6927 - val_output1_loss: 1.0223 - val_output2_accuracy: 0.7839 - val_output2_loss: 0.8495\n",
      "Epoch 12/250\n",
      "\u001b[1m703/703\u001b[0m \u001b[32m━━━━━━━━━━━━━━━━━━━━\u001b[0m\u001b[37m\u001b[0m \u001b[1m10s\u001b[0m 14ms/step - loss: 1.4323 - output1_accuracy: 0.8083 - output1_loss: 0.7756 - output2_accuracy: 0.8735 - output2_loss: 0.6568 - val_loss: 1.9422 - val_output1_accuracy: 0.6410 - val_output1_loss: 1.1227 - val_output2_accuracy: 0.7911 - val_output2_loss: 0.8195\n",
      "Epoch 13/250\n",
      "\u001b[1m703/703\u001b[0m \u001b[32m━━━━━━━━━━━━━━━━━━━━\u001b[0m\u001b[37m\u001b[0m \u001b[1m9s\u001b[0m 13ms/step - loss: 1.4272 - output1_accuracy: 0.8108 - output1_loss: 0.7737 - output2_accuracy: 0.8762 - output2_loss: 0.6535 - val_loss: 1.8815 - val_output1_accuracy: 0.6741 - val_output1_loss: 1.0337 - val_output2_accuracy: 0.7780 - val_output2_loss: 0.8478\n",
      "Epoch 13: early stopping\n",
      "Restoring model weights from the end of the best epoch: 3.\n"
     ]
    }
   ],
   "source": [
    "# Custom small learning rate\n",
    "learning_rate = 1e-5  # You can adjust this value as needed for fine-tuning\n",
    "\n",
    "# Compile model with RMSprop optimizer and label smoothing for the loss\n",
    "model.compile(optimizer='adam',\n",
    "              loss={'output1': keras.losses.CategoricalCrossentropy(label_smoothing=0.1),\n",
    "                    'output2': keras.losses.CategoricalCrossentropy(label_smoothing=0.1)},\n",
    "              metrics={'output1': 'accuracy', 'output2': 'accuracy'})\n",
    "\n",
    "history = model.fit(\n",
    "    traingen,            \n",
    "    epochs=250,          \n",
    "    steps_per_epoch=len(cifar10_x_train)//batchsize, # necessary since generator loops infinitely\n",
    "    validation_data=valgen,\n",
    "    validation_steps=len(cifar10_x_val)//batchsize,  # necessary since generator loops infinitely\n",
    "    callbacks=[early_stopping],\n",
    "    verbose=1\n",
    ")"
   ]
  },
  {
   "cell_type": "code",
   "execution_count": 66,
   "metadata": {},
   "outputs": [
    {
     "name": "stderr",
     "output_type": "stream",
     "text": [
      "100%|██████████| 10/10 [00:12<00:00,  1.21s/it]"
     ]
    },
    {
     "name": "stdout",
     "output_type": "stream",
     "text": [
      "mean accuracy =  0.7420600026845932\n",
      "standard deviation =  0.003503768097391289\n"
     ]
    },
    {
     "name": "stderr",
     "output_type": "stream",
     "text": [
      "\n"
     ]
    }
   ],
   "source": [
    "evaluate_model(model, testgen)"
   ]
  },
  {
   "cell_type": "code",
   "execution_count": 73,
   "metadata": {},
   "outputs": [],
   "source": [
    "from tensorflow.keras import regularizers\n",
    "\n",
    "def ACCNRR():\n",
    "    # CIFAR-10\n",
    "    inputs = keras.Input(shape=(32,32,3))\n",
    "    inputs = layers.RandomFlip(\"horizontal\")(inputs)\n",
    "    #inputs = layers.RandomTranslation(height_factor=5/32, width_factor=5/32, fill_mode='nearest')(inputs)\n",
    "    # Feature Extractor\n",
    "    x = layers.Conv2D(96, (3,3), activation='relu')(inputs)\n",
    "    x = layers.BatchNormalization()(x)\n",
    "    x = layers.Conv2D(96, (3,3), activation='relu')(x)\n",
    "    x = layers.BatchNormalization()(x)\n",
    "    x = layers.Conv2D(96, (3,3), activation='relu', strides=2)(x)\n",
    "    x = layers.BatchNormalization()(x)\n",
    "    x = layers.Conv2D(192, (3,3), activation='relu')(x)\n",
    "    x = layers.BatchNormalization()(x)\n",
    "    x = layers.Conv2D(192, (3,3), activation='relu')(x)\n",
    "    x = layers.BatchNormalization()(x)\n",
    "    x = layers.Conv2D(192, (3,3), activation='relu', strides=2)(x)\n",
    "    x = layers.BatchNormalization()(x)\n",
    "    x = layers.Conv2D(192, (3,3), activation='relu')(x)\n",
    "    x = layers.BatchNormalization()(x)\n",
    "    x = layers.Conv2D(192, (1,1), activation='relu')(x)\n",
    "    x = layers.BatchNormalization()(x)\n",
    "    # Classifers\n",
    "    x = layers.GlobalAveragePooling2D()(x)\n",
    "    #x = layers.Flatten()(x)\n",
    "    output1 = layers.Dense(5, activation='softmax', name='output1', kernel_regularizer=regularizers.l2(0.01))(x)\n",
    "    output2 = layers.Dense(5, activation='softmax', name='output2', kernel_regularizer=regularizers.l2(0.01))(x)\n",
    "    # Model creation\n",
    "    model = keras.Model(\n",
    "        inputs,\n",
    "        outputs={'output1':output1, 'output2':output2}, name='ACCNRR',\n",
    "        )\n",
    "    return model"
   ]
  },
  {
   "cell_type": "code",
   "execution_count": 74,
   "metadata": {},
   "outputs": [
    {
     "data": {
      "text/html": [
       "<pre style=\"white-space:pre;overflow-x:auto;line-height:normal;font-family:Menlo,'DejaVu Sans Mono',consolas,'Courier New',monospace\"><span style=\"font-weight: bold\">Model: \"ACCNRR\"</span>\n",
       "</pre>\n"
      ],
      "text/plain": [
       "\u001b[1mModel: \"ACCNRR\"\u001b[0m\n"
      ]
     },
     "metadata": {},
     "output_type": "display_data"
    },
    {
     "data": {
      "text/html": [
       "<pre style=\"white-space:pre;overflow-x:auto;line-height:normal;font-family:Menlo,'DejaVu Sans Mono',consolas,'Courier New',monospace\">┏━━━━━━━━━━━━━━━━━━━━━┳━━━━━━━━━━━━━━━━━━━┳━━━━━━━━━━━━┳━━━━━━━━━━━━━━━━━━━┓\n",
       "┃<span style=\"font-weight: bold\"> Layer (type)        </span>┃<span style=\"font-weight: bold\"> Output Shape      </span>┃<span style=\"font-weight: bold\">    Param # </span>┃<span style=\"font-weight: bold\"> Connected to      </span>┃\n",
       "┡━━━━━━━━━━━━━━━━━━━━━╇━━━━━━━━━━━━━━━━━━━╇━━━━━━━━━━━━╇━━━━━━━━━━━━━━━━━━━┩\n",
       "│ keras_tensor_1CLONE │ (<span style=\"color: #00d7ff; text-decoration-color: #00d7ff\">None</span>, <span style=\"color: #00af00; text-decoration-color: #00af00\">32</span>, <span style=\"color: #00af00; text-decoration-color: #00af00\">32</span>, <span style=\"color: #00af00; text-decoration-color: #00af00\">3</span>) │          <span style=\"color: #00af00; text-decoration-color: #00af00\">0</span> │ -                 │\n",
       "│ (<span style=\"color: #0087ff; text-decoration-color: #0087ff\">InputLayer</span>)        │                   │            │                   │\n",
       "├─────────────────────┼───────────────────┼────────────┼───────────────────┤\n",
       "│ conv2d (<span style=\"color: #0087ff; text-decoration-color: #0087ff\">Conv2D</span>)     │ (<span style=\"color: #00d7ff; text-decoration-color: #00d7ff\">None</span>, <span style=\"color: #00af00; text-decoration-color: #00af00\">30</span>, <span style=\"color: #00af00; text-decoration-color: #00af00\">30</span>,    │      <span style=\"color: #00af00; text-decoration-color: #00af00\">2,688</span> │ keras_tensor_1CL… │\n",
       "│                     │ <span style=\"color: #00af00; text-decoration-color: #00af00\">96</span>)               │            │                   │\n",
       "├─────────────────────┼───────────────────┼────────────┼───────────────────┤\n",
       "│ batch_normalization │ (<span style=\"color: #00d7ff; text-decoration-color: #00d7ff\">None</span>, <span style=\"color: #00af00; text-decoration-color: #00af00\">30</span>, <span style=\"color: #00af00; text-decoration-color: #00af00\">30</span>,    │        <span style=\"color: #00af00; text-decoration-color: #00af00\">384</span> │ conv2d[<span style=\"color: #00af00; text-decoration-color: #00af00\">1</span>][<span style=\"color: #00af00; text-decoration-color: #00af00\">0</span>]      │\n",
       "│ (<span style=\"color: #0087ff; text-decoration-color: #0087ff\">BatchNormalizatio…</span> │ <span style=\"color: #00af00; text-decoration-color: #00af00\">96</span>)               │            │                   │\n",
       "├─────────────────────┼───────────────────┼────────────┼───────────────────┤\n",
       "│ conv2d_1 (<span style=\"color: #0087ff; text-decoration-color: #0087ff\">Conv2D</span>)   │ (<span style=\"color: #00d7ff; text-decoration-color: #00d7ff\">None</span>, <span style=\"color: #00af00; text-decoration-color: #00af00\">28</span>, <span style=\"color: #00af00; text-decoration-color: #00af00\">28</span>,    │     <span style=\"color: #00af00; text-decoration-color: #00af00\">83,040</span> │ batch_normalizat… │\n",
       "│                     │ <span style=\"color: #00af00; text-decoration-color: #00af00\">96</span>)               │            │                   │\n",
       "├─────────────────────┼───────────────────┼────────────┼───────────────────┤\n",
       "│ batch_normalizatio… │ (<span style=\"color: #00d7ff; text-decoration-color: #00d7ff\">None</span>, <span style=\"color: #00af00; text-decoration-color: #00af00\">28</span>, <span style=\"color: #00af00; text-decoration-color: #00af00\">28</span>,    │        <span style=\"color: #00af00; text-decoration-color: #00af00\">384</span> │ conv2d_1[<span style=\"color: #00af00; text-decoration-color: #00af00\">1</span>][<span style=\"color: #00af00; text-decoration-color: #00af00\">0</span>]    │\n",
       "│ (<span style=\"color: #0087ff; text-decoration-color: #0087ff\">BatchNormalizatio…</span> │ <span style=\"color: #00af00; text-decoration-color: #00af00\">96</span>)               │            │                   │\n",
       "├─────────────────────┼───────────────────┼────────────┼───────────────────┤\n",
       "│ conv2d_2 (<span style=\"color: #0087ff; text-decoration-color: #0087ff\">Conv2D</span>)   │ (<span style=\"color: #00d7ff; text-decoration-color: #00d7ff\">None</span>, <span style=\"color: #00af00; text-decoration-color: #00af00\">13</span>, <span style=\"color: #00af00; text-decoration-color: #00af00\">13</span>,    │     <span style=\"color: #00af00; text-decoration-color: #00af00\">83,040</span> │ batch_normalizat… │\n",
       "│                     │ <span style=\"color: #00af00; text-decoration-color: #00af00\">96</span>)               │            │                   │\n",
       "├─────────────────────┼───────────────────┼────────────┼───────────────────┤\n",
       "│ batch_normalizatio… │ (<span style=\"color: #00d7ff; text-decoration-color: #00d7ff\">None</span>, <span style=\"color: #00af00; text-decoration-color: #00af00\">13</span>, <span style=\"color: #00af00; text-decoration-color: #00af00\">13</span>,    │        <span style=\"color: #00af00; text-decoration-color: #00af00\">384</span> │ conv2d_2[<span style=\"color: #00af00; text-decoration-color: #00af00\">1</span>][<span style=\"color: #00af00; text-decoration-color: #00af00\">0</span>]    │\n",
       "│ (<span style=\"color: #0087ff; text-decoration-color: #0087ff\">BatchNormalizatio…</span> │ <span style=\"color: #00af00; text-decoration-color: #00af00\">96</span>)               │            │                   │\n",
       "├─────────────────────┼───────────────────┼────────────┼───────────────────┤\n",
       "│ conv2d_3 (<span style=\"color: #0087ff; text-decoration-color: #0087ff\">Conv2D</span>)   │ (<span style=\"color: #00d7ff; text-decoration-color: #00d7ff\">None</span>, <span style=\"color: #00af00; text-decoration-color: #00af00\">11</span>, <span style=\"color: #00af00; text-decoration-color: #00af00\">11</span>,    │    <span style=\"color: #00af00; text-decoration-color: #00af00\">166,080</span> │ batch_normalizat… │\n",
       "│                     │ <span style=\"color: #00af00; text-decoration-color: #00af00\">192</span>)              │            │                   │\n",
       "├─────────────────────┼───────────────────┼────────────┼───────────────────┤\n",
       "│ batch_normalizatio… │ (<span style=\"color: #00d7ff; text-decoration-color: #00d7ff\">None</span>, <span style=\"color: #00af00; text-decoration-color: #00af00\">11</span>, <span style=\"color: #00af00; text-decoration-color: #00af00\">11</span>,    │        <span style=\"color: #00af00; text-decoration-color: #00af00\">768</span> │ conv2d_3[<span style=\"color: #00af00; text-decoration-color: #00af00\">1</span>][<span style=\"color: #00af00; text-decoration-color: #00af00\">0</span>]    │\n",
       "│ (<span style=\"color: #0087ff; text-decoration-color: #0087ff\">BatchNormalizatio…</span> │ <span style=\"color: #00af00; text-decoration-color: #00af00\">192</span>)              │            │                   │\n",
       "├─────────────────────┼───────────────────┼────────────┼───────────────────┤\n",
       "│ conv2d_4 (<span style=\"color: #0087ff; text-decoration-color: #0087ff\">Conv2D</span>)   │ (<span style=\"color: #00d7ff; text-decoration-color: #00d7ff\">None</span>, <span style=\"color: #00af00; text-decoration-color: #00af00\">9</span>, <span style=\"color: #00af00; text-decoration-color: #00af00\">9</span>, <span style=\"color: #00af00; text-decoration-color: #00af00\">192</span>) │    <span style=\"color: #00af00; text-decoration-color: #00af00\">331,968</span> │ batch_normalizat… │\n",
       "├─────────────────────┼───────────────────┼────────────┼───────────────────┤\n",
       "│ batch_normalizatio… │ (<span style=\"color: #00d7ff; text-decoration-color: #00d7ff\">None</span>, <span style=\"color: #00af00; text-decoration-color: #00af00\">9</span>, <span style=\"color: #00af00; text-decoration-color: #00af00\">9</span>, <span style=\"color: #00af00; text-decoration-color: #00af00\">192</span>) │        <span style=\"color: #00af00; text-decoration-color: #00af00\">768</span> │ conv2d_4[<span style=\"color: #00af00; text-decoration-color: #00af00\">1</span>][<span style=\"color: #00af00; text-decoration-color: #00af00\">0</span>]    │\n",
       "│ (<span style=\"color: #0087ff; text-decoration-color: #0087ff\">BatchNormalizatio…</span> │                   │            │                   │\n",
       "├─────────────────────┼───────────────────┼────────────┼───────────────────┤\n",
       "│ conv2d_5 (<span style=\"color: #0087ff; text-decoration-color: #0087ff\">Conv2D</span>)   │ (<span style=\"color: #00d7ff; text-decoration-color: #00d7ff\">None</span>, <span style=\"color: #00af00; text-decoration-color: #00af00\">4</span>, <span style=\"color: #00af00; text-decoration-color: #00af00\">4</span>, <span style=\"color: #00af00; text-decoration-color: #00af00\">192</span>) │    <span style=\"color: #00af00; text-decoration-color: #00af00\">331,968</span> │ batch_normalizat… │\n",
       "├─────────────────────┼───────────────────┼────────────┼───────────────────┤\n",
       "│ batch_normalizatio… │ (<span style=\"color: #00d7ff; text-decoration-color: #00d7ff\">None</span>, <span style=\"color: #00af00; text-decoration-color: #00af00\">4</span>, <span style=\"color: #00af00; text-decoration-color: #00af00\">4</span>, <span style=\"color: #00af00; text-decoration-color: #00af00\">192</span>) │        <span style=\"color: #00af00; text-decoration-color: #00af00\">768</span> │ conv2d_5[<span style=\"color: #00af00; text-decoration-color: #00af00\">1</span>][<span style=\"color: #00af00; text-decoration-color: #00af00\">0</span>]    │\n",
       "│ (<span style=\"color: #0087ff; text-decoration-color: #0087ff\">BatchNormalizatio…</span> │                   │            │                   │\n",
       "├─────────────────────┼───────────────────┼────────────┼───────────────────┤\n",
       "│ conv2d_6 (<span style=\"color: #0087ff; text-decoration-color: #0087ff\">Conv2D</span>)   │ (<span style=\"color: #00d7ff; text-decoration-color: #00d7ff\">None</span>, <span style=\"color: #00af00; text-decoration-color: #00af00\">2</span>, <span style=\"color: #00af00; text-decoration-color: #00af00\">2</span>, <span style=\"color: #00af00; text-decoration-color: #00af00\">192</span>) │    <span style=\"color: #00af00; text-decoration-color: #00af00\">331,968</span> │ batch_normalizat… │\n",
       "├─────────────────────┼───────────────────┼────────────┼───────────────────┤\n",
       "│ batch_normalizatio… │ (<span style=\"color: #00d7ff; text-decoration-color: #00d7ff\">None</span>, <span style=\"color: #00af00; text-decoration-color: #00af00\">2</span>, <span style=\"color: #00af00; text-decoration-color: #00af00\">2</span>, <span style=\"color: #00af00; text-decoration-color: #00af00\">192</span>) │        <span style=\"color: #00af00; text-decoration-color: #00af00\">768</span> │ conv2d_6[<span style=\"color: #00af00; text-decoration-color: #00af00\">1</span>][<span style=\"color: #00af00; text-decoration-color: #00af00\">0</span>]    │\n",
       "│ (<span style=\"color: #0087ff; text-decoration-color: #0087ff\">BatchNormalizatio…</span> │                   │            │                   │\n",
       "├─────────────────────┼───────────────────┼────────────┼───────────────────┤\n",
       "│ conv2d_7 (<span style=\"color: #0087ff; text-decoration-color: #0087ff\">Conv2D</span>)   │ (<span style=\"color: #00d7ff; text-decoration-color: #00d7ff\">None</span>, <span style=\"color: #00af00; text-decoration-color: #00af00\">2</span>, <span style=\"color: #00af00; text-decoration-color: #00af00\">2</span>, <span style=\"color: #00af00; text-decoration-color: #00af00\">192</span>) │     <span style=\"color: #00af00; text-decoration-color: #00af00\">37,056</span> │ batch_normalizat… │\n",
       "├─────────────────────┼───────────────────┼────────────┼───────────────────┤\n",
       "│ batch_normalizatio… │ (<span style=\"color: #00d7ff; text-decoration-color: #00d7ff\">None</span>, <span style=\"color: #00af00; text-decoration-color: #00af00\">2</span>, <span style=\"color: #00af00; text-decoration-color: #00af00\">2</span>, <span style=\"color: #00af00; text-decoration-color: #00af00\">192</span>) │        <span style=\"color: #00af00; text-decoration-color: #00af00\">768</span> │ conv2d_7[<span style=\"color: #00af00; text-decoration-color: #00af00\">1</span>][<span style=\"color: #00af00; text-decoration-color: #00af00\">0</span>]    │\n",
       "│ (<span style=\"color: #0087ff; text-decoration-color: #0087ff\">BatchNormalizatio…</span> │                   │            │                   │\n",
       "├─────────────────────┼───────────────────┼────────────┼───────────────────┤\n",
       "│ global_average_poo… │ (<span style=\"color: #00d7ff; text-decoration-color: #00d7ff\">None</span>, <span style=\"color: #00af00; text-decoration-color: #00af00\">192</span>)       │          <span style=\"color: #00af00; text-decoration-color: #00af00\">0</span> │ batch_normalizat… │\n",
       "│ (<span style=\"color: #0087ff; text-decoration-color: #0087ff\">GlobalAveragePool…</span> │                   │            │                   │\n",
       "├─────────────────────┼───────────────────┼────────────┼───────────────────┤\n",
       "│ output1 (<span style=\"color: #0087ff; text-decoration-color: #0087ff\">Dense</span>)     │ (<span style=\"color: #00d7ff; text-decoration-color: #00d7ff\">None</span>, <span style=\"color: #00af00; text-decoration-color: #00af00\">5</span>)         │        <span style=\"color: #00af00; text-decoration-color: #00af00\">965</span> │ global_average_p… │\n",
       "├─────────────────────┼───────────────────┼────────────┼───────────────────┤\n",
       "│ output2 (<span style=\"color: #0087ff; text-decoration-color: #0087ff\">Dense</span>)     │ (<span style=\"color: #00d7ff; text-decoration-color: #00d7ff\">None</span>, <span style=\"color: #00af00; text-decoration-color: #00af00\">5</span>)         │        <span style=\"color: #00af00; text-decoration-color: #00af00\">965</span> │ global_average_p… │\n",
       "└─────────────────────┴───────────────────┴────────────┴───────────────────┘\n",
       "</pre>\n"
      ],
      "text/plain": [
       "┏━━━━━━━━━━━━━━━━━━━━━┳━━━━━━━━━━━━━━━━━━━┳━━━━━━━━━━━━┳━━━━━━━━━━━━━━━━━━━┓\n",
       "┃\u001b[1m \u001b[0m\u001b[1mLayer (type)       \u001b[0m\u001b[1m \u001b[0m┃\u001b[1m \u001b[0m\u001b[1mOutput Shape     \u001b[0m\u001b[1m \u001b[0m┃\u001b[1m \u001b[0m\u001b[1m   Param #\u001b[0m\u001b[1m \u001b[0m┃\u001b[1m \u001b[0m\u001b[1mConnected to     \u001b[0m\u001b[1m \u001b[0m┃\n",
       "┡━━━━━━━━━━━━━━━━━━━━━╇━━━━━━━━━━━━━━━━━━━╇━━━━━━━━━━━━╇━━━━━━━━━━━━━━━━━━━┩\n",
       "│ keras_tensor_1CLONE │ (\u001b[38;5;45mNone\u001b[0m, \u001b[38;5;34m32\u001b[0m, \u001b[38;5;34m32\u001b[0m, \u001b[38;5;34m3\u001b[0m) │          \u001b[38;5;34m0\u001b[0m │ -                 │\n",
       "│ (\u001b[38;5;33mInputLayer\u001b[0m)        │                   │            │                   │\n",
       "├─────────────────────┼───────────────────┼────────────┼───────────────────┤\n",
       "│ conv2d (\u001b[38;5;33mConv2D\u001b[0m)     │ (\u001b[38;5;45mNone\u001b[0m, \u001b[38;5;34m30\u001b[0m, \u001b[38;5;34m30\u001b[0m,    │      \u001b[38;5;34m2,688\u001b[0m │ keras_tensor_1CL… │\n",
       "│                     │ \u001b[38;5;34m96\u001b[0m)               │            │                   │\n",
       "├─────────────────────┼───────────────────┼────────────┼───────────────────┤\n",
       "│ batch_normalization │ (\u001b[38;5;45mNone\u001b[0m, \u001b[38;5;34m30\u001b[0m, \u001b[38;5;34m30\u001b[0m,    │        \u001b[38;5;34m384\u001b[0m │ conv2d[\u001b[38;5;34m1\u001b[0m][\u001b[38;5;34m0\u001b[0m]      │\n",
       "│ (\u001b[38;5;33mBatchNormalizatio…\u001b[0m │ \u001b[38;5;34m96\u001b[0m)               │            │                   │\n",
       "├─────────────────────┼───────────────────┼────────────┼───────────────────┤\n",
       "│ conv2d_1 (\u001b[38;5;33mConv2D\u001b[0m)   │ (\u001b[38;5;45mNone\u001b[0m, \u001b[38;5;34m28\u001b[0m, \u001b[38;5;34m28\u001b[0m,    │     \u001b[38;5;34m83,040\u001b[0m │ batch_normalizat… │\n",
       "│                     │ \u001b[38;5;34m96\u001b[0m)               │            │                   │\n",
       "├─────────────────────┼───────────────────┼────────────┼───────────────────┤\n",
       "│ batch_normalizatio… │ (\u001b[38;5;45mNone\u001b[0m, \u001b[38;5;34m28\u001b[0m, \u001b[38;5;34m28\u001b[0m,    │        \u001b[38;5;34m384\u001b[0m │ conv2d_1[\u001b[38;5;34m1\u001b[0m][\u001b[38;5;34m0\u001b[0m]    │\n",
       "│ (\u001b[38;5;33mBatchNormalizatio…\u001b[0m │ \u001b[38;5;34m96\u001b[0m)               │            │                   │\n",
       "├─────────────────────┼───────────────────┼────────────┼───────────────────┤\n",
       "│ conv2d_2 (\u001b[38;5;33mConv2D\u001b[0m)   │ (\u001b[38;5;45mNone\u001b[0m, \u001b[38;5;34m13\u001b[0m, \u001b[38;5;34m13\u001b[0m,    │     \u001b[38;5;34m83,040\u001b[0m │ batch_normalizat… │\n",
       "│                     │ \u001b[38;5;34m96\u001b[0m)               │            │                   │\n",
       "├─────────────────────┼───────────────────┼────────────┼───────────────────┤\n",
       "│ batch_normalizatio… │ (\u001b[38;5;45mNone\u001b[0m, \u001b[38;5;34m13\u001b[0m, \u001b[38;5;34m13\u001b[0m,    │        \u001b[38;5;34m384\u001b[0m │ conv2d_2[\u001b[38;5;34m1\u001b[0m][\u001b[38;5;34m0\u001b[0m]    │\n",
       "│ (\u001b[38;5;33mBatchNormalizatio…\u001b[0m │ \u001b[38;5;34m96\u001b[0m)               │            │                   │\n",
       "├─────────────────────┼───────────────────┼────────────┼───────────────────┤\n",
       "│ conv2d_3 (\u001b[38;5;33mConv2D\u001b[0m)   │ (\u001b[38;5;45mNone\u001b[0m, \u001b[38;5;34m11\u001b[0m, \u001b[38;5;34m11\u001b[0m,    │    \u001b[38;5;34m166,080\u001b[0m │ batch_normalizat… │\n",
       "│                     │ \u001b[38;5;34m192\u001b[0m)              │            │                   │\n",
       "├─────────────────────┼───────────────────┼────────────┼───────────────────┤\n",
       "│ batch_normalizatio… │ (\u001b[38;5;45mNone\u001b[0m, \u001b[38;5;34m11\u001b[0m, \u001b[38;5;34m11\u001b[0m,    │        \u001b[38;5;34m768\u001b[0m │ conv2d_3[\u001b[38;5;34m1\u001b[0m][\u001b[38;5;34m0\u001b[0m]    │\n",
       "│ (\u001b[38;5;33mBatchNormalizatio…\u001b[0m │ \u001b[38;5;34m192\u001b[0m)              │            │                   │\n",
       "├─────────────────────┼───────────────────┼────────────┼───────────────────┤\n",
       "│ conv2d_4 (\u001b[38;5;33mConv2D\u001b[0m)   │ (\u001b[38;5;45mNone\u001b[0m, \u001b[38;5;34m9\u001b[0m, \u001b[38;5;34m9\u001b[0m, \u001b[38;5;34m192\u001b[0m) │    \u001b[38;5;34m331,968\u001b[0m │ batch_normalizat… │\n",
       "├─────────────────────┼───────────────────┼────────────┼───────────────────┤\n",
       "│ batch_normalizatio… │ (\u001b[38;5;45mNone\u001b[0m, \u001b[38;5;34m9\u001b[0m, \u001b[38;5;34m9\u001b[0m, \u001b[38;5;34m192\u001b[0m) │        \u001b[38;5;34m768\u001b[0m │ conv2d_4[\u001b[38;5;34m1\u001b[0m][\u001b[38;5;34m0\u001b[0m]    │\n",
       "│ (\u001b[38;5;33mBatchNormalizatio…\u001b[0m │                   │            │                   │\n",
       "├─────────────────────┼───────────────────┼────────────┼───────────────────┤\n",
       "│ conv2d_5 (\u001b[38;5;33mConv2D\u001b[0m)   │ (\u001b[38;5;45mNone\u001b[0m, \u001b[38;5;34m4\u001b[0m, \u001b[38;5;34m4\u001b[0m, \u001b[38;5;34m192\u001b[0m) │    \u001b[38;5;34m331,968\u001b[0m │ batch_normalizat… │\n",
       "├─────────────────────┼───────────────────┼────────────┼───────────────────┤\n",
       "│ batch_normalizatio… │ (\u001b[38;5;45mNone\u001b[0m, \u001b[38;5;34m4\u001b[0m, \u001b[38;5;34m4\u001b[0m, \u001b[38;5;34m192\u001b[0m) │        \u001b[38;5;34m768\u001b[0m │ conv2d_5[\u001b[38;5;34m1\u001b[0m][\u001b[38;5;34m0\u001b[0m]    │\n",
       "│ (\u001b[38;5;33mBatchNormalizatio…\u001b[0m │                   │            │                   │\n",
       "├─────────────────────┼───────────────────┼────────────┼───────────────────┤\n",
       "│ conv2d_6 (\u001b[38;5;33mConv2D\u001b[0m)   │ (\u001b[38;5;45mNone\u001b[0m, \u001b[38;5;34m2\u001b[0m, \u001b[38;5;34m2\u001b[0m, \u001b[38;5;34m192\u001b[0m) │    \u001b[38;5;34m331,968\u001b[0m │ batch_normalizat… │\n",
       "├─────────────────────┼───────────────────┼────────────┼───────────────────┤\n",
       "│ batch_normalizatio… │ (\u001b[38;5;45mNone\u001b[0m, \u001b[38;5;34m2\u001b[0m, \u001b[38;5;34m2\u001b[0m, \u001b[38;5;34m192\u001b[0m) │        \u001b[38;5;34m768\u001b[0m │ conv2d_6[\u001b[38;5;34m1\u001b[0m][\u001b[38;5;34m0\u001b[0m]    │\n",
       "│ (\u001b[38;5;33mBatchNormalizatio…\u001b[0m │                   │            │                   │\n",
       "├─────────────────────┼───────────────────┼────────────┼───────────────────┤\n",
       "│ conv2d_7 (\u001b[38;5;33mConv2D\u001b[0m)   │ (\u001b[38;5;45mNone\u001b[0m, \u001b[38;5;34m2\u001b[0m, \u001b[38;5;34m2\u001b[0m, \u001b[38;5;34m192\u001b[0m) │     \u001b[38;5;34m37,056\u001b[0m │ batch_normalizat… │\n",
       "├─────────────────────┼───────────────────┼────────────┼───────────────────┤\n",
       "│ batch_normalizatio… │ (\u001b[38;5;45mNone\u001b[0m, \u001b[38;5;34m2\u001b[0m, \u001b[38;5;34m2\u001b[0m, \u001b[38;5;34m192\u001b[0m) │        \u001b[38;5;34m768\u001b[0m │ conv2d_7[\u001b[38;5;34m1\u001b[0m][\u001b[38;5;34m0\u001b[0m]    │\n",
       "│ (\u001b[38;5;33mBatchNormalizatio…\u001b[0m │                   │            │                   │\n",
       "├─────────────────────┼───────────────────┼────────────┼───────────────────┤\n",
       "│ global_average_poo… │ (\u001b[38;5;45mNone\u001b[0m, \u001b[38;5;34m192\u001b[0m)       │          \u001b[38;5;34m0\u001b[0m │ batch_normalizat… │\n",
       "│ (\u001b[38;5;33mGlobalAveragePool…\u001b[0m │                   │            │                   │\n",
       "├─────────────────────┼───────────────────┼────────────┼───────────────────┤\n",
       "│ output1 (\u001b[38;5;33mDense\u001b[0m)     │ (\u001b[38;5;45mNone\u001b[0m, \u001b[38;5;34m5\u001b[0m)         │        \u001b[38;5;34m965\u001b[0m │ global_average_p… │\n",
       "├─────────────────────┼───────────────────┼────────────┼───────────────────┤\n",
       "│ output2 (\u001b[38;5;33mDense\u001b[0m)     │ (\u001b[38;5;45mNone\u001b[0m, \u001b[38;5;34m5\u001b[0m)         │        \u001b[38;5;34m965\u001b[0m │ global_average_p… │\n",
       "└─────────────────────┴───────────────────┴────────────┴───────────────────┘\n"
      ]
     },
     "metadata": {},
     "output_type": "display_data"
    },
    {
     "data": {
      "text/html": [
       "<pre style=\"white-space:pre;overflow-x:auto;line-height:normal;font-family:Menlo,'DejaVu Sans Mono',consolas,'Courier New',monospace\"><span style=\"font-weight: bold\"> Total params: </span><span style=\"color: #00af00; text-decoration-color: #00af00\">1,374,730</span> (5.24 MB)\n",
       "</pre>\n"
      ],
      "text/plain": [
       "\u001b[1m Total params: \u001b[0m\u001b[38;5;34m1,374,730\u001b[0m (5.24 MB)\n"
      ]
     },
     "metadata": {},
     "output_type": "display_data"
    },
    {
     "data": {
      "text/html": [
       "<pre style=\"white-space:pre;overflow-x:auto;line-height:normal;font-family:Menlo,'DejaVu Sans Mono',consolas,'Courier New',monospace\"><span style=\"font-weight: bold\"> Trainable params: </span><span style=\"color: #00af00; text-decoration-color: #00af00\">1,372,234</span> (5.23 MB)\n",
       "</pre>\n"
      ],
      "text/plain": [
       "\u001b[1m Trainable params: \u001b[0m\u001b[38;5;34m1,372,234\u001b[0m (5.23 MB)\n"
      ]
     },
     "metadata": {},
     "output_type": "display_data"
    },
    {
     "data": {
      "text/html": [
       "<pre style=\"white-space:pre;overflow-x:auto;line-height:normal;font-family:Menlo,'DejaVu Sans Mono',consolas,'Courier New',monospace\"><span style=\"font-weight: bold\"> Non-trainable params: </span><span style=\"color: #00af00; text-decoration-color: #00af00\">2,496</span> (9.75 KB)\n",
       "</pre>\n"
      ],
      "text/plain": [
       "\u001b[1m Non-trainable params: \u001b[0m\u001b[38;5;34m2,496\u001b[0m (9.75 KB)\n"
      ]
     },
     "metadata": {},
     "output_type": "display_data"
    },
    {
     "name": "stdout",
     "output_type": "stream",
     "text": [
      "Epoch 1/250\n",
      "\u001b[1m703/703\u001b[0m \u001b[32m━━━━━━━━━━━━━━━━━━━━\u001b[0m\u001b[37m\u001b[0m \u001b[1m17s\u001b[0m 13ms/step - loss: 3.0777 - output1_accuracy: 0.3984 - output1_loss: 1.4852 - output2_accuracy: 0.4272 - output2_loss: 1.4491 - val_loss: 3.0848 - val_output1_accuracy: 0.3924 - val_output1_loss: 1.5310 - val_output2_accuracy: 0.4299 - val_output2_loss: 1.4849\n",
      "Epoch 2/250\n",
      "\u001b[1m703/703\u001b[0m \u001b[32m━━━━━━━━━━━━━━━━━━━━\u001b[0m\u001b[37m\u001b[0m \u001b[1m8s\u001b[0m 12ms/step - loss: 2.4576 - output1_accuracy: 0.5138 - output1_loss: 1.2717 - output2_accuracy: 0.6133 - output2_loss: 1.1300 - val_loss: 3.0116 - val_output1_accuracy: 0.4107 - val_output1_loss: 1.5836 - val_output2_accuracy: 0.5054 - val_output2_loss: 1.3981\n",
      "Epoch 3/250\n",
      "\u001b[1m703/703\u001b[0m \u001b[32m━━━━━━━━━━━━━━━━━━━━\u001b[0m\u001b[37m\u001b[0m \u001b[1m9s\u001b[0m 13ms/step - loss: 2.2501 - output1_accuracy: 0.5688 - output1_loss: 1.1965 - output2_accuracy: 0.6711 - output2_loss: 1.0279 - val_loss: 2.4327 - val_output1_accuracy: 0.4992 - val_output1_loss: 1.3186 - val_output2_accuracy: 0.6378 - val_output2_loss: 1.0951\n",
      "Epoch 4/250\n",
      "\u001b[1m703/703\u001b[0m \u001b[32m━━━━━━━━━━━━━━━━━━━━\u001b[0m\u001b[37m\u001b[0m \u001b[1m8s\u001b[0m 12ms/step - loss: 2.1262 - output1_accuracy: 0.5966 - output1_loss: 1.1411 - output2_accuracy: 0.7068 - output2_loss: 0.9668 - val_loss: 2.2156 - val_output1_accuracy: 0.5705 - val_output1_loss: 1.1885 - val_output2_accuracy: 0.6863 - val_output2_loss: 1.0105\n",
      "Epoch 5/250\n",
      "\u001b[1m703/703\u001b[0m \u001b[32m━━━━━━━━━━━━━━━━━━━━\u001b[0m\u001b[37m\u001b[0m \u001b[1m8s\u001b[0m 12ms/step - loss: 2.0574 - output1_accuracy: 0.6212 - output1_loss: 1.1042 - output2_accuracy: 0.7215 - output2_loss: 0.9367 - val_loss: 2.3460 - val_output1_accuracy: 0.5851 - val_output1_loss: 1.1829 - val_output2_accuracy: 0.6026 - val_output2_loss: 1.1473\n",
      "Epoch 6/250\n",
      "\u001b[1m703/703\u001b[0m \u001b[32m━━━━━━━━━━━━━━━━━━━━\u001b[0m\u001b[37m\u001b[0m \u001b[1m9s\u001b[0m 12ms/step - loss: 1.9934 - output1_accuracy: 0.6440 - output1_loss: 1.0663 - output2_accuracy: 0.7340 - output2_loss: 0.9113 - val_loss: 2.4831 - val_output1_accuracy: 0.5166 - val_output1_loss: 1.3084 - val_output2_accuracy: 0.6122 - val_output2_loss: 1.1592\n",
      "Epoch 7/250\n",
      "\u001b[1m703/703\u001b[0m \u001b[32m━━━━━━━━━━━━━━━━━━━━\u001b[0m\u001b[37m\u001b[0m \u001b[1m9s\u001b[0m 13ms/step - loss: 1.9407 - output1_accuracy: 0.6590 - output1_loss: 1.0418 - output2_accuracy: 0.7525 - output2_loss: 0.8833 - val_loss: 2.5024 - val_output1_accuracy: 0.5925 - val_output1_loss: 1.1722 - val_output2_accuracy: 0.5675 - val_output2_loss: 1.3144\n",
      "Epoch 8/250\n",
      "\u001b[1m703/703\u001b[0m \u001b[32m━━━━━━━━━━━━━━━━━━━━\u001b[0m\u001b[37m\u001b[0m \u001b[1m9s\u001b[0m 12ms/step - loss: 1.9022 - output1_accuracy: 0.6766 - output1_loss: 1.0164 - output2_accuracy: 0.7615 - output2_loss: 0.8702 - val_loss: 2.1135 - val_output1_accuracy: 0.6022 - val_output1_loss: 1.1451 - val_output2_accuracy: 0.7167 - val_output2_loss: 0.9525\n",
      "Epoch 9/250\n",
      "\u001b[1m703/703\u001b[0m \u001b[32m━━━━━━━━━━━━━━━━━━━━\u001b[0m\u001b[37m\u001b[0m \u001b[1m9s\u001b[0m 12ms/step - loss: 1.8700 - output1_accuracy: 0.6821 - output1_loss: 1.0035 - output2_accuracy: 0.7702 - output2_loss: 0.8509 - val_loss: 2.1810 - val_output1_accuracy: 0.5839 - val_output1_loss: 1.1938 - val_output2_accuracy: 0.7005 - val_output2_loss: 0.9719\n",
      "Epoch 10/250\n",
      "\u001b[1m703/703\u001b[0m \u001b[32m━━━━━━━━━━━━━━━━━━━━\u001b[0m\u001b[37m\u001b[0m \u001b[1m9s\u001b[0m 12ms/step - loss: 1.8335 - output1_accuracy: 0.6881 - output1_loss: 0.9856 - output2_accuracy: 0.7803 - output2_loss: 0.8325 - val_loss: 2.0706 - val_output1_accuracy: 0.5950 - val_output1_loss: 1.1454 - val_output2_accuracy: 0.7342 - val_output2_loss: 0.9103\n",
      "Epoch 11/250\n",
      "\u001b[1m703/703\u001b[0m \u001b[32m━━━━━━━━━━━━━━━━━━━━\u001b[0m\u001b[37m\u001b[0m \u001b[1m9s\u001b[0m 12ms/step - loss: 1.8072 - output1_accuracy: 0.6999 - output1_loss: 0.9737 - output2_accuracy: 0.7893 - output2_loss: 0.8183 - val_loss: 2.1485 - val_output1_accuracy: 0.6070 - val_output1_loss: 1.1494 - val_output2_accuracy: 0.7029 - val_output2_loss: 0.9838\n",
      "Epoch 12/250\n",
      "\u001b[1m703/703\u001b[0m \u001b[32m━━━━━━━━━━━━━━━━━━━━\u001b[0m\u001b[37m\u001b[0m \u001b[1m9s\u001b[0m 12ms/step - loss: 1.7831 - output1_accuracy: 0.7051 - output1_loss: 0.9609 - output2_accuracy: 0.7928 - output2_loss: 0.8070 - val_loss: 1.9753 - val_output1_accuracy: 0.6619 - val_output1_loss: 1.0559 - val_output2_accuracy: 0.7422 - val_output2_loss: 0.9041\n",
      "Epoch 13/250\n",
      "\u001b[1m703/703\u001b[0m \u001b[32m━━━━━━━━━━━━━━━━━━━━\u001b[0m\u001b[37m\u001b[0m \u001b[1m9s\u001b[0m 12ms/step - loss: 1.7520 - output1_accuracy: 0.7181 - output1_loss: 0.9428 - output2_accuracy: 0.7996 - output2_loss: 0.7941 - val_loss: 1.9873 - val_output1_accuracy: 0.6450 - val_output1_loss: 1.0729 - val_output2_accuracy: 0.7504 - val_output2_loss: 0.8996\n",
      "Epoch 14/250\n",
      "\u001b[1m703/703\u001b[0m \u001b[32m━━━━━━━━━━━━━━━━━━━━\u001b[0m\u001b[37m\u001b[0m \u001b[1m9s\u001b[0m 12ms/step - loss: 1.7424 - output1_accuracy: 0.7161 - output1_loss: 0.9387 - output2_accuracy: 0.8036 - output2_loss: 0.7890 - val_loss: 2.2770 - val_output1_accuracy: 0.5895 - val_output1_loss: 1.1746 - val_output2_accuracy: 0.6550 - val_output2_loss: 1.0876\n",
      "Epoch 15/250\n",
      "\u001b[1m703/703\u001b[0m \u001b[32m━━━━━━━━━━━━━━━━━━━━\u001b[0m\u001b[37m\u001b[0m \u001b[1m9s\u001b[0m 12ms/step - loss: 1.7338 - output1_accuracy: 0.7180 - output1_loss: 0.9346 - output2_accuracy: 0.8058 - output2_loss: 0.7848 - val_loss: 1.9465 - val_output1_accuracy: 0.6434 - val_output1_loss: 1.0709 - val_output2_accuracy: 0.7688 - val_output2_loss: 0.8611\n",
      "Epoch 16/250\n",
      "\u001b[1m703/703\u001b[0m \u001b[32m━━━━━━━━━━━━━━━━━━━━\u001b[0m\u001b[37m\u001b[0m \u001b[1m8s\u001b[0m 12ms/step - loss: 1.6919 - output1_accuracy: 0.7310 - output1_loss: 0.9125 - output2_accuracy: 0.8148 - output2_loss: 0.7648 - val_loss: 2.0033 - val_output1_accuracy: 0.6322 - val_output1_loss: 1.1141 - val_output2_accuracy: 0.7546 - val_output2_loss: 0.8746\n",
      "Epoch 17/250\n",
      "\u001b[1m703/703\u001b[0m \u001b[32m━━━━━━━━━━━━━━━━━━━━\u001b[0m\u001b[37m\u001b[0m \u001b[1m9s\u001b[0m 12ms/step - loss: 1.6886 - output1_accuracy: 0.7368 - output1_loss: 0.9063 - output2_accuracy: 0.8145 - output2_loss: 0.7680 - val_loss: 1.9995 - val_output1_accuracy: 0.6418 - val_output1_loss: 1.0762 - val_output2_accuracy: 0.7430 - val_output2_loss: 0.9088\n",
      "Epoch 18/250\n",
      "\u001b[1m703/703\u001b[0m \u001b[32m━━━━━━━━━━━━━━━━━━━━\u001b[0m\u001b[37m\u001b[0m \u001b[1m9s\u001b[0m 13ms/step - loss: 1.6619 - output1_accuracy: 0.7420 - output1_loss: 0.8948 - output2_accuracy: 0.8230 - output2_loss: 0.7527 - val_loss: 1.8962 - val_output1_accuracy: 0.6757 - val_output1_loss: 1.0155 - val_output2_accuracy: 0.7640 - val_output2_loss: 0.8665\n",
      "Epoch 19/250\n",
      "\u001b[1m703/703\u001b[0m \u001b[32m━━━━━━━━━━━━━━━━━━━━\u001b[0m\u001b[37m\u001b[0m \u001b[1m9s\u001b[0m 13ms/step - loss: 1.6415 - output1_accuracy: 0.7514 - output1_loss: 0.8828 - output2_accuracy: 0.8290 - output2_loss: 0.7444 - val_loss: 2.2765 - val_output1_accuracy: 0.5547 - val_output1_loss: 1.3390 - val_output2_accuracy: 0.7374 - val_output2_loss: 0.9234\n",
      "Epoch 20/250\n",
      "\u001b[1m703/703\u001b[0m \u001b[32m━━━━━━━━━━━━━━━━━━━━\u001b[0m\u001b[37m\u001b[0m \u001b[1m9s\u001b[0m 12ms/step - loss: 1.6512 - output1_accuracy: 0.7493 - output1_loss: 0.8850 - output2_accuracy: 0.8215 - output2_loss: 0.7523 - val_loss: 1.9765 - val_output1_accuracy: 0.6508 - val_output1_loss: 1.0771 - val_output2_accuracy: 0.7596 - val_output2_loss: 0.8851\n",
      "Epoch 21/250\n",
      "\u001b[1m703/703\u001b[0m \u001b[32m━━━━━━━━━━━━━━━━━━━━\u001b[0m\u001b[37m\u001b[0m \u001b[1m9s\u001b[0m 12ms/step - loss: 1.6409 - output1_accuracy: 0.7493 - output1_loss: 0.8818 - output2_accuracy: 0.8261 - output2_loss: 0.7453 - val_loss: 2.2134 - val_output1_accuracy: 0.5733 - val_output1_loss: 1.2417 - val_output2_accuracy: 0.7192 - val_output2_loss: 0.9582\n",
      "Epoch 22/250\n",
      "\u001b[1m703/703\u001b[0m \u001b[32m━━━━━━━━━━━━━━━━━━━━\u001b[0m\u001b[37m\u001b[0m \u001b[1m9s\u001b[0m 12ms/step - loss: 1.6149 - output1_accuracy: 0.7576 - output1_loss: 0.8710 - output2_accuracy: 0.8321 - output2_loss: 0.7302 - val_loss: 1.9493 - val_output1_accuracy: 0.6679 - val_output1_loss: 1.0325 - val_output2_accuracy: 0.7484 - val_output2_loss: 0.9030\n",
      "Epoch 23/250\n",
      "\u001b[1m703/703\u001b[0m \u001b[32m━━━━━━━━━━━━━━━━━━━━\u001b[0m\u001b[37m\u001b[0m \u001b[1m9s\u001b[0m 12ms/step - loss: 1.6046 - output1_accuracy: 0.7607 - output1_loss: 0.8635 - output2_accuracy: 0.8374 - output2_loss: 0.7274 - val_loss: 1.9448 - val_output1_accuracy: 0.6663 - val_output1_loss: 1.0408 - val_output2_accuracy: 0.7544 - val_output2_loss: 0.8905\n",
      "Epoch 24/250\n",
      "\u001b[1m703/703\u001b[0m \u001b[32m━━━━━━━━━━━━━━━━━━━━\u001b[0m\u001b[37m\u001b[0m \u001b[1m9s\u001b[0m 12ms/step - loss: 1.5999 - output1_accuracy: 0.7622 - output1_loss: 0.8570 - output2_accuracy: 0.8369 - output2_loss: 0.7293 - val_loss: 1.8930 - val_output1_accuracy: 0.6711 - val_output1_loss: 1.0287 - val_output2_accuracy: 0.7734 - val_output2_loss: 0.8507\n",
      "Epoch 25/250\n",
      "\u001b[1m703/703\u001b[0m \u001b[32m━━━━━━━━━━━━━━━━━━━━\u001b[0m\u001b[37m\u001b[0m \u001b[1m9s\u001b[0m 12ms/step - loss: 1.5805 - output1_accuracy: 0.7690 - output1_loss: 0.8502 - output2_accuracy: 0.8418 - output2_loss: 0.7167 - val_loss: 1.9332 - val_output1_accuracy: 0.6558 - val_output1_loss: 1.0602 - val_output2_accuracy: 0.7682 - val_output2_loss: 0.8595\n",
      "Epoch 26/250\n",
      "\u001b[1m703/703\u001b[0m \u001b[32m━━━━━━━━━━━━━━━━━━━━\u001b[0m\u001b[37m\u001b[0m \u001b[1m9s\u001b[0m 13ms/step - loss: 1.5701 - output1_accuracy: 0.7716 - output1_loss: 0.8418 - output2_accuracy: 0.8413 - output2_loss: 0.7149 - val_loss: 1.9641 - val_output1_accuracy: 0.6571 - val_output1_loss: 1.0661 - val_output2_accuracy: 0.7538 - val_output2_loss: 0.8846\n",
      "Epoch 27/250\n",
      "\u001b[1m703/703\u001b[0m \u001b[32m━━━━━━━━━━━━━━━━━━━━\u001b[0m\u001b[37m\u001b[0m \u001b[1m9s\u001b[0m 13ms/step - loss: 1.5675 - output1_accuracy: 0.7768 - output1_loss: 0.8424 - output2_accuracy: 0.8437 - output2_loss: 0.7117 - val_loss: 1.8509 - val_output1_accuracy: 0.6847 - val_output1_loss: 1.0022 - val_output2_accuracy: 0.7837 - val_output2_loss: 0.8357\n",
      "Epoch 28/250\n",
      "\u001b[1m703/703\u001b[0m \u001b[32m━━━━━━━━━━━━━━━━━━━━\u001b[0m\u001b[37m\u001b[0m \u001b[1m9s\u001b[0m 12ms/step - loss: 1.5503 - output1_accuracy: 0.7748 - output1_loss: 0.8348 - output2_accuracy: 0.8504 - output2_loss: 0.7023 - val_loss: 2.3535 - val_output1_accuracy: 0.5497 - val_output1_loss: 1.3250 - val_output2_accuracy: 0.6991 - val_output2_loss: 1.0155\n",
      "Epoch 29/250\n",
      "\u001b[1m703/703\u001b[0m \u001b[32m━━━━━━━━━━━━━━━━━━━━\u001b[0m\u001b[37m\u001b[0m \u001b[1m9s\u001b[0m 12ms/step - loss: 1.5471 - output1_accuracy: 0.7734 - output1_loss: 0.8369 - output2_accuracy: 0.8526 - output2_loss: 0.6969 - val_loss: 1.9248 - val_output1_accuracy: 0.6685 - val_output1_loss: 1.0420 - val_output2_accuracy: 0.7640 - val_output2_loss: 0.8696\n",
      "Epoch 30/250\n",
      "\u001b[1m703/703\u001b[0m \u001b[32m━━━━━━━━━━━━━━━━━━━━\u001b[0m\u001b[37m\u001b[0m \u001b[1m9s\u001b[0m 13ms/step - loss: 1.5459 - output1_accuracy: 0.7818 - output1_loss: 0.8287 - output2_accuracy: 0.8508 - output2_loss: 0.7042 - val_loss: 1.9742 - val_output1_accuracy: 0.6661 - val_output1_loss: 1.0596 - val_output2_accuracy: 0.7478 - val_output2_loss: 0.9011\n",
      "Epoch 31/250\n",
      "\u001b[1m703/703\u001b[0m \u001b[32m━━━━━━━━━━━━━━━━━━━━\u001b[0m\u001b[37m\u001b[0m \u001b[1m9s\u001b[0m 12ms/step - loss: 1.5287 - output1_accuracy: 0.7851 - output1_loss: 0.8224 - output2_accuracy: 0.8546 - output2_loss: 0.6932 - val_loss: 1.8835 - val_output1_accuracy: 0.6853 - val_output1_loss: 1.0167 - val_output2_accuracy: 0.7740 - val_output2_loss: 0.8539\n",
      "Epoch 32/250\n",
      "\u001b[1m703/703\u001b[0m \u001b[32m━━━━━━━━━━━━━━━━━━━━\u001b[0m\u001b[37m\u001b[0m \u001b[1m9s\u001b[0m 13ms/step - loss: 1.5165 - output1_accuracy: 0.7876 - output1_loss: 0.8167 - output2_accuracy: 0.8595 - output2_loss: 0.6868 - val_loss: 1.9055 - val_output1_accuracy: 0.6769 - val_output1_loss: 1.0243 - val_output2_accuracy: 0.7692 - val_output2_loss: 0.8684\n",
      "Epoch 33/250\n",
      "\u001b[1m703/703\u001b[0m \u001b[32m━━━━━━━━━━━━━━━━━━━━\u001b[0m\u001b[37m\u001b[0m \u001b[1m9s\u001b[0m 12ms/step - loss: 1.5157 - output1_accuracy: 0.7838 - output1_loss: 0.8207 - output2_accuracy: 0.8622 - output2_loss: 0.6821 - val_loss: 1.8433 - val_output1_accuracy: 0.6997 - val_output1_loss: 0.9950 - val_output2_accuracy: 0.7808 - val_output2_loss: 0.8353\n",
      "Epoch 34/250\n",
      "\u001b[1m703/703\u001b[0m \u001b[32m━━━━━━━━━━━━━━━━━━━━\u001b[0m\u001b[37m\u001b[0m \u001b[1m9s\u001b[0m 12ms/step - loss: 1.5093 - output1_accuracy: 0.7918 - output1_loss: 0.8066 - output2_accuracy: 0.8581 - output2_loss: 0.6898 - val_loss: 1.9374 - val_output1_accuracy: 0.6667 - val_output1_loss: 1.0408 - val_output2_accuracy: 0.7578 - val_output2_loss: 0.8839\n",
      "Epoch 35/250\n",
      "\u001b[1m703/703\u001b[0m \u001b[32m━━━━━━━━━━━━━━━━━━━━\u001b[0m\u001b[37m\u001b[0m \u001b[1m9s\u001b[0m 12ms/step - loss: 1.4917 - output1_accuracy: 0.8030 - output1_loss: 0.7920 - output2_accuracy: 0.8589 - output2_loss: 0.6868 - val_loss: 1.9517 - val_output1_accuracy: 0.6436 - val_output1_loss: 1.0852 - val_output2_accuracy: 0.7742 - val_output2_loss: 0.8536\n",
      "Epoch 36/250\n",
      "\u001b[1m703/703\u001b[0m \u001b[32m━━━━━━━━━━━━━━━━━━━━\u001b[0m\u001b[37m\u001b[0m \u001b[1m9s\u001b[0m 12ms/step - loss: 1.4980 - output1_accuracy: 0.7935 - output1_loss: 0.8013 - output2_accuracy: 0.8587 - output2_loss: 0.6840 - val_loss: 1.8468 - val_output1_accuracy: 0.6951 - val_output1_loss: 1.0001 - val_output2_accuracy: 0.7845 - val_output2_loss: 0.8338\n",
      "Epoch 37/250\n",
      "\u001b[1m703/703\u001b[0m \u001b[32m━━━━━━━━━━━━━━━━━━━━\u001b[0m\u001b[37m\u001b[0m \u001b[1m9s\u001b[0m 13ms/step - loss: 1.4914 - output1_accuracy: 0.7964 - output1_loss: 0.7993 - output2_accuracy: 0.8610 - output2_loss: 0.6794 - val_loss: 1.8749 - val_output1_accuracy: 0.6793 - val_output1_loss: 1.0266 - val_output2_accuracy: 0.7825 - val_output2_loss: 0.8357\n",
      "Epoch 38/250\n",
      "\u001b[1m703/703\u001b[0m \u001b[32m━━━━━━━━━━━━━━━━━━━━\u001b[0m\u001b[37m\u001b[0m \u001b[1m10s\u001b[0m 14ms/step - loss: 1.4902 - output1_accuracy: 0.7989 - output1_loss: 0.7961 - output2_accuracy: 0.8623 - output2_loss: 0.6816 - val_loss: 1.9567 - val_output1_accuracy: 0.6609 - val_output1_loss: 1.0719 - val_output2_accuracy: 0.7592 - val_output2_loss: 0.8727\n",
      "Epoch 39/250\n",
      "\u001b[1m703/703\u001b[0m \u001b[32m━━━━━━━━━━━━━━━━━━━━\u001b[0m\u001b[37m\u001b[0m \u001b[1m9s\u001b[0m 13ms/step - loss: 1.4700 - output1_accuracy: 0.8050 - output1_loss: 0.7842 - output2_accuracy: 0.8651 - output2_loss: 0.6734 - val_loss: 1.8418 - val_output1_accuracy: 0.6939 - val_output1_loss: 1.0006 - val_output2_accuracy: 0.7855 - val_output2_loss: 0.8287\n",
      "Epoch 40/250\n",
      "\u001b[1m703/703\u001b[0m \u001b[32m━━━━━━━━━━━━━━━━━━━━\u001b[0m\u001b[37m\u001b[0m \u001b[1m9s\u001b[0m 13ms/step - loss: 1.4581 - output1_accuracy: 0.8060 - output1_loss: 0.7801 - output2_accuracy: 0.8686 - output2_loss: 0.6654 - val_loss: 1.9582 - val_output1_accuracy: 0.6577 - val_output1_loss: 1.0748 - val_output2_accuracy: 0.7648 - val_output2_loss: 0.8708\n",
      "Epoch 41/250\n",
      "\u001b[1m703/703\u001b[0m \u001b[32m━━━━━━━━━━━━━━━━━━━━\u001b[0m\u001b[37m\u001b[0m \u001b[1m9s\u001b[0m 12ms/step - loss: 1.4659 - output1_accuracy: 0.8086 - output1_loss: 0.7822 - output2_accuracy: 0.8677 - output2_loss: 0.6712 - val_loss: 1.9267 - val_output1_accuracy: 0.6703 - val_output1_loss: 1.0549 - val_output2_accuracy: 0.7720 - val_output2_loss: 0.8592\n",
      "Epoch 42/250\n",
      "\u001b[1m703/703\u001b[0m \u001b[32m━━━━━━━━━━━━━━━━━━━━\u001b[0m\u001b[37m\u001b[0m \u001b[1m9s\u001b[0m 12ms/step - loss: 1.4589 - output1_accuracy: 0.8067 - output1_loss: 0.7787 - output2_accuracy: 0.8684 - output2_loss: 0.6676 - val_loss: 1.8885 - val_output1_accuracy: 0.6837 - val_output1_loss: 1.0247 - val_output2_accuracy: 0.7738 - val_output2_loss: 0.8511\n",
      "Epoch 43/250\n",
      "\u001b[1m703/703\u001b[0m \u001b[32m━━━━━━━━━━━━━━━━━━━━\u001b[0m\u001b[37m\u001b[0m \u001b[1m9s\u001b[0m 13ms/step - loss: 1.4479 - output1_accuracy: 0.8120 - output1_loss: 0.7723 - output2_accuracy: 0.8708 - output2_loss: 0.6631 - val_loss: 1.8737 - val_output1_accuracy: 0.6851 - val_output1_loss: 1.0149 - val_output2_accuracy: 0.7746 - val_output2_loss: 0.8464\n",
      "Epoch 44/250\n",
      "\u001b[1m703/703\u001b[0m \u001b[32m━━━━━━━━━━━━━━━━━━━━\u001b[0m\u001b[37m\u001b[0m \u001b[1m9s\u001b[0m 13ms/step - loss: 1.4565 - output1_accuracy: 0.8078 - output1_loss: 0.7754 - output2_accuracy: 0.8688 - output2_loss: 0.6689 - val_loss: 1.8799 - val_output1_accuracy: 0.6811 - val_output1_loss: 1.0321 - val_output2_accuracy: 0.7845 - val_output2_loss: 0.8353\n",
      "Epoch 45/250\n",
      "\u001b[1m703/703\u001b[0m \u001b[32m━━━━━━━━━━━━━━━━━━━━\u001b[0m\u001b[37m\u001b[0m \u001b[1m9s\u001b[0m 12ms/step - loss: 1.4454 - output1_accuracy: 0.8112 - output1_loss: 0.7726 - output2_accuracy: 0.8745 - output2_loss: 0.6604 - val_loss: 1.8656 - val_output1_accuracy: 0.6833 - val_output1_loss: 1.0100 - val_output2_accuracy: 0.7808 - val_output2_loss: 0.8432\n",
      "Epoch 46/250\n",
      "\u001b[1m703/703\u001b[0m \u001b[32m━━━━━━━━━━━━━━━━━━━━\u001b[0m\u001b[37m\u001b[0m \u001b[1m9s\u001b[0m 13ms/step - loss: 1.4441 - output1_accuracy: 0.8105 - output1_loss: 0.7746 - output2_accuracy: 0.8756 - output2_loss: 0.6572 - val_loss: 1.8545 - val_output1_accuracy: 0.6843 - val_output1_loss: 1.0152 - val_output2_accuracy: 0.7897 - val_output2_loss: 0.8271\n",
      "Epoch 47/250\n",
      "\u001b[1m703/703\u001b[0m \u001b[32m━━━━━━━━━━━━━━━━━━━━\u001b[0m\u001b[37m\u001b[0m \u001b[1m9s\u001b[0m 12ms/step - loss: 1.4202 - output1_accuracy: 0.8207 - output1_loss: 0.7606 - output2_accuracy: 0.8797 - output2_loss: 0.6472 - val_loss: 1.8365 - val_output1_accuracy: 0.6925 - val_output1_loss: 1.0000 - val_output2_accuracy: 0.7907 - val_output2_loss: 0.8245\n",
      "Epoch 48/250\n",
      "\u001b[1m703/703\u001b[0m \u001b[32m━━━━━━━━━━━━━━━━━━━━\u001b[0m\u001b[37m\u001b[0m \u001b[1m9s\u001b[0m 13ms/step - loss: 1.4233 - output1_accuracy: 0.8177 - output1_loss: 0.7612 - output2_accuracy: 0.8769 - output2_loss: 0.6499 - val_loss: 1.9116 - val_output1_accuracy: 0.6713 - val_output1_loss: 1.0383 - val_output2_accuracy: 0.7744 - val_output2_loss: 0.8611\n",
      "Epoch 49/250\n",
      "\u001b[1m703/703\u001b[0m \u001b[32m━━━━━━━━━━━━━━━━━━━━\u001b[0m\u001b[37m\u001b[0m \u001b[1m9s\u001b[0m 13ms/step - loss: 1.4281 - output1_accuracy: 0.8176 - output1_loss: 0.7587 - output2_accuracy: 0.8774 - output2_loss: 0.6574 - val_loss: 1.8439 - val_output1_accuracy: 0.6847 - val_output1_loss: 1.0215 - val_output2_accuracy: 0.7937 - val_output2_loss: 0.8106\n",
      "Epoch 50/250\n",
      "\u001b[1m703/703\u001b[0m \u001b[32m━━━━━━━━━━━━━━━━━━━━\u001b[0m\u001b[37m\u001b[0m \u001b[1m9s\u001b[0m 13ms/step - loss: 1.4250 - output1_accuracy: 0.8174 - output1_loss: 0.7625 - output2_accuracy: 0.8790 - output2_loss: 0.6506 - val_loss: 1.8628 - val_output1_accuracy: 0.6857 - val_output1_loss: 1.0142 - val_output2_accuracy: 0.7847 - val_output2_loss: 0.8365\n",
      "Epoch 51/250\n",
      "\u001b[1m703/703\u001b[0m \u001b[32m━━━━━━━━━━━━━━━━━━━━\u001b[0m\u001b[37m\u001b[0m \u001b[1m9s\u001b[0m 13ms/step - loss: 1.4143 - output1_accuracy: 0.8223 - output1_loss: 0.7537 - output2_accuracy: 0.8785 - output2_loss: 0.6485 - val_loss: 1.8800 - val_output1_accuracy: 0.6829 - val_output1_loss: 1.0229 - val_output2_accuracy: 0.7833 - val_output2_loss: 0.8452\n",
      "Epoch 52/250\n",
      "\u001b[1m703/703\u001b[0m \u001b[32m━━━━━━━━━━━━━━━━━━━━\u001b[0m\u001b[37m\u001b[0m \u001b[1m9s\u001b[0m 13ms/step - loss: 1.4190 - output1_accuracy: 0.8207 - output1_loss: 0.7569 - output2_accuracy: 0.8777 - output2_loss: 0.6501 - val_loss: 1.8639 - val_output1_accuracy: 0.6939 - val_output1_loss: 0.9938 - val_output2_accuracy: 0.7788 - val_output2_loss: 0.8580\n",
      "Epoch 53/250\n",
      "\u001b[1m703/703\u001b[0m \u001b[32m━━━━━━━━━━━━━━━━━━━━\u001b[0m\u001b[37m\u001b[0m \u001b[1m8s\u001b[0m 12ms/step - loss: 1.4091 - output1_accuracy: 0.8251 - output1_loss: 0.7496 - output2_accuracy: 0.8796 - output2_loss: 0.6476 - val_loss: 1.8859 - val_output1_accuracy: 0.6753 - val_output1_loss: 1.0352 - val_output2_accuracy: 0.7766 - val_output2_loss: 0.8388\n",
      "Epoch 54/250\n",
      "\u001b[1m703/703\u001b[0m \u001b[32m━━━━━━━━━━━━━━━━━━━━\u001b[0m\u001b[37m\u001b[0m \u001b[1m8s\u001b[0m 12ms/step - loss: 1.3965 - output1_accuracy: 0.8302 - output1_loss: 0.7374 - output2_accuracy: 0.8801 - output2_loss: 0.6473 - val_loss: 1.9775 - val_output1_accuracy: 0.6649 - val_output1_loss: 1.0854 - val_output2_accuracy: 0.7700 - val_output2_loss: 0.8801\n",
      "Epoch 55/250\n",
      "\u001b[1m703/703\u001b[0m \u001b[32m━━━━━━━━━━━━━━━━━━━━\u001b[0m\u001b[37m\u001b[0m \u001b[1m9s\u001b[0m 13ms/step - loss: 1.4055 - output1_accuracy: 0.8202 - output1_loss: 0.7544 - output2_accuracy: 0.8808 - output2_loss: 0.6394 - val_loss: 1.9403 - val_output1_accuracy: 0.6681 - val_output1_loss: 1.0710 - val_output2_accuracy: 0.7738 - val_output2_loss: 0.8573\n",
      "Epoch 56/250\n",
      "\u001b[1m703/703\u001b[0m \u001b[32m━━━━━━━━━━━━━━━━━━━━\u001b[0m\u001b[37m\u001b[0m \u001b[1m9s\u001b[0m 13ms/step - loss: 1.4009 - output1_accuracy: 0.8270 - output1_loss: 0.7478 - output2_accuracy: 0.8832 - output2_loss: 0.6415 - val_loss: 1.8971 - val_output1_accuracy: 0.6857 - val_output1_loss: 1.0291 - val_output2_accuracy: 0.7768 - val_output2_loss: 0.8560\n",
      "Epoch 57/250\n",
      "\u001b[1m703/703\u001b[0m \u001b[32m━━━━━━━━━━━━━━━━━━━━\u001b[0m\u001b[37m\u001b[0m \u001b[1m9s\u001b[0m 13ms/step - loss: 1.3871 - output1_accuracy: 0.8295 - output1_loss: 0.7423 - output2_accuracy: 0.8875 - output2_loss: 0.6329 - val_loss: 1.9033 - val_output1_accuracy: 0.6783 - val_output1_loss: 1.0511 - val_output2_accuracy: 0.7877 - val_output2_loss: 0.8407\n",
      "Epoch 57: early stopping\n",
      "Restoring model weights from the end of the best epoch: 47.\n"
     ]
    }
   ],
   "source": [
    "K.clear_session() # garbage collection\n",
    "model = ACCNRR()\n",
    "model.compile(optimizer='rmsprop',\n",
    "              loss={'output1': keras.losses.CategoricalCrossentropy(label_smoothing=0.1), 'output2': keras.losses.CategoricalCrossentropy(label_smoothing=0.1)},\n",
    "              metrics={'output1': 'accuracy', 'output2': 'accuracy'})\n",
    "model.summary()\n",
    "reduce_lr = keras.callbacks.ReduceLROnPlateau(monitor='val_loss', factor=0.2,\n",
    "                              patience=5, min_lr=0.000001)\n",
    "history = model.fit(\n",
    "    traingen,            \n",
    "    epochs=250,          \n",
    "    steps_per_epoch=len(cifar10_x_train)//batchsize, # necessary since generator loops infinitely\n",
    "    validation_data=valgen,\n",
    "    validation_steps=len(cifar10_x_val)//batchsize,  # necessary since generator loops infinitely\n",
    "    callbacks=[early_stopping, reduce_lr],\n",
    "    verbose=1\n",
    ")"
   ]
  },
  {
   "cell_type": "code",
   "execution_count": 75,
   "metadata": {},
   "outputs": [
    {
     "name": "stderr",
     "output_type": "stream",
     "text": [
      "100%|██████████| 10/10 [00:10<00:00,  1.03s/it]"
     ]
    },
    {
     "name": "stdout",
     "output_type": "stream",
     "text": [
      "mean accuracy =  0.7449000000953674\n",
      "standard deviation =  0.0023437179247066614\n"
     ]
    },
    {
     "name": "stderr",
     "output_type": "stream",
     "text": [
      "\n"
     ]
    }
   ],
   "source": [
    "evaluate_model(model, testgen)"
   ]
  },
  {
   "cell_type": "code",
   "execution_count": 77,
   "metadata": {},
   "outputs": [
    {
     "name": "stdout",
     "output_type": "stream",
     "text": [
      "Epoch 1/250\n",
      "\u001b[1m703/703\u001b[0m \u001b[32m━━━━━━━━━━━━━━━━━━━━\u001b[0m\u001b[37m\u001b[0m \u001b[1m18s\u001b[0m 14ms/step - loss: 1.3606 - output1_accuracy: 0.8392 - output1_loss: 0.7224 - output2_accuracy: 0.8925 - output2_loss: 0.6264 - val_loss: 1.9467 - val_output1_accuracy: 0.6605 - val_output1_loss: 1.0716 - val_output2_accuracy: 0.7730 - val_output2_loss: 0.8633 - learning_rate: 0.0010\n",
      "Epoch 2/250\n",
      "\u001b[1m703/703\u001b[0m \u001b[32m━━━━━━━━━━━━━━━━━━━━\u001b[0m\u001b[37m\u001b[0m \u001b[1m9s\u001b[0m 13ms/step - loss: 1.3802 - output1_accuracy: 0.8349 - output1_loss: 0.7332 - output2_accuracy: 0.8858 - output2_loss: 0.6354 - val_loss: 1.9080 - val_output1_accuracy: 0.6813 - val_output1_loss: 1.0449 - val_output2_accuracy: 0.7778 - val_output2_loss: 0.8519 - learning_rate: 0.0010\n",
      "Epoch 3/250\n",
      "\u001b[1m703/703\u001b[0m \u001b[32m━━━━━━━━━━━━━━━━━━━━\u001b[0m\u001b[37m\u001b[0m \u001b[1m9s\u001b[0m 13ms/step - loss: 1.3739 - output1_accuracy: 0.8349 - output1_loss: 0.7284 - output2_accuracy: 0.8866 - output2_loss: 0.6341 - val_loss: 1.9518 - val_output1_accuracy: 0.6593 - val_output1_loss: 1.0942 - val_output2_accuracy: 0.7804 - val_output2_loss: 0.8460 - learning_rate: 0.0010\n",
      "Epoch 4/250\n",
      "\u001b[1m703/703\u001b[0m \u001b[32m━━━━━━━━━━━━━━━━━━━━\u001b[0m\u001b[37m\u001b[0m \u001b[1m9s\u001b[0m 13ms/step - loss: 1.3691 - output1_accuracy: 0.8328 - output1_loss: 0.7350 - output2_accuracy: 0.8939 - output2_loss: 0.6226 - val_loss: 1.9034 - val_output1_accuracy: 0.6829 - val_output1_loss: 1.0337 - val_output2_accuracy: 0.7796 - val_output2_loss: 0.8582 - learning_rate: 0.0010\n",
      "Epoch 5/250\n",
      "\u001b[1m703/703\u001b[0m \u001b[32m━━━━━━━━━━━━━━━━━━━━\u001b[0m\u001b[37m\u001b[0m \u001b[1m9s\u001b[0m 13ms/step - loss: 1.3655 - output1_accuracy: 0.8369 - output1_loss: 0.7263 - output2_accuracy: 0.8918 - output2_loss: 0.6276 - val_loss: 1.8845 - val_output1_accuracy: 0.6877 - val_output1_loss: 1.0197 - val_output2_accuracy: 0.7758 - val_output2_loss: 0.8533 - learning_rate: 0.0010\n",
      "Epoch 6/250\n",
      "\u001b[1m703/703\u001b[0m \u001b[32m━━━━━━━━━━━━━━━━━━━━\u001b[0m\u001b[37m\u001b[0m \u001b[1m9s\u001b[0m 13ms/step - loss: 1.3605 - output1_accuracy: 0.8396 - output1_loss: 0.7229 - output2_accuracy: 0.8928 - output2_loss: 0.6261 - val_loss: 1.9246 - val_output1_accuracy: 0.6575 - val_output1_loss: 1.0830 - val_output2_accuracy: 0.7863 - val_output2_loss: 0.8303 - learning_rate: 0.0010\n",
      "Epoch 7/250\n",
      "\u001b[1m703/703\u001b[0m \u001b[32m━━━━━━━━━━━━━━━━━━━━\u001b[0m\u001b[37m\u001b[0m \u001b[1m9s\u001b[0m 13ms/step - loss: 1.3678 - output1_accuracy: 0.8362 - output1_loss: 0.7262 - output2_accuracy: 0.8884 - output2_loss: 0.6303 - val_loss: 1.8618 - val_output1_accuracy: 0.7019 - val_output1_loss: 1.0029 - val_output2_accuracy: 0.7863 - val_output2_loss: 0.8473 - learning_rate: 0.0010\n",
      "Epoch 8/250\n",
      "\u001b[1m703/703\u001b[0m \u001b[32m━━━━━━━━━━━━━━━━━━━━\u001b[0m\u001b[37m\u001b[0m \u001b[1m9s\u001b[0m 13ms/step - loss: 1.3617 - output1_accuracy: 0.8349 - output1_loss: 0.7277 - output2_accuracy: 0.8938 - output2_loss: 0.6226 - val_loss: 1.9011 - val_output1_accuracy: 0.6919 - val_output1_loss: 1.0232 - val_output2_accuracy: 0.7726 - val_output2_loss: 0.8663 - learning_rate: 0.0010\n",
      "Epoch 9/250\n",
      "\u001b[1m703/703\u001b[0m \u001b[32m━━━━━━━━━━━━━━━━━━━━\u001b[0m\u001b[37m\u001b[0m \u001b[1m9s\u001b[0m 13ms/step - loss: 1.3555 - output1_accuracy: 0.8388 - output1_loss: 0.7216 - output2_accuracy: 0.8954 - output2_loss: 0.6226 - val_loss: 1.8385 - val_output1_accuracy: 0.7045 - val_output1_loss: 0.9864 - val_output2_accuracy: 0.7808 - val_output2_loss: 0.8412 - learning_rate: 0.0010\n",
      "Epoch 10/250\n",
      "\u001b[1m703/703\u001b[0m \u001b[32m━━━━━━━━━━━━━━━━━━━━\u001b[0m\u001b[37m\u001b[0m \u001b[1m9s\u001b[0m 13ms/step - loss: 1.3527 - output1_accuracy: 0.8433 - output1_loss: 0.7120 - output2_accuracy: 0.8888 - output2_loss: 0.6294 - val_loss: 1.8004 - val_output1_accuracy: 0.7133 - val_output1_loss: 0.9705 - val_output2_accuracy: 0.7869 - val_output2_loss: 0.8187 - learning_rate: 0.0010\n",
      "Epoch 11/250\n",
      "\u001b[1m703/703\u001b[0m \u001b[32m━━━━━━━━━━━━━━━━━━━━\u001b[0m\u001b[37m\u001b[0m \u001b[1m10s\u001b[0m 14ms/step - loss: 1.3483 - output1_accuracy: 0.8406 - output1_loss: 0.7184 - output2_accuracy: 0.8955 - output2_loss: 0.6186 - val_loss: 1.8121 - val_output1_accuracy: 0.7071 - val_output1_loss: 0.9824 - val_output2_accuracy: 0.7955 - val_output2_loss: 0.8184 - learning_rate: 0.0010\n",
      "Epoch 12/250\n",
      "\u001b[1m703/703\u001b[0m \u001b[32m━━━━━━━━━━━━━━━━━━━━\u001b[0m\u001b[37m\u001b[0m \u001b[1m10s\u001b[0m 14ms/step - loss: 1.3561 - output1_accuracy: 0.8388 - output1_loss: 0.7221 - output2_accuracy: 0.8936 - output2_loss: 0.6227 - val_loss: 1.9650 - val_output1_accuracy: 0.6735 - val_output1_loss: 1.0586 - val_output2_accuracy: 0.7544 - val_output2_loss: 0.8951 - learning_rate: 0.0010\n",
      "Epoch 13/250\n",
      "\u001b[1m703/703\u001b[0m \u001b[32m━━━━━━━━━━━━━━━━━━━━\u001b[0m\u001b[37m\u001b[0m \u001b[1m10s\u001b[0m 14ms/step - loss: 1.3556 - output1_accuracy: 0.8416 - output1_loss: 0.7199 - output2_accuracy: 0.8934 - output2_loss: 0.6244 - val_loss: 1.9423 - val_output1_accuracy: 0.6759 - val_output1_loss: 1.0775 - val_output2_accuracy: 0.7714 - val_output2_loss: 0.8536 - learning_rate: 0.0010\n",
      "Epoch 14/250\n",
      "\u001b[1m703/703\u001b[0m \u001b[32m━━━━━━━━━━━━━━━━━━━━\u001b[0m\u001b[37m\u001b[0m \u001b[1m10s\u001b[0m 14ms/step - loss: 1.3420 - output1_accuracy: 0.8466 - output1_loss: 0.7105 - output2_accuracy: 0.8937 - output2_loss: 0.6203 - val_loss: 1.8707 - val_output1_accuracy: 0.6927 - val_output1_loss: 1.0154 - val_output2_accuracy: 0.7825 - val_output2_loss: 0.8440 - learning_rate: 0.0010\n",
      "Epoch 15/250\n",
      "\u001b[1m701/703\u001b[0m \u001b[32m━━━━━━━━━━━━━━━━━━━\u001b[0m\u001b[37m━\u001b[0m \u001b[1m0s\u001b[0m 12ms/step - loss: 1.3470 - output1_accuracy: 0.8416 - output1_loss: 0.7181 - output2_accuracy: 0.8930 - output2_loss: 0.6177\n",
      "Epoch 15: ReduceLROnPlateau reducing learning rate to 0.00020000000949949026.\n",
      "\u001b[1m703/703\u001b[0m \u001b[32m━━━━━━━━━━━━━━━━━━━━\u001b[0m\u001b[37m\u001b[0m \u001b[1m9s\u001b[0m 12ms/step - loss: 1.3469 - output1_accuracy: 0.8416 - output1_loss: 0.7181 - output2_accuracy: 0.8930 - output2_loss: 0.6177 - val_loss: 1.9238 - val_output1_accuracy: 0.6985 - val_output1_loss: 1.0072 - val_output2_accuracy: 0.7576 - val_output2_loss: 0.9055 - learning_rate: 0.0010\n",
      "Epoch 16/250\n",
      "\u001b[1m703/703\u001b[0m \u001b[32m━━━━━━━━━━━━━━━━━━━━\u001b[0m\u001b[37m\u001b[0m \u001b[1m9s\u001b[0m 13ms/step - loss: 1.3131 - output1_accuracy: 0.8543 - output1_loss: 0.6952 - output2_accuracy: 0.9013 - output2_loss: 0.6069 - val_loss: 1.7406 - val_output1_accuracy: 0.7234 - val_output1_loss: 0.9528 - val_output2_accuracy: 0.8133 - val_output2_loss: 0.7770 - learning_rate: 2.0000e-04\n",
      "Epoch 17/250\n",
      "\u001b[1m703/703\u001b[0m \u001b[32m━━━━━━━━━━━━━━━━━━━━\u001b[0m\u001b[37m\u001b[0m \u001b[1m9s\u001b[0m 13ms/step - loss: 1.2910 - output1_accuracy: 0.8594 - output1_loss: 0.6865 - output2_accuracy: 0.9090 - output2_loss: 0.5937 - val_loss: 1.7611 - val_output1_accuracy: 0.7097 - val_output1_loss: 0.9724 - val_output2_accuracy: 0.8143 - val_output2_loss: 0.7779 - learning_rate: 2.0000e-04\n",
      "Epoch 18/250\n",
      "\u001b[1m703/703\u001b[0m \u001b[32m━━━━━━━━━━━━━━━━━━━━\u001b[0m\u001b[37m\u001b[0m \u001b[1m8s\u001b[0m 12ms/step - loss: 1.2813 - output1_accuracy: 0.8634 - output1_loss: 0.6793 - output2_accuracy: 0.9097 - output2_loss: 0.5911 - val_loss: 1.7310 - val_output1_accuracy: 0.7296 - val_output1_loss: 0.9427 - val_output2_accuracy: 0.8149 - val_output2_loss: 0.7774 - learning_rate: 2.0000e-04\n",
      "Epoch 19/250\n",
      "\u001b[1m703/703\u001b[0m \u001b[32m━━━━━━━━━━━━━━━━━━━━\u001b[0m\u001b[37m\u001b[0m \u001b[1m8s\u001b[0m 12ms/step - loss: 1.2733 - output1_accuracy: 0.8637 - output1_loss: 0.6733 - output2_accuracy: 0.9111 - output2_loss: 0.5891 - val_loss: 1.7457 - val_output1_accuracy: 0.7224 - val_output1_loss: 0.9595 - val_output2_accuracy: 0.8155 - val_output2_loss: 0.7753 - learning_rate: 2.0000e-04\n",
      "Epoch 20/250\n",
      "\u001b[1m703/703\u001b[0m \u001b[32m━━━━━━━━━━━━━━━━━━━━\u001b[0m\u001b[37m\u001b[0m \u001b[1m8s\u001b[0m 12ms/step - loss: 1.2668 - output1_accuracy: 0.8695 - output1_loss: 0.6716 - output2_accuracy: 0.9146 - output2_loss: 0.5843 - val_loss: 1.7178 - val_output1_accuracy: 0.7276 - val_output1_loss: 0.9486 - val_output2_accuracy: 0.8215 - val_output2_loss: 0.7584 - learning_rate: 2.0000e-04\n",
      "Epoch 21/250\n",
      "\u001b[1m703/703\u001b[0m \u001b[32m━━━━━━━━━━━━━━━━━━━━\u001b[0m\u001b[37m\u001b[0m \u001b[1m8s\u001b[0m 12ms/step - loss: 1.2664 - output1_accuracy: 0.8661 - output1_loss: 0.6712 - output2_accuracy: 0.9155 - output2_loss: 0.5842 - val_loss: 1.7526 - val_output1_accuracy: 0.7133 - val_output1_loss: 0.9767 - val_output2_accuracy: 0.8193 - val_output2_loss: 0.7650 - learning_rate: 2.0000e-04\n",
      "Epoch 22/250\n",
      "\u001b[1m703/703\u001b[0m \u001b[32m━━━━━━━━━━━━━━━━━━━━\u001b[0m\u001b[37m\u001b[0m \u001b[1m8s\u001b[0m 12ms/step - loss: 1.2613 - output1_accuracy: 0.8674 - output1_loss: 0.6690 - output2_accuracy: 0.9153 - output2_loss: 0.5815 - val_loss: 1.7310 - val_output1_accuracy: 0.7284 - val_output1_loss: 0.9448 - val_output2_accuracy: 0.8157 - val_output2_loss: 0.7754 - learning_rate: 2.0000e-04\n",
      "Epoch 23/250\n",
      "\u001b[1m703/703\u001b[0m \u001b[32m━━━━━━━━━━━━━━━━━━━━\u001b[0m\u001b[37m\u001b[0m \u001b[1m8s\u001b[0m 11ms/step - loss: 1.2629 - output1_accuracy: 0.8691 - output1_loss: 0.6699 - output2_accuracy: 0.9144 - output2_loss: 0.5821 - val_loss: 1.7669 - val_output1_accuracy: 0.7196 - val_output1_loss: 0.9680 - val_output2_accuracy: 0.8019 - val_output2_loss: 0.7880 - learning_rate: 2.0000e-04\n",
      "Epoch 24/250\n",
      "\u001b[1m703/703\u001b[0m \u001b[32m━━━━━━━━━━━━━━━━━━━━\u001b[0m\u001b[37m\u001b[0m \u001b[1m8s\u001b[0m 12ms/step - loss: 1.2557 - output1_accuracy: 0.8680 - output1_loss: 0.6675 - output2_accuracy: 0.9179 - output2_loss: 0.5774 - val_loss: 1.7286 - val_output1_accuracy: 0.7306 - val_output1_loss: 0.9449 - val_output2_accuracy: 0.8179 - val_output2_loss: 0.7730 - learning_rate: 2.0000e-04\n",
      "Epoch 25/250\n",
      "\u001b[1m703/703\u001b[0m \u001b[32m━━━━━━━━━━━━━━━━━━━━\u001b[0m\u001b[37m\u001b[0m \u001b[1m0s\u001b[0m 11ms/step - loss: 1.2494 - output1_accuracy: 0.8706 - output1_loss: 0.6615 - output2_accuracy: 0.9176 - output2_loss: 0.5771\n",
      "Epoch 25: ReduceLROnPlateau reducing learning rate to 4.0000001899898055e-05.\n",
      "\u001b[1m703/703\u001b[0m \u001b[32m━━━━━━━━━━━━━━━━━━━━\u001b[0m\u001b[37m\u001b[0m \u001b[1m8s\u001b[0m 12ms/step - loss: 1.2494 - output1_accuracy: 0.8706 - output1_loss: 0.6615 - output2_accuracy: 0.9176 - output2_loss: 0.5771 - val_loss: 1.7558 - val_output1_accuracy: 0.7181 - val_output1_loss: 0.9665 - val_output2_accuracy: 0.8107 - val_output2_loss: 0.7784 - learning_rate: 2.0000e-04\n",
      "Epoch 26/250\n",
      "\u001b[1m703/703\u001b[0m \u001b[32m━━━━━━━━━━━━━━━━━━━━\u001b[0m\u001b[37m\u001b[0m \u001b[1m8s\u001b[0m 12ms/step - loss: 1.2426 - output1_accuracy: 0.8737 - output1_loss: 0.6613 - output2_accuracy: 0.9210 - output2_loss: 0.5705 - val_loss: 1.7284 - val_output1_accuracy: 0.7272 - val_output1_loss: 0.9459 - val_output2_accuracy: 0.8221 - val_output2_loss: 0.7718 - learning_rate: 4.0000e-05\n",
      "Epoch 27/250\n",
      "\u001b[1m703/703\u001b[0m \u001b[32m━━━━━━━━━━━━━━━━━━━━\u001b[0m\u001b[37m\u001b[0m \u001b[1m8s\u001b[0m 12ms/step - loss: 1.2447 - output1_accuracy: 0.8715 - output1_loss: 0.6616 - output2_accuracy: 0.9190 - output2_loss: 0.5724 - val_loss: 1.7038 - val_output1_accuracy: 0.7318 - val_output1_loss: 0.9309 - val_output2_accuracy: 0.8185 - val_output2_loss: 0.7621 - learning_rate: 4.0000e-05\n",
      "Epoch 28/250\n",
      "\u001b[1m703/703\u001b[0m \u001b[32m━━━━━━━━━━━━━━━━━━━━\u001b[0m\u001b[37m\u001b[0m \u001b[1m8s\u001b[0m 12ms/step - loss: 1.2428 - output1_accuracy: 0.8756 - output1_loss: 0.6568 - output2_accuracy: 0.9161 - output2_loss: 0.5752 - val_loss: 1.7365 - val_output1_accuracy: 0.7232 - val_output1_loss: 0.9543 - val_output2_accuracy: 0.8179 - val_output2_loss: 0.7714 - learning_rate: 4.0000e-05\n",
      "Epoch 29/250\n",
      "\u001b[1m703/703\u001b[0m \u001b[32m━━━━━━━━━━━━━━━━━━━━\u001b[0m\u001b[37m\u001b[0m \u001b[1m8s\u001b[0m 11ms/step - loss: 1.2376 - output1_accuracy: 0.8765 - output1_loss: 0.6531 - output2_accuracy: 0.9189 - output2_loss: 0.5737 - val_loss: 1.7358 - val_output1_accuracy: 0.7246 - val_output1_loss: 0.9512 - val_output2_accuracy: 0.8165 - val_output2_loss: 0.7739 - learning_rate: 4.0000e-05\n",
      "Epoch 30/250\n",
      "\u001b[1m703/703\u001b[0m \u001b[32m━━━━━━━━━━━━━━━━━━━━\u001b[0m\u001b[37m\u001b[0m \u001b[1m8s\u001b[0m 12ms/step - loss: 1.2410 - output1_accuracy: 0.8747 - output1_loss: 0.6566 - output2_accuracy: 0.9189 - output2_loss: 0.5736 - val_loss: 1.7258 - val_output1_accuracy: 0.7356 - val_output1_loss: 0.9345 - val_output2_accuracy: 0.8093 - val_output2_loss: 0.7807 - learning_rate: 4.0000e-05\n",
      "Epoch 31/250\n",
      "\u001b[1m703/703\u001b[0m \u001b[32m━━━━━━━━━━━━━━━━━━━━\u001b[0m\u001b[37m\u001b[0m \u001b[1m8s\u001b[0m 12ms/step - loss: 1.2487 - output1_accuracy: 0.8720 - output1_loss: 0.6612 - output2_accuracy: 0.9166 - output2_loss: 0.5768 - val_loss: 1.7286 - val_output1_accuracy: 0.7224 - val_output1_loss: 0.9549 - val_output2_accuracy: 0.8197 - val_output2_loss: 0.7630 - learning_rate: 4.0000e-05\n",
      "Epoch 32/250\n",
      "\u001b[1m699/703\u001b[0m \u001b[32m━━━━━━━━━━━━━━━━━━━\u001b[0m\u001b[37m━\u001b[0m \u001b[1m0s\u001b[0m 11ms/step - loss: 1.2357 - output1_accuracy: 0.8777 - output1_loss: 0.6525 - output2_accuracy: 0.9183 - output2_loss: 0.5725\n",
      "Epoch 32: ReduceLROnPlateau reducing learning rate to 8.000000525498762e-06.\n",
      "\u001b[1m703/703\u001b[0m \u001b[32m━━━━━━━━━━━━━━━━━━━━\u001b[0m\u001b[37m\u001b[0m \u001b[1m8s\u001b[0m 12ms/step - loss: 1.2357 - output1_accuracy: 0.8776 - output1_loss: 0.6525 - output2_accuracy: 0.9183 - output2_loss: 0.5725 - val_loss: 1.7525 - val_output1_accuracy: 0.7234 - val_output1_loss: 0.9545 - val_output2_accuracy: 0.8041 - val_output2_loss: 0.7873 - learning_rate: 4.0000e-05\n",
      "Epoch 33/250\n",
      "\u001b[1m703/703\u001b[0m \u001b[32m━━━━━━━━━━━━━━━━━━━━\u001b[0m\u001b[37m\u001b[0m \u001b[1m8s\u001b[0m 12ms/step - loss: 1.2308 - output1_accuracy: 0.8767 - output1_loss: 0.6526 - output2_accuracy: 0.9213 - output2_loss: 0.5676 - val_loss: 1.7604 - val_output1_accuracy: 0.7200 - val_output1_loss: 0.9675 - val_output2_accuracy: 0.8149 - val_output2_loss: 0.7822 - learning_rate: 8.0000e-06\n",
      "Epoch 34/250\n",
      "\u001b[1m703/703\u001b[0m \u001b[32m━━━━━━━━━━━━━━━━━━━━\u001b[0m\u001b[37m\u001b[0m \u001b[1m8s\u001b[0m 12ms/step - loss: 1.2337 - output1_accuracy: 0.8772 - output1_loss: 0.6552 - output2_accuracy: 0.9223 - output2_loss: 0.5678 - val_loss: 1.7266 - val_output1_accuracy: 0.7256 - val_output1_loss: 0.9563 - val_output2_accuracy: 0.8181 - val_output2_loss: 0.7596 - learning_rate: 8.0000e-06\n",
      "Epoch 35/250\n",
      "\u001b[1m703/703\u001b[0m \u001b[32m━━━━━━━━━━━━━━━━━━━━\u001b[0m\u001b[37m\u001b[0m \u001b[1m8s\u001b[0m 12ms/step - loss: 1.2404 - output1_accuracy: 0.8757 - output1_loss: 0.6568 - output2_accuracy: 0.9216 - output2_loss: 0.5729 - val_loss: 1.6982 - val_output1_accuracy: 0.7296 - val_output1_loss: 0.9338 - val_output2_accuracy: 0.8241 - val_output2_loss: 0.7537 - learning_rate: 8.0000e-06\n",
      "Epoch 36/250\n",
      "\u001b[1m703/703\u001b[0m \u001b[32m━━━━━━━━━━━━━━━━━━━━\u001b[0m\u001b[37m\u001b[0m \u001b[1m8s\u001b[0m 12ms/step - loss: 1.2296 - output1_accuracy: 0.8803 - output1_loss: 0.6485 - output2_accuracy: 0.9214 - output2_loss: 0.5704 - val_loss: 1.7459 - val_output1_accuracy: 0.7252 - val_output1_loss: 0.9530 - val_output2_accuracy: 0.8085 - val_output2_loss: 0.7822 - learning_rate: 8.0000e-06\n",
      "Epoch 37/250\n",
      "\u001b[1m703/703\u001b[0m \u001b[32m━━━━━━━━━━━━━━━━━━━━\u001b[0m\u001b[37m\u001b[0m \u001b[1m8s\u001b[0m 12ms/step - loss: 1.2368 - output1_accuracy: 0.8771 - output1_loss: 0.6557 - output2_accuracy: 0.9184 - output2_loss: 0.5705 - val_loss: 1.7236 - val_output1_accuracy: 0.7392 - val_output1_loss: 0.9393 - val_output2_accuracy: 0.8109 - val_output2_loss: 0.7736 - learning_rate: 8.0000e-06\n",
      "Epoch 38/250\n",
      "\u001b[1m703/703\u001b[0m \u001b[32m━━━━━━━━━━━━━━━━━━━━\u001b[0m\u001b[37m\u001b[0m \u001b[1m8s\u001b[0m 12ms/step - loss: 1.2293 - output1_accuracy: 0.8819 - output1_loss: 0.6461 - output2_accuracy: 0.9193 - output2_loss: 0.5725 - val_loss: 1.7229 - val_output1_accuracy: 0.7294 - val_output1_loss: 0.9415 - val_output2_accuracy: 0.8169 - val_output2_loss: 0.7707 - learning_rate: 8.0000e-06\n",
      "Epoch 39/250\n",
      "\u001b[1m703/703\u001b[0m \u001b[32m━━━━━━━━━━━━━━━━━━━━\u001b[0m\u001b[37m\u001b[0m \u001b[1m8s\u001b[0m 12ms/step - loss: 1.2342 - output1_accuracy: 0.8779 - output1_loss: 0.6535 - output2_accuracy: 0.9216 - output2_loss: 0.5700 - val_loss: 1.7099 - val_output1_accuracy: 0.7316 - val_output1_loss: 0.9401 - val_output2_accuracy: 0.8269 - val_output2_loss: 0.7591 - learning_rate: 8.0000e-06\n",
      "Epoch 40/250\n",
      "\u001b[1m702/703\u001b[0m \u001b[32m━━━━━━━━━━━━━━━━━━━\u001b[0m\u001b[37m━\u001b[0m \u001b[1m0s\u001b[0m 11ms/step - loss: 1.2324 - output1_accuracy: 0.8782 - output1_loss: 0.6490 - output2_accuracy: 0.9190 - output2_loss: 0.5727\n",
      "Epoch 40: ReduceLROnPlateau reducing learning rate to 1.6000001778593287e-06.\n",
      "\u001b[1m703/703\u001b[0m \u001b[32m━━━━━━━━━━━━━━━━━━━━\u001b[0m\u001b[37m\u001b[0m \u001b[1m9s\u001b[0m 12ms/step - loss: 1.2324 - output1_accuracy: 0.8782 - output1_loss: 0.6490 - output2_accuracy: 0.9190 - output2_loss: 0.5727 - val_loss: 1.7314 - val_output1_accuracy: 0.7328 - val_output1_loss: 0.9478 - val_output2_accuracy: 0.8175 - val_output2_loss: 0.7728 - learning_rate: 8.0000e-06\n",
      "Epoch 41/250\n",
      "\u001b[1m703/703\u001b[0m \u001b[32m━━━━━━━━━━━━━━━━━━━━\u001b[0m\u001b[37m\u001b[0m \u001b[1m8s\u001b[0m 12ms/step - loss: 1.2403 - output1_accuracy: 0.8789 - output1_loss: 0.6543 - output2_accuracy: 0.9180 - output2_loss: 0.5754 - val_loss: 1.7587 - val_output1_accuracy: 0.7264 - val_output1_loss: 0.9523 - val_output2_accuracy: 0.8133 - val_output2_loss: 0.7958 - learning_rate: 1.6000e-06\n",
      "Epoch 42/250\n",
      "\u001b[1m703/703\u001b[0m \u001b[32m━━━━━━━━━━━━━━━━━━━━\u001b[0m\u001b[37m\u001b[0m \u001b[1m9s\u001b[0m 13ms/step - loss: 1.2283 - output1_accuracy: 0.8796 - output1_loss: 0.6497 - output2_accuracy: 0.9234 - output2_loss: 0.5679 - val_loss: 1.7260 - val_output1_accuracy: 0.7298 - val_output1_loss: 0.9406 - val_output2_accuracy: 0.8177 - val_output2_loss: 0.7747 - learning_rate: 1.6000e-06\n",
      "Epoch 43/250\n",
      "\u001b[1m703/703\u001b[0m \u001b[32m━━━━━━━━━━━━━━━━━━━━\u001b[0m\u001b[37m\u001b[0m \u001b[1m9s\u001b[0m 12ms/step - loss: 1.2364 - output1_accuracy: 0.8751 - output1_loss: 0.6547 - output2_accuracy: 0.9212 - output2_loss: 0.5710 - val_loss: 1.7126 - val_output1_accuracy: 0.7400 - val_output1_loss: 0.9378 - val_output2_accuracy: 0.8191 - val_output2_loss: 0.7642 - learning_rate: 1.6000e-06\n",
      "Epoch 44/250\n",
      "\u001b[1m703/703\u001b[0m \u001b[32m━━━━━━━━━━━━━━━━━━━━\u001b[0m\u001b[37m\u001b[0m \u001b[1m8s\u001b[0m 12ms/step - loss: 1.2350 - output1_accuracy: 0.8753 - output1_loss: 0.6539 - output2_accuracy: 0.9208 - output2_loss: 0.5705 - val_loss: 1.7426 - val_output1_accuracy: 0.7222 - val_output1_loss: 0.9536 - val_output2_accuracy: 0.8187 - val_output2_loss: 0.7783 - learning_rate: 1.6000e-06\n",
      "Epoch 45/250\n",
      "\u001b[1m700/703\u001b[0m \u001b[32m━━━━━━━━━━━━━━━━━━━\u001b[0m\u001b[37m━\u001b[0m \u001b[1m0s\u001b[0m 12ms/step - loss: 1.2302 - output1_accuracy: 0.8802 - output1_loss: 0.6504 - output2_accuracy: 0.9222 - output2_loss: 0.5691\n",
      "Epoch 45: ReduceLROnPlateau reducing learning rate to 1e-06.\n",
      "\u001b[1m703/703\u001b[0m \u001b[32m━━━━━━━━━━━━━━━━━━━━\u001b[0m\u001b[37m\u001b[0m \u001b[1m9s\u001b[0m 13ms/step - loss: 1.2302 - output1_accuracy: 0.8802 - output1_loss: 0.6504 - output2_accuracy: 0.9222 - output2_loss: 0.5691 - val_loss: 1.7092 - val_output1_accuracy: 0.7324 - val_output1_loss: 0.9369 - val_output2_accuracy: 0.8231 - val_output2_loss: 0.7616 - learning_rate: 1.6000e-06\n",
      "Epoch 45: early stopping\n",
      "Restoring model weights from the end of the best epoch: 35.\n"
     ]
    }
   ],
   "source": [
    "model.compile(optimizer='rmsprop',\n",
    "              loss={'output1': keras.losses.CategoricalCrossentropy(label_smoothing=0.1), 'output2': keras.losses.CategoricalCrossentropy(label_smoothing=0.1)},\n",
    "              metrics={'output1': 'accuracy', 'output2': 'accuracy'})\n",
    "reduce_lr = keras.callbacks.ReduceLROnPlateau(monitor='val_loss', factor=0.2,\n",
    "                              patience=5, min_lr=0.000001, verbose=1)\n",
    "history = model.fit(\n",
    "    traingen,            \n",
    "    epochs=250,          \n",
    "    steps_per_epoch=len(cifar10_x_train)//batchsize, # necessary since generator loops infinitely\n",
    "    validation_data=valgen,\n",
    "    validation_steps=len(cifar10_x_val)//batchsize,  # necessary since generator loops infinitely\n",
    "    callbacks=[early_stopping, reduce_lr],\n",
    "    verbose=1\n",
    ")"
   ]
  },
  {
   "cell_type": "code",
   "execution_count": 78,
   "metadata": {},
   "outputs": [
    {
     "name": "stderr",
     "output_type": "stream",
     "text": [
      "100%|██████████| 10/10 [00:11<00:00,  1.15s/it]"
     ]
    },
    {
     "name": "stdout",
     "output_type": "stream",
     "text": [
      "mean accuracy =  0.7728849947452545\n",
      "standard deviation =  0.0034772096260280113\n"
     ]
    },
    {
     "name": "stderr",
     "output_type": "stream",
     "text": [
      "\n"
     ]
    }
   ],
   "source": [
    "evaluate_model(model,testgen)"
   ]
  },
  {
   "cell_type": "code",
   "execution_count": 79,
   "metadata": {},
   "outputs": [],
   "source": [
    "model.save('77.2acc.keras')"
   ]
  },
  {
   "cell_type": "code",
   "execution_count": 84,
   "metadata": {},
   "outputs": [],
   "source": [
    "def ACCNRR2():\n",
    "    # CIFAR-10\n",
    "    inputs = keras.Input(shape=(32,32,3))\n",
    "    #inputs = layers.RandomFlip(\"horizontal\")(inputs)\n",
    "    #inputs = layers.RandomTranslation(height_factor=5/32, width_factor=5/32, fill_mode='nearest')(inputs)\n",
    "    # Feature Extractor\n",
    "    x = layers.Conv2D(96, (3,3), activation='relu')(inputs)\n",
    "    x = layers.BatchNormalization()(x)\n",
    "    x = layers.Conv2D(96, (3,3), activation='relu')(x)\n",
    "    x = layers.BatchNormalization()(x)\n",
    "    x = layers.Conv2D(96, (3,3), activation='relu', strides=2)(x)\n",
    "    x = layers.BatchNormalization()(x)\n",
    "    x = layers.Conv2D(192, (3,3), activation='relu')(x)\n",
    "    x = layers.BatchNormalization()(x)\n",
    "    x = layers.Conv2D(192, (3,3), activation='relu')(x)\n",
    "    x = layers.BatchNormalization()(x)\n",
    "    x = layers.Conv2D(192, (3,3), activation='relu', strides=2)(x)\n",
    "    x = layers.BatchNormalization()(x)\n",
    "    # x = layers.Conv2D(192, (3,3), activation='relu')(x)\n",
    "    # x = layers.BatchNormalization()(x)\n",
    "    # Classifers\n",
    "    x1 = layers.Conv2D(192, (1,1), activation='relu')(x)\n",
    "    x1 = layers.BatchNormalization()(x1)\n",
    "    x1 = layers.GlobalAveragePooling2D()(x1)\n",
    "    x2 = layers.Conv2D(192, (1,1), activation='relu')(x)\n",
    "    x2 = layers.BatchNormalization()(x2)\n",
    "    x2 = layers.GlobalAveragePooling2D()(x2)\n",
    "    #x = layers.Flatten()(x)\n",
    "    output1 = layers.Dense(5, activation='softmax', name='output1', kernel_regularizer=regularizers.l2(0.01))(x1)\n",
    "    output2 = layers.Dense(5, activation='softmax', name='output2', kernel_regularizer=regularizers.l2(0.01))(x2)\n",
    "    # Model creation\n",
    "    model = keras.Model(\n",
    "        inputs,\n",
    "        outputs={'output1':output1, 'output2':output2}, name='ACCNRR2',\n",
    "        )\n",
    "    return model"
   ]
  },
  {
   "cell_type": "code",
   "execution_count": 85,
   "metadata": {},
   "outputs": [
    {
     "data": {
      "text/html": [
       "<pre style=\"white-space:pre;overflow-x:auto;line-height:normal;font-family:Menlo,'DejaVu Sans Mono',consolas,'Courier New',monospace\"><span style=\"font-weight: bold\">Model: \"ACCNRR2\"</span>\n",
       "</pre>\n"
      ],
      "text/plain": [
       "\u001b[1mModel: \"ACCNRR2\"\u001b[0m\n"
      ]
     },
     "metadata": {},
     "output_type": "display_data"
    },
    {
     "data": {
      "text/html": [
       "<pre style=\"white-space:pre;overflow-x:auto;line-height:normal;font-family:Menlo,'DejaVu Sans Mono',consolas,'Courier New',monospace\">┏━━━━━━━━━━━━━━━━━━━━━┳━━━━━━━━━━━━━━━━━━━┳━━━━━━━━━━━━┳━━━━━━━━━━━━━━━━━━━┓\n",
       "┃<span style=\"font-weight: bold\"> Layer (type)        </span>┃<span style=\"font-weight: bold\"> Output Shape      </span>┃<span style=\"font-weight: bold\">    Param # </span>┃<span style=\"font-weight: bold\"> Connected to      </span>┃\n",
       "┡━━━━━━━━━━━━━━━━━━━━━╇━━━━━━━━━━━━━━━━━━━╇━━━━━━━━━━━━╇━━━━━━━━━━━━━━━━━━━┩\n",
       "│ input_layer         │ (<span style=\"color: #00d7ff; text-decoration-color: #00d7ff\">None</span>, <span style=\"color: #00af00; text-decoration-color: #00af00\">32</span>, <span style=\"color: #00af00; text-decoration-color: #00af00\">32</span>, <span style=\"color: #00af00; text-decoration-color: #00af00\">3</span>) │          <span style=\"color: #00af00; text-decoration-color: #00af00\">0</span> │ -                 │\n",
       "│ (<span style=\"color: #0087ff; text-decoration-color: #0087ff\">InputLayer</span>)        │                   │            │                   │\n",
       "├─────────────────────┼───────────────────┼────────────┼───────────────────┤\n",
       "│ conv2d (<span style=\"color: #0087ff; text-decoration-color: #0087ff\">Conv2D</span>)     │ (<span style=\"color: #00d7ff; text-decoration-color: #00d7ff\">None</span>, <span style=\"color: #00af00; text-decoration-color: #00af00\">30</span>, <span style=\"color: #00af00; text-decoration-color: #00af00\">30</span>,    │      <span style=\"color: #00af00; text-decoration-color: #00af00\">2,688</span> │ input_layer[<span style=\"color: #00af00; text-decoration-color: #00af00\">0</span>][<span style=\"color: #00af00; text-decoration-color: #00af00\">0</span>] │\n",
       "│                     │ <span style=\"color: #00af00; text-decoration-color: #00af00\">96</span>)               │            │                   │\n",
       "├─────────────────────┼───────────────────┼────────────┼───────────────────┤\n",
       "│ batch_normalization │ (<span style=\"color: #00d7ff; text-decoration-color: #00d7ff\">None</span>, <span style=\"color: #00af00; text-decoration-color: #00af00\">30</span>, <span style=\"color: #00af00; text-decoration-color: #00af00\">30</span>,    │        <span style=\"color: #00af00; text-decoration-color: #00af00\">384</span> │ conv2d[<span style=\"color: #00af00; text-decoration-color: #00af00\">0</span>][<span style=\"color: #00af00; text-decoration-color: #00af00\">0</span>]      │\n",
       "│ (<span style=\"color: #0087ff; text-decoration-color: #0087ff\">BatchNormalizatio…</span> │ <span style=\"color: #00af00; text-decoration-color: #00af00\">96</span>)               │            │                   │\n",
       "├─────────────────────┼───────────────────┼────────────┼───────────────────┤\n",
       "│ conv2d_1 (<span style=\"color: #0087ff; text-decoration-color: #0087ff\">Conv2D</span>)   │ (<span style=\"color: #00d7ff; text-decoration-color: #00d7ff\">None</span>, <span style=\"color: #00af00; text-decoration-color: #00af00\">28</span>, <span style=\"color: #00af00; text-decoration-color: #00af00\">28</span>,    │     <span style=\"color: #00af00; text-decoration-color: #00af00\">83,040</span> │ batch_normalizat… │\n",
       "│                     │ <span style=\"color: #00af00; text-decoration-color: #00af00\">96</span>)               │            │                   │\n",
       "├─────────────────────┼───────────────────┼────────────┼───────────────────┤\n",
       "│ batch_normalizatio… │ (<span style=\"color: #00d7ff; text-decoration-color: #00d7ff\">None</span>, <span style=\"color: #00af00; text-decoration-color: #00af00\">28</span>, <span style=\"color: #00af00; text-decoration-color: #00af00\">28</span>,    │        <span style=\"color: #00af00; text-decoration-color: #00af00\">384</span> │ conv2d_1[<span style=\"color: #00af00; text-decoration-color: #00af00\">0</span>][<span style=\"color: #00af00; text-decoration-color: #00af00\">0</span>]    │\n",
       "│ (<span style=\"color: #0087ff; text-decoration-color: #0087ff\">BatchNormalizatio…</span> │ <span style=\"color: #00af00; text-decoration-color: #00af00\">96</span>)               │            │                   │\n",
       "├─────────────────────┼───────────────────┼────────────┼───────────────────┤\n",
       "│ conv2d_2 (<span style=\"color: #0087ff; text-decoration-color: #0087ff\">Conv2D</span>)   │ (<span style=\"color: #00d7ff; text-decoration-color: #00d7ff\">None</span>, <span style=\"color: #00af00; text-decoration-color: #00af00\">13</span>, <span style=\"color: #00af00; text-decoration-color: #00af00\">13</span>,    │     <span style=\"color: #00af00; text-decoration-color: #00af00\">83,040</span> │ batch_normalizat… │\n",
       "│                     │ <span style=\"color: #00af00; text-decoration-color: #00af00\">96</span>)               │            │                   │\n",
       "├─────────────────────┼───────────────────┼────────────┼───────────────────┤\n",
       "│ batch_normalizatio… │ (<span style=\"color: #00d7ff; text-decoration-color: #00d7ff\">None</span>, <span style=\"color: #00af00; text-decoration-color: #00af00\">13</span>, <span style=\"color: #00af00; text-decoration-color: #00af00\">13</span>,    │        <span style=\"color: #00af00; text-decoration-color: #00af00\">384</span> │ conv2d_2[<span style=\"color: #00af00; text-decoration-color: #00af00\">0</span>][<span style=\"color: #00af00; text-decoration-color: #00af00\">0</span>]    │\n",
       "│ (<span style=\"color: #0087ff; text-decoration-color: #0087ff\">BatchNormalizatio…</span> │ <span style=\"color: #00af00; text-decoration-color: #00af00\">96</span>)               │            │                   │\n",
       "├─────────────────────┼───────────────────┼────────────┼───────────────────┤\n",
       "│ conv2d_3 (<span style=\"color: #0087ff; text-decoration-color: #0087ff\">Conv2D</span>)   │ (<span style=\"color: #00d7ff; text-decoration-color: #00d7ff\">None</span>, <span style=\"color: #00af00; text-decoration-color: #00af00\">11</span>, <span style=\"color: #00af00; text-decoration-color: #00af00\">11</span>,    │    <span style=\"color: #00af00; text-decoration-color: #00af00\">166,080</span> │ batch_normalizat… │\n",
       "│                     │ <span style=\"color: #00af00; text-decoration-color: #00af00\">192</span>)              │            │                   │\n",
       "├─────────────────────┼───────────────────┼────────────┼───────────────────┤\n",
       "│ batch_normalizatio… │ (<span style=\"color: #00d7ff; text-decoration-color: #00d7ff\">None</span>, <span style=\"color: #00af00; text-decoration-color: #00af00\">11</span>, <span style=\"color: #00af00; text-decoration-color: #00af00\">11</span>,    │        <span style=\"color: #00af00; text-decoration-color: #00af00\">768</span> │ conv2d_3[<span style=\"color: #00af00; text-decoration-color: #00af00\">0</span>][<span style=\"color: #00af00; text-decoration-color: #00af00\">0</span>]    │\n",
       "│ (<span style=\"color: #0087ff; text-decoration-color: #0087ff\">BatchNormalizatio…</span> │ <span style=\"color: #00af00; text-decoration-color: #00af00\">192</span>)              │            │                   │\n",
       "├─────────────────────┼───────────────────┼────────────┼───────────────────┤\n",
       "│ conv2d_4 (<span style=\"color: #0087ff; text-decoration-color: #0087ff\">Conv2D</span>)   │ (<span style=\"color: #00d7ff; text-decoration-color: #00d7ff\">None</span>, <span style=\"color: #00af00; text-decoration-color: #00af00\">9</span>, <span style=\"color: #00af00; text-decoration-color: #00af00\">9</span>, <span style=\"color: #00af00; text-decoration-color: #00af00\">192</span>) │    <span style=\"color: #00af00; text-decoration-color: #00af00\">331,968</span> │ batch_normalizat… │\n",
       "├─────────────────────┼───────────────────┼────────────┼───────────────────┤\n",
       "│ batch_normalizatio… │ (<span style=\"color: #00d7ff; text-decoration-color: #00d7ff\">None</span>, <span style=\"color: #00af00; text-decoration-color: #00af00\">9</span>, <span style=\"color: #00af00; text-decoration-color: #00af00\">9</span>, <span style=\"color: #00af00; text-decoration-color: #00af00\">192</span>) │        <span style=\"color: #00af00; text-decoration-color: #00af00\">768</span> │ conv2d_4[<span style=\"color: #00af00; text-decoration-color: #00af00\">0</span>][<span style=\"color: #00af00; text-decoration-color: #00af00\">0</span>]    │\n",
       "│ (<span style=\"color: #0087ff; text-decoration-color: #0087ff\">BatchNormalizatio…</span> │                   │            │                   │\n",
       "├─────────────────────┼───────────────────┼────────────┼───────────────────┤\n",
       "│ conv2d_5 (<span style=\"color: #0087ff; text-decoration-color: #0087ff\">Conv2D</span>)   │ (<span style=\"color: #00d7ff; text-decoration-color: #00d7ff\">None</span>, <span style=\"color: #00af00; text-decoration-color: #00af00\">4</span>, <span style=\"color: #00af00; text-decoration-color: #00af00\">4</span>, <span style=\"color: #00af00; text-decoration-color: #00af00\">192</span>) │    <span style=\"color: #00af00; text-decoration-color: #00af00\">331,968</span> │ batch_normalizat… │\n",
       "├─────────────────────┼───────────────────┼────────────┼───────────────────┤\n",
       "│ batch_normalizatio… │ (<span style=\"color: #00d7ff; text-decoration-color: #00d7ff\">None</span>, <span style=\"color: #00af00; text-decoration-color: #00af00\">4</span>, <span style=\"color: #00af00; text-decoration-color: #00af00\">4</span>, <span style=\"color: #00af00; text-decoration-color: #00af00\">192</span>) │        <span style=\"color: #00af00; text-decoration-color: #00af00\">768</span> │ conv2d_5[<span style=\"color: #00af00; text-decoration-color: #00af00\">0</span>][<span style=\"color: #00af00; text-decoration-color: #00af00\">0</span>]    │\n",
       "│ (<span style=\"color: #0087ff; text-decoration-color: #0087ff\">BatchNormalizatio…</span> │                   │            │                   │\n",
       "├─────────────────────┼───────────────────┼────────────┼───────────────────┤\n",
       "│ conv2d_6 (<span style=\"color: #0087ff; text-decoration-color: #0087ff\">Conv2D</span>)   │ (<span style=\"color: #00d7ff; text-decoration-color: #00d7ff\">None</span>, <span style=\"color: #00af00; text-decoration-color: #00af00\">4</span>, <span style=\"color: #00af00; text-decoration-color: #00af00\">4</span>, <span style=\"color: #00af00; text-decoration-color: #00af00\">192</span>) │     <span style=\"color: #00af00; text-decoration-color: #00af00\">37,056</span> │ batch_normalizat… │\n",
       "├─────────────────────┼───────────────────┼────────────┼───────────────────┤\n",
       "│ conv2d_7 (<span style=\"color: #0087ff; text-decoration-color: #0087ff\">Conv2D</span>)   │ (<span style=\"color: #00d7ff; text-decoration-color: #00d7ff\">None</span>, <span style=\"color: #00af00; text-decoration-color: #00af00\">4</span>, <span style=\"color: #00af00; text-decoration-color: #00af00\">4</span>, <span style=\"color: #00af00; text-decoration-color: #00af00\">192</span>) │     <span style=\"color: #00af00; text-decoration-color: #00af00\">37,056</span> │ batch_normalizat… │\n",
       "├─────────────────────┼───────────────────┼────────────┼───────────────────┤\n",
       "│ batch_normalizatio… │ (<span style=\"color: #00d7ff; text-decoration-color: #00d7ff\">None</span>, <span style=\"color: #00af00; text-decoration-color: #00af00\">4</span>, <span style=\"color: #00af00; text-decoration-color: #00af00\">4</span>, <span style=\"color: #00af00; text-decoration-color: #00af00\">192</span>) │        <span style=\"color: #00af00; text-decoration-color: #00af00\">768</span> │ conv2d_6[<span style=\"color: #00af00; text-decoration-color: #00af00\">0</span>][<span style=\"color: #00af00; text-decoration-color: #00af00\">0</span>]    │\n",
       "│ (<span style=\"color: #0087ff; text-decoration-color: #0087ff\">BatchNormalizatio…</span> │                   │            │                   │\n",
       "├─────────────────────┼───────────────────┼────────────┼───────────────────┤\n",
       "│ batch_normalizatio… │ (<span style=\"color: #00d7ff; text-decoration-color: #00d7ff\">None</span>, <span style=\"color: #00af00; text-decoration-color: #00af00\">4</span>, <span style=\"color: #00af00; text-decoration-color: #00af00\">4</span>, <span style=\"color: #00af00; text-decoration-color: #00af00\">192</span>) │        <span style=\"color: #00af00; text-decoration-color: #00af00\">768</span> │ conv2d_7[<span style=\"color: #00af00; text-decoration-color: #00af00\">0</span>][<span style=\"color: #00af00; text-decoration-color: #00af00\">0</span>]    │\n",
       "│ (<span style=\"color: #0087ff; text-decoration-color: #0087ff\">BatchNormalizatio…</span> │                   │            │                   │\n",
       "├─────────────────────┼───────────────────┼────────────┼───────────────────┤\n",
       "│ global_average_poo… │ (<span style=\"color: #00d7ff; text-decoration-color: #00d7ff\">None</span>, <span style=\"color: #00af00; text-decoration-color: #00af00\">192</span>)       │          <span style=\"color: #00af00; text-decoration-color: #00af00\">0</span> │ batch_normalizat… │\n",
       "│ (<span style=\"color: #0087ff; text-decoration-color: #0087ff\">GlobalAveragePool…</span> │                   │            │                   │\n",
       "├─────────────────────┼───────────────────┼────────────┼───────────────────┤\n",
       "│ global_average_poo… │ (<span style=\"color: #00d7ff; text-decoration-color: #00d7ff\">None</span>, <span style=\"color: #00af00; text-decoration-color: #00af00\">192</span>)       │          <span style=\"color: #00af00; text-decoration-color: #00af00\">0</span> │ batch_normalizat… │\n",
       "│ (<span style=\"color: #0087ff; text-decoration-color: #0087ff\">GlobalAveragePool…</span> │                   │            │                   │\n",
       "├─────────────────────┼───────────────────┼────────────┼───────────────────┤\n",
       "│ output1 (<span style=\"color: #0087ff; text-decoration-color: #0087ff\">Dense</span>)     │ (<span style=\"color: #00d7ff; text-decoration-color: #00d7ff\">None</span>, <span style=\"color: #00af00; text-decoration-color: #00af00\">5</span>)         │        <span style=\"color: #00af00; text-decoration-color: #00af00\">965</span> │ global_average_p… │\n",
       "├─────────────────────┼───────────────────┼────────────┼───────────────────┤\n",
       "│ output2 (<span style=\"color: #0087ff; text-decoration-color: #0087ff\">Dense</span>)     │ (<span style=\"color: #00d7ff; text-decoration-color: #00d7ff\">None</span>, <span style=\"color: #00af00; text-decoration-color: #00af00\">5</span>)         │        <span style=\"color: #00af00; text-decoration-color: #00af00\">965</span> │ global_average_p… │\n",
       "└─────────────────────┴───────────────────┴────────────┴───────────────────┘\n",
       "</pre>\n"
      ],
      "text/plain": [
       "┏━━━━━━━━━━━━━━━━━━━━━┳━━━━━━━━━━━━━━━━━━━┳━━━━━━━━━━━━┳━━━━━━━━━━━━━━━━━━━┓\n",
       "┃\u001b[1m \u001b[0m\u001b[1mLayer (type)       \u001b[0m\u001b[1m \u001b[0m┃\u001b[1m \u001b[0m\u001b[1mOutput Shape     \u001b[0m\u001b[1m \u001b[0m┃\u001b[1m \u001b[0m\u001b[1m   Param #\u001b[0m\u001b[1m \u001b[0m┃\u001b[1m \u001b[0m\u001b[1mConnected to     \u001b[0m\u001b[1m \u001b[0m┃\n",
       "┡━━━━━━━━━━━━━━━━━━━━━╇━━━━━━━━━━━━━━━━━━━╇━━━━━━━━━━━━╇━━━━━━━━━━━━━━━━━━━┩\n",
       "│ input_layer         │ (\u001b[38;5;45mNone\u001b[0m, \u001b[38;5;34m32\u001b[0m, \u001b[38;5;34m32\u001b[0m, \u001b[38;5;34m3\u001b[0m) │          \u001b[38;5;34m0\u001b[0m │ -                 │\n",
       "│ (\u001b[38;5;33mInputLayer\u001b[0m)        │                   │            │                   │\n",
       "├─────────────────────┼───────────────────┼────────────┼───────────────────┤\n",
       "│ conv2d (\u001b[38;5;33mConv2D\u001b[0m)     │ (\u001b[38;5;45mNone\u001b[0m, \u001b[38;5;34m30\u001b[0m, \u001b[38;5;34m30\u001b[0m,    │      \u001b[38;5;34m2,688\u001b[0m │ input_layer[\u001b[38;5;34m0\u001b[0m][\u001b[38;5;34m0\u001b[0m] │\n",
       "│                     │ \u001b[38;5;34m96\u001b[0m)               │            │                   │\n",
       "├─────────────────────┼───────────────────┼────────────┼───────────────────┤\n",
       "│ batch_normalization │ (\u001b[38;5;45mNone\u001b[0m, \u001b[38;5;34m30\u001b[0m, \u001b[38;5;34m30\u001b[0m,    │        \u001b[38;5;34m384\u001b[0m │ conv2d[\u001b[38;5;34m0\u001b[0m][\u001b[38;5;34m0\u001b[0m]      │\n",
       "│ (\u001b[38;5;33mBatchNormalizatio…\u001b[0m │ \u001b[38;5;34m96\u001b[0m)               │            │                   │\n",
       "├─────────────────────┼───────────────────┼────────────┼───────────────────┤\n",
       "│ conv2d_1 (\u001b[38;5;33mConv2D\u001b[0m)   │ (\u001b[38;5;45mNone\u001b[0m, \u001b[38;5;34m28\u001b[0m, \u001b[38;5;34m28\u001b[0m,    │     \u001b[38;5;34m83,040\u001b[0m │ batch_normalizat… │\n",
       "│                     │ \u001b[38;5;34m96\u001b[0m)               │            │                   │\n",
       "├─────────────────────┼───────────────────┼────────────┼───────────────────┤\n",
       "│ batch_normalizatio… │ (\u001b[38;5;45mNone\u001b[0m, \u001b[38;5;34m28\u001b[0m, \u001b[38;5;34m28\u001b[0m,    │        \u001b[38;5;34m384\u001b[0m │ conv2d_1[\u001b[38;5;34m0\u001b[0m][\u001b[38;5;34m0\u001b[0m]    │\n",
       "│ (\u001b[38;5;33mBatchNormalizatio…\u001b[0m │ \u001b[38;5;34m96\u001b[0m)               │            │                   │\n",
       "├─────────────────────┼───────────────────┼────────────┼───────────────────┤\n",
       "│ conv2d_2 (\u001b[38;5;33mConv2D\u001b[0m)   │ (\u001b[38;5;45mNone\u001b[0m, \u001b[38;5;34m13\u001b[0m, \u001b[38;5;34m13\u001b[0m,    │     \u001b[38;5;34m83,040\u001b[0m │ batch_normalizat… │\n",
       "│                     │ \u001b[38;5;34m96\u001b[0m)               │            │                   │\n",
       "├─────────────────────┼───────────────────┼────────────┼───────────────────┤\n",
       "│ batch_normalizatio… │ (\u001b[38;5;45mNone\u001b[0m, \u001b[38;5;34m13\u001b[0m, \u001b[38;5;34m13\u001b[0m,    │        \u001b[38;5;34m384\u001b[0m │ conv2d_2[\u001b[38;5;34m0\u001b[0m][\u001b[38;5;34m0\u001b[0m]    │\n",
       "│ (\u001b[38;5;33mBatchNormalizatio…\u001b[0m │ \u001b[38;5;34m96\u001b[0m)               │            │                   │\n",
       "├─────────────────────┼───────────────────┼────────────┼───────────────────┤\n",
       "│ conv2d_3 (\u001b[38;5;33mConv2D\u001b[0m)   │ (\u001b[38;5;45mNone\u001b[0m, \u001b[38;5;34m11\u001b[0m, \u001b[38;5;34m11\u001b[0m,    │    \u001b[38;5;34m166,080\u001b[0m │ batch_normalizat… │\n",
       "│                     │ \u001b[38;5;34m192\u001b[0m)              │            │                   │\n",
       "├─────────────────────┼───────────────────┼────────────┼───────────────────┤\n",
       "│ batch_normalizatio… │ (\u001b[38;5;45mNone\u001b[0m, \u001b[38;5;34m11\u001b[0m, \u001b[38;5;34m11\u001b[0m,    │        \u001b[38;5;34m768\u001b[0m │ conv2d_3[\u001b[38;5;34m0\u001b[0m][\u001b[38;5;34m0\u001b[0m]    │\n",
       "│ (\u001b[38;5;33mBatchNormalizatio…\u001b[0m │ \u001b[38;5;34m192\u001b[0m)              │            │                   │\n",
       "├─────────────────────┼───────────────────┼────────────┼───────────────────┤\n",
       "│ conv2d_4 (\u001b[38;5;33mConv2D\u001b[0m)   │ (\u001b[38;5;45mNone\u001b[0m, \u001b[38;5;34m9\u001b[0m, \u001b[38;5;34m9\u001b[0m, \u001b[38;5;34m192\u001b[0m) │    \u001b[38;5;34m331,968\u001b[0m │ batch_normalizat… │\n",
       "├─────────────────────┼───────────────────┼────────────┼───────────────────┤\n",
       "│ batch_normalizatio… │ (\u001b[38;5;45mNone\u001b[0m, \u001b[38;5;34m9\u001b[0m, \u001b[38;5;34m9\u001b[0m, \u001b[38;5;34m192\u001b[0m) │        \u001b[38;5;34m768\u001b[0m │ conv2d_4[\u001b[38;5;34m0\u001b[0m][\u001b[38;5;34m0\u001b[0m]    │\n",
       "│ (\u001b[38;5;33mBatchNormalizatio…\u001b[0m │                   │            │                   │\n",
       "├─────────────────────┼───────────────────┼────────────┼───────────────────┤\n",
       "│ conv2d_5 (\u001b[38;5;33mConv2D\u001b[0m)   │ (\u001b[38;5;45mNone\u001b[0m, \u001b[38;5;34m4\u001b[0m, \u001b[38;5;34m4\u001b[0m, \u001b[38;5;34m192\u001b[0m) │    \u001b[38;5;34m331,968\u001b[0m │ batch_normalizat… │\n",
       "├─────────────────────┼───────────────────┼────────────┼───────────────────┤\n",
       "│ batch_normalizatio… │ (\u001b[38;5;45mNone\u001b[0m, \u001b[38;5;34m4\u001b[0m, \u001b[38;5;34m4\u001b[0m, \u001b[38;5;34m192\u001b[0m) │        \u001b[38;5;34m768\u001b[0m │ conv2d_5[\u001b[38;5;34m0\u001b[0m][\u001b[38;5;34m0\u001b[0m]    │\n",
       "│ (\u001b[38;5;33mBatchNormalizatio…\u001b[0m │                   │            │                   │\n",
       "├─────────────────────┼───────────────────┼────────────┼───────────────────┤\n",
       "│ conv2d_6 (\u001b[38;5;33mConv2D\u001b[0m)   │ (\u001b[38;5;45mNone\u001b[0m, \u001b[38;5;34m4\u001b[0m, \u001b[38;5;34m4\u001b[0m, \u001b[38;5;34m192\u001b[0m) │     \u001b[38;5;34m37,056\u001b[0m │ batch_normalizat… │\n",
       "├─────────────────────┼───────────────────┼────────────┼───────────────────┤\n",
       "│ conv2d_7 (\u001b[38;5;33mConv2D\u001b[0m)   │ (\u001b[38;5;45mNone\u001b[0m, \u001b[38;5;34m4\u001b[0m, \u001b[38;5;34m4\u001b[0m, \u001b[38;5;34m192\u001b[0m) │     \u001b[38;5;34m37,056\u001b[0m │ batch_normalizat… │\n",
       "├─────────────────────┼───────────────────┼────────────┼───────────────────┤\n",
       "│ batch_normalizatio… │ (\u001b[38;5;45mNone\u001b[0m, \u001b[38;5;34m4\u001b[0m, \u001b[38;5;34m4\u001b[0m, \u001b[38;5;34m192\u001b[0m) │        \u001b[38;5;34m768\u001b[0m │ conv2d_6[\u001b[38;5;34m0\u001b[0m][\u001b[38;5;34m0\u001b[0m]    │\n",
       "│ (\u001b[38;5;33mBatchNormalizatio…\u001b[0m │                   │            │                   │\n",
       "├─────────────────────┼───────────────────┼────────────┼───────────────────┤\n",
       "│ batch_normalizatio… │ (\u001b[38;5;45mNone\u001b[0m, \u001b[38;5;34m4\u001b[0m, \u001b[38;5;34m4\u001b[0m, \u001b[38;5;34m192\u001b[0m) │        \u001b[38;5;34m768\u001b[0m │ conv2d_7[\u001b[38;5;34m0\u001b[0m][\u001b[38;5;34m0\u001b[0m]    │\n",
       "│ (\u001b[38;5;33mBatchNormalizatio…\u001b[0m │                   │            │                   │\n",
       "├─────────────────────┼───────────────────┼────────────┼───────────────────┤\n",
       "│ global_average_poo… │ (\u001b[38;5;45mNone\u001b[0m, \u001b[38;5;34m192\u001b[0m)       │          \u001b[38;5;34m0\u001b[0m │ batch_normalizat… │\n",
       "│ (\u001b[38;5;33mGlobalAveragePool…\u001b[0m │                   │            │                   │\n",
       "├─────────────────────┼───────────────────┼────────────┼───────────────────┤\n",
       "│ global_average_poo… │ (\u001b[38;5;45mNone\u001b[0m, \u001b[38;5;34m192\u001b[0m)       │          \u001b[38;5;34m0\u001b[0m │ batch_normalizat… │\n",
       "│ (\u001b[38;5;33mGlobalAveragePool…\u001b[0m │                   │            │                   │\n",
       "├─────────────────────┼───────────────────┼────────────┼───────────────────┤\n",
       "│ output1 (\u001b[38;5;33mDense\u001b[0m)     │ (\u001b[38;5;45mNone\u001b[0m, \u001b[38;5;34m5\u001b[0m)         │        \u001b[38;5;34m965\u001b[0m │ global_average_p… │\n",
       "├─────────────────────┼───────────────────┼────────────┼───────────────────┤\n",
       "│ output2 (\u001b[38;5;33mDense\u001b[0m)     │ (\u001b[38;5;45mNone\u001b[0m, \u001b[38;5;34m5\u001b[0m)         │        \u001b[38;5;34m965\u001b[0m │ global_average_p… │\n",
       "└─────────────────────┴───────────────────┴────────────┴───────────────────┘\n"
      ]
     },
     "metadata": {},
     "output_type": "display_data"
    },
    {
     "data": {
      "text/html": [
       "<pre style=\"white-space:pre;overflow-x:auto;line-height:normal;font-family:Menlo,'DejaVu Sans Mono',consolas,'Courier New',monospace\"><span style=\"font-weight: bold\"> Total params: </span><span style=\"color: #00af00; text-decoration-color: #00af00\">1,079,818</span> (4.12 MB)\n",
       "</pre>\n"
      ],
      "text/plain": [
       "\u001b[1m Total params: \u001b[0m\u001b[38;5;34m1,079,818\u001b[0m (4.12 MB)\n"
      ]
     },
     "metadata": {},
     "output_type": "display_data"
    },
    {
     "data": {
      "text/html": [
       "<pre style=\"white-space:pre;overflow-x:auto;line-height:normal;font-family:Menlo,'DejaVu Sans Mono',consolas,'Courier New',monospace\"><span style=\"font-weight: bold\"> Trainable params: </span><span style=\"color: #00af00; text-decoration-color: #00af00\">1,077,322</span> (4.11 MB)\n",
       "</pre>\n"
      ],
      "text/plain": [
       "\u001b[1m Trainable params: \u001b[0m\u001b[38;5;34m1,077,322\u001b[0m (4.11 MB)\n"
      ]
     },
     "metadata": {},
     "output_type": "display_data"
    },
    {
     "data": {
      "text/html": [
       "<pre style=\"white-space:pre;overflow-x:auto;line-height:normal;font-family:Menlo,'DejaVu Sans Mono',consolas,'Courier New',monospace\"><span style=\"font-weight: bold\"> Non-trainable params: </span><span style=\"color: #00af00; text-decoration-color: #00af00\">2,496</span> (9.75 KB)\n",
       "</pre>\n"
      ],
      "text/plain": [
       "\u001b[1m Non-trainable params: \u001b[0m\u001b[38;5;34m2,496\u001b[0m (9.75 KB)\n"
      ]
     },
     "metadata": {},
     "output_type": "display_data"
    },
    {
     "name": "stdout",
     "output_type": "stream",
     "text": [
      "Epoch 1/250\n",
      "\u001b[1m703/703\u001b[0m \u001b[32m━━━━━━━━━━━━━━━━━━━━\u001b[0m\u001b[37m\u001b[0m \u001b[1m17s\u001b[0m 14ms/step - loss: 3.0003 - output1_accuracy: 0.3958 - output1_loss: 1.4703 - output2_accuracy: 0.4535 - output2_loss: 1.3992 - val_loss: 2.8194 - val_output1_accuracy: 0.3658 - val_output1_loss: 1.4871 - val_output2_accuracy: 0.5164 - val_output2_loss: 1.2903 - learning_rate: 0.0010\n",
      "Epoch 2/250\n",
      "\u001b[1m703/703\u001b[0m \u001b[32m━━━━━━━━━━━━━━━━━━━━\u001b[0m\u001b[37m\u001b[0m \u001b[1m9s\u001b[0m 13ms/step - loss: 2.3907 - output1_accuracy: 0.5291 - output1_loss: 1.2516 - output2_accuracy: 0.6290 - output2_loss: 1.1049 - val_loss: 2.5269 - val_output1_accuracy: 0.4954 - val_output1_loss: 1.3755 - val_output2_accuracy: 0.6222 - val_output2_loss: 1.1302 - learning_rate: 0.0010\n",
      "Epoch 3/250\n",
      "\u001b[1m703/703\u001b[0m \u001b[32m━━━━━━━━━━━━━━━━━━━━\u001b[0m\u001b[37m\u001b[0m \u001b[1m9s\u001b[0m 12ms/step - loss: 2.2353 - output1_accuracy: 0.5688 - output1_loss: 1.1941 - output2_accuracy: 0.6793 - output2_loss: 1.0211 - val_loss: 2.7355 - val_output1_accuracy: 0.4581 - val_output1_loss: 1.4114 - val_output2_accuracy: 0.5469 - val_output2_loss: 1.3048 - learning_rate: 0.0010\n",
      "Epoch 4/250\n",
      "\u001b[1m703/703\u001b[0m \u001b[32m━━━━━━━━━━━━━━━━━━━━\u001b[0m\u001b[37m\u001b[0m \u001b[1m8s\u001b[0m 12ms/step - loss: 2.1224 - output1_accuracy: 0.6036 - output1_loss: 1.1347 - output2_accuracy: 0.7069 - output2_loss: 0.9691 - val_loss: 2.2061 - val_output1_accuracy: 0.5803 - val_output1_loss: 1.1882 - val_output2_accuracy: 0.6895 - val_output2_loss: 1.0006 - learning_rate: 0.0010\n",
      "Epoch 5/250\n",
      "\u001b[1m703/703\u001b[0m \u001b[32m━━━━━━━━━━━━━━━━━━━━\u001b[0m\u001b[37m\u001b[0m \u001b[1m8s\u001b[0m 12ms/step - loss: 2.0571 - output1_accuracy: 0.6236 - output1_loss: 1.1031 - output2_accuracy: 0.7286 - output2_loss: 0.9364 - val_loss: 2.3532 - val_output1_accuracy: 0.5475 - val_output1_loss: 1.2457 - val_output2_accuracy: 0.6402 - val_output2_loss: 1.0895 - learning_rate: 0.0010\n",
      "Epoch 6/250\n",
      "\u001b[1m703/703\u001b[0m \u001b[32m━━━━━━━━━━━━━━━━━━━━\u001b[0m\u001b[37m\u001b[0m \u001b[1m8s\u001b[0m 12ms/step - loss: 2.0022 - output1_accuracy: 0.6468 - output1_loss: 1.0687 - output2_accuracy: 0.7373 - output2_loss: 0.9160 - val_loss: 2.3348 - val_output1_accuracy: 0.5469 - val_output1_loss: 1.2735 - val_output2_accuracy: 0.6739 - val_output2_loss: 1.0445 - learning_rate: 0.0010\n",
      "Epoch 7/250\n",
      "\u001b[1m703/703\u001b[0m \u001b[32m━━━━━━━━━━━━━━━━━━━━\u001b[0m\u001b[37m\u001b[0m \u001b[1m9s\u001b[0m 13ms/step - loss: 1.9631 - output1_accuracy: 0.6598 - output1_loss: 1.0472 - output2_accuracy: 0.7482 - output2_loss: 0.8990 - val_loss: 2.2593 - val_output1_accuracy: 0.5553 - val_output1_loss: 1.2594 - val_output2_accuracy: 0.7081 - val_output2_loss: 0.9828 - learning_rate: 0.0010\n",
      "Epoch 8/250\n",
      "\u001b[1m703/703\u001b[0m \u001b[32m━━━━━━━━━━━━━━━━━━━━\u001b[0m\u001b[37m\u001b[0m \u001b[1m9s\u001b[0m 13ms/step - loss: 1.9308 - output1_accuracy: 0.6649 - output1_loss: 1.0308 - output2_accuracy: 0.7587 - output2_loss: 0.8836 - val_loss: 2.1601 - val_output1_accuracy: 0.5843 - val_output1_loss: 1.1722 - val_output2_accuracy: 0.7097 - val_output2_loss: 0.9727 - learning_rate: 0.0010\n",
      "Epoch 9/250\n",
      "\u001b[1m703/703\u001b[0m \u001b[32m━━━━━━━━━━━━━━━━━━━━\u001b[0m\u001b[37m\u001b[0m \u001b[1m9s\u001b[0m 13ms/step - loss: 1.8926 - output1_accuracy: 0.6807 - output1_loss: 1.0093 - output2_accuracy: 0.7654 - output2_loss: 0.8675 - val_loss: 2.3165 - val_output1_accuracy: 0.5325 - val_output1_loss: 1.2878 - val_output2_accuracy: 0.6823 - val_output2_loss: 1.0133 - learning_rate: 0.0010\n",
      "Epoch 10/250\n",
      "\u001b[1m703/703\u001b[0m \u001b[32m━━━━━━━━━━━━━━━━━━━━\u001b[0m\u001b[37m\u001b[0m \u001b[1m9s\u001b[0m 13ms/step - loss: 1.8717 - output1_accuracy: 0.6832 - output1_loss: 1.0073 - output2_accuracy: 0.7751 - output2_loss: 0.8489 - val_loss: 2.4826 - val_output1_accuracy: 0.4972 - val_output1_loss: 1.3793 - val_output2_accuracy: 0.6446 - val_output2_loss: 1.0880 - learning_rate: 0.0010\n",
      "Epoch 11/250\n",
      "\u001b[1m703/703\u001b[0m \u001b[32m━━━━━━━━━━━━━━━━━━━━\u001b[0m\u001b[37m\u001b[0m \u001b[1m9s\u001b[0m 12ms/step - loss: 1.8484 - output1_accuracy: 0.6958 - output1_loss: 0.9865 - output2_accuracy: 0.7784 - output2_loss: 0.8468 - val_loss: 2.0296 - val_output1_accuracy: 0.6384 - val_output1_loss: 1.0993 - val_output2_accuracy: 0.7384 - val_output2_loss: 0.9157 - learning_rate: 0.0010\n",
      "Epoch 12/250\n",
      "\u001b[1m703/703\u001b[0m \u001b[32m━━━━━━━━━━━━━━━━━━━━\u001b[0m\u001b[37m\u001b[0m \u001b[1m9s\u001b[0m 12ms/step - loss: 1.8125 - output1_accuracy: 0.7038 - output1_loss: 0.9734 - output2_accuracy: 0.7937 - output2_loss: 0.8242 - val_loss: 2.0965 - val_output1_accuracy: 0.6370 - val_output1_loss: 1.0941 - val_output2_accuracy: 0.7005 - val_output2_loss: 0.9880 - learning_rate: 0.0010\n",
      "Epoch 13/250\n",
      "\u001b[1m703/703\u001b[0m \u001b[32m━━━━━━━━━━━━━━━━━━━━\u001b[0m\u001b[37m\u001b[0m \u001b[1m9s\u001b[0m 13ms/step - loss: 1.8089 - output1_accuracy: 0.7043 - output1_loss: 0.9698 - output2_accuracy: 0.7849 - output2_loss: 0.8247 - val_loss: 2.2494 - val_output1_accuracy: 0.6102 - val_output1_loss: 1.1346 - val_output2_accuracy: 0.6599 - val_output2_loss: 1.1005 - learning_rate: 0.0010\n",
      "Epoch 14/250\n",
      "\u001b[1m703/703\u001b[0m \u001b[32m━━━━━━━━━━━━━━━━━━━━\u001b[0m\u001b[37m\u001b[0m \u001b[1m9s\u001b[0m 12ms/step - loss: 1.7956 - output1_accuracy: 0.7072 - output1_loss: 0.9609 - output2_accuracy: 0.7948 - output2_loss: 0.8204 - val_loss: 2.2194 - val_output1_accuracy: 0.5911 - val_output1_loss: 1.1957 - val_output2_accuracy: 0.6995 - val_output2_loss: 1.0098 - learning_rate: 0.0010\n",
      "Epoch 15/250\n",
      "\u001b[1m703/703\u001b[0m \u001b[32m━━━━━━━━━━━━━━━━━━━━\u001b[0m\u001b[37m\u001b[0m \u001b[1m9s\u001b[0m 13ms/step - loss: 1.7678 - output1_accuracy: 0.7236 - output1_loss: 0.9446 - output2_accuracy: 0.7990 - output2_loss: 0.8092 - val_loss: 1.9767 - val_output1_accuracy: 0.6546 - val_output1_loss: 1.0639 - val_output2_accuracy: 0.7510 - val_output2_loss: 0.8992 - learning_rate: 0.0010\n",
      "Epoch 16/250\n",
      "\u001b[1m703/703\u001b[0m \u001b[32m━━━━━━━━━━━━━━━━━━━━\u001b[0m\u001b[37m\u001b[0m \u001b[1m9s\u001b[0m 13ms/step - loss: 1.7486 - output1_accuracy: 0.7269 - output1_loss: 0.9349 - output2_accuracy: 0.8056 - output2_loss: 0.7998 - val_loss: 2.0529 - val_output1_accuracy: 0.6530 - val_output1_loss: 1.0680 - val_output2_accuracy: 0.7091 - val_output2_loss: 0.9713 - learning_rate: 0.0010\n",
      "Epoch 17/250\n",
      "\u001b[1m703/703\u001b[0m \u001b[32m━━━━━━━━━━━━━━━━━━━━\u001b[0m\u001b[37m\u001b[0m \u001b[1m9s\u001b[0m 12ms/step - loss: 1.7423 - output1_accuracy: 0.7261 - output1_loss: 0.9360 - output2_accuracy: 0.8054 - output2_loss: 0.7929 - val_loss: 2.0794 - val_output1_accuracy: 0.6222 - val_output1_loss: 1.1118 - val_output2_accuracy: 0.7214 - val_output2_loss: 0.9547 - learning_rate: 0.0010\n",
      "Epoch 18/250\n",
      "\u001b[1m703/703\u001b[0m \u001b[32m━━━━━━━━━━━━━━━━━━━━\u001b[0m\u001b[37m\u001b[0m \u001b[1m9s\u001b[0m 13ms/step - loss: 1.7337 - output1_accuracy: 0.7285 - output1_loss: 0.9268 - output2_accuracy: 0.8079 - output2_loss: 0.7936 - val_loss: 1.9567 - val_output1_accuracy: 0.6645 - val_output1_loss: 1.0369 - val_output2_accuracy: 0.7478 - val_output2_loss: 0.9061 - learning_rate: 0.0010\n",
      "Epoch 19/250\n",
      "\u001b[1m703/703\u001b[0m \u001b[32m━━━━━━━━━━━━━━━━━━━━\u001b[0m\u001b[37m\u001b[0m \u001b[1m9s\u001b[0m 12ms/step - loss: 1.7137 - output1_accuracy: 0.7379 - output1_loss: 0.9138 - output2_accuracy: 0.8122 - output2_loss: 0.7866 - val_loss: 2.3779 - val_output1_accuracy: 0.5357 - val_output1_loss: 1.3283 - val_output2_accuracy: 0.6797 - val_output2_loss: 1.0361 - learning_rate: 0.0010\n",
      "Epoch 20/250\n",
      "\u001b[1m703/703\u001b[0m \u001b[32m━━━━━━━━━━━━━━━━━━━━\u001b[0m\u001b[37m\u001b[0m \u001b[1m9s\u001b[0m 12ms/step - loss: 1.7112 - output1_accuracy: 0.7349 - output1_loss: 0.9198 - output2_accuracy: 0.8157 - output2_loss: 0.7784 - val_loss: 1.9679 - val_output1_accuracy: 0.6396 - val_output1_loss: 1.0833 - val_output2_accuracy: 0.7674 - val_output2_loss: 0.8716 - learning_rate: 0.0010\n",
      "Epoch 21/250\n",
      "\u001b[1m703/703\u001b[0m \u001b[32m━━━━━━━━━━━━━━━━━━━━\u001b[0m\u001b[37m\u001b[0m \u001b[1m9s\u001b[0m 13ms/step - loss: 1.6963 - output1_accuracy: 0.7374 - output1_loss: 0.9097 - output2_accuracy: 0.8227 - output2_loss: 0.7737 - val_loss: 1.8997 - val_output1_accuracy: 0.6817 - val_output1_loss: 1.0083 - val_output2_accuracy: 0.7658 - val_output2_loss: 0.8788 - learning_rate: 0.0010\n",
      "Epoch 22/250\n",
      "\u001b[1m703/703\u001b[0m \u001b[32m━━━━━━━━━━━━━━━━━━━━\u001b[0m\u001b[37m\u001b[0m \u001b[1m9s\u001b[0m 13ms/step - loss: 1.6805 - output1_accuracy: 0.7429 - output1_loss: 0.9038 - output2_accuracy: 0.8259 - output2_loss: 0.7639 - val_loss: 1.9941 - val_output1_accuracy: 0.6480 - val_output1_loss: 1.0884 - val_output2_accuracy: 0.7558 - val_output2_loss: 0.8932 - learning_rate: 0.0010\n",
      "Epoch 23/250\n",
      "\u001b[1m703/703\u001b[0m \u001b[32m━━━━━━━━━━━━━━━━━━━━\u001b[0m\u001b[37m\u001b[0m \u001b[1m9s\u001b[0m 13ms/step - loss: 1.6685 - output1_accuracy: 0.7457 - output1_loss: 0.8952 - output2_accuracy: 0.8261 - output2_loss: 0.7608 - val_loss: 2.0191 - val_output1_accuracy: 0.6494 - val_output1_loss: 1.0704 - val_output2_accuracy: 0.7280 - val_output2_loss: 0.9365 - learning_rate: 0.0010\n",
      "Epoch 24/250\n",
      "\u001b[1m703/703\u001b[0m \u001b[32m━━━━━━━━━━━━━━━━━━━━\u001b[0m\u001b[37m\u001b[0m \u001b[1m9s\u001b[0m 13ms/step - loss: 1.6623 - output1_accuracy: 0.7546 - output1_loss: 0.8856 - output2_accuracy: 0.8238 - output2_loss: 0.7642 - val_loss: 2.1331 - val_output1_accuracy: 0.6218 - val_output1_loss: 1.1399 - val_output2_accuracy: 0.7147 - val_output2_loss: 0.9802 - learning_rate: 0.0010\n",
      "Epoch 25/250\n",
      "\u001b[1m703/703\u001b[0m \u001b[32m━━━━━━━━━━━━━━━━━━━━\u001b[0m\u001b[37m\u001b[0m \u001b[1m9s\u001b[0m 12ms/step - loss: 1.6589 - output1_accuracy: 0.7519 - output1_loss: 0.8868 - output2_accuracy: 0.8295 - output2_loss: 0.7597 - val_loss: 1.9842 - val_output1_accuracy: 0.6400 - val_output1_loss: 1.0785 - val_output2_accuracy: 0.7536 - val_output2_loss: 0.8937 - learning_rate: 0.0010\n",
      "Epoch 26/250\n",
      "\u001b[1m702/703\u001b[0m \u001b[32m━━━━━━━━━━━━━━━━━━━\u001b[0m\u001b[37m━\u001b[0m \u001b[1m0s\u001b[0m 12ms/step - loss: 1.6500 - output1_accuracy: 0.7555 - output1_loss: 0.8838 - output2_accuracy: 0.8330 - output2_loss: 0.7540\n",
      "Epoch 26: ReduceLROnPlateau reducing learning rate to 0.00020000000949949026.\n",
      "\u001b[1m703/703\u001b[0m \u001b[32m━━━━━━━━━━━━━━━━━━━━\u001b[0m\u001b[37m\u001b[0m \u001b[1m9s\u001b[0m 13ms/step - loss: 1.6500 - output1_accuracy: 0.7555 - output1_loss: 0.8837 - output2_accuracy: 0.8330 - output2_loss: 0.7540 - val_loss: 1.9442 - val_output1_accuracy: 0.6689 - val_output1_loss: 1.0606 - val_output2_accuracy: 0.7682 - val_output2_loss: 0.8714 - learning_rate: 0.0010\n",
      "Epoch 27/250\n",
      "\u001b[1m703/703\u001b[0m \u001b[32m━━━━━━━━━━━━━━━━━━━━\u001b[0m\u001b[37m\u001b[0m \u001b[1m9s\u001b[0m 13ms/step - loss: 1.5947 - output1_accuracy: 0.7722 - output1_loss: 0.8506 - output2_accuracy: 0.8456 - output2_loss: 0.7318 - val_loss: 1.8018 - val_output1_accuracy: 0.7053 - val_output1_loss: 0.9712 - val_output2_accuracy: 0.8009 - val_output2_loss: 0.8183 - learning_rate: 2.0000e-04\n",
      "Epoch 28/250\n",
      "\u001b[1m703/703\u001b[0m \u001b[32m━━━━━━━━━━━━━━━━━━━━\u001b[0m\u001b[37m\u001b[0m \u001b[1m9s\u001b[0m 13ms/step - loss: 1.5757 - output1_accuracy: 0.7784 - output1_loss: 0.8449 - output2_accuracy: 0.8522 - output2_loss: 0.7184 - val_loss: 1.7731 - val_output1_accuracy: 0.7210 - val_output1_loss: 0.9548 - val_output2_accuracy: 0.8021 - val_output2_loss: 0.8061 - learning_rate: 2.0000e-04\n",
      "Epoch 29/250\n",
      "\u001b[1m703/703\u001b[0m \u001b[32m━━━━━━━━━━━━━━━━━━━━\u001b[0m\u001b[37m\u001b[0m \u001b[1m9s\u001b[0m 13ms/step - loss: 1.5673 - output1_accuracy: 0.7817 - output1_loss: 0.8360 - output2_accuracy: 0.8498 - output2_loss: 0.7191 - val_loss: 1.8248 - val_output1_accuracy: 0.6957 - val_output1_loss: 0.9881 - val_output2_accuracy: 0.7911 - val_output2_loss: 0.8243 - learning_rate: 2.0000e-04\n",
      "Epoch 30/250\n",
      "\u001b[1m703/703\u001b[0m \u001b[32m━━━━━━━━━━━━━━━━━━━━\u001b[0m\u001b[37m\u001b[0m \u001b[1m9s\u001b[0m 13ms/step - loss: 1.5590 - output1_accuracy: 0.7843 - output1_loss: 0.8328 - output2_accuracy: 0.8527 - output2_loss: 0.7138 - val_loss: 1.8022 - val_output1_accuracy: 0.6965 - val_output1_loss: 0.9800 - val_output2_accuracy: 0.8031 - val_output2_loss: 0.8099 - learning_rate: 2.0000e-04\n",
      "Epoch 31/250\n",
      "\u001b[1m703/703\u001b[0m \u001b[32m━━━━━━━━━━━━━━━━━━━━\u001b[0m\u001b[37m\u001b[0m \u001b[1m9s\u001b[0m 13ms/step - loss: 1.5520 - output1_accuracy: 0.7838 - output1_loss: 0.8331 - output2_accuracy: 0.8588 - output2_loss: 0.7066 - val_loss: 1.7788 - val_output1_accuracy: 0.7171 - val_output1_loss: 0.9662 - val_output2_accuracy: 0.8023 - val_output2_loss: 0.8003 - learning_rate: 2.0000e-04\n",
      "Epoch 32/250\n",
      "\u001b[1m703/703\u001b[0m \u001b[32m━━━━━━━━━━━━━━━━━━━━\u001b[0m\u001b[37m\u001b[0m \u001b[1m9s\u001b[0m 13ms/step - loss: 1.5488 - output1_accuracy: 0.7924 - output1_loss: 0.8255 - output2_accuracy: 0.8539 - output2_loss: 0.7110 - val_loss: 1.8287 - val_output1_accuracy: 0.7061 - val_output1_loss: 0.9849 - val_output2_accuracy: 0.7893 - val_output2_loss: 0.8314 - learning_rate: 2.0000e-04\n",
      "Epoch 33/250\n",
      "\u001b[1m703/703\u001b[0m \u001b[32m━━━━━━━━━━━━━━━━━━━━\u001b[0m\u001b[37m\u001b[0m \u001b[1m0s\u001b[0m 12ms/step - loss: 1.5398 - output1_accuracy: 0.7912 - output1_loss: 0.8250 - output2_accuracy: 0.8591 - output2_loss: 0.7024\n",
      "Epoch 33: ReduceLROnPlateau reducing learning rate to 4.0000001899898055e-05.\n",
      "\u001b[1m703/703\u001b[0m \u001b[32m━━━━━━━━━━━━━━━━━━━━\u001b[0m\u001b[37m\u001b[0m \u001b[1m9s\u001b[0m 13ms/step - loss: 1.5398 - output1_accuracy: 0.7912 - output1_loss: 0.8250 - output2_accuracy: 0.8591 - output2_loss: 0.7024 - val_loss: 1.7807 - val_output1_accuracy: 0.7069 - val_output1_loss: 0.9744 - val_output2_accuracy: 0.8099 - val_output2_loss: 0.7940 - learning_rate: 2.0000e-04\n",
      "Epoch 34/250\n",
      "\u001b[1m703/703\u001b[0m \u001b[32m━━━━━━━━━━━━━━━━━━━━\u001b[0m\u001b[37m\u001b[0m \u001b[1m9s\u001b[0m 13ms/step - loss: 1.5298 - output1_accuracy: 0.7894 - output1_loss: 0.8216 - output2_accuracy: 0.8624 - output2_loss: 0.6960 - val_loss: 1.7499 - val_output1_accuracy: 0.7220 - val_output1_loss: 0.9431 - val_output2_accuracy: 0.8057 - val_output2_loss: 0.7944 - learning_rate: 4.0000e-05\n",
      "Epoch 35/250\n",
      "\u001b[1m703/703\u001b[0m \u001b[32m━━━━━━━━━━━━━━━━━━━━\u001b[0m\u001b[37m\u001b[0m \u001b[1m9s\u001b[0m 13ms/step - loss: 1.5212 - output1_accuracy: 0.7986 - output1_loss: 0.8118 - output2_accuracy: 0.8639 - output2_loss: 0.6970 - val_loss: 1.7619 - val_output1_accuracy: 0.7151 - val_output1_loss: 0.9628 - val_output2_accuracy: 0.8133 - val_output2_loss: 0.7868 - learning_rate: 4.0000e-05\n",
      "Epoch 36/250\n",
      "\u001b[1m703/703\u001b[0m \u001b[32m━━━━━━━━━━━━━━━━━━━━\u001b[0m\u001b[37m\u001b[0m \u001b[1m9s\u001b[0m 13ms/step - loss: 1.5218 - output1_accuracy: 0.7942 - output1_loss: 0.8180 - output2_accuracy: 0.8652 - output2_loss: 0.6914 - val_loss: 1.7642 - val_output1_accuracy: 0.7151 - val_output1_loss: 0.9540 - val_output2_accuracy: 0.8069 - val_output2_loss: 0.7979 - learning_rate: 4.0000e-05\n",
      "Epoch 37/250\n",
      "\u001b[1m703/703\u001b[0m \u001b[32m━━━━━━━━━━━━━━━━━━━━\u001b[0m\u001b[37m\u001b[0m \u001b[1m9s\u001b[0m 13ms/step - loss: 1.5203 - output1_accuracy: 0.7962 - output1_loss: 0.8110 - output2_accuracy: 0.8634 - output2_loss: 0.6969 - val_loss: 1.7522 - val_output1_accuracy: 0.7071 - val_output1_loss: 0.9714 - val_output2_accuracy: 0.8241 - val_output2_loss: 0.7684 - learning_rate: 4.0000e-05\n",
      "Epoch 38/250\n",
      "\u001b[1m703/703\u001b[0m \u001b[32m━━━━━━━━━━━━━━━━━━━━\u001b[0m\u001b[37m\u001b[0m \u001b[1m9s\u001b[0m 12ms/step - loss: 1.5221 - output1_accuracy: 0.7967 - output1_loss: 0.8149 - output2_accuracy: 0.8638 - output2_loss: 0.6949 - val_loss: 1.7642 - val_output1_accuracy: 0.7121 - val_output1_loss: 0.9556 - val_output2_accuracy: 0.8127 - val_output2_loss: 0.7962 - learning_rate: 4.0000e-05\n",
      "Epoch 39/250\n",
      "\u001b[1m700/703\u001b[0m \u001b[32m━━━━━━━━━━━━━━━━━━━\u001b[0m\u001b[37m━\u001b[0m \u001b[1m0s\u001b[0m 12ms/step - loss: 1.5196 - output1_accuracy: 0.7991 - output1_loss: 0.8120 - output2_accuracy: 0.8690 - output2_loss: 0.6953\n",
      "Epoch 39: ReduceLROnPlateau reducing learning rate to 8.000000525498762e-06.\n",
      "\u001b[1m703/703\u001b[0m \u001b[32m━━━━━━━━━━━━━━━━━━━━\u001b[0m\u001b[37m\u001b[0m \u001b[1m9s\u001b[0m 13ms/step - loss: 1.5196 - output1_accuracy: 0.7991 - output1_loss: 0.8120 - output2_accuracy: 0.8690 - output2_loss: 0.6953 - val_loss: 1.7833 - val_output1_accuracy: 0.7085 - val_output1_loss: 0.9767 - val_output2_accuracy: 0.8035 - val_output2_loss: 0.7943 - learning_rate: 4.0000e-05\n",
      "Epoch 40/250\n",
      "\u001b[1m703/703\u001b[0m \u001b[32m━━━━━━━━━━━━━━━━━━━━\u001b[0m\u001b[37m\u001b[0m \u001b[1m9s\u001b[0m 13ms/step - loss: 1.5199 - output1_accuracy: 0.7988 - output1_loss: 0.8103 - output2_accuracy: 0.8640 - output2_loss: 0.6973 - val_loss: 1.7522 - val_output1_accuracy: 0.7159 - val_output1_loss: 0.9543 - val_output2_accuracy: 0.8125 - val_output2_loss: 0.7855 - learning_rate: 8.0000e-06\n",
      "Epoch 41/250\n",
      "\u001b[1m703/703\u001b[0m \u001b[32m━━━━━━━━━━━━━━━━━━━━\u001b[0m\u001b[37m\u001b[0m \u001b[1m9s\u001b[0m 12ms/step - loss: 1.5158 - output1_accuracy: 0.7969 - output1_loss: 0.8088 - output2_accuracy: 0.8620 - output2_loss: 0.6947 - val_loss: 1.7789 - val_output1_accuracy: 0.7095 - val_output1_loss: 0.9653 - val_output2_accuracy: 0.8023 - val_output2_loss: 0.8013 - learning_rate: 8.0000e-06\n",
      "Epoch 42/250\n",
      "\u001b[1m703/703\u001b[0m \u001b[32m━━━━━━━━━━━━━━━━━━━━\u001b[0m\u001b[37m\u001b[0m \u001b[1m9s\u001b[0m 13ms/step - loss: 1.5117 - output1_accuracy: 0.8028 - output1_loss: 0.8052 - output2_accuracy: 0.8663 - output2_loss: 0.6941 - val_loss: 1.7595 - val_output1_accuracy: 0.7139 - val_output1_loss: 0.9492 - val_output2_accuracy: 0.8083 - val_output2_loss: 0.7980 - learning_rate: 8.0000e-06\n",
      "Epoch 43/250\n",
      "\u001b[1m703/703\u001b[0m \u001b[32m━━━━━━━━━━━━━━━━━━━━\u001b[0m\u001b[37m\u001b[0m \u001b[1m9s\u001b[0m 13ms/step - loss: 1.5114 - output1_accuracy: 0.7977 - output1_loss: 0.8064 - output2_accuracy: 0.8648 - output2_loss: 0.6926 - val_loss: 1.7999 - val_output1_accuracy: 0.7043 - val_output1_loss: 0.9823 - val_output2_accuracy: 0.8073 - val_output2_loss: 0.8054 - learning_rate: 8.0000e-06\n",
      "Epoch 44/250\n",
      "\u001b[1m702/703\u001b[0m \u001b[32m━━━━━━━━━━━━━━━━━━━\u001b[0m\u001b[37m━\u001b[0m \u001b[1m0s\u001b[0m 12ms/step - loss: 1.5096 - output1_accuracy: 0.7997 - output1_loss: 0.8100 - output2_accuracy: 0.8671 - output2_loss: 0.6873\n",
      "Epoch 44: ReduceLROnPlateau reducing learning rate to 1.6000001778593287e-06.\n",
      "\u001b[1m703/703\u001b[0m \u001b[32m━━━━━━━━━━━━━━━━━━━━\u001b[0m\u001b[37m\u001b[0m \u001b[1m9s\u001b[0m 13ms/step - loss: 1.5096 - output1_accuracy: 0.7997 - output1_loss: 0.8100 - output2_accuracy: 0.8671 - output2_loss: 0.6873 - val_loss: 1.7526 - val_output1_accuracy: 0.7244 - val_output1_loss: 0.9454 - val_output2_accuracy: 0.8041 - val_output2_loss: 0.7949 - learning_rate: 8.0000e-06\n",
      "Epoch 44: early stopping\n",
      "Restoring model weights from the end of the best epoch: 34.\n"
     ]
    }
   ],
   "source": [
    "K.clear_session() # garbage collection\n",
    "model = ACCNRR2()\n",
    "model.compile(optimizer='rmsprop',\n",
    "              loss={'output1': keras.losses.CategoricalCrossentropy(label_smoothing=0.1), 'output2': keras.losses.CategoricalCrossentropy(label_smoothing=0.1)},\n",
    "              metrics={'output1': 'accuracy', 'output2': 'accuracy'})\n",
    "model.summary()\n",
    "model.compile(optimizer='rmsprop',\n",
    "              loss={'output1': keras.losses.CategoricalCrossentropy(label_smoothing=0.1), 'output2': keras.losses.CategoricalCrossentropy(label_smoothing=0.1)},\n",
    "              metrics={'output1': 'accuracy', 'output2': 'accuracy'})\n",
    "reduce_lr = keras.callbacks.ReduceLROnPlateau(monitor='val_loss', factor=0.2,\n",
    "                              patience=5, min_lr=0.000001, verbose=1)\n",
    "history = model.fit(\n",
    "    traingen,            \n",
    "    epochs=250,          \n",
    "    steps_per_epoch=len(cifar10_x_train)//batchsize, # necessary since generator loops infinitely\n",
    "    validation_data=valgen,\n",
    "    validation_steps=len(cifar10_x_val)//batchsize,  # necessary since generator loops infinitely\n",
    "    callbacks=[early_stopping, reduce_lr],\n",
    "    verbose=1\n",
    ")"
   ]
  },
  {
   "cell_type": "code",
   "execution_count": 86,
   "metadata": {},
   "outputs": [
    {
     "name": "stderr",
     "output_type": "stream",
     "text": [
      "100%|██████████| 10/10 [00:07<00:00,  1.33it/s]"
     ]
    },
    {
     "name": "stdout",
     "output_type": "stream",
     "text": [
      "mean accuracy =  0.7608000040054321\n",
      "standard deviation =  0.0014462036836579227\n"
     ]
    },
    {
     "name": "stderr",
     "output_type": "stream",
     "text": [
      "\n"
     ]
    }
   ],
   "source": [
    "evaluate_model(model,testgen)"
   ]
  },
  {
   "cell_type": "code",
   "execution_count": 87,
   "metadata": {},
   "outputs": [],
   "source": [
    "def ACCNRR3():\n",
    "    # CIFAR-10\n",
    "    inputs = keras.Input(shape=(32,32,3))\n",
    "    # Feature Extractor\n",
    "    x = layers.Conv2D(96, (3,3), activation='relu')(inputs)\n",
    "    x = layers.BatchNormalization()(x)\n",
    "    x = layers.Conv2D(96, (3,3), activation='relu')(x)\n",
    "    x = layers.BatchNormalization()(x)\n",
    "    x = layers.Conv2D(96, (3,3), activation='relu', strides=2)(x)\n",
    "    x = layers.BatchNormalization()(x)\n",
    "    x = layers.Conv2D(192, (3,3), activation='relu')(x)\n",
    "    x = layers.BatchNormalization()(x)\n",
    "    x = layers.Conv2D(192, (3,3), activation='relu')(x)\n",
    "    x = layers.BatchNormalization()(x)\n",
    "    # Classifers\n",
    "    x1 = layers.Conv2D(192, (3,3), activation='relu', strides=2)(x)\n",
    "    x1 = layers.BatchNormalization()(x1)\n",
    "    x1 = layers.Conv2D(192, (1,1), activation='relu')(x1)\n",
    "    x1 = layers.BatchNormalization()(x1)\n",
    "    x1 = layers.GlobalAveragePooling2D()(x1)\n",
    "    x2 = layers.Conv2D(192, (3,3), activation='relu', strides=2)(x)\n",
    "    x2 = layers.BatchNormalization()(x2)\n",
    "    x2 = layers.Conv2D(192, (1,1), activation='relu')(x2)\n",
    "    x2 = layers.BatchNormalization()(x2)\n",
    "    x2 = layers.GlobalAveragePooling2D()(x2)\n",
    "    #x = layers.Flatten()(x)\n",
    "    output1 = layers.Dense(5, activation='softmax', name='output1', kernel_regularizer=regularizers.l2(0.01))(x1)\n",
    "    output2 = layers.Dense(5, activation='softmax', name='output2', kernel_regularizer=regularizers.l2(0.01))(x2)\n",
    "    # Model creation\n",
    "    model = keras.Model(\n",
    "        inputs,\n",
    "        outputs={'output1':output1, 'output2':output2}, name='ACCNRR3',\n",
    "        )\n",
    "    return model"
   ]
  },
  {
   "cell_type": "code",
   "execution_count": 88,
   "metadata": {},
   "outputs": [
    {
     "data": {
      "text/html": [
       "<pre style=\"white-space:pre;overflow-x:auto;line-height:normal;font-family:Menlo,'DejaVu Sans Mono',consolas,'Courier New',monospace\"><span style=\"font-weight: bold\">Model: \"ACCNRR3\"</span>\n",
       "</pre>\n"
      ],
      "text/plain": [
       "\u001b[1mModel: \"ACCNRR3\"\u001b[0m\n"
      ]
     },
     "metadata": {},
     "output_type": "display_data"
    },
    {
     "data": {
      "text/html": [
       "<pre style=\"white-space:pre;overflow-x:auto;line-height:normal;font-family:Menlo,'DejaVu Sans Mono',consolas,'Courier New',monospace\">┏━━━━━━━━━━━━━━━━━━━━━┳━━━━━━━━━━━━━━━━━━━┳━━━━━━━━━━━━┳━━━━━━━━━━━━━━━━━━━┓\n",
       "┃<span style=\"font-weight: bold\"> Layer (type)        </span>┃<span style=\"font-weight: bold\"> Output Shape      </span>┃<span style=\"font-weight: bold\">    Param # </span>┃<span style=\"font-weight: bold\"> Connected to      </span>┃\n",
       "┡━━━━━━━━━━━━━━━━━━━━━╇━━━━━━━━━━━━━━━━━━━╇━━━━━━━━━━━━╇━━━━━━━━━━━━━━━━━━━┩\n",
       "│ input_layer         │ (<span style=\"color: #00d7ff; text-decoration-color: #00d7ff\">None</span>, <span style=\"color: #00af00; text-decoration-color: #00af00\">32</span>, <span style=\"color: #00af00; text-decoration-color: #00af00\">32</span>, <span style=\"color: #00af00; text-decoration-color: #00af00\">3</span>) │          <span style=\"color: #00af00; text-decoration-color: #00af00\">0</span> │ -                 │\n",
       "│ (<span style=\"color: #0087ff; text-decoration-color: #0087ff\">InputLayer</span>)        │                   │            │                   │\n",
       "├─────────────────────┼───────────────────┼────────────┼───────────────────┤\n",
       "│ conv2d (<span style=\"color: #0087ff; text-decoration-color: #0087ff\">Conv2D</span>)     │ (<span style=\"color: #00d7ff; text-decoration-color: #00d7ff\">None</span>, <span style=\"color: #00af00; text-decoration-color: #00af00\">30</span>, <span style=\"color: #00af00; text-decoration-color: #00af00\">30</span>,    │      <span style=\"color: #00af00; text-decoration-color: #00af00\">2,688</span> │ input_layer[<span style=\"color: #00af00; text-decoration-color: #00af00\">0</span>][<span style=\"color: #00af00; text-decoration-color: #00af00\">0</span>] │\n",
       "│                     │ <span style=\"color: #00af00; text-decoration-color: #00af00\">96</span>)               │            │                   │\n",
       "├─────────────────────┼───────────────────┼────────────┼───────────────────┤\n",
       "│ batch_normalization │ (<span style=\"color: #00d7ff; text-decoration-color: #00d7ff\">None</span>, <span style=\"color: #00af00; text-decoration-color: #00af00\">30</span>, <span style=\"color: #00af00; text-decoration-color: #00af00\">30</span>,    │        <span style=\"color: #00af00; text-decoration-color: #00af00\">384</span> │ conv2d[<span style=\"color: #00af00; text-decoration-color: #00af00\">0</span>][<span style=\"color: #00af00; text-decoration-color: #00af00\">0</span>]      │\n",
       "│ (<span style=\"color: #0087ff; text-decoration-color: #0087ff\">BatchNormalizatio…</span> │ <span style=\"color: #00af00; text-decoration-color: #00af00\">96</span>)               │            │                   │\n",
       "├─────────────────────┼───────────────────┼────────────┼───────────────────┤\n",
       "│ conv2d_1 (<span style=\"color: #0087ff; text-decoration-color: #0087ff\">Conv2D</span>)   │ (<span style=\"color: #00d7ff; text-decoration-color: #00d7ff\">None</span>, <span style=\"color: #00af00; text-decoration-color: #00af00\">28</span>, <span style=\"color: #00af00; text-decoration-color: #00af00\">28</span>,    │     <span style=\"color: #00af00; text-decoration-color: #00af00\">83,040</span> │ batch_normalizat… │\n",
       "│                     │ <span style=\"color: #00af00; text-decoration-color: #00af00\">96</span>)               │            │                   │\n",
       "├─────────────────────┼───────────────────┼────────────┼───────────────────┤\n",
       "│ batch_normalizatio… │ (<span style=\"color: #00d7ff; text-decoration-color: #00d7ff\">None</span>, <span style=\"color: #00af00; text-decoration-color: #00af00\">28</span>, <span style=\"color: #00af00; text-decoration-color: #00af00\">28</span>,    │        <span style=\"color: #00af00; text-decoration-color: #00af00\">384</span> │ conv2d_1[<span style=\"color: #00af00; text-decoration-color: #00af00\">0</span>][<span style=\"color: #00af00; text-decoration-color: #00af00\">0</span>]    │\n",
       "│ (<span style=\"color: #0087ff; text-decoration-color: #0087ff\">BatchNormalizatio…</span> │ <span style=\"color: #00af00; text-decoration-color: #00af00\">96</span>)               │            │                   │\n",
       "├─────────────────────┼───────────────────┼────────────┼───────────────────┤\n",
       "│ conv2d_2 (<span style=\"color: #0087ff; text-decoration-color: #0087ff\">Conv2D</span>)   │ (<span style=\"color: #00d7ff; text-decoration-color: #00d7ff\">None</span>, <span style=\"color: #00af00; text-decoration-color: #00af00\">13</span>, <span style=\"color: #00af00; text-decoration-color: #00af00\">13</span>,    │     <span style=\"color: #00af00; text-decoration-color: #00af00\">83,040</span> │ batch_normalizat… │\n",
       "│                     │ <span style=\"color: #00af00; text-decoration-color: #00af00\">96</span>)               │            │                   │\n",
       "├─────────────────────┼───────────────────┼────────────┼───────────────────┤\n",
       "│ batch_normalizatio… │ (<span style=\"color: #00d7ff; text-decoration-color: #00d7ff\">None</span>, <span style=\"color: #00af00; text-decoration-color: #00af00\">13</span>, <span style=\"color: #00af00; text-decoration-color: #00af00\">13</span>,    │        <span style=\"color: #00af00; text-decoration-color: #00af00\">384</span> │ conv2d_2[<span style=\"color: #00af00; text-decoration-color: #00af00\">0</span>][<span style=\"color: #00af00; text-decoration-color: #00af00\">0</span>]    │\n",
       "│ (<span style=\"color: #0087ff; text-decoration-color: #0087ff\">BatchNormalizatio…</span> │ <span style=\"color: #00af00; text-decoration-color: #00af00\">96</span>)               │            │                   │\n",
       "├─────────────────────┼───────────────────┼────────────┼───────────────────┤\n",
       "│ conv2d_3 (<span style=\"color: #0087ff; text-decoration-color: #0087ff\">Conv2D</span>)   │ (<span style=\"color: #00d7ff; text-decoration-color: #00d7ff\">None</span>, <span style=\"color: #00af00; text-decoration-color: #00af00\">11</span>, <span style=\"color: #00af00; text-decoration-color: #00af00\">11</span>,    │    <span style=\"color: #00af00; text-decoration-color: #00af00\">166,080</span> │ batch_normalizat… │\n",
       "│                     │ <span style=\"color: #00af00; text-decoration-color: #00af00\">192</span>)              │            │                   │\n",
       "├─────────────────────┼───────────────────┼────────────┼───────────────────┤\n",
       "│ batch_normalizatio… │ (<span style=\"color: #00d7ff; text-decoration-color: #00d7ff\">None</span>, <span style=\"color: #00af00; text-decoration-color: #00af00\">11</span>, <span style=\"color: #00af00; text-decoration-color: #00af00\">11</span>,    │        <span style=\"color: #00af00; text-decoration-color: #00af00\">768</span> │ conv2d_3[<span style=\"color: #00af00; text-decoration-color: #00af00\">0</span>][<span style=\"color: #00af00; text-decoration-color: #00af00\">0</span>]    │\n",
       "│ (<span style=\"color: #0087ff; text-decoration-color: #0087ff\">BatchNormalizatio…</span> │ <span style=\"color: #00af00; text-decoration-color: #00af00\">192</span>)              │            │                   │\n",
       "├─────────────────────┼───────────────────┼────────────┼───────────────────┤\n",
       "│ conv2d_4 (<span style=\"color: #0087ff; text-decoration-color: #0087ff\">Conv2D</span>)   │ (<span style=\"color: #00d7ff; text-decoration-color: #00d7ff\">None</span>, <span style=\"color: #00af00; text-decoration-color: #00af00\">9</span>, <span style=\"color: #00af00; text-decoration-color: #00af00\">9</span>, <span style=\"color: #00af00; text-decoration-color: #00af00\">192</span>) │    <span style=\"color: #00af00; text-decoration-color: #00af00\">331,968</span> │ batch_normalizat… │\n",
       "├─────────────────────┼───────────────────┼────────────┼───────────────────┤\n",
       "│ batch_normalizatio… │ (<span style=\"color: #00d7ff; text-decoration-color: #00d7ff\">None</span>, <span style=\"color: #00af00; text-decoration-color: #00af00\">9</span>, <span style=\"color: #00af00; text-decoration-color: #00af00\">9</span>, <span style=\"color: #00af00; text-decoration-color: #00af00\">192</span>) │        <span style=\"color: #00af00; text-decoration-color: #00af00\">768</span> │ conv2d_4[<span style=\"color: #00af00; text-decoration-color: #00af00\">0</span>][<span style=\"color: #00af00; text-decoration-color: #00af00\">0</span>]    │\n",
       "│ (<span style=\"color: #0087ff; text-decoration-color: #0087ff\">BatchNormalizatio…</span> │                   │            │                   │\n",
       "├─────────────────────┼───────────────────┼────────────┼───────────────────┤\n",
       "│ conv2d_5 (<span style=\"color: #0087ff; text-decoration-color: #0087ff\">Conv2D</span>)   │ (<span style=\"color: #00d7ff; text-decoration-color: #00d7ff\">None</span>, <span style=\"color: #00af00; text-decoration-color: #00af00\">4</span>, <span style=\"color: #00af00; text-decoration-color: #00af00\">4</span>, <span style=\"color: #00af00; text-decoration-color: #00af00\">192</span>) │    <span style=\"color: #00af00; text-decoration-color: #00af00\">331,968</span> │ batch_normalizat… │\n",
       "├─────────────────────┼───────────────────┼────────────┼───────────────────┤\n",
       "│ conv2d_7 (<span style=\"color: #0087ff; text-decoration-color: #0087ff\">Conv2D</span>)   │ (<span style=\"color: #00d7ff; text-decoration-color: #00d7ff\">None</span>, <span style=\"color: #00af00; text-decoration-color: #00af00\">4</span>, <span style=\"color: #00af00; text-decoration-color: #00af00\">4</span>, <span style=\"color: #00af00; text-decoration-color: #00af00\">192</span>) │    <span style=\"color: #00af00; text-decoration-color: #00af00\">331,968</span> │ batch_normalizat… │\n",
       "├─────────────────────┼───────────────────┼────────────┼───────────────────┤\n",
       "│ batch_normalizatio… │ (<span style=\"color: #00d7ff; text-decoration-color: #00d7ff\">None</span>, <span style=\"color: #00af00; text-decoration-color: #00af00\">4</span>, <span style=\"color: #00af00; text-decoration-color: #00af00\">4</span>, <span style=\"color: #00af00; text-decoration-color: #00af00\">192</span>) │        <span style=\"color: #00af00; text-decoration-color: #00af00\">768</span> │ conv2d_5[<span style=\"color: #00af00; text-decoration-color: #00af00\">0</span>][<span style=\"color: #00af00; text-decoration-color: #00af00\">0</span>]    │\n",
       "│ (<span style=\"color: #0087ff; text-decoration-color: #0087ff\">BatchNormalizatio…</span> │                   │            │                   │\n",
       "├─────────────────────┼───────────────────┼────────────┼───────────────────┤\n",
       "│ batch_normalizatio… │ (<span style=\"color: #00d7ff; text-decoration-color: #00d7ff\">None</span>, <span style=\"color: #00af00; text-decoration-color: #00af00\">4</span>, <span style=\"color: #00af00; text-decoration-color: #00af00\">4</span>, <span style=\"color: #00af00; text-decoration-color: #00af00\">192</span>) │        <span style=\"color: #00af00; text-decoration-color: #00af00\">768</span> │ conv2d_7[<span style=\"color: #00af00; text-decoration-color: #00af00\">0</span>][<span style=\"color: #00af00; text-decoration-color: #00af00\">0</span>]    │\n",
       "│ (<span style=\"color: #0087ff; text-decoration-color: #0087ff\">BatchNormalizatio…</span> │                   │            │                   │\n",
       "├─────────────────────┼───────────────────┼────────────┼───────────────────┤\n",
       "│ conv2d_6 (<span style=\"color: #0087ff; text-decoration-color: #0087ff\">Conv2D</span>)   │ (<span style=\"color: #00d7ff; text-decoration-color: #00d7ff\">None</span>, <span style=\"color: #00af00; text-decoration-color: #00af00\">4</span>, <span style=\"color: #00af00; text-decoration-color: #00af00\">4</span>, <span style=\"color: #00af00; text-decoration-color: #00af00\">192</span>) │     <span style=\"color: #00af00; text-decoration-color: #00af00\">37,056</span> │ batch_normalizat… │\n",
       "├─────────────────────┼───────────────────┼────────────┼───────────────────┤\n",
       "│ conv2d_8 (<span style=\"color: #0087ff; text-decoration-color: #0087ff\">Conv2D</span>)   │ (<span style=\"color: #00d7ff; text-decoration-color: #00d7ff\">None</span>, <span style=\"color: #00af00; text-decoration-color: #00af00\">4</span>, <span style=\"color: #00af00; text-decoration-color: #00af00\">4</span>, <span style=\"color: #00af00; text-decoration-color: #00af00\">192</span>) │     <span style=\"color: #00af00; text-decoration-color: #00af00\">37,056</span> │ batch_normalizat… │\n",
       "├─────────────────────┼───────────────────┼────────────┼───────────────────┤\n",
       "│ batch_normalizatio… │ (<span style=\"color: #00d7ff; text-decoration-color: #00d7ff\">None</span>, <span style=\"color: #00af00; text-decoration-color: #00af00\">4</span>, <span style=\"color: #00af00; text-decoration-color: #00af00\">4</span>, <span style=\"color: #00af00; text-decoration-color: #00af00\">192</span>) │        <span style=\"color: #00af00; text-decoration-color: #00af00\">768</span> │ conv2d_6[<span style=\"color: #00af00; text-decoration-color: #00af00\">0</span>][<span style=\"color: #00af00; text-decoration-color: #00af00\">0</span>]    │\n",
       "│ (<span style=\"color: #0087ff; text-decoration-color: #0087ff\">BatchNormalizatio…</span> │                   │            │                   │\n",
       "├─────────────────────┼───────────────────┼────────────┼───────────────────┤\n",
       "│ batch_normalizatio… │ (<span style=\"color: #00d7ff; text-decoration-color: #00d7ff\">None</span>, <span style=\"color: #00af00; text-decoration-color: #00af00\">4</span>, <span style=\"color: #00af00; text-decoration-color: #00af00\">4</span>, <span style=\"color: #00af00; text-decoration-color: #00af00\">192</span>) │        <span style=\"color: #00af00; text-decoration-color: #00af00\">768</span> │ conv2d_8[<span style=\"color: #00af00; text-decoration-color: #00af00\">0</span>][<span style=\"color: #00af00; text-decoration-color: #00af00\">0</span>]    │\n",
       "│ (<span style=\"color: #0087ff; text-decoration-color: #0087ff\">BatchNormalizatio…</span> │                   │            │                   │\n",
       "├─────────────────────┼───────────────────┼────────────┼───────────────────┤\n",
       "│ global_average_poo… │ (<span style=\"color: #00d7ff; text-decoration-color: #00d7ff\">None</span>, <span style=\"color: #00af00; text-decoration-color: #00af00\">192</span>)       │          <span style=\"color: #00af00; text-decoration-color: #00af00\">0</span> │ batch_normalizat… │\n",
       "│ (<span style=\"color: #0087ff; text-decoration-color: #0087ff\">GlobalAveragePool…</span> │                   │            │                   │\n",
       "├─────────────────────┼───────────────────┼────────────┼───────────────────┤\n",
       "│ global_average_poo… │ (<span style=\"color: #00d7ff; text-decoration-color: #00d7ff\">None</span>, <span style=\"color: #00af00; text-decoration-color: #00af00\">192</span>)       │          <span style=\"color: #00af00; text-decoration-color: #00af00\">0</span> │ batch_normalizat… │\n",
       "│ (<span style=\"color: #0087ff; text-decoration-color: #0087ff\">GlobalAveragePool…</span> │                   │            │                   │\n",
       "├─────────────────────┼───────────────────┼────────────┼───────────────────┤\n",
       "│ output1 (<span style=\"color: #0087ff; text-decoration-color: #0087ff\">Dense</span>)     │ (<span style=\"color: #00d7ff; text-decoration-color: #00d7ff\">None</span>, <span style=\"color: #00af00; text-decoration-color: #00af00\">5</span>)         │        <span style=\"color: #00af00; text-decoration-color: #00af00\">965</span> │ global_average_p… │\n",
       "├─────────────────────┼───────────────────┼────────────┼───────────────────┤\n",
       "│ output2 (<span style=\"color: #0087ff; text-decoration-color: #0087ff\">Dense</span>)     │ (<span style=\"color: #00d7ff; text-decoration-color: #00d7ff\">None</span>, <span style=\"color: #00af00; text-decoration-color: #00af00\">5</span>)         │        <span style=\"color: #00af00; text-decoration-color: #00af00\">965</span> │ global_average_p… │\n",
       "└─────────────────────┴───────────────────┴────────────┴───────────────────┘\n",
       "</pre>\n"
      ],
      "text/plain": [
       "┏━━━━━━━━━━━━━━━━━━━━━┳━━━━━━━━━━━━━━━━━━━┳━━━━━━━━━━━━┳━━━━━━━━━━━━━━━━━━━┓\n",
       "┃\u001b[1m \u001b[0m\u001b[1mLayer (type)       \u001b[0m\u001b[1m \u001b[0m┃\u001b[1m \u001b[0m\u001b[1mOutput Shape     \u001b[0m\u001b[1m \u001b[0m┃\u001b[1m \u001b[0m\u001b[1m   Param #\u001b[0m\u001b[1m \u001b[0m┃\u001b[1m \u001b[0m\u001b[1mConnected to     \u001b[0m\u001b[1m \u001b[0m┃\n",
       "┡━━━━━━━━━━━━━━━━━━━━━╇━━━━━━━━━━━━━━━━━━━╇━━━━━━━━━━━━╇━━━━━━━━━━━━━━━━━━━┩\n",
       "│ input_layer         │ (\u001b[38;5;45mNone\u001b[0m, \u001b[38;5;34m32\u001b[0m, \u001b[38;5;34m32\u001b[0m, \u001b[38;5;34m3\u001b[0m) │          \u001b[38;5;34m0\u001b[0m │ -                 │\n",
       "│ (\u001b[38;5;33mInputLayer\u001b[0m)        │                   │            │                   │\n",
       "├─────────────────────┼───────────────────┼────────────┼───────────────────┤\n",
       "│ conv2d (\u001b[38;5;33mConv2D\u001b[0m)     │ (\u001b[38;5;45mNone\u001b[0m, \u001b[38;5;34m30\u001b[0m, \u001b[38;5;34m30\u001b[0m,    │      \u001b[38;5;34m2,688\u001b[0m │ input_layer[\u001b[38;5;34m0\u001b[0m][\u001b[38;5;34m0\u001b[0m] │\n",
       "│                     │ \u001b[38;5;34m96\u001b[0m)               │            │                   │\n",
       "├─────────────────────┼───────────────────┼────────────┼───────────────────┤\n",
       "│ batch_normalization │ (\u001b[38;5;45mNone\u001b[0m, \u001b[38;5;34m30\u001b[0m, \u001b[38;5;34m30\u001b[0m,    │        \u001b[38;5;34m384\u001b[0m │ conv2d[\u001b[38;5;34m0\u001b[0m][\u001b[38;5;34m0\u001b[0m]      │\n",
       "│ (\u001b[38;5;33mBatchNormalizatio…\u001b[0m │ \u001b[38;5;34m96\u001b[0m)               │            │                   │\n",
       "├─────────────────────┼───────────────────┼────────────┼───────────────────┤\n",
       "│ conv2d_1 (\u001b[38;5;33mConv2D\u001b[0m)   │ (\u001b[38;5;45mNone\u001b[0m, \u001b[38;5;34m28\u001b[0m, \u001b[38;5;34m28\u001b[0m,    │     \u001b[38;5;34m83,040\u001b[0m │ batch_normalizat… │\n",
       "│                     │ \u001b[38;5;34m96\u001b[0m)               │            │                   │\n",
       "├─────────────────────┼───────────────────┼────────────┼───────────────────┤\n",
       "│ batch_normalizatio… │ (\u001b[38;5;45mNone\u001b[0m, \u001b[38;5;34m28\u001b[0m, \u001b[38;5;34m28\u001b[0m,    │        \u001b[38;5;34m384\u001b[0m │ conv2d_1[\u001b[38;5;34m0\u001b[0m][\u001b[38;5;34m0\u001b[0m]    │\n",
       "│ (\u001b[38;5;33mBatchNormalizatio…\u001b[0m │ \u001b[38;5;34m96\u001b[0m)               │            │                   │\n",
       "├─────────────────────┼───────────────────┼────────────┼───────────────────┤\n",
       "│ conv2d_2 (\u001b[38;5;33mConv2D\u001b[0m)   │ (\u001b[38;5;45mNone\u001b[0m, \u001b[38;5;34m13\u001b[0m, \u001b[38;5;34m13\u001b[0m,    │     \u001b[38;5;34m83,040\u001b[0m │ batch_normalizat… │\n",
       "│                     │ \u001b[38;5;34m96\u001b[0m)               │            │                   │\n",
       "├─────────────────────┼───────────────────┼────────────┼───────────────────┤\n",
       "│ batch_normalizatio… │ (\u001b[38;5;45mNone\u001b[0m, \u001b[38;5;34m13\u001b[0m, \u001b[38;5;34m13\u001b[0m,    │        \u001b[38;5;34m384\u001b[0m │ conv2d_2[\u001b[38;5;34m0\u001b[0m][\u001b[38;5;34m0\u001b[0m]    │\n",
       "│ (\u001b[38;5;33mBatchNormalizatio…\u001b[0m │ \u001b[38;5;34m96\u001b[0m)               │            │                   │\n",
       "├─────────────────────┼───────────────────┼────────────┼───────────────────┤\n",
       "│ conv2d_3 (\u001b[38;5;33mConv2D\u001b[0m)   │ (\u001b[38;5;45mNone\u001b[0m, \u001b[38;5;34m11\u001b[0m, \u001b[38;5;34m11\u001b[0m,    │    \u001b[38;5;34m166,080\u001b[0m │ batch_normalizat… │\n",
       "│                     │ \u001b[38;5;34m192\u001b[0m)              │            │                   │\n",
       "├─────────────────────┼───────────────────┼────────────┼───────────────────┤\n",
       "│ batch_normalizatio… │ (\u001b[38;5;45mNone\u001b[0m, \u001b[38;5;34m11\u001b[0m, \u001b[38;5;34m11\u001b[0m,    │        \u001b[38;5;34m768\u001b[0m │ conv2d_3[\u001b[38;5;34m0\u001b[0m][\u001b[38;5;34m0\u001b[0m]    │\n",
       "│ (\u001b[38;5;33mBatchNormalizatio…\u001b[0m │ \u001b[38;5;34m192\u001b[0m)              │            │                   │\n",
       "├─────────────────────┼───────────────────┼────────────┼───────────────────┤\n",
       "│ conv2d_4 (\u001b[38;5;33mConv2D\u001b[0m)   │ (\u001b[38;5;45mNone\u001b[0m, \u001b[38;5;34m9\u001b[0m, \u001b[38;5;34m9\u001b[0m, \u001b[38;5;34m192\u001b[0m) │    \u001b[38;5;34m331,968\u001b[0m │ batch_normalizat… │\n",
       "├─────────────────────┼───────────────────┼────────────┼───────────────────┤\n",
       "│ batch_normalizatio… │ (\u001b[38;5;45mNone\u001b[0m, \u001b[38;5;34m9\u001b[0m, \u001b[38;5;34m9\u001b[0m, \u001b[38;5;34m192\u001b[0m) │        \u001b[38;5;34m768\u001b[0m │ conv2d_4[\u001b[38;5;34m0\u001b[0m][\u001b[38;5;34m0\u001b[0m]    │\n",
       "│ (\u001b[38;5;33mBatchNormalizatio…\u001b[0m │                   │            │                   │\n",
       "├─────────────────────┼───────────────────┼────────────┼───────────────────┤\n",
       "│ conv2d_5 (\u001b[38;5;33mConv2D\u001b[0m)   │ (\u001b[38;5;45mNone\u001b[0m, \u001b[38;5;34m4\u001b[0m, \u001b[38;5;34m4\u001b[0m, \u001b[38;5;34m192\u001b[0m) │    \u001b[38;5;34m331,968\u001b[0m │ batch_normalizat… │\n",
       "├─────────────────────┼───────────────────┼────────────┼───────────────────┤\n",
       "│ conv2d_7 (\u001b[38;5;33mConv2D\u001b[0m)   │ (\u001b[38;5;45mNone\u001b[0m, \u001b[38;5;34m4\u001b[0m, \u001b[38;5;34m4\u001b[0m, \u001b[38;5;34m192\u001b[0m) │    \u001b[38;5;34m331,968\u001b[0m │ batch_normalizat… │\n",
       "├─────────────────────┼───────────────────┼────────────┼───────────────────┤\n",
       "│ batch_normalizatio… │ (\u001b[38;5;45mNone\u001b[0m, \u001b[38;5;34m4\u001b[0m, \u001b[38;5;34m4\u001b[0m, \u001b[38;5;34m192\u001b[0m) │        \u001b[38;5;34m768\u001b[0m │ conv2d_5[\u001b[38;5;34m0\u001b[0m][\u001b[38;5;34m0\u001b[0m]    │\n",
       "│ (\u001b[38;5;33mBatchNormalizatio…\u001b[0m │                   │            │                   │\n",
       "├─────────────────────┼───────────────────┼────────────┼───────────────────┤\n",
       "│ batch_normalizatio… │ (\u001b[38;5;45mNone\u001b[0m, \u001b[38;5;34m4\u001b[0m, \u001b[38;5;34m4\u001b[0m, \u001b[38;5;34m192\u001b[0m) │        \u001b[38;5;34m768\u001b[0m │ conv2d_7[\u001b[38;5;34m0\u001b[0m][\u001b[38;5;34m0\u001b[0m]    │\n",
       "│ (\u001b[38;5;33mBatchNormalizatio…\u001b[0m │                   │            │                   │\n",
       "├─────────────────────┼───────────────────┼────────────┼───────────────────┤\n",
       "│ conv2d_6 (\u001b[38;5;33mConv2D\u001b[0m)   │ (\u001b[38;5;45mNone\u001b[0m, \u001b[38;5;34m4\u001b[0m, \u001b[38;5;34m4\u001b[0m, \u001b[38;5;34m192\u001b[0m) │     \u001b[38;5;34m37,056\u001b[0m │ batch_normalizat… │\n",
       "├─────────────────────┼───────────────────┼────────────┼───────────────────┤\n",
       "│ conv2d_8 (\u001b[38;5;33mConv2D\u001b[0m)   │ (\u001b[38;5;45mNone\u001b[0m, \u001b[38;5;34m4\u001b[0m, \u001b[38;5;34m4\u001b[0m, \u001b[38;5;34m192\u001b[0m) │     \u001b[38;5;34m37,056\u001b[0m │ batch_normalizat… │\n",
       "├─────────────────────┼───────────────────┼────────────┼───────────────────┤\n",
       "│ batch_normalizatio… │ (\u001b[38;5;45mNone\u001b[0m, \u001b[38;5;34m4\u001b[0m, \u001b[38;5;34m4\u001b[0m, \u001b[38;5;34m192\u001b[0m) │        \u001b[38;5;34m768\u001b[0m │ conv2d_6[\u001b[38;5;34m0\u001b[0m][\u001b[38;5;34m0\u001b[0m]    │\n",
       "│ (\u001b[38;5;33mBatchNormalizatio…\u001b[0m │                   │            │                   │\n",
       "├─────────────────────┼───────────────────┼────────────┼───────────────────┤\n",
       "│ batch_normalizatio… │ (\u001b[38;5;45mNone\u001b[0m, \u001b[38;5;34m4\u001b[0m, \u001b[38;5;34m4\u001b[0m, \u001b[38;5;34m192\u001b[0m) │        \u001b[38;5;34m768\u001b[0m │ conv2d_8[\u001b[38;5;34m0\u001b[0m][\u001b[38;5;34m0\u001b[0m]    │\n",
       "│ (\u001b[38;5;33mBatchNormalizatio…\u001b[0m │                   │            │                   │\n",
       "├─────────────────────┼───────────────────┼────────────┼───────────────────┤\n",
       "│ global_average_poo… │ (\u001b[38;5;45mNone\u001b[0m, \u001b[38;5;34m192\u001b[0m)       │          \u001b[38;5;34m0\u001b[0m │ batch_normalizat… │\n",
       "│ (\u001b[38;5;33mGlobalAveragePool…\u001b[0m │                   │            │                   │\n",
       "├─────────────────────┼───────────────────┼────────────┼───────────────────┤\n",
       "│ global_average_poo… │ (\u001b[38;5;45mNone\u001b[0m, \u001b[38;5;34m192\u001b[0m)       │          \u001b[38;5;34m0\u001b[0m │ batch_normalizat… │\n",
       "│ (\u001b[38;5;33mGlobalAveragePool…\u001b[0m │                   │            │                   │\n",
       "├─────────────────────┼───────────────────┼────────────┼───────────────────┤\n",
       "│ output1 (\u001b[38;5;33mDense\u001b[0m)     │ (\u001b[38;5;45mNone\u001b[0m, \u001b[38;5;34m5\u001b[0m)         │        \u001b[38;5;34m965\u001b[0m │ global_average_p… │\n",
       "├─────────────────────┼───────────────────┼────────────┼───────────────────┤\n",
       "│ output2 (\u001b[38;5;33mDense\u001b[0m)     │ (\u001b[38;5;45mNone\u001b[0m, \u001b[38;5;34m5\u001b[0m)         │        \u001b[38;5;34m965\u001b[0m │ global_average_p… │\n",
       "└─────────────────────┴───────────────────┴────────────┴───────────────────┘\n"
      ]
     },
     "metadata": {},
     "output_type": "display_data"
    },
    {
     "data": {
      "text/html": [
       "<pre style=\"white-space:pre;overflow-x:auto;line-height:normal;font-family:Menlo,'DejaVu Sans Mono',consolas,'Courier New',monospace\"><span style=\"font-weight: bold\"> Total params: </span><span style=\"color: #00af00; text-decoration-color: #00af00\">1,412,554</span> (5.39 MB)\n",
       "</pre>\n"
      ],
      "text/plain": [
       "\u001b[1m Total params: \u001b[0m\u001b[38;5;34m1,412,554\u001b[0m (5.39 MB)\n"
      ]
     },
     "metadata": {},
     "output_type": "display_data"
    },
    {
     "data": {
      "text/html": [
       "<pre style=\"white-space:pre;overflow-x:auto;line-height:normal;font-family:Menlo,'DejaVu Sans Mono',consolas,'Courier New',monospace\"><span style=\"font-weight: bold\"> Trainable params: </span><span style=\"color: #00af00; text-decoration-color: #00af00\">1,409,674</span> (5.38 MB)\n",
       "</pre>\n"
      ],
      "text/plain": [
       "\u001b[1m Trainable params: \u001b[0m\u001b[38;5;34m1,409,674\u001b[0m (5.38 MB)\n"
      ]
     },
     "metadata": {},
     "output_type": "display_data"
    },
    {
     "data": {
      "text/html": [
       "<pre style=\"white-space:pre;overflow-x:auto;line-height:normal;font-family:Menlo,'DejaVu Sans Mono',consolas,'Courier New',monospace\"><span style=\"font-weight: bold\"> Non-trainable params: </span><span style=\"color: #00af00; text-decoration-color: #00af00\">2,880</span> (11.25 KB)\n",
       "</pre>\n"
      ],
      "text/plain": [
       "\u001b[1m Non-trainable params: \u001b[0m\u001b[38;5;34m2,880\u001b[0m (11.25 KB)\n"
      ]
     },
     "metadata": {},
     "output_type": "display_data"
    },
    {
     "name": "stdout",
     "output_type": "stream",
     "text": [
      "Epoch 1/250\n",
      "\u001b[1m703/703\u001b[0m \u001b[32m━━━━━━━━━━━━━━━━━━━━\u001b[0m\u001b[37m\u001b[0m \u001b[1m19s\u001b[0m 16ms/step - loss: 3.0550 - output1_accuracy: 0.3926 - output1_loss: 1.4776 - output2_accuracy: 0.4317 - output2_loss: 1.4364 - val_loss: 2.6912 - val_output1_accuracy: 0.3962 - val_output1_loss: 1.4266 - val_output2_accuracy: 0.5681 - val_output2_loss: 1.2173 - learning_rate: 0.0010\n",
      "Epoch 2/250\n",
      "\u001b[1m703/703\u001b[0m \u001b[32m━━━━━━━━━━━━━━━━━━━━\u001b[0m\u001b[37m\u001b[0m \u001b[1m9s\u001b[0m 13ms/step - loss: 2.3946 - output1_accuracy: 0.5275 - output1_loss: 1.2529 - output2_accuracy: 0.6273 - output2_loss: 1.1048 - val_loss: 2.7027 - val_output1_accuracy: 0.5032 - val_output1_loss: 1.3021 - val_output2_accuracy: 0.5365 - val_output2_loss: 1.3793 - learning_rate: 0.0010\n",
      "Epoch 3/250\n",
      "\u001b[1m703/703\u001b[0m \u001b[32m━━━━━━━━━━━━━━━━━━━━\u001b[0m\u001b[37m\u001b[0m \u001b[1m9s\u001b[0m 13ms/step - loss: 2.2188 - output1_accuracy: 0.5798 - output1_loss: 1.1796 - output2_accuracy: 0.6786 - output2_loss: 1.0188 - val_loss: 2.3980 - val_output1_accuracy: 0.5397 - val_output1_loss: 1.2643 - val_output2_accuracy: 0.6118 - val_output2_loss: 1.1155 - learning_rate: 0.0010\n",
      "Epoch 4/250\n",
      "\u001b[1m703/703\u001b[0m \u001b[32m━━━━━━━━━━━━━━━━━━━━\u001b[0m\u001b[37m\u001b[0m \u001b[1m9s\u001b[0m 12ms/step - loss: 2.1183 - output1_accuracy: 0.6077 - output1_loss: 1.1291 - output2_accuracy: 0.7036 - output2_loss: 0.9710 - val_loss: 2.3274 - val_output1_accuracy: 0.5575 - val_output1_loss: 1.2113 - val_output2_accuracy: 0.6468 - val_output2_loss: 1.0993 - learning_rate: 0.0010\n",
      "Epoch 5/250\n",
      "\u001b[1m703/703\u001b[0m \u001b[32m━━━━━━━━━━━━━━━━━━━━\u001b[0m\u001b[37m\u001b[0m \u001b[1m9s\u001b[0m 12ms/step - loss: 2.0531 - output1_accuracy: 0.6269 - output1_loss: 1.1013 - output2_accuracy: 0.7257 - output2_loss: 0.9346 - val_loss: 2.2675 - val_output1_accuracy: 0.5695 - val_output1_loss: 1.1945 - val_output2_accuracy: 0.6556 - val_output2_loss: 1.0570 - learning_rate: 0.0010\n",
      "Epoch 6/250\n",
      "\u001b[1m703/703\u001b[0m \u001b[32m━━━━━━━━━━━━━━━━━━━━\u001b[0m\u001b[37m\u001b[0m \u001b[1m8s\u001b[0m 12ms/step - loss: 2.0019 - output1_accuracy: 0.6448 - output1_loss: 1.0701 - output2_accuracy: 0.7411 - output2_loss: 0.9152 - val_loss: 2.3375 - val_output1_accuracy: 0.5222 - val_output1_loss: 1.3312 - val_output2_accuracy: 0.6983 - val_output2_loss: 0.9901 - learning_rate: 0.0010\n",
      "Epoch 7/250\n",
      "\u001b[1m703/703\u001b[0m \u001b[32m━━━━━━━━━━━━━━━━━━━━\u001b[0m\u001b[37m\u001b[0m \u001b[1m8s\u001b[0m 12ms/step - loss: 1.9565 - output1_accuracy: 0.6612 - output1_loss: 1.0445 - output2_accuracy: 0.7498 - output2_loss: 0.8956 - val_loss: 2.2495 - val_output1_accuracy: 0.5619 - val_output1_loss: 1.2158 - val_output2_accuracy: 0.6951 - val_output2_loss: 1.0174 - learning_rate: 0.0010\n",
      "Epoch 8/250\n",
      "\u001b[1m703/703\u001b[0m \u001b[32m━━━━━━━━━━━━━━━━━━━━\u001b[0m\u001b[37m\u001b[0m \u001b[1m9s\u001b[0m 13ms/step - loss: 1.9177 - output1_accuracy: 0.6701 - output1_loss: 1.0306 - output2_accuracy: 0.7661 - output2_loss: 0.8709 - val_loss: 2.1809 - val_output1_accuracy: 0.5789 - val_output1_loss: 1.1913 - val_output2_accuracy: 0.7065 - val_output2_loss: 0.9742 - learning_rate: 0.0010\n",
      "Epoch 9/250\n",
      "\u001b[1m703/703\u001b[0m \u001b[32m━━━━━━━━━━━━━━━━━━━━\u001b[0m\u001b[37m\u001b[0m \u001b[1m8s\u001b[0m 12ms/step - loss: 1.8997 - output1_accuracy: 0.6740 - output1_loss: 1.0178 - output2_accuracy: 0.7669 - output2_loss: 0.8663 - val_loss: 2.1757 - val_output1_accuracy: 0.5933 - val_output1_loss: 1.1667 - val_output2_accuracy: 0.6903 - val_output2_loss: 0.9931 - learning_rate: 0.0010\n",
      "Epoch 10/250\n",
      "\u001b[1m703/703\u001b[0m \u001b[32m━━━━━━━━━━━━━━━━━━━━\u001b[0m\u001b[37m\u001b[0m \u001b[1m9s\u001b[0m 13ms/step - loss: 1.8680 - output1_accuracy: 0.6805 - output1_loss: 1.0043 - output2_accuracy: 0.7766 - output2_loss: 0.8485 - val_loss: 2.8514 - val_output1_accuracy: 0.4587 - val_output1_loss: 1.6013 - val_output2_accuracy: 0.5791 - val_output2_loss: 1.2351 - learning_rate: 0.0010\n",
      "Epoch 11/250\n",
      "\u001b[1m703/703\u001b[0m \u001b[32m━━━━━━━━━━━━━━━━━━━━\u001b[0m\u001b[37m\u001b[0m \u001b[1m9s\u001b[0m 13ms/step - loss: 1.8448 - output1_accuracy: 0.6876 - output1_loss: 0.9900 - output2_accuracy: 0.7828 - output2_loss: 0.8400 - val_loss: 2.1746 - val_output1_accuracy: 0.5954 - val_output1_loss: 1.1805 - val_output2_accuracy: 0.7143 - val_output2_loss: 0.9797 - learning_rate: 0.0010\n",
      "Epoch 12/250\n",
      "\u001b[1m703/703\u001b[0m \u001b[32m━━━━━━━━━━━━━━━━━━━━\u001b[0m\u001b[37m\u001b[0m \u001b[1m9s\u001b[0m 12ms/step - loss: 1.8279 - output1_accuracy: 0.7005 - output1_loss: 0.9764 - output2_accuracy: 0.7822 - output2_loss: 0.8371 - val_loss: 2.0780 - val_output1_accuracy: 0.6168 - val_output1_loss: 1.1388 - val_output2_accuracy: 0.7388 - val_output2_loss: 0.9243 - learning_rate: 0.0010\n",
      "Epoch 13/250\n",
      "\u001b[1m703/703\u001b[0m \u001b[32m━━━━━━━━━━━━━━━━━━━━\u001b[0m\u001b[37m\u001b[0m \u001b[1m9s\u001b[0m 12ms/step - loss: 1.8042 - output1_accuracy: 0.7036 - output1_loss: 0.9683 - output2_accuracy: 0.7910 - output2_loss: 0.8216 - val_loss: 2.1473 - val_output1_accuracy: 0.6322 - val_output1_loss: 1.1120 - val_output2_accuracy: 0.6883 - val_output2_loss: 1.0209 - learning_rate: 0.0010\n",
      "Epoch 14/250\n",
      "\u001b[1m703/703\u001b[0m \u001b[32m━━━━━━━━━━━━━━━━━━━━\u001b[0m\u001b[37m\u001b[0m \u001b[1m9s\u001b[0m 13ms/step - loss: 1.7856 - output1_accuracy: 0.7123 - output1_loss: 0.9587 - output2_accuracy: 0.7971 - output2_loss: 0.8129 - val_loss: 2.0926 - val_output1_accuracy: 0.6242 - val_output1_loss: 1.1137 - val_output2_accuracy: 0.7125 - val_output2_loss: 0.9650 - learning_rate: 0.0010\n",
      "Epoch 15/250\n",
      "\u001b[1m703/703\u001b[0m \u001b[32m━━━━━━━━━━━━━━━━━━━━\u001b[0m\u001b[37m\u001b[0m \u001b[1m10s\u001b[0m 14ms/step - loss: 1.7688 - output1_accuracy: 0.7149 - output1_loss: 0.9549 - output2_accuracy: 0.8034 - output2_loss: 0.8000 - val_loss: 2.1162 - val_output1_accuracy: 0.6150 - val_output1_loss: 1.1484 - val_output2_accuracy: 0.7194 - val_output2_loss: 0.9542 - learning_rate: 0.0010\n",
      "Epoch 16/250\n",
      "\u001b[1m703/703\u001b[0m \u001b[32m━━━━━━━━━━━━━━━━━━━━\u001b[0m\u001b[37m\u001b[0m \u001b[1m9s\u001b[0m 13ms/step - loss: 1.7487 - output1_accuracy: 0.7237 - output1_loss: 0.9399 - output2_accuracy: 0.8056 - output2_loss: 0.7952 - val_loss: 1.9723 - val_output1_accuracy: 0.6567 - val_output1_loss: 1.0712 - val_output2_accuracy: 0.7600 - val_output2_loss: 0.8874 - learning_rate: 0.0010\n",
      "Epoch 17/250\n",
      "\u001b[1m703/703\u001b[0m \u001b[32m━━━━━━━━━━━━━━━━━━━━\u001b[0m\u001b[37m\u001b[0m \u001b[1m10s\u001b[0m 14ms/step - loss: 1.7391 - output1_accuracy: 0.7235 - output1_loss: 0.9323 - output2_accuracy: 0.8093 - output2_loss: 0.7933 - val_loss: 2.0008 - val_output1_accuracy: 0.6350 - val_output1_loss: 1.0895 - val_output2_accuracy: 0.7502 - val_output2_loss: 0.8987 - learning_rate: 0.0010\n",
      "Epoch 18/250\n",
      "\u001b[1m703/703\u001b[0m \u001b[32m━━━━━━━━━━━━━━━━━━━━\u001b[0m\u001b[37m\u001b[0m \u001b[1m10s\u001b[0m 14ms/step - loss: 1.7155 - output1_accuracy: 0.7359 - output1_loss: 0.9206 - output2_accuracy: 0.8156 - output2_loss: 0.7818 - val_loss: 1.9841 - val_output1_accuracy: 0.6573 - val_output1_loss: 1.0665 - val_output2_accuracy: 0.7502 - val_output2_loss: 0.9047 - learning_rate: 0.0010\n",
      "Epoch 19/250\n",
      "\u001b[1m703/703\u001b[0m \u001b[32m━━━━━━━━━━━━━━━━━━━━\u001b[0m\u001b[37m\u001b[0m \u001b[1m10s\u001b[0m 14ms/step - loss: 1.7049 - output1_accuracy: 0.7361 - output1_loss: 0.9196 - output2_accuracy: 0.8226 - output2_loss: 0.7723 - val_loss: 1.9011 - val_output1_accuracy: 0.6709 - val_output1_loss: 1.0298 - val_output2_accuracy: 0.7706 - val_output2_loss: 0.8581 - learning_rate: 0.0010\n",
      "Epoch 20/250\n",
      "\u001b[1m703/703\u001b[0m \u001b[32m━━━━━━━━━━━━━━━━━━━━\u001b[0m\u001b[37m\u001b[0m \u001b[1m9s\u001b[0m 13ms/step - loss: 1.6997 - output1_accuracy: 0.7386 - output1_loss: 0.9138 - output2_accuracy: 0.8213 - output2_loss: 0.7731 - val_loss: 1.9940 - val_output1_accuracy: 0.6577 - val_output1_loss: 1.0722 - val_output2_accuracy: 0.7512 - val_output2_loss: 0.9092 - learning_rate: 0.0010\n",
      "Epoch 21/250\n",
      "\u001b[1m703/703\u001b[0m \u001b[32m━━━━━━━━━━━━━━━━━━━━\u001b[0m\u001b[37m\u001b[0m \u001b[1m10s\u001b[0m 14ms/step - loss: 1.6878 - output1_accuracy: 0.7446 - output1_loss: 0.9037 - output2_accuracy: 0.8195 - output2_loss: 0.7712 - val_loss: 2.0439 - val_output1_accuracy: 0.6244 - val_output1_loss: 1.1275 - val_output2_accuracy: 0.7490 - val_output2_loss: 0.9036 - learning_rate: 0.0010\n",
      "Epoch 22/250\n",
      "\u001b[1m703/703\u001b[0m \u001b[32m━━━━━━━━━━━━━━━━━━━━\u001b[0m\u001b[37m\u001b[0m \u001b[1m10s\u001b[0m 14ms/step - loss: 1.6711 - output1_accuracy: 0.7533 - output1_loss: 0.8943 - output2_accuracy: 0.8259 - output2_loss: 0.7641 - val_loss: 2.0218 - val_output1_accuracy: 0.6540 - val_output1_loss: 1.0614 - val_output2_accuracy: 0.7294 - val_output2_loss: 0.9481 - learning_rate: 0.0010\n",
      "Epoch 23/250\n",
      "\u001b[1m703/703\u001b[0m \u001b[32m━━━━━━━━━━━━━━━━━━━━\u001b[0m\u001b[37m\u001b[0m \u001b[1m10s\u001b[0m 14ms/step - loss: 1.6694 - output1_accuracy: 0.7475 - output1_loss: 0.8956 - output2_accuracy: 0.8298 - output2_loss: 0.7613 - val_loss: 2.0031 - val_output1_accuracy: 0.6623 - val_output1_loss: 1.0416 - val_output2_accuracy: 0.7276 - val_output2_loss: 0.9493 - learning_rate: 0.0010\n",
      "Epoch 24/250\n",
      "\u001b[1m702/703\u001b[0m \u001b[32m━━━━━━━━━━━━━━━━━━━\u001b[0m\u001b[37m━\u001b[0m \u001b[1m0s\u001b[0m 13ms/step - loss: 1.6579 - output1_accuracy: 0.7504 - output1_loss: 0.8895 - output2_accuracy: 0.8310 - output2_loss: 0.7560\n",
      "Epoch 24: ReduceLROnPlateau reducing learning rate to 0.00020000000949949026.\n",
      "\u001b[1m703/703\u001b[0m \u001b[32m━━━━━━━━━━━━━━━━━━━━\u001b[0m\u001b[37m\u001b[0m \u001b[1m10s\u001b[0m 14ms/step - loss: 1.6579 - output1_accuracy: 0.7504 - output1_loss: 0.8895 - output2_accuracy: 0.8310 - output2_loss: 0.7560 - val_loss: 2.3334 - val_output1_accuracy: 0.5771 - val_output1_loss: 1.2781 - val_output2_accuracy: 0.6861 - val_output2_loss: 1.0429 - learning_rate: 0.0010\n",
      "Epoch 25/250\n",
      "\u001b[1m703/703\u001b[0m \u001b[32m━━━━━━━━━━━━━━━━━━━━\u001b[0m\u001b[37m\u001b[0m \u001b[1m9s\u001b[0m 13ms/step - loss: 1.6022 - output1_accuracy: 0.7680 - output1_loss: 0.8600 - output2_accuracy: 0.8442 - output2_loss: 0.7297 - val_loss: 1.8187 - val_output1_accuracy: 0.6975 - val_output1_loss: 0.9866 - val_output2_accuracy: 0.7913 - val_output2_loss: 0.8193 - learning_rate: 2.0000e-04\n",
      "Epoch 26/250\n",
      "\u001b[1m703/703\u001b[0m \u001b[32m━━━━━━━━━━━━━━━━━━━━\u001b[0m\u001b[37m\u001b[0m \u001b[1m9s\u001b[0m 13ms/step - loss: 1.5833 - output1_accuracy: 0.7753 - output1_loss: 0.8456 - output2_accuracy: 0.8473 - output2_loss: 0.7251 - val_loss: 1.8024 - val_output1_accuracy: 0.7083 - val_output1_loss: 0.9626 - val_output2_accuracy: 0.7893 - val_output2_loss: 0.8269 - learning_rate: 2.0000e-04\n",
      "Epoch 27/250\n",
      "\u001b[1m703/703\u001b[0m \u001b[32m━━━━━━━━━━━━━━━━━━━━\u001b[0m\u001b[37m\u001b[0m \u001b[1m10s\u001b[0m 14ms/step - loss: 1.5570 - output1_accuracy: 0.7825 - output1_loss: 0.8318 - output2_accuracy: 0.8538 - output2_loss: 0.7125 - val_loss: 1.8076 - val_output1_accuracy: 0.7077 - val_output1_loss: 0.9809 - val_output2_accuracy: 0.7937 - val_output2_loss: 0.8142 - learning_rate: 2.0000e-04\n",
      "Epoch 28/250\n",
      "\u001b[1m703/703\u001b[0m \u001b[32m━━━━━━━━━━━━━━━━━━━━\u001b[0m\u001b[37m\u001b[0m \u001b[1m10s\u001b[0m 14ms/step - loss: 1.5598 - output1_accuracy: 0.7865 - output1_loss: 0.8329 - output2_accuracy: 0.8526 - output2_loss: 0.7143 - val_loss: 1.8129 - val_output1_accuracy: 0.6961 - val_output1_loss: 0.9788 - val_output2_accuracy: 0.7901 - val_output2_loss: 0.8215 - learning_rate: 2.0000e-04\n",
      "Epoch 29/250\n",
      "\u001b[1m703/703\u001b[0m \u001b[32m━━━━━━━━━━━━━━━━━━━━\u001b[0m\u001b[37m\u001b[0m \u001b[1m10s\u001b[0m 14ms/step - loss: 1.5453 - output1_accuracy: 0.7881 - output1_loss: 0.8263 - output2_accuracy: 0.8571 - output2_loss: 0.7063 - val_loss: 1.8184 - val_output1_accuracy: 0.6893 - val_output1_loss: 0.9992 - val_output2_accuracy: 0.8005 - val_output2_loss: 0.8063 - learning_rate: 2.0000e-04\n",
      "Epoch 30/250\n",
      "\u001b[1m703/703\u001b[0m \u001b[32m━━━━━━━━━━━━━━━━━━━━\u001b[0m\u001b[37m\u001b[0m \u001b[1m9s\u001b[0m 13ms/step - loss: 1.5466 - output1_accuracy: 0.7880 - output1_loss: 0.8281 - output2_accuracy: 0.8581 - output2_loss: 0.7057 - val_loss: 1.8179 - val_output1_accuracy: 0.6969 - val_output1_loss: 0.9858 - val_output2_accuracy: 0.7913 - val_output2_loss: 0.8192 - learning_rate: 2.0000e-04\n",
      "Epoch 31/250\n",
      "\u001b[1m703/703\u001b[0m \u001b[32m━━━━━━━━━━━━━━━━━━━━\u001b[0m\u001b[37m\u001b[0m \u001b[1m10s\u001b[0m 14ms/step - loss: 1.5331 - output1_accuracy: 0.7906 - output1_loss: 0.8193 - output2_accuracy: 0.8607 - output2_loss: 0.7009 - val_loss: 1.7806 - val_output1_accuracy: 0.7119 - val_output1_loss: 0.9635 - val_output2_accuracy: 0.7997 - val_output2_loss: 0.8046 - learning_rate: 2.0000e-04\n",
      "Epoch 32/250\n",
      "\u001b[1m703/703\u001b[0m \u001b[32m━━━━━━━━━━━━━━━━━━━━\u001b[0m\u001b[37m\u001b[0m \u001b[1m10s\u001b[0m 14ms/step - loss: 1.5371 - output1_accuracy: 0.7903 - output1_loss: 0.8244 - output2_accuracy: 0.8644 - output2_loss: 0.7001 - val_loss: 1.8107 - val_output1_accuracy: 0.7049 - val_output1_loss: 0.9775 - val_output2_accuracy: 0.7965 - val_output2_loss: 0.8204 - learning_rate: 2.0000e-04\n",
      "Epoch 33/250\n",
      "\u001b[1m703/703\u001b[0m \u001b[32m━━━━━━━━━━━━━━━━━━━━\u001b[0m\u001b[37m\u001b[0m \u001b[1m10s\u001b[0m 14ms/step - loss: 1.5299 - output1_accuracy: 0.7963 - output1_loss: 0.8120 - output2_accuracy: 0.8590 - output2_loss: 0.7052 - val_loss: 1.8409 - val_output1_accuracy: 0.6871 - val_output1_loss: 1.0087 - val_output2_accuracy: 0.8025 - val_output2_loss: 0.8196 - learning_rate: 2.0000e-04\n",
      "Epoch 34/250\n",
      "\u001b[1m703/703\u001b[0m \u001b[32m━━━━━━━━━━━━━━━━━━━━\u001b[0m\u001b[37m\u001b[0m \u001b[1m9s\u001b[0m 13ms/step - loss: 1.5273 - output1_accuracy: 0.7937 - output1_loss: 0.8167 - output2_accuracy: 0.8610 - output2_loss: 0.6980 - val_loss: 1.8073 - val_output1_accuracy: 0.7037 - val_output1_loss: 0.9741 - val_output2_accuracy: 0.7955 - val_output2_loss: 0.8208 - learning_rate: 2.0000e-04\n",
      "Epoch 35/250\n",
      "\u001b[1m703/703\u001b[0m \u001b[32m━━━━━━━━━━━━━━━━━━━━\u001b[0m\u001b[37m\u001b[0m \u001b[1m9s\u001b[0m 13ms/step - loss: 1.5194 - output1_accuracy: 0.7968 - output1_loss: 0.8117 - output2_accuracy: 0.8658 - output2_loss: 0.6951 - val_loss: 1.8246 - val_output1_accuracy: 0.6981 - val_output1_loss: 0.9918 - val_output2_accuracy: 0.7985 - val_output2_loss: 0.8204 - learning_rate: 2.0000e-04\n",
      "Epoch 36/250\n",
      "\u001b[1m703/703\u001b[0m \u001b[32m━━━━━━━━━━━━━━━━━━━━\u001b[0m\u001b[37m\u001b[0m \u001b[1m0s\u001b[0m 12ms/step - loss: 1.5141 - output1_accuracy: 0.7945 - output1_loss: 0.8154 - output2_accuracy: 0.8694 - output2_loss: 0.6863\n",
      "Epoch 36: ReduceLROnPlateau reducing learning rate to 4.0000001899898055e-05.\n",
      "\u001b[1m703/703\u001b[0m \u001b[32m━━━━━━━━━━━━━━━━━━━━\u001b[0m\u001b[37m\u001b[0m \u001b[1m9s\u001b[0m 13ms/step - loss: 1.5141 - output1_accuracy: 0.7945 - output1_loss: 0.8154 - output2_accuracy: 0.8694 - output2_loss: 0.6863 - val_loss: 1.7863 - val_output1_accuracy: 0.7051 - val_output1_loss: 0.9753 - val_output2_accuracy: 0.8047 - val_output2_loss: 0.7985 - learning_rate: 2.0000e-04\n",
      "Epoch 37/250\n",
      "\u001b[1m703/703\u001b[0m \u001b[32m━━━━━━━━━━━━━━━━━━━━\u001b[0m\u001b[37m\u001b[0m \u001b[1m9s\u001b[0m 13ms/step - loss: 1.5041 - output1_accuracy: 0.8010 - output1_loss: 0.8023 - output2_accuracy: 0.8652 - output2_loss: 0.6892 - val_loss: 1.7702 - val_output1_accuracy: 0.7157 - val_output1_loss: 0.9565 - val_output2_accuracy: 0.8009 - val_output2_loss: 0.8013 - learning_rate: 4.0000e-05\n",
      "Epoch 38/250\n",
      "\u001b[1m703/703\u001b[0m \u001b[32m━━━━━━━━━━━━━━━━━━━━\u001b[0m\u001b[37m\u001b[0m \u001b[1m10s\u001b[0m 14ms/step - loss: 1.5119 - output1_accuracy: 0.7976 - output1_loss: 0.8101 - output2_accuracy: 0.8695 - output2_loss: 0.6894 - val_loss: 1.7831 - val_output1_accuracy: 0.7053 - val_output1_loss: 0.9687 - val_output2_accuracy: 0.7983 - val_output2_loss: 0.8019 - learning_rate: 4.0000e-05\n",
      "Epoch 39/250\n",
      "\u001b[1m703/703\u001b[0m \u001b[32m━━━━━━━━━━━━━━━━━━━━\u001b[0m\u001b[37m\u001b[0m \u001b[1m9s\u001b[0m 13ms/step - loss: 1.4985 - output1_accuracy: 0.8012 - output1_loss: 0.8025 - output2_accuracy: 0.8683 - output2_loss: 0.6835 - val_loss: 1.7904 - val_output1_accuracy: 0.7093 - val_output1_loss: 0.9592 - val_output2_accuracy: 0.7999 - val_output2_loss: 0.8187 - learning_rate: 4.0000e-05\n",
      "Epoch 40/250\n",
      "\u001b[1m703/703\u001b[0m \u001b[32m━━━━━━━━━━━━━━━━━━━━\u001b[0m\u001b[37m\u001b[0m \u001b[1m9s\u001b[0m 13ms/step - loss: 1.5004 - output1_accuracy: 0.8003 - output1_loss: 0.8059 - output2_accuracy: 0.8735 - output2_loss: 0.6819 - val_loss: 1.7841 - val_output1_accuracy: 0.7101 - val_output1_loss: 0.9583 - val_output2_accuracy: 0.7935 - val_output2_loss: 0.8133 - learning_rate: 4.0000e-05\n",
      "Epoch 41/250\n",
      "\u001b[1m703/703\u001b[0m \u001b[32m━━━━━━━━━━━━━━━━━━━━\u001b[0m\u001b[37m\u001b[0m \u001b[1m9s\u001b[0m 13ms/step - loss: 1.4934 - output1_accuracy: 0.8074 - output1_loss: 0.7956 - output2_accuracy: 0.8690 - output2_loss: 0.6853 - val_loss: 1.7737 - val_output1_accuracy: 0.7121 - val_output1_loss: 0.9633 - val_output2_accuracy: 0.8083 - val_output2_loss: 0.7978 - learning_rate: 4.0000e-05\n",
      "Epoch 42/250\n",
      "\u001b[1m703/703\u001b[0m \u001b[32m━━━━━━━━━━━━━━━━━━━━\u001b[0m\u001b[37m\u001b[0m \u001b[1m9s\u001b[0m 13ms/step - loss: 1.4978 - output1_accuracy: 0.8048 - output1_loss: 0.7972 - output2_accuracy: 0.8687 - output2_loss: 0.6880 - val_loss: 1.7661 - val_output1_accuracy: 0.7131 - val_output1_loss: 0.9551 - val_output2_accuracy: 0.8131 - val_output2_loss: 0.7984 - learning_rate: 4.0000e-05\n",
      "Epoch 43/250\n",
      "\u001b[1m703/703\u001b[0m \u001b[32m━━━━━━━━━━━━━━━━━━━━\u001b[0m\u001b[37m\u001b[0m \u001b[1m9s\u001b[0m 13ms/step - loss: 1.4988 - output1_accuracy: 0.8073 - output1_loss: 0.7958 - output2_accuracy: 0.8675 - output2_loss: 0.6904 - val_loss: 1.7808 - val_output1_accuracy: 0.7192 - val_output1_loss: 0.9693 - val_output2_accuracy: 0.8043 - val_output2_loss: 0.7990 - learning_rate: 4.0000e-05\n",
      "Epoch 44/250\n",
      "\u001b[1m703/703\u001b[0m \u001b[32m━━━━━━━━━━━━━━━━━━━━\u001b[0m\u001b[37m\u001b[0m \u001b[1m10s\u001b[0m 14ms/step - loss: 1.4961 - output1_accuracy: 0.8031 - output1_loss: 0.8014 - output2_accuracy: 0.8728 - output2_loss: 0.6822 - val_loss: 1.7824 - val_output1_accuracy: 0.7097 - val_output1_loss: 0.9615 - val_output2_accuracy: 0.8021 - val_output2_loss: 0.8084 - learning_rate: 4.0000e-05\n",
      "Epoch 45/250\n",
      "\u001b[1m703/703\u001b[0m \u001b[32m━━━━━━━━━━━━━━━━━━━━\u001b[0m\u001b[37m\u001b[0m \u001b[1m10s\u001b[0m 14ms/step - loss: 1.4940 - output1_accuracy: 0.8056 - output1_loss: 0.7969 - output2_accuracy: 0.8715 - output2_loss: 0.6846 - val_loss: 1.7720 - val_output1_accuracy: 0.7051 - val_output1_loss: 0.9642 - val_output2_accuracy: 0.8073 - val_output2_loss: 0.7953 - learning_rate: 4.0000e-05\n",
      "Epoch 46/250\n",
      "\u001b[1m703/703\u001b[0m \u001b[32m━━━━━━━━━━━━━━━━━━━━\u001b[0m\u001b[37m\u001b[0m \u001b[1m10s\u001b[0m 14ms/step - loss: 1.4909 - output1_accuracy: 0.8060 - output1_loss: 0.7943 - output2_accuracy: 0.8705 - output2_loss: 0.6841 - val_loss: 1.7724 - val_output1_accuracy: 0.7133 - val_output1_loss: 0.9695 - val_output2_accuracy: 0.8117 - val_output2_loss: 0.7904 - learning_rate: 4.0000e-05\n",
      "Epoch 47/250\n",
      "\u001b[1m703/703\u001b[0m \u001b[32m━━━━━━━━━━━━━━━━━━━━\u001b[0m\u001b[37m\u001b[0m \u001b[1m9s\u001b[0m 14ms/step - loss: 1.4882 - output1_accuracy: 0.8083 - output1_loss: 0.7932 - output2_accuracy: 0.8705 - output2_loss: 0.6825 - val_loss: 1.7624 - val_output1_accuracy: 0.7109 - val_output1_loss: 0.9539 - val_output2_accuracy: 0.8051 - val_output2_loss: 0.7960 - learning_rate: 4.0000e-05\n",
      "Epoch 48/250\n",
      "\u001b[1m703/703\u001b[0m \u001b[32m━━━━━━━━━━━━━━━━━━━━\u001b[0m\u001b[37m\u001b[0m \u001b[1m9s\u001b[0m 13ms/step - loss: 1.4870 - output1_accuracy: 0.8051 - output1_loss: 0.7960 - output2_accuracy: 0.8761 - output2_loss: 0.6785 - val_loss: 1.7864 - val_output1_accuracy: 0.7059 - val_output1_loss: 0.9749 - val_output2_accuracy: 0.8075 - val_output2_loss: 0.7989 - learning_rate: 4.0000e-05\n",
      "Epoch 49/250\n",
      "\u001b[1m703/703\u001b[0m \u001b[32m━━━━━━━━━━━━━━━━━━━━\u001b[0m\u001b[37m\u001b[0m \u001b[1m10s\u001b[0m 14ms/step - loss: 1.4935 - output1_accuracy: 0.8032 - output1_loss: 0.8010 - output2_accuracy: 0.8754 - output2_loss: 0.6799 - val_loss: 1.8064 - val_output1_accuracy: 0.7053 - val_output1_loss: 0.9875 - val_output2_accuracy: 0.8001 - val_output2_loss: 0.8065 - learning_rate: 4.0000e-05\n",
      "Epoch 50/250\n",
      "\u001b[1m703/703\u001b[0m \u001b[32m━━━━━━━━━━━━━━━━━━━━\u001b[0m\u001b[37m\u001b[0m \u001b[1m10s\u001b[0m 14ms/step - loss: 1.4908 - output1_accuracy: 0.8082 - output1_loss: 0.7999 - output2_accuracy: 0.8745 - output2_loss: 0.6784 - val_loss: 1.7616 - val_output1_accuracy: 0.7095 - val_output1_loss: 0.9569 - val_output2_accuracy: 0.8193 - val_output2_loss: 0.7921 - learning_rate: 4.0000e-05\n",
      "Epoch 51/250\n",
      "\u001b[1m703/703\u001b[0m \u001b[32m━━━━━━━━━━━━━━━━━━━━\u001b[0m\u001b[37m\u001b[0m \u001b[1m9s\u001b[0m 13ms/step - loss: 1.4947 - output1_accuracy: 0.8055 - output1_loss: 0.7999 - output2_accuracy: 0.8732 - output2_loss: 0.6823 - val_loss: 1.7708 - val_output1_accuracy: 0.7069 - val_output1_loss: 0.9689 - val_output2_accuracy: 0.8073 - val_output2_loss: 0.7895 - learning_rate: 4.0000e-05\n",
      "Epoch 52/250\n",
      "\u001b[1m703/703\u001b[0m \u001b[32m━━━━━━━━━━━━━━━━━━━━\u001b[0m\u001b[37m\u001b[0m \u001b[1m9s\u001b[0m 13ms/step - loss: 1.4834 - output1_accuracy: 0.8103 - output1_loss: 0.7921 - output2_accuracy: 0.8747 - output2_loss: 0.6788 - val_loss: 1.7637 - val_output1_accuracy: 0.7145 - val_output1_loss: 0.9623 - val_output2_accuracy: 0.8089 - val_output2_loss: 0.7889 - learning_rate: 4.0000e-05\n",
      "Epoch 53/250\n",
      "\u001b[1m703/703\u001b[0m \u001b[32m━━━━━━━━━━━━━━━━━━━━\u001b[0m\u001b[37m\u001b[0m \u001b[1m10s\u001b[0m 14ms/step - loss: 1.4841 - output1_accuracy: 0.8115 - output1_loss: 0.7914 - output2_accuracy: 0.8735 - output2_loss: 0.6802 - val_loss: 1.7640 - val_output1_accuracy: 0.7208 - val_output1_loss: 0.9480 - val_output2_accuracy: 0.8045 - val_output2_loss: 0.8034 - learning_rate: 4.0000e-05\n",
      "Epoch 54/250\n",
      "\u001b[1m703/703\u001b[0m \u001b[32m━━━━━━━━━━━━━━━━━━━━\u001b[0m\u001b[37m\u001b[0m \u001b[1m10s\u001b[0m 14ms/step - loss: 1.4894 - output1_accuracy: 0.8063 - output1_loss: 0.7945 - output2_accuracy: 0.8709 - output2_loss: 0.6824 - val_loss: 1.7943 - val_output1_accuracy: 0.7043 - val_output1_loss: 0.9804 - val_output2_accuracy: 0.8077 - val_output2_loss: 0.8014 - learning_rate: 4.0000e-05\n",
      "Epoch 55/250\n",
      "\u001b[1m699/703\u001b[0m \u001b[32m━━━━━━━━━━━━━━━━━━━\u001b[0m\u001b[37m━\u001b[0m \u001b[1m0s\u001b[0m 13ms/step - loss: 1.4855 - output1_accuracy: 0.8102 - output1_loss: 0.7915 - output2_accuracy: 0.8739 - output2_loss: 0.6815\n",
      "Epoch 55: ReduceLROnPlateau reducing learning rate to 8.000000525498762e-06.\n",
      "\u001b[1m703/703\u001b[0m \u001b[32m━━━━━━━━━━━━━━━━━━━━\u001b[0m\u001b[37m\u001b[0m \u001b[1m10s\u001b[0m 14ms/step - loss: 1.4855 - output1_accuracy: 0.8102 - output1_loss: 0.7915 - output2_accuracy: 0.8740 - output2_loss: 0.6814 - val_loss: 1.7769 - val_output1_accuracy: 0.7143 - val_output1_loss: 0.9603 - val_output2_accuracy: 0.8037 - val_output2_loss: 0.8040 - learning_rate: 4.0000e-05\n",
      "Epoch 56/250\n",
      "\u001b[1m703/703\u001b[0m \u001b[32m━━━━━━━━━━━━━━━━━━━━\u001b[0m\u001b[37m\u001b[0m \u001b[1m9s\u001b[0m 13ms/step - loss: 1.4748 - output1_accuracy: 0.8093 - output1_loss: 0.7932 - output2_accuracy: 0.8787 - output2_loss: 0.6690 - val_loss: 1.7462 - val_output1_accuracy: 0.7244 - val_output1_loss: 0.9480 - val_output2_accuracy: 0.8121 - val_output2_loss: 0.7856 - learning_rate: 8.0000e-06\n",
      "Epoch 57/250\n",
      "\u001b[1m703/703\u001b[0m \u001b[32m━━━━━━━━━━━━━━━━━━━━\u001b[0m\u001b[37m\u001b[0m \u001b[1m10s\u001b[0m 14ms/step - loss: 1.4808 - output1_accuracy: 0.8103 - output1_loss: 0.7925 - output2_accuracy: 0.8758 - output2_loss: 0.6758 - val_loss: 1.7785 - val_output1_accuracy: 0.7145 - val_output1_loss: 0.9680 - val_output2_accuracy: 0.8141 - val_output2_loss: 0.7980 - learning_rate: 8.0000e-06\n",
      "Epoch 58/250\n",
      "\u001b[1m703/703\u001b[0m \u001b[32m━━━━━━━━━━━━━━━━━━━━\u001b[0m\u001b[37m\u001b[0m \u001b[1m10s\u001b[0m 14ms/step - loss: 1.4828 - output1_accuracy: 0.8058 - output1_loss: 0.7955 - output2_accuracy: 0.8770 - output2_loss: 0.6748 - val_loss: 1.7625 - val_output1_accuracy: 0.7210 - val_output1_loss: 0.9573 - val_output2_accuracy: 0.8085 - val_output2_loss: 0.7927 - learning_rate: 8.0000e-06\n",
      "Epoch 59/250\n",
      "\u001b[1m703/703\u001b[0m \u001b[32m━━━━━━━━━━━━━━━━━━━━\u001b[0m\u001b[37m\u001b[0m \u001b[1m10s\u001b[0m 14ms/step - loss: 1.4799 - output1_accuracy: 0.8151 - output1_loss: 0.7871 - output2_accuracy: 0.8742 - output2_loss: 0.6803 - val_loss: 1.7976 - val_output1_accuracy: 0.7085 - val_output1_loss: 0.9726 - val_output2_accuracy: 0.7983 - val_output2_loss: 0.8124 - learning_rate: 8.0000e-06\n",
      "Epoch 60/250\n",
      "\u001b[1m703/703\u001b[0m \u001b[32m━━━━━━━━━━━━━━━━━━━━\u001b[0m\u001b[37m\u001b[0m \u001b[1m10s\u001b[0m 14ms/step - loss: 1.4898 - output1_accuracy: 0.8082 - output1_loss: 0.7953 - output2_accuracy: 0.8743 - output2_loss: 0.6820 - val_loss: 1.7777 - val_output1_accuracy: 0.7163 - val_output1_loss: 0.9680 - val_output2_accuracy: 0.8083 - val_output2_loss: 0.7972 - learning_rate: 8.0000e-06\n",
      "Epoch 61/250\n",
      "\u001b[1m702/703\u001b[0m \u001b[32m━━━━━━━━━━━━━━━━━━━\u001b[0m\u001b[37m━\u001b[0m \u001b[1m0s\u001b[0m 13ms/step - loss: 1.4774 - output1_accuracy: 0.8093 - output1_loss: 0.7890 - output2_accuracy: 0.8759 - output2_loss: 0.6758\n",
      "Epoch 61: ReduceLROnPlateau reducing learning rate to 1.6000001778593287e-06.\n",
      "\u001b[1m703/703\u001b[0m \u001b[32m━━━━━━━━━━━━━━━━━━━━\u001b[0m\u001b[37m\u001b[0m \u001b[1m10s\u001b[0m 14ms/step - loss: 1.4774 - output1_accuracy: 0.8093 - output1_loss: 0.7890 - output2_accuracy: 0.8759 - output2_loss: 0.6758 - val_loss: 1.7950 - val_output1_accuracy: 0.7125 - val_output1_loss: 0.9739 - val_output2_accuracy: 0.7973 - val_output2_loss: 0.8086 - learning_rate: 8.0000e-06\n",
      "Epoch 62/250\n",
      "\u001b[1m703/703\u001b[0m \u001b[32m━━━━━━━━━━━━━━━━━━━━\u001b[0m\u001b[37m\u001b[0m \u001b[1m9s\u001b[0m 13ms/step - loss: 1.4792 - output1_accuracy: 0.8114 - output1_loss: 0.7896 - output2_accuracy: 0.8756 - output2_loss: 0.6771 - val_loss: 1.7773 - val_output1_accuracy: 0.7145 - val_output1_loss: 0.9656 - val_output2_accuracy: 0.8085 - val_output2_loss: 0.7992 - learning_rate: 1.6000e-06\n",
      "Epoch 63/250\n",
      "\u001b[1m703/703\u001b[0m \u001b[32m━━━━━━━━━━━━━━━━━━━━\u001b[0m\u001b[37m\u001b[0m \u001b[1m10s\u001b[0m 14ms/step - loss: 1.4792 - output1_accuracy: 0.8095 - output1_loss: 0.7903 - output2_accuracy: 0.8747 - output2_loss: 0.6764 - val_loss: 1.7728 - val_output1_accuracy: 0.7123 - val_output1_loss: 0.9524 - val_output2_accuracy: 0.8003 - val_output2_loss: 0.8079 - learning_rate: 1.6000e-06\n",
      "Epoch 64/250\n",
      "\u001b[1m703/703\u001b[0m \u001b[32m━━━━━━━━━━━━━━━━━━━━\u001b[0m\u001b[37m\u001b[0m \u001b[1m10s\u001b[0m 14ms/step - loss: 1.4840 - output1_accuracy: 0.8076 - output1_loss: 0.7937 - output2_accuracy: 0.8727 - output2_loss: 0.6778 - val_loss: 1.7824 - val_output1_accuracy: 0.7091 - val_output1_loss: 0.9700 - val_output2_accuracy: 0.8143 - val_output2_loss: 0.7999 - learning_rate: 1.6000e-06\n",
      "Epoch 65/250\n",
      "\u001b[1m703/703\u001b[0m \u001b[32m━━━━━━━━━━━━━━━━━━━━\u001b[0m\u001b[37m\u001b[0m \u001b[1m9s\u001b[0m 13ms/step - loss: 1.4746 - output1_accuracy: 0.8142 - output1_loss: 0.7848 - output2_accuracy: 0.8721 - output2_loss: 0.6773 - val_loss: 1.8101 - val_output1_accuracy: 0.7037 - val_output1_loss: 0.9851 - val_output2_accuracy: 0.7977 - val_output2_loss: 0.8125 - learning_rate: 1.6000e-06\n",
      "Epoch 66/250\n",
      "\u001b[1m702/703\u001b[0m \u001b[32m━━━━━━━━━━━━━━━━━━━\u001b[0m\u001b[37m━\u001b[0m \u001b[1m0s\u001b[0m 12ms/step - loss: 1.4704 - output1_accuracy: 0.8127 - output1_loss: 0.7852 - output2_accuracy: 0.8800 - output2_loss: 0.6727\n",
      "Epoch 66: ReduceLROnPlateau reducing learning rate to 3.200000264769187e-07.\n",
      "\u001b[1m703/703\u001b[0m \u001b[32m━━━━━━━━━━━━━━━━━━━━\u001b[0m\u001b[37m\u001b[0m \u001b[1m9s\u001b[0m 13ms/step - loss: 1.4704 - output1_accuracy: 0.8127 - output1_loss: 0.7852 - output2_accuracy: 0.8800 - output2_loss: 0.6727 - val_loss: 1.7786 - val_output1_accuracy: 0.7147 - val_output1_loss: 0.9701 - val_output2_accuracy: 0.8047 - val_output2_loss: 0.7960 - learning_rate: 1.6000e-06\n",
      "Epoch 66: early stopping\n",
      "Restoring model weights from the end of the best epoch: 56.\n"
     ]
    }
   ],
   "source": [
    "K.clear_session() # garbage collection\n",
    "model = ACCNRR3()\n",
    "model.compile(optimizer='rmsprop',\n",
    "              loss={'output1': keras.losses.CategoricalCrossentropy(label_smoothing=0.1), 'output2': keras.losses.CategoricalCrossentropy(label_smoothing=0.1)},\n",
    "              metrics={'output1': 'accuracy', 'output2': 'accuracy'})\n",
    "model.summary()\n",
    "model.compile(optimizer='rmsprop',\n",
    "              loss={'output1': keras.losses.CategoricalCrossentropy(label_smoothing=0.1), 'output2': keras.losses.CategoricalCrossentropy(label_smoothing=0.1)},\n",
    "              metrics={'output1': 'accuracy', 'output2': 'accuracy'})\n",
    "reduce_lr = keras.callbacks.ReduceLROnPlateau(monitor='val_loss', factor=0.2,\n",
    "                              patience=5, min_lr=1e-9, verbose=1)\n",
    "history = model.fit(\n",
    "    traingen,            \n",
    "    epochs=250,          \n",
    "    steps_per_epoch=len(cifar10_x_train)//batchsize, # necessary since generator loops infinitely\n",
    "    validation_data=valgen,\n",
    "    validation_steps=len(cifar10_x_val)//batchsize,  # necessary since generator loops infinitely\n",
    "    callbacks=[early_stopping, reduce_lr],\n",
    "    verbose=1\n",
    ")"
   ]
  },
  {
   "cell_type": "code",
   "execution_count": 89,
   "metadata": {},
   "outputs": [
    {
     "name": "stderr",
     "output_type": "stream",
     "text": [
      "100%|██████████| 10/10 [00:07<00:00,  1.34it/s]"
     ]
    },
    {
     "name": "stdout",
     "output_type": "stream",
     "text": [
      "mean accuracy =  0.7647300004959107\n",
      "standard deviation =  0.0036044590901915708\n"
     ]
    },
    {
     "name": "stderr",
     "output_type": "stream",
     "text": [
      "\n"
     ]
    }
   ],
   "source": [
    "evaluate_model(model,testgen)"
   ]
  },
  {
   "cell_type": "code",
   "execution_count": 90,
   "metadata": {},
   "outputs": [],
   "source": [
    "def ACCNRR4():\n",
    "    # CIFAR-10\n",
    "    inputs = keras.Input(shape=(32,32,3))\n",
    "    inputs = layers.RandomFlip(\"horizontal\")(inputs)\n",
    "    # Feature Extractor\n",
    "    x = layers.Conv2D(96, (3,3), activation='relu')(inputs)\n",
    "    x = layers.BatchNormalization()(x)\n",
    "    x = layers.Conv2D(96, (3,3), activation='relu')(x)\n",
    "    x = layers.BatchNormalization()(x)\n",
    "    x = layers.Conv2D(96, (3,3), activation='relu', strides=2)(x)\n",
    "    x = layers.BatchNormalization()(x)\n",
    "    x = layers.Conv2D(192, (3,3), activation='relu')(x)\n",
    "    x = layers.BatchNormalization()(x)\n",
    "    x = layers.Conv2D(192, (3,3), activation='relu')(x)\n",
    "    x = layers.BatchNormalization()(x)\n",
    "    # Classifers\n",
    "    x1 = layers.Conv2D(192, (3,3), activation='relu', strides=2)(x)\n",
    "    x1 = layers.BatchNormalization()(x1)\n",
    "    x1 = layers.Conv2D(192, (1,1), activation='relu')(x1)\n",
    "    x1 = layers.BatchNormalization()(x1)\n",
    "    x1 = layers.GlobalAveragePooling2D()(x1)\n",
    "    x2 = layers.Conv2D(192, (3,3), activation='relu', strides=2)(x)\n",
    "    x2 = layers.BatchNormalization()(x2)\n",
    "    x2 = layers.Conv2D(192, (1,1), activation='relu')(x2)\n",
    "    x2 = layers.BatchNormalization()(x2)\n",
    "    x2 = layers.GlobalAveragePooling2D()(x2)\n",
    "    #x = layers.Flatten()(x)\n",
    "    output1 = layers.Dense(5, activation='softmax', name='output1', kernel_regularizer=regularizers.l2(0.01))(x1)\n",
    "    output2 = layers.Dense(5, activation='softmax', name='output2', kernel_regularizer=regularizers.l2(0.01))(x2)\n",
    "    # Model creation\n",
    "    model = keras.Model(\n",
    "        inputs,\n",
    "        outputs={'output1':output1, 'output2':output2}, name='ACCNRR4',\n",
    "        )\n",
    "    return model"
   ]
  },
  {
   "cell_type": "code",
   "execution_count": 92,
   "metadata": {},
   "outputs": [
    {
     "data": {
      "text/html": [
       "<pre style=\"white-space:pre;overflow-x:auto;line-height:normal;font-family:Menlo,'DejaVu Sans Mono',consolas,'Courier New',monospace\"><span style=\"font-weight: bold\">Model: \"ACCNRR4\"</span>\n",
       "</pre>\n"
      ],
      "text/plain": [
       "\u001b[1mModel: \"ACCNRR4\"\u001b[0m\n"
      ]
     },
     "metadata": {},
     "output_type": "display_data"
    },
    {
     "data": {
      "text/html": [
       "<pre style=\"white-space:pre;overflow-x:auto;line-height:normal;font-family:Menlo,'DejaVu Sans Mono',consolas,'Courier New',monospace\">┏━━━━━━━━━━━━━━━━━━━━━┳━━━━━━━━━━━━━━━━━━━┳━━━━━━━━━━━━┳━━━━━━━━━━━━━━━━━━━┓\n",
       "┃<span style=\"font-weight: bold\"> Layer (type)        </span>┃<span style=\"font-weight: bold\"> Output Shape      </span>┃<span style=\"font-weight: bold\">    Param # </span>┃<span style=\"font-weight: bold\"> Connected to      </span>┃\n",
       "┡━━━━━━━━━━━━━━━━━━━━━╇━━━━━━━━━━━━━━━━━━━╇━━━━━━━━━━━━╇━━━━━━━━━━━━━━━━━━━┩\n",
       "│ keras_tensor_1CLONE │ (<span style=\"color: #00d7ff; text-decoration-color: #00d7ff\">None</span>, <span style=\"color: #00af00; text-decoration-color: #00af00\">32</span>, <span style=\"color: #00af00; text-decoration-color: #00af00\">32</span>, <span style=\"color: #00af00; text-decoration-color: #00af00\">3</span>) │          <span style=\"color: #00af00; text-decoration-color: #00af00\">0</span> │ -                 │\n",
       "│ (<span style=\"color: #0087ff; text-decoration-color: #0087ff\">InputLayer</span>)        │                   │            │                   │\n",
       "├─────────────────────┼───────────────────┼────────────┼───────────────────┤\n",
       "│ conv2d (<span style=\"color: #0087ff; text-decoration-color: #0087ff\">Conv2D</span>)     │ (<span style=\"color: #00d7ff; text-decoration-color: #00d7ff\">None</span>, <span style=\"color: #00af00; text-decoration-color: #00af00\">30</span>, <span style=\"color: #00af00; text-decoration-color: #00af00\">30</span>,    │      <span style=\"color: #00af00; text-decoration-color: #00af00\">2,688</span> │ keras_tensor_1CL… │\n",
       "│                     │ <span style=\"color: #00af00; text-decoration-color: #00af00\">96</span>)               │            │                   │\n",
       "├─────────────────────┼───────────────────┼────────────┼───────────────────┤\n",
       "│ batch_normalization │ (<span style=\"color: #00d7ff; text-decoration-color: #00d7ff\">None</span>, <span style=\"color: #00af00; text-decoration-color: #00af00\">30</span>, <span style=\"color: #00af00; text-decoration-color: #00af00\">30</span>,    │        <span style=\"color: #00af00; text-decoration-color: #00af00\">384</span> │ conv2d[<span style=\"color: #00af00; text-decoration-color: #00af00\">1</span>][<span style=\"color: #00af00; text-decoration-color: #00af00\">0</span>]      │\n",
       "│ (<span style=\"color: #0087ff; text-decoration-color: #0087ff\">BatchNormalizatio…</span> │ <span style=\"color: #00af00; text-decoration-color: #00af00\">96</span>)               │            │                   │\n",
       "├─────────────────────┼───────────────────┼────────────┼───────────────────┤\n",
       "│ conv2d_1 (<span style=\"color: #0087ff; text-decoration-color: #0087ff\">Conv2D</span>)   │ (<span style=\"color: #00d7ff; text-decoration-color: #00d7ff\">None</span>, <span style=\"color: #00af00; text-decoration-color: #00af00\">28</span>, <span style=\"color: #00af00; text-decoration-color: #00af00\">28</span>,    │     <span style=\"color: #00af00; text-decoration-color: #00af00\">83,040</span> │ batch_normalizat… │\n",
       "│                     │ <span style=\"color: #00af00; text-decoration-color: #00af00\">96</span>)               │            │                   │\n",
       "├─────────────────────┼───────────────────┼────────────┼───────────────────┤\n",
       "│ batch_normalizatio… │ (<span style=\"color: #00d7ff; text-decoration-color: #00d7ff\">None</span>, <span style=\"color: #00af00; text-decoration-color: #00af00\">28</span>, <span style=\"color: #00af00; text-decoration-color: #00af00\">28</span>,    │        <span style=\"color: #00af00; text-decoration-color: #00af00\">384</span> │ conv2d_1[<span style=\"color: #00af00; text-decoration-color: #00af00\">1</span>][<span style=\"color: #00af00; text-decoration-color: #00af00\">0</span>]    │\n",
       "│ (<span style=\"color: #0087ff; text-decoration-color: #0087ff\">BatchNormalizatio…</span> │ <span style=\"color: #00af00; text-decoration-color: #00af00\">96</span>)               │            │                   │\n",
       "├─────────────────────┼───────────────────┼────────────┼───────────────────┤\n",
       "│ conv2d_2 (<span style=\"color: #0087ff; text-decoration-color: #0087ff\">Conv2D</span>)   │ (<span style=\"color: #00d7ff; text-decoration-color: #00d7ff\">None</span>, <span style=\"color: #00af00; text-decoration-color: #00af00\">13</span>, <span style=\"color: #00af00; text-decoration-color: #00af00\">13</span>,    │     <span style=\"color: #00af00; text-decoration-color: #00af00\">83,040</span> │ batch_normalizat… │\n",
       "│                     │ <span style=\"color: #00af00; text-decoration-color: #00af00\">96</span>)               │            │                   │\n",
       "├─────────────────────┼───────────────────┼────────────┼───────────────────┤\n",
       "│ batch_normalizatio… │ (<span style=\"color: #00d7ff; text-decoration-color: #00d7ff\">None</span>, <span style=\"color: #00af00; text-decoration-color: #00af00\">13</span>, <span style=\"color: #00af00; text-decoration-color: #00af00\">13</span>,    │        <span style=\"color: #00af00; text-decoration-color: #00af00\">384</span> │ conv2d_2[<span style=\"color: #00af00; text-decoration-color: #00af00\">1</span>][<span style=\"color: #00af00; text-decoration-color: #00af00\">0</span>]    │\n",
       "│ (<span style=\"color: #0087ff; text-decoration-color: #0087ff\">BatchNormalizatio…</span> │ <span style=\"color: #00af00; text-decoration-color: #00af00\">96</span>)               │            │                   │\n",
       "├─────────────────────┼───────────────────┼────────────┼───────────────────┤\n",
       "│ conv2d_3 (<span style=\"color: #0087ff; text-decoration-color: #0087ff\">Conv2D</span>)   │ (<span style=\"color: #00d7ff; text-decoration-color: #00d7ff\">None</span>, <span style=\"color: #00af00; text-decoration-color: #00af00\">11</span>, <span style=\"color: #00af00; text-decoration-color: #00af00\">11</span>,    │    <span style=\"color: #00af00; text-decoration-color: #00af00\">166,080</span> │ batch_normalizat… │\n",
       "│                     │ <span style=\"color: #00af00; text-decoration-color: #00af00\">192</span>)              │            │                   │\n",
       "├─────────────────────┼───────────────────┼────────────┼───────────────────┤\n",
       "│ batch_normalizatio… │ (<span style=\"color: #00d7ff; text-decoration-color: #00d7ff\">None</span>, <span style=\"color: #00af00; text-decoration-color: #00af00\">11</span>, <span style=\"color: #00af00; text-decoration-color: #00af00\">11</span>,    │        <span style=\"color: #00af00; text-decoration-color: #00af00\">768</span> │ conv2d_3[<span style=\"color: #00af00; text-decoration-color: #00af00\">1</span>][<span style=\"color: #00af00; text-decoration-color: #00af00\">0</span>]    │\n",
       "│ (<span style=\"color: #0087ff; text-decoration-color: #0087ff\">BatchNormalizatio…</span> │ <span style=\"color: #00af00; text-decoration-color: #00af00\">192</span>)              │            │                   │\n",
       "├─────────────────────┼───────────────────┼────────────┼───────────────────┤\n",
       "│ conv2d_4 (<span style=\"color: #0087ff; text-decoration-color: #0087ff\">Conv2D</span>)   │ (<span style=\"color: #00d7ff; text-decoration-color: #00d7ff\">None</span>, <span style=\"color: #00af00; text-decoration-color: #00af00\">9</span>, <span style=\"color: #00af00; text-decoration-color: #00af00\">9</span>, <span style=\"color: #00af00; text-decoration-color: #00af00\">192</span>) │    <span style=\"color: #00af00; text-decoration-color: #00af00\">331,968</span> │ batch_normalizat… │\n",
       "├─────────────────────┼───────────────────┼────────────┼───────────────────┤\n",
       "│ batch_normalizatio… │ (<span style=\"color: #00d7ff; text-decoration-color: #00d7ff\">None</span>, <span style=\"color: #00af00; text-decoration-color: #00af00\">9</span>, <span style=\"color: #00af00; text-decoration-color: #00af00\">9</span>, <span style=\"color: #00af00; text-decoration-color: #00af00\">192</span>) │        <span style=\"color: #00af00; text-decoration-color: #00af00\">768</span> │ conv2d_4[<span style=\"color: #00af00; text-decoration-color: #00af00\">1</span>][<span style=\"color: #00af00; text-decoration-color: #00af00\">0</span>]    │\n",
       "│ (<span style=\"color: #0087ff; text-decoration-color: #0087ff\">BatchNormalizatio…</span> │                   │            │                   │\n",
       "├─────────────────────┼───────────────────┼────────────┼───────────────────┤\n",
       "│ conv2d_5 (<span style=\"color: #0087ff; text-decoration-color: #0087ff\">Conv2D</span>)   │ (<span style=\"color: #00d7ff; text-decoration-color: #00d7ff\">None</span>, <span style=\"color: #00af00; text-decoration-color: #00af00\">4</span>, <span style=\"color: #00af00; text-decoration-color: #00af00\">4</span>, <span style=\"color: #00af00; text-decoration-color: #00af00\">192</span>) │    <span style=\"color: #00af00; text-decoration-color: #00af00\">331,968</span> │ batch_normalizat… │\n",
       "├─────────────────────┼───────────────────┼────────────┼───────────────────┤\n",
       "│ conv2d_7 (<span style=\"color: #0087ff; text-decoration-color: #0087ff\">Conv2D</span>)   │ (<span style=\"color: #00d7ff; text-decoration-color: #00d7ff\">None</span>, <span style=\"color: #00af00; text-decoration-color: #00af00\">4</span>, <span style=\"color: #00af00; text-decoration-color: #00af00\">4</span>, <span style=\"color: #00af00; text-decoration-color: #00af00\">192</span>) │    <span style=\"color: #00af00; text-decoration-color: #00af00\">331,968</span> │ batch_normalizat… │\n",
       "├─────────────────────┼───────────────────┼────────────┼───────────────────┤\n",
       "│ batch_normalizatio… │ (<span style=\"color: #00d7ff; text-decoration-color: #00d7ff\">None</span>, <span style=\"color: #00af00; text-decoration-color: #00af00\">4</span>, <span style=\"color: #00af00; text-decoration-color: #00af00\">4</span>, <span style=\"color: #00af00; text-decoration-color: #00af00\">192</span>) │        <span style=\"color: #00af00; text-decoration-color: #00af00\">768</span> │ conv2d_5[<span style=\"color: #00af00; text-decoration-color: #00af00\">1</span>][<span style=\"color: #00af00; text-decoration-color: #00af00\">0</span>]    │\n",
       "│ (<span style=\"color: #0087ff; text-decoration-color: #0087ff\">BatchNormalizatio…</span> │                   │            │                   │\n",
       "├─────────────────────┼───────────────────┼────────────┼───────────────────┤\n",
       "│ batch_normalizatio… │ (<span style=\"color: #00d7ff; text-decoration-color: #00d7ff\">None</span>, <span style=\"color: #00af00; text-decoration-color: #00af00\">4</span>, <span style=\"color: #00af00; text-decoration-color: #00af00\">4</span>, <span style=\"color: #00af00; text-decoration-color: #00af00\">192</span>) │        <span style=\"color: #00af00; text-decoration-color: #00af00\">768</span> │ conv2d_7[<span style=\"color: #00af00; text-decoration-color: #00af00\">1</span>][<span style=\"color: #00af00; text-decoration-color: #00af00\">0</span>]    │\n",
       "│ (<span style=\"color: #0087ff; text-decoration-color: #0087ff\">BatchNormalizatio…</span> │                   │            │                   │\n",
       "├─────────────────────┼───────────────────┼────────────┼───────────────────┤\n",
       "│ conv2d_6 (<span style=\"color: #0087ff; text-decoration-color: #0087ff\">Conv2D</span>)   │ (<span style=\"color: #00d7ff; text-decoration-color: #00d7ff\">None</span>, <span style=\"color: #00af00; text-decoration-color: #00af00\">4</span>, <span style=\"color: #00af00; text-decoration-color: #00af00\">4</span>, <span style=\"color: #00af00; text-decoration-color: #00af00\">192</span>) │     <span style=\"color: #00af00; text-decoration-color: #00af00\">37,056</span> │ batch_normalizat… │\n",
       "├─────────────────────┼───────────────────┼────────────┼───────────────────┤\n",
       "│ conv2d_8 (<span style=\"color: #0087ff; text-decoration-color: #0087ff\">Conv2D</span>)   │ (<span style=\"color: #00d7ff; text-decoration-color: #00d7ff\">None</span>, <span style=\"color: #00af00; text-decoration-color: #00af00\">4</span>, <span style=\"color: #00af00; text-decoration-color: #00af00\">4</span>, <span style=\"color: #00af00; text-decoration-color: #00af00\">192</span>) │     <span style=\"color: #00af00; text-decoration-color: #00af00\">37,056</span> │ batch_normalizat… │\n",
       "├─────────────────────┼───────────────────┼────────────┼───────────────────┤\n",
       "│ batch_normalizatio… │ (<span style=\"color: #00d7ff; text-decoration-color: #00d7ff\">None</span>, <span style=\"color: #00af00; text-decoration-color: #00af00\">4</span>, <span style=\"color: #00af00; text-decoration-color: #00af00\">4</span>, <span style=\"color: #00af00; text-decoration-color: #00af00\">192</span>) │        <span style=\"color: #00af00; text-decoration-color: #00af00\">768</span> │ conv2d_6[<span style=\"color: #00af00; text-decoration-color: #00af00\">1</span>][<span style=\"color: #00af00; text-decoration-color: #00af00\">0</span>]    │\n",
       "│ (<span style=\"color: #0087ff; text-decoration-color: #0087ff\">BatchNormalizatio…</span> │                   │            │                   │\n",
       "├─────────────────────┼───────────────────┼────────────┼───────────────────┤\n",
       "│ batch_normalizatio… │ (<span style=\"color: #00d7ff; text-decoration-color: #00d7ff\">None</span>, <span style=\"color: #00af00; text-decoration-color: #00af00\">4</span>, <span style=\"color: #00af00; text-decoration-color: #00af00\">4</span>, <span style=\"color: #00af00; text-decoration-color: #00af00\">192</span>) │        <span style=\"color: #00af00; text-decoration-color: #00af00\">768</span> │ conv2d_8[<span style=\"color: #00af00; text-decoration-color: #00af00\">1</span>][<span style=\"color: #00af00; text-decoration-color: #00af00\">0</span>]    │\n",
       "│ (<span style=\"color: #0087ff; text-decoration-color: #0087ff\">BatchNormalizatio…</span> │                   │            │                   │\n",
       "├─────────────────────┼───────────────────┼────────────┼───────────────────┤\n",
       "│ global_average_poo… │ (<span style=\"color: #00d7ff; text-decoration-color: #00d7ff\">None</span>, <span style=\"color: #00af00; text-decoration-color: #00af00\">192</span>)       │          <span style=\"color: #00af00; text-decoration-color: #00af00\">0</span> │ batch_normalizat… │\n",
       "│ (<span style=\"color: #0087ff; text-decoration-color: #0087ff\">GlobalAveragePool…</span> │                   │            │                   │\n",
       "├─────────────────────┼───────────────────┼────────────┼───────────────────┤\n",
       "│ global_average_poo… │ (<span style=\"color: #00d7ff; text-decoration-color: #00d7ff\">None</span>, <span style=\"color: #00af00; text-decoration-color: #00af00\">192</span>)       │          <span style=\"color: #00af00; text-decoration-color: #00af00\">0</span> │ batch_normalizat… │\n",
       "│ (<span style=\"color: #0087ff; text-decoration-color: #0087ff\">GlobalAveragePool…</span> │                   │            │                   │\n",
       "├─────────────────────┼───────────────────┼────────────┼───────────────────┤\n",
       "│ output1 (<span style=\"color: #0087ff; text-decoration-color: #0087ff\">Dense</span>)     │ (<span style=\"color: #00d7ff; text-decoration-color: #00d7ff\">None</span>, <span style=\"color: #00af00; text-decoration-color: #00af00\">5</span>)         │        <span style=\"color: #00af00; text-decoration-color: #00af00\">965</span> │ global_average_p… │\n",
       "├─────────────────────┼───────────────────┼────────────┼───────────────────┤\n",
       "│ output2 (<span style=\"color: #0087ff; text-decoration-color: #0087ff\">Dense</span>)     │ (<span style=\"color: #00d7ff; text-decoration-color: #00d7ff\">None</span>, <span style=\"color: #00af00; text-decoration-color: #00af00\">5</span>)         │        <span style=\"color: #00af00; text-decoration-color: #00af00\">965</span> │ global_average_p… │\n",
       "└─────────────────────┴───────────────────┴────────────┴───────────────────┘\n",
       "</pre>\n"
      ],
      "text/plain": [
       "┏━━━━━━━━━━━━━━━━━━━━━┳━━━━━━━━━━━━━━━━━━━┳━━━━━━━━━━━━┳━━━━━━━━━━━━━━━━━━━┓\n",
       "┃\u001b[1m \u001b[0m\u001b[1mLayer (type)       \u001b[0m\u001b[1m \u001b[0m┃\u001b[1m \u001b[0m\u001b[1mOutput Shape     \u001b[0m\u001b[1m \u001b[0m┃\u001b[1m \u001b[0m\u001b[1m   Param #\u001b[0m\u001b[1m \u001b[0m┃\u001b[1m \u001b[0m\u001b[1mConnected to     \u001b[0m\u001b[1m \u001b[0m┃\n",
       "┡━━━━━━━━━━━━━━━━━━━━━╇━━━━━━━━━━━━━━━━━━━╇━━━━━━━━━━━━╇━━━━━━━━━━━━━━━━━━━┩\n",
       "│ keras_tensor_1CLONE │ (\u001b[38;5;45mNone\u001b[0m, \u001b[38;5;34m32\u001b[0m, \u001b[38;5;34m32\u001b[0m, \u001b[38;5;34m3\u001b[0m) │          \u001b[38;5;34m0\u001b[0m │ -                 │\n",
       "│ (\u001b[38;5;33mInputLayer\u001b[0m)        │                   │            │                   │\n",
       "├─────────────────────┼───────────────────┼────────────┼───────────────────┤\n",
       "│ conv2d (\u001b[38;5;33mConv2D\u001b[0m)     │ (\u001b[38;5;45mNone\u001b[0m, \u001b[38;5;34m30\u001b[0m, \u001b[38;5;34m30\u001b[0m,    │      \u001b[38;5;34m2,688\u001b[0m │ keras_tensor_1CL… │\n",
       "│                     │ \u001b[38;5;34m96\u001b[0m)               │            │                   │\n",
       "├─────────────────────┼───────────────────┼────────────┼───────────────────┤\n",
       "│ batch_normalization │ (\u001b[38;5;45mNone\u001b[0m, \u001b[38;5;34m30\u001b[0m, \u001b[38;5;34m30\u001b[0m,    │        \u001b[38;5;34m384\u001b[0m │ conv2d[\u001b[38;5;34m1\u001b[0m][\u001b[38;5;34m0\u001b[0m]      │\n",
       "│ (\u001b[38;5;33mBatchNormalizatio…\u001b[0m │ \u001b[38;5;34m96\u001b[0m)               │            │                   │\n",
       "├─────────────────────┼───────────────────┼────────────┼───────────────────┤\n",
       "│ conv2d_1 (\u001b[38;5;33mConv2D\u001b[0m)   │ (\u001b[38;5;45mNone\u001b[0m, \u001b[38;5;34m28\u001b[0m, \u001b[38;5;34m28\u001b[0m,    │     \u001b[38;5;34m83,040\u001b[0m │ batch_normalizat… │\n",
       "│                     │ \u001b[38;5;34m96\u001b[0m)               │            │                   │\n",
       "├─────────────────────┼───────────────────┼────────────┼───────────────────┤\n",
       "│ batch_normalizatio… │ (\u001b[38;5;45mNone\u001b[0m, \u001b[38;5;34m28\u001b[0m, \u001b[38;5;34m28\u001b[0m,    │        \u001b[38;5;34m384\u001b[0m │ conv2d_1[\u001b[38;5;34m1\u001b[0m][\u001b[38;5;34m0\u001b[0m]    │\n",
       "│ (\u001b[38;5;33mBatchNormalizatio…\u001b[0m │ \u001b[38;5;34m96\u001b[0m)               │            │                   │\n",
       "├─────────────────────┼───────────────────┼────────────┼───────────────────┤\n",
       "│ conv2d_2 (\u001b[38;5;33mConv2D\u001b[0m)   │ (\u001b[38;5;45mNone\u001b[0m, \u001b[38;5;34m13\u001b[0m, \u001b[38;5;34m13\u001b[0m,    │     \u001b[38;5;34m83,040\u001b[0m │ batch_normalizat… │\n",
       "│                     │ \u001b[38;5;34m96\u001b[0m)               │            │                   │\n",
       "├─────────────────────┼───────────────────┼────────────┼───────────────────┤\n",
       "│ batch_normalizatio… │ (\u001b[38;5;45mNone\u001b[0m, \u001b[38;5;34m13\u001b[0m, \u001b[38;5;34m13\u001b[0m,    │        \u001b[38;5;34m384\u001b[0m │ conv2d_2[\u001b[38;5;34m1\u001b[0m][\u001b[38;5;34m0\u001b[0m]    │\n",
       "│ (\u001b[38;5;33mBatchNormalizatio…\u001b[0m │ \u001b[38;5;34m96\u001b[0m)               │            │                   │\n",
       "├─────────────────────┼───────────────────┼────────────┼───────────────────┤\n",
       "│ conv2d_3 (\u001b[38;5;33mConv2D\u001b[0m)   │ (\u001b[38;5;45mNone\u001b[0m, \u001b[38;5;34m11\u001b[0m, \u001b[38;5;34m11\u001b[0m,    │    \u001b[38;5;34m166,080\u001b[0m │ batch_normalizat… │\n",
       "│                     │ \u001b[38;5;34m192\u001b[0m)              │            │                   │\n",
       "├─────────────────────┼───────────────────┼────────────┼───────────────────┤\n",
       "│ batch_normalizatio… │ (\u001b[38;5;45mNone\u001b[0m, \u001b[38;5;34m11\u001b[0m, \u001b[38;5;34m11\u001b[0m,    │        \u001b[38;5;34m768\u001b[0m │ conv2d_3[\u001b[38;5;34m1\u001b[0m][\u001b[38;5;34m0\u001b[0m]    │\n",
       "│ (\u001b[38;5;33mBatchNormalizatio…\u001b[0m │ \u001b[38;5;34m192\u001b[0m)              │            │                   │\n",
       "├─────────────────────┼───────────────────┼────────────┼───────────────────┤\n",
       "│ conv2d_4 (\u001b[38;5;33mConv2D\u001b[0m)   │ (\u001b[38;5;45mNone\u001b[0m, \u001b[38;5;34m9\u001b[0m, \u001b[38;5;34m9\u001b[0m, \u001b[38;5;34m192\u001b[0m) │    \u001b[38;5;34m331,968\u001b[0m │ batch_normalizat… │\n",
       "├─────────────────────┼───────────────────┼────────────┼───────────────────┤\n",
       "│ batch_normalizatio… │ (\u001b[38;5;45mNone\u001b[0m, \u001b[38;5;34m9\u001b[0m, \u001b[38;5;34m9\u001b[0m, \u001b[38;5;34m192\u001b[0m) │        \u001b[38;5;34m768\u001b[0m │ conv2d_4[\u001b[38;5;34m1\u001b[0m][\u001b[38;5;34m0\u001b[0m]    │\n",
       "│ (\u001b[38;5;33mBatchNormalizatio…\u001b[0m │                   │            │                   │\n",
       "├─────────────────────┼───────────────────┼────────────┼───────────────────┤\n",
       "│ conv2d_5 (\u001b[38;5;33mConv2D\u001b[0m)   │ (\u001b[38;5;45mNone\u001b[0m, \u001b[38;5;34m4\u001b[0m, \u001b[38;5;34m4\u001b[0m, \u001b[38;5;34m192\u001b[0m) │    \u001b[38;5;34m331,968\u001b[0m │ batch_normalizat… │\n",
       "├─────────────────────┼───────────────────┼────────────┼───────────────────┤\n",
       "│ conv2d_7 (\u001b[38;5;33mConv2D\u001b[0m)   │ (\u001b[38;5;45mNone\u001b[0m, \u001b[38;5;34m4\u001b[0m, \u001b[38;5;34m4\u001b[0m, \u001b[38;5;34m192\u001b[0m) │    \u001b[38;5;34m331,968\u001b[0m │ batch_normalizat… │\n",
       "├─────────────────────┼───────────────────┼────────────┼───────────────────┤\n",
       "│ batch_normalizatio… │ (\u001b[38;5;45mNone\u001b[0m, \u001b[38;5;34m4\u001b[0m, \u001b[38;5;34m4\u001b[0m, \u001b[38;5;34m192\u001b[0m) │        \u001b[38;5;34m768\u001b[0m │ conv2d_5[\u001b[38;5;34m1\u001b[0m][\u001b[38;5;34m0\u001b[0m]    │\n",
       "│ (\u001b[38;5;33mBatchNormalizatio…\u001b[0m │                   │            │                   │\n",
       "├─────────────────────┼───────────────────┼────────────┼───────────────────┤\n",
       "│ batch_normalizatio… │ (\u001b[38;5;45mNone\u001b[0m, \u001b[38;5;34m4\u001b[0m, \u001b[38;5;34m4\u001b[0m, \u001b[38;5;34m192\u001b[0m) │        \u001b[38;5;34m768\u001b[0m │ conv2d_7[\u001b[38;5;34m1\u001b[0m][\u001b[38;5;34m0\u001b[0m]    │\n",
       "│ (\u001b[38;5;33mBatchNormalizatio…\u001b[0m │                   │            │                   │\n",
       "├─────────────────────┼───────────────────┼────────────┼───────────────────┤\n",
       "│ conv2d_6 (\u001b[38;5;33mConv2D\u001b[0m)   │ (\u001b[38;5;45mNone\u001b[0m, \u001b[38;5;34m4\u001b[0m, \u001b[38;5;34m4\u001b[0m, \u001b[38;5;34m192\u001b[0m) │     \u001b[38;5;34m37,056\u001b[0m │ batch_normalizat… │\n",
       "├─────────────────────┼───────────────────┼────────────┼───────────────────┤\n",
       "│ conv2d_8 (\u001b[38;5;33mConv2D\u001b[0m)   │ (\u001b[38;5;45mNone\u001b[0m, \u001b[38;5;34m4\u001b[0m, \u001b[38;5;34m4\u001b[0m, \u001b[38;5;34m192\u001b[0m) │     \u001b[38;5;34m37,056\u001b[0m │ batch_normalizat… │\n",
       "├─────────────────────┼───────────────────┼────────────┼───────────────────┤\n",
       "│ batch_normalizatio… │ (\u001b[38;5;45mNone\u001b[0m, \u001b[38;5;34m4\u001b[0m, \u001b[38;5;34m4\u001b[0m, \u001b[38;5;34m192\u001b[0m) │        \u001b[38;5;34m768\u001b[0m │ conv2d_6[\u001b[38;5;34m1\u001b[0m][\u001b[38;5;34m0\u001b[0m]    │\n",
       "│ (\u001b[38;5;33mBatchNormalizatio…\u001b[0m │                   │            │                   │\n",
       "├─────────────────────┼───────────────────┼────────────┼───────────────────┤\n",
       "│ batch_normalizatio… │ (\u001b[38;5;45mNone\u001b[0m, \u001b[38;5;34m4\u001b[0m, \u001b[38;5;34m4\u001b[0m, \u001b[38;5;34m192\u001b[0m) │        \u001b[38;5;34m768\u001b[0m │ conv2d_8[\u001b[38;5;34m1\u001b[0m][\u001b[38;5;34m0\u001b[0m]    │\n",
       "│ (\u001b[38;5;33mBatchNormalizatio…\u001b[0m │                   │            │                   │\n",
       "├─────────────────────┼───────────────────┼────────────┼───────────────────┤\n",
       "│ global_average_poo… │ (\u001b[38;5;45mNone\u001b[0m, \u001b[38;5;34m192\u001b[0m)       │          \u001b[38;5;34m0\u001b[0m │ batch_normalizat… │\n",
       "│ (\u001b[38;5;33mGlobalAveragePool…\u001b[0m │                   │            │                   │\n",
       "├─────────────────────┼───────────────────┼────────────┼───────────────────┤\n",
       "│ global_average_poo… │ (\u001b[38;5;45mNone\u001b[0m, \u001b[38;5;34m192\u001b[0m)       │          \u001b[38;5;34m0\u001b[0m │ batch_normalizat… │\n",
       "│ (\u001b[38;5;33mGlobalAveragePool…\u001b[0m │                   │            │                   │\n",
       "├─────────────────────┼───────────────────┼────────────┼───────────────────┤\n",
       "│ output1 (\u001b[38;5;33mDense\u001b[0m)     │ (\u001b[38;5;45mNone\u001b[0m, \u001b[38;5;34m5\u001b[0m)         │        \u001b[38;5;34m965\u001b[0m │ global_average_p… │\n",
       "├─────────────────────┼───────────────────┼────────────┼───────────────────┤\n",
       "│ output2 (\u001b[38;5;33mDense\u001b[0m)     │ (\u001b[38;5;45mNone\u001b[0m, \u001b[38;5;34m5\u001b[0m)         │        \u001b[38;5;34m965\u001b[0m │ global_average_p… │\n",
       "└─────────────────────┴───────────────────┴────────────┴───────────────────┘\n"
      ]
     },
     "metadata": {},
     "output_type": "display_data"
    },
    {
     "data": {
      "text/html": [
       "<pre style=\"white-space:pre;overflow-x:auto;line-height:normal;font-family:Menlo,'DejaVu Sans Mono',consolas,'Courier New',monospace\"><span style=\"font-weight: bold\"> Total params: </span><span style=\"color: #00af00; text-decoration-color: #00af00\">1,412,554</span> (5.39 MB)\n",
       "</pre>\n"
      ],
      "text/plain": [
       "\u001b[1m Total params: \u001b[0m\u001b[38;5;34m1,412,554\u001b[0m (5.39 MB)\n"
      ]
     },
     "metadata": {},
     "output_type": "display_data"
    },
    {
     "data": {
      "text/html": [
       "<pre style=\"white-space:pre;overflow-x:auto;line-height:normal;font-family:Menlo,'DejaVu Sans Mono',consolas,'Courier New',monospace\"><span style=\"font-weight: bold\"> Trainable params: </span><span style=\"color: #00af00; text-decoration-color: #00af00\">1,409,674</span> (5.38 MB)\n",
       "</pre>\n"
      ],
      "text/plain": [
       "\u001b[1m Trainable params: \u001b[0m\u001b[38;5;34m1,409,674\u001b[0m (5.38 MB)\n"
      ]
     },
     "metadata": {},
     "output_type": "display_data"
    },
    {
     "data": {
      "text/html": [
       "<pre style=\"white-space:pre;overflow-x:auto;line-height:normal;font-family:Menlo,'DejaVu Sans Mono',consolas,'Courier New',monospace\"><span style=\"font-weight: bold\"> Non-trainable params: </span><span style=\"color: #00af00; text-decoration-color: #00af00\">2,880</span> (11.25 KB)\n",
       "</pre>\n"
      ],
      "text/plain": [
       "\u001b[1m Non-trainable params: \u001b[0m\u001b[38;5;34m2,880\u001b[0m (11.25 KB)\n"
      ]
     },
     "metadata": {},
     "output_type": "display_data"
    },
    {
     "name": "stdout",
     "output_type": "stream",
     "text": [
      "Epoch 1/250\n",
      "\u001b[1m703/703\u001b[0m \u001b[32m━━━━━━━━━━━━━━━━━━━━\u001b[0m\u001b[37m\u001b[0m \u001b[1m20s\u001b[0m 16ms/step - loss: 3.0740 - output1_accuracy: 0.3799 - output1_loss: 1.5243 - output2_accuracy: 0.4385 - output2_loss: 1.4133 - val_loss: 3.1164 - val_output1_accuracy: 0.3590 - val_output1_loss: 1.5732 - val_output2_accuracy: 0.4087 - val_output2_loss: 1.5015 - learning_rate: 0.0010\n",
      "Epoch 2/250\n",
      "\u001b[1m703/703\u001b[0m \u001b[32m━━━━━━━━━━━━━━━━━━━━\u001b[0m\u001b[37m\u001b[0m \u001b[1m9s\u001b[0m 12ms/step - loss: 2.4760 - output1_accuracy: 0.5226 - output1_loss: 1.3433 - output2_accuracy: 0.6347 - output2_loss: 1.1008 - val_loss: 2.5771 - val_output1_accuracy: 0.5162 - val_output1_loss: 1.3523 - val_output2_accuracy: 0.5647 - val_output2_loss: 1.2064 - learning_rate: 0.0010\n",
      "Epoch 3/250\n",
      "\u001b[1m703/703\u001b[0m \u001b[32m━━━━━━━━━━━━━━━━━━━━\u001b[0m\u001b[37m\u001b[0m \u001b[1m9s\u001b[0m 12ms/step - loss: 2.3311 - output1_accuracy: 0.5637 - output1_loss: 1.2911 - output2_accuracy: 0.6774 - output2_loss: 1.0228 - val_loss: 2.5407 - val_output1_accuracy: 0.5142 - val_output1_loss: 1.3686 - val_output2_accuracy: 0.5994 - val_output2_loss: 1.1563 - learning_rate: 0.0010\n",
      "Epoch 4/250\n",
      "\u001b[1m703/703\u001b[0m \u001b[32m━━━━━━━━━━━━━━━━━━━━\u001b[0m\u001b[37m\u001b[0m \u001b[1m9s\u001b[0m 13ms/step - loss: 2.2281 - output1_accuracy: 0.6011 - output1_loss: 1.2496 - output2_accuracy: 0.7135 - output2_loss: 0.9629 - val_loss: 2.5560 - val_output1_accuracy: 0.4914 - val_output1_loss: 1.4040 - val_output2_accuracy: 0.6210 - val_output2_loss: 1.1373 - learning_rate: 0.0010\n",
      "Epoch 5/250\n",
      "\u001b[1m703/703\u001b[0m \u001b[32m━━━━━━━━━━━━━━━━━━━━\u001b[0m\u001b[37m\u001b[0m \u001b[1m9s\u001b[0m 13ms/step - loss: 2.1689 - output1_accuracy: 0.6204 - output1_loss: 1.2219 - output2_accuracy: 0.7305 - output2_loss: 0.9322 - val_loss: 2.4938 - val_output1_accuracy: 0.4966 - val_output1_loss: 1.4147 - val_output2_accuracy: 0.6585 - val_output2_loss: 1.0641 - learning_rate: 0.0010\n",
      "Epoch 6/250\n",
      "\u001b[1m703/703\u001b[0m \u001b[32m━━━━━━━━━━━━━━━━━━━━\u001b[0m\u001b[37m\u001b[0m \u001b[1m10s\u001b[0m 14ms/step - loss: 2.1316 - output1_accuracy: 0.6360 - output1_loss: 1.2080 - output2_accuracy: 0.7446 - output2_loss: 0.9090 - val_loss: 2.4048 - val_output1_accuracy: 0.5669 - val_output1_loss: 1.2979 - val_output2_accuracy: 0.6558 - val_output2_loss: 1.0931 - learning_rate: 0.0010\n",
      "Epoch 7/250\n",
      "\u001b[1m703/703\u001b[0m \u001b[32m━━━━━━━━━━━━━━━━━━━━\u001b[0m\u001b[37m\u001b[0m \u001b[1m9s\u001b[0m 13ms/step - loss: 2.0922 - output1_accuracy: 0.6449 - output1_loss: 1.1916 - output2_accuracy: 0.7539 - output2_loss: 0.8865 - val_loss: 2.3116 - val_output1_accuracy: 0.6094 - val_output1_loss: 1.2353 - val_output2_accuracy: 0.6741 - val_output2_loss: 1.0629 - learning_rate: 0.0010\n",
      "Epoch 8/250\n",
      "\u001b[1m703/703\u001b[0m \u001b[32m━━━━━━━━━━━━━━━━━━━━\u001b[0m\u001b[37m\u001b[0m \u001b[1m9s\u001b[0m 13ms/step - loss: 2.0706 - output1_accuracy: 0.6589 - output1_loss: 1.1757 - output2_accuracy: 0.7580 - output2_loss: 0.8813 - val_loss: 2.3583 - val_output1_accuracy: 0.5605 - val_output1_loss: 1.3371 - val_output2_accuracy: 0.6955 - val_output2_loss: 1.0075 - learning_rate: 0.0010\n",
      "Epoch 9/250\n",
      "\u001b[1m703/703\u001b[0m \u001b[32m━━━━━━━━━━━━━━━━━━━━\u001b[0m\u001b[37m\u001b[0m \u001b[1m9s\u001b[0m 13ms/step - loss: 2.0374 - output1_accuracy: 0.6713 - output1_loss: 1.1623 - output2_accuracy: 0.7711 - output2_loss: 0.8618 - val_loss: 2.3545 - val_output1_accuracy: 0.5631 - val_output1_loss: 1.3092 - val_output2_accuracy: 0.6875 - val_output2_loss: 1.0316 - learning_rate: 0.0010\n",
      "Epoch 10/250\n",
      "\u001b[1m703/703\u001b[0m \u001b[32m━━━━━━━━━━━━━━━━━━━━\u001b[0m\u001b[37m\u001b[0m \u001b[1m9s\u001b[0m 13ms/step - loss: 2.0161 - output1_accuracy: 0.6800 - output1_loss: 1.1517 - output2_accuracy: 0.7737 - output2_loss: 0.8510 - val_loss: 2.1307 - val_output1_accuracy: 0.6464 - val_output1_loss: 1.2082 - val_output2_accuracy: 0.7418 - val_output2_loss: 0.9092 - learning_rate: 0.0010\n",
      "Epoch 11/250\n",
      "\u001b[1m703/703\u001b[0m \u001b[32m━━━━━━━━━━━━━━━━━━━━\u001b[0m\u001b[37m\u001b[0m \u001b[1m9s\u001b[0m 13ms/step - loss: 1.9971 - output1_accuracy: 0.6835 - output1_loss: 1.1457 - output2_accuracy: 0.7815 - output2_loss: 0.8387 - val_loss: 2.1802 - val_output1_accuracy: 0.6288 - val_output1_loss: 1.2362 - val_output2_accuracy: 0.7304 - val_output2_loss: 0.9315 - learning_rate: 0.0010\n",
      "Epoch 12/250\n",
      "\u001b[1m703/703\u001b[0m \u001b[32m━━━━━━━━━━━━━━━━━━━━\u001b[0m\u001b[37m\u001b[0m \u001b[1m9s\u001b[0m 13ms/step - loss: 1.9651 - output1_accuracy: 0.6961 - output1_loss: 1.1296 - output2_accuracy: 0.7914 - output2_loss: 0.8229 - val_loss: 2.2484 - val_output1_accuracy: 0.6036 - val_output1_loss: 1.2590 - val_output2_accuracy: 0.7194 - val_output2_loss: 0.9772 - learning_rate: 0.0010\n",
      "Epoch 13/250\n",
      "\u001b[1m703/703\u001b[0m \u001b[32m━━━━━━━━━━━━━━━━━━━━\u001b[0m\u001b[37m\u001b[0m \u001b[1m9s\u001b[0m 13ms/step - loss: 1.9574 - output1_accuracy: 0.6942 - output1_loss: 1.1276 - output2_accuracy: 0.7960 - output2_loss: 0.8174 - val_loss: 2.1938 - val_output1_accuracy: 0.5980 - val_output1_loss: 1.2538 - val_output2_accuracy: 0.7310 - val_output2_loss: 0.9275 - learning_rate: 0.0010\n",
      "Epoch 14/250\n",
      "\u001b[1m703/703\u001b[0m \u001b[32m━━━━━━━━━━━━━━━━━━━━\u001b[0m\u001b[37m\u001b[0m \u001b[1m9s\u001b[0m 13ms/step - loss: 1.9375 - output1_accuracy: 0.7087 - output1_loss: 1.1171 - output2_accuracy: 0.8019 - output2_loss: 0.8081 - val_loss: 2.2027 - val_output1_accuracy: 0.6204 - val_output1_loss: 1.2255 - val_output2_accuracy: 0.7198 - val_output2_loss: 0.9650 - learning_rate: 0.0010\n",
      "Epoch 15/250\n",
      "\u001b[1m702/703\u001b[0m \u001b[32m━━━━━━━━━━━━━━━━━━━\u001b[0m\u001b[37m━\u001b[0m \u001b[1m0s\u001b[0m 12ms/step - loss: 1.9219 - output1_accuracy: 0.7108 - output1_loss: 1.1113 - output2_accuracy: 0.8066 - output2_loss: 0.7985\n",
      "Epoch 15: ReduceLROnPlateau reducing learning rate to 0.00020000000949949026.\n",
      "\u001b[1m703/703\u001b[0m \u001b[32m━━━━━━━━━━━━━━━━━━━━\u001b[0m\u001b[37m\u001b[0m \u001b[1m9s\u001b[0m 13ms/step - loss: 1.9219 - output1_accuracy: 0.7108 - output1_loss: 1.1113 - output2_accuracy: 0.8066 - output2_loss: 0.7985 - val_loss: 2.2549 - val_output1_accuracy: 0.6380 - val_output1_loss: 1.1987 - val_output2_accuracy: 0.6819 - val_output2_loss: 1.0438 - learning_rate: 0.0010\n",
      "Epoch 16/250\n",
      "\u001b[1m703/703\u001b[0m \u001b[32m━━━━━━━━━━━━━━━━━━━━\u001b[0m\u001b[37m\u001b[0m \u001b[1m9s\u001b[0m 13ms/step - loss: 1.8677 - output1_accuracy: 0.7272 - output1_loss: 1.0901 - output2_accuracy: 0.8228 - output2_loss: 0.7653 - val_loss: 2.0187 - val_output1_accuracy: 0.6729 - val_output1_loss: 1.1500 - val_output2_accuracy: 0.7712 - val_output2_loss: 0.8566 - learning_rate: 2.0000e-04\n",
      "Epoch 17/250\n",
      "\u001b[1m703/703\u001b[0m \u001b[32m━━━━━━━━━━━━━━━━━━━━\u001b[0m\u001b[37m\u001b[0m \u001b[1m9s\u001b[0m 13ms/step - loss: 1.8348 - output1_accuracy: 0.7425 - output1_loss: 1.0706 - output2_accuracy: 0.8300 - output2_loss: 0.7519 - val_loss: 1.9664 - val_output1_accuracy: 0.6991 - val_output1_loss: 1.1329 - val_output2_accuracy: 0.7981 - val_output2_loss: 0.8212 - learning_rate: 2.0000e-04\n",
      "Epoch 18/250\n",
      "\u001b[1m703/703\u001b[0m \u001b[32m━━━━━━━━━━━━━━━━━━━━\u001b[0m\u001b[37m\u001b[0m \u001b[1m9s\u001b[0m 13ms/step - loss: 1.8288 - output1_accuracy: 0.7399 - output1_loss: 1.0730 - output2_accuracy: 0.8361 - output2_loss: 0.7436 - val_loss: 1.9936 - val_output1_accuracy: 0.6821 - val_output1_loss: 1.1399 - val_output2_accuracy: 0.7778 - val_output2_loss: 0.8414 - learning_rate: 2.0000e-04\n",
      "Epoch 19/250\n",
      "\u001b[1m703/703\u001b[0m \u001b[32m━━━━━━━━━━━━━━━━━━━━\u001b[0m\u001b[37m\u001b[0m \u001b[1m9s\u001b[0m 13ms/step - loss: 1.8259 - output1_accuracy: 0.7450 - output1_loss: 1.0673 - output2_accuracy: 0.8349 - output2_loss: 0.7463 - val_loss: 1.9607 - val_output1_accuracy: 0.6975 - val_output1_loss: 1.1330 - val_output2_accuracy: 0.7985 - val_output2_loss: 0.8152 - learning_rate: 2.0000e-04\n",
      "Epoch 20/250\n",
      "\u001b[1m703/703\u001b[0m \u001b[32m━━━━━━━━━━━━━━━━━━━━\u001b[0m\u001b[37m\u001b[0m \u001b[1m9s\u001b[0m 13ms/step - loss: 1.8098 - output1_accuracy: 0.7474 - output1_loss: 1.0628 - output2_accuracy: 0.8425 - output2_loss: 0.7346 - val_loss: 2.0204 - val_output1_accuracy: 0.6795 - val_output1_loss: 1.1497 - val_output2_accuracy: 0.7680 - val_output2_loss: 0.8584 - learning_rate: 2.0000e-04\n",
      "Epoch 21/250\n",
      "\u001b[1m703/703\u001b[0m \u001b[32m━━━━━━━━━━━━━━━━━━━━\u001b[0m\u001b[37m\u001b[0m \u001b[1m9s\u001b[0m 13ms/step - loss: 1.8021 - output1_accuracy: 0.7497 - output1_loss: 1.0589 - output2_accuracy: 0.8464 - output2_loss: 0.7310 - val_loss: 1.9694 - val_output1_accuracy: 0.6883 - val_output1_loss: 1.1368 - val_output2_accuracy: 0.7887 - val_output2_loss: 0.8204 - learning_rate: 2.0000e-04\n",
      "Epoch 22/250\n",
      "\u001b[1m703/703\u001b[0m \u001b[32m━━━━━━━━━━━━━━━━━━━━\u001b[0m\u001b[37m\u001b[0m \u001b[1m9s\u001b[0m 13ms/step - loss: 1.7968 - output1_accuracy: 0.7522 - output1_loss: 1.0588 - output2_accuracy: 0.8437 - output2_loss: 0.7258 - val_loss: 1.9488 - val_output1_accuracy: 0.7037 - val_output1_loss: 1.1329 - val_output2_accuracy: 0.8083 - val_output2_loss: 0.8038 - learning_rate: 2.0000e-04\n",
      "Epoch 23/250\n",
      "\u001b[1m703/703\u001b[0m \u001b[32m━━━━━━━━━━━━━━━━━━━━\u001b[0m\u001b[37m\u001b[0m \u001b[1m9s\u001b[0m 13ms/step - loss: 1.7879 - output1_accuracy: 0.7569 - output1_loss: 1.0506 - output2_accuracy: 0.8482 - output2_loss: 0.7252 - val_loss: 1.9470 - val_output1_accuracy: 0.6931 - val_output1_loss: 1.1389 - val_output2_accuracy: 0.8125 - val_output2_loss: 0.7960 - learning_rate: 2.0000e-04\n",
      "Epoch 24/250\n",
      "\u001b[1m703/703\u001b[0m \u001b[32m━━━━━━━━━━━━━━━━━━━━\u001b[0m\u001b[37m\u001b[0m \u001b[1m10s\u001b[0m 14ms/step - loss: 1.7856 - output1_accuracy: 0.7626 - output1_loss: 1.0475 - output2_accuracy: 0.8470 - output2_loss: 0.7260 - val_loss: 1.9623 - val_output1_accuracy: 0.6905 - val_output1_loss: 1.1383 - val_output2_accuracy: 0.7933 - val_output2_loss: 0.8119 - learning_rate: 2.0000e-04\n",
      "Epoch 25/250\n",
      "\u001b[1m703/703\u001b[0m \u001b[32m━━━━━━━━━━━━━━━━━━━━\u001b[0m\u001b[37m\u001b[0m \u001b[1m9s\u001b[0m 13ms/step - loss: 1.7826 - output1_accuracy: 0.7578 - output1_loss: 1.0477 - output2_accuracy: 0.8478 - output2_loss: 0.7227 - val_loss: 1.9640 - val_output1_accuracy: 0.6913 - val_output1_loss: 1.1337 - val_output2_accuracy: 0.7969 - val_output2_loss: 0.8182 - learning_rate: 2.0000e-04\n",
      "Epoch 26/250\n",
      "\u001b[1m703/703\u001b[0m \u001b[32m━━━━━━━━━━━━━━━━━━━━\u001b[0m\u001b[37m\u001b[0m \u001b[1m9s\u001b[0m 13ms/step - loss: 1.7752 - output1_accuracy: 0.7571 - output1_loss: 1.0488 - output2_accuracy: 0.8540 - output2_loss: 0.7144 - val_loss: 1.9411 - val_output1_accuracy: 0.7015 - val_output1_loss: 1.1224 - val_output2_accuracy: 0.8015 - val_output2_loss: 0.8067 - learning_rate: 2.0000e-04\n",
      "Epoch 27/250\n",
      "\u001b[1m703/703\u001b[0m \u001b[32m━━━━━━━━━━━━━━━━━━━━\u001b[0m\u001b[37m\u001b[0m \u001b[1m9s\u001b[0m 13ms/step - loss: 1.7677 - output1_accuracy: 0.7614 - output1_loss: 1.0418 - output2_accuracy: 0.8543 - output2_loss: 0.7138 - val_loss: 1.9642 - val_output1_accuracy: 0.6853 - val_output1_loss: 1.1392 - val_output2_accuracy: 0.7977 - val_output2_loss: 0.8130 - learning_rate: 2.0000e-04\n",
      "Epoch 28/250\n",
      "\u001b[1m703/703\u001b[0m \u001b[32m━━━━━━━━━━━━━━━━━━━━\u001b[0m\u001b[37m\u001b[0m \u001b[1m10s\u001b[0m 14ms/step - loss: 1.7679 - output1_accuracy: 0.7659 - output1_loss: 1.0392 - output2_accuracy: 0.8524 - output2_loss: 0.7166 - val_loss: 1.9629 - val_output1_accuracy: 0.6969 - val_output1_loss: 1.1332 - val_output2_accuracy: 0.7971 - val_output2_loss: 0.8176 - learning_rate: 2.0000e-04\n",
      "Epoch 29/250\n",
      "\u001b[1m703/703\u001b[0m \u001b[32m━━━━━━━━━━━━━━━━━━━━\u001b[0m\u001b[37m\u001b[0m \u001b[1m9s\u001b[0m 13ms/step - loss: 1.7672 - output1_accuracy: 0.7633 - output1_loss: 1.0409 - output2_accuracy: 0.8535 - output2_loss: 0.7143 - val_loss: 1.9742 - val_output1_accuracy: 0.6821 - val_output1_loss: 1.1499 - val_output2_accuracy: 0.7981 - val_output2_loss: 0.8125 - learning_rate: 2.0000e-04\n",
      "Epoch 30/250\n",
      "\u001b[1m703/703\u001b[0m \u001b[32m━━━━━━━━━━━━━━━━━━━━\u001b[0m\u001b[37m\u001b[0m \u001b[1m9s\u001b[0m 13ms/step - loss: 1.7617 - output1_accuracy: 0.7639 - output1_loss: 1.0394 - output2_accuracy: 0.8535 - output2_loss: 0.7105 - val_loss: 1.9881 - val_output1_accuracy: 0.6805 - val_output1_loss: 1.1548 - val_output2_accuracy: 0.7977 - val_output2_loss: 0.8215 - learning_rate: 2.0000e-04\n",
      "Epoch 31/250\n",
      "\u001b[1m701/703\u001b[0m \u001b[32m━━━━━━━━━━━━━━━━━━━\u001b[0m\u001b[37m━\u001b[0m \u001b[1m0s\u001b[0m 12ms/step - loss: 1.7525 - output1_accuracy: 0.7693 - output1_loss: 1.0369 - output2_accuracy: 0.8601 - output2_loss: 0.7039\n",
      "Epoch 31: ReduceLROnPlateau reducing learning rate to 4.0000001899898055e-05.\n",
      "\u001b[1m703/703\u001b[0m \u001b[32m━━━━━━━━━━━━━━━━━━━━\u001b[0m\u001b[37m\u001b[0m \u001b[1m9s\u001b[0m 13ms/step - loss: 1.7525 - output1_accuracy: 0.7693 - output1_loss: 1.0369 - output2_accuracy: 0.8601 - output2_loss: 0.7039 - val_loss: 1.9436 - val_output1_accuracy: 0.6991 - val_output1_loss: 1.1202 - val_output2_accuracy: 0.7993 - val_output2_loss: 0.8117 - learning_rate: 2.0000e-04\n",
      "Epoch 32/250\n",
      "\u001b[1m703/703\u001b[0m \u001b[32m━━━━━━━━━━━━━━━━━━━━\u001b[0m\u001b[37m\u001b[0m \u001b[1m9s\u001b[0m 13ms/step - loss: 1.7502 - output1_accuracy: 0.7682 - output1_loss: 1.0365 - output2_accuracy: 0.8608 - output2_loss: 0.7019 - val_loss: 1.9372 - val_output1_accuracy: 0.7023 - val_output1_loss: 1.1209 - val_output2_accuracy: 0.8011 - val_output2_loss: 0.8045 - learning_rate: 4.0000e-05\n",
      "Epoch 33/250\n",
      "\u001b[1m703/703\u001b[0m \u001b[32m━━━━━━━━━━━━━━━━━━━━\u001b[0m\u001b[37m\u001b[0m \u001b[1m10s\u001b[0m 14ms/step - loss: 1.7370 - output1_accuracy: 0.7742 - output1_loss: 1.0268 - output2_accuracy: 0.8638 - output2_loss: 0.6983 - val_loss: 1.9426 - val_output1_accuracy: 0.6993 - val_output1_loss: 1.1227 - val_output2_accuracy: 0.8039 - val_output2_loss: 0.8080 - learning_rate: 4.0000e-05\n",
      "Epoch 34/250\n",
      "\u001b[1m703/703\u001b[0m \u001b[32m━━━━━━━━━━━━━━━━━━━━\u001b[0m\u001b[37m\u001b[0m \u001b[1m9s\u001b[0m 13ms/step - loss: 1.7369 - output1_accuracy: 0.7740 - output1_loss: 1.0291 - output2_accuracy: 0.8675 - output2_loss: 0.6959 - val_loss: 1.9327 - val_output1_accuracy: 0.7091 - val_output1_loss: 1.1187 - val_output2_accuracy: 0.8009 - val_output2_loss: 0.8022 - learning_rate: 4.0000e-05\n",
      "Epoch 35/250\n",
      "\u001b[1m703/703\u001b[0m \u001b[32m━━━━━━━━━━━━━━━━━━━━\u001b[0m\u001b[37m\u001b[0m \u001b[1m10s\u001b[0m 14ms/step - loss: 1.7334 - output1_accuracy: 0.7767 - output1_loss: 1.0243 - output2_accuracy: 0.8638 - output2_loss: 0.6973 - val_loss: 1.9253 - val_output1_accuracy: 0.7101 - val_output1_loss: 1.1141 - val_output2_accuracy: 0.8061 - val_output2_loss: 0.7993 - learning_rate: 4.0000e-05\n",
      "Epoch 36/250\n",
      "\u001b[1m703/703\u001b[0m \u001b[32m━━━━━━━━━━━━━━━━━━━━\u001b[0m\u001b[37m\u001b[0m \u001b[1m9s\u001b[0m 13ms/step - loss: 1.7291 - output1_accuracy: 0.7779 - output1_loss: 1.0242 - output2_accuracy: 0.8658 - output2_loss: 0.6930 - val_loss: 1.9301 - val_output1_accuracy: 0.6951 - val_output1_loss: 1.1341 - val_output2_accuracy: 0.8137 - val_output2_loss: 0.7840 - learning_rate: 4.0000e-05\n",
      "Epoch 37/250\n",
      "\u001b[1m703/703\u001b[0m \u001b[32m━━━━━━━━━━━━━━━━━━━━\u001b[0m\u001b[37m\u001b[0m \u001b[1m9s\u001b[0m 13ms/step - loss: 1.7347 - output1_accuracy: 0.7747 - output1_loss: 1.0310 - output2_accuracy: 0.8664 - output2_loss: 0.6918 - val_loss: 1.9414 - val_output1_accuracy: 0.6957 - val_output1_loss: 1.1323 - val_output2_accuracy: 0.8027 - val_output2_loss: 0.7972 - learning_rate: 4.0000e-05\n",
      "Epoch 38/250\n",
      "\u001b[1m703/703\u001b[0m \u001b[32m━━━━━━━━━━━━━━━━━━━━\u001b[0m\u001b[37m\u001b[0m \u001b[1m9s\u001b[0m 14ms/step - loss: 1.7349 - output1_accuracy: 0.7744 - output1_loss: 1.0263 - output2_accuracy: 0.8649 - output2_loss: 0.6966 - val_loss: 1.9264 - val_output1_accuracy: 0.6995 - val_output1_loss: 1.1244 - val_output2_accuracy: 0.8109 - val_output2_loss: 0.7902 - learning_rate: 4.0000e-05\n",
      "Epoch 39/250\n",
      "\u001b[1m703/703\u001b[0m \u001b[32m━━━━━━━━━━━━━━━━━━━━\u001b[0m\u001b[37m\u001b[0m \u001b[1m9s\u001b[0m 13ms/step - loss: 1.7356 - output1_accuracy: 0.7747 - output1_loss: 1.0258 - output2_accuracy: 0.8643 - output2_loss: 0.6979 - val_loss: 1.9260 - val_output1_accuracy: 0.7005 - val_output1_loss: 1.1145 - val_output2_accuracy: 0.8081 - val_output2_loss: 0.7996 - learning_rate: 4.0000e-05\n",
      "Epoch 40/250\n",
      "\u001b[1m702/703\u001b[0m \u001b[32m━━━━━━━━━━━━━━━━━━━\u001b[0m\u001b[37m━\u001b[0m \u001b[1m0s\u001b[0m 13ms/step - loss: 1.7244 - output1_accuracy: 0.7779 - output1_loss: 1.0248 - output2_accuracy: 0.8692 - output2_loss: 0.6877\n",
      "Epoch 40: ReduceLROnPlateau reducing learning rate to 8.000000525498762e-06.\n",
      "\u001b[1m703/703\u001b[0m \u001b[32m━━━━━━━━━━━━━━━━━━━━\u001b[0m\u001b[37m\u001b[0m \u001b[1m10s\u001b[0m 14ms/step - loss: 1.7244 - output1_accuracy: 0.7779 - output1_loss: 1.0248 - output2_accuracy: 0.8692 - output2_loss: 0.6877 - val_loss: 1.9467 - val_output1_accuracy: 0.6947 - val_output1_loss: 1.1282 - val_output2_accuracy: 0.8007 - val_output2_loss: 0.8066 - learning_rate: 4.0000e-05\n",
      "Epoch 41/250\n",
      "\u001b[1m703/703\u001b[0m \u001b[32m━━━━━━━━━━━━━━━━━━━━\u001b[0m\u001b[37m\u001b[0m \u001b[1m10s\u001b[0m 15ms/step - loss: 1.7191 - output1_accuracy: 0.7806 - output1_loss: 1.0207 - output2_accuracy: 0.8703 - output2_loss: 0.6865 - val_loss: 1.9421 - val_output1_accuracy: 0.7063 - val_output1_loss: 1.1156 - val_output2_accuracy: 0.7939 - val_output2_loss: 0.8146 - learning_rate: 8.0000e-06\n",
      "Epoch 42/250\n",
      "\u001b[1m703/703\u001b[0m \u001b[32m━━━━━━━━━━━━━━━━━━━━\u001b[0m\u001b[37m\u001b[0m \u001b[1m11s\u001b[0m 16ms/step - loss: 1.7188 - output1_accuracy: 0.7853 - output1_loss: 1.0203 - output2_accuracy: 0.8705 - output2_loss: 0.6866 - val_loss: 1.9283 - val_output1_accuracy: 0.6973 - val_output1_loss: 1.1215 - val_output2_accuracy: 0.8059 - val_output2_loss: 0.7948 - learning_rate: 8.0000e-06\n",
      "Epoch 43/250\n",
      "\u001b[1m703/703\u001b[0m \u001b[32m━━━━━━━━━━━━━━━━━━━━\u001b[0m\u001b[37m\u001b[0m \u001b[1m11s\u001b[0m 16ms/step - loss: 1.7263 - output1_accuracy: 0.7800 - output1_loss: 1.0197 - output2_accuracy: 0.8630 - output2_loss: 0.6946 - val_loss: 1.9335 - val_output1_accuracy: 0.7055 - val_output1_loss: 1.1216 - val_output2_accuracy: 0.8069 - val_output2_loss: 0.7999 - learning_rate: 8.0000e-06\n",
      "Epoch 44/250\n",
      "\u001b[1m703/703\u001b[0m \u001b[32m━━━━━━━━━━━━━━━━━━━━\u001b[0m\u001b[37m\u001b[0m \u001b[1m10s\u001b[0m 14ms/step - loss: 1.7256 - output1_accuracy: 0.7776 - output1_loss: 1.0260 - output2_accuracy: 0.8698 - output2_loss: 0.6876 - val_loss: 1.9203 - val_output1_accuracy: 0.7045 - val_output1_loss: 1.1172 - val_output2_accuracy: 0.8093 - val_output2_loss: 0.7912 - learning_rate: 8.0000e-06\n",
      "Epoch 45/250\n",
      "\u001b[1m703/703\u001b[0m \u001b[32m━━━━━━━━━━━━━━━━━━━━\u001b[0m\u001b[37m\u001b[0m \u001b[1m10s\u001b[0m 14ms/step - loss: 1.7285 - output1_accuracy: 0.7753 - output1_loss: 1.0270 - output2_accuracy: 0.8662 - output2_loss: 0.6896 - val_loss: 1.9321 - val_output1_accuracy: 0.7143 - val_output1_loss: 1.1118 - val_output2_accuracy: 0.7997 - val_output2_loss: 0.8084 - learning_rate: 8.0000e-06\n",
      "Epoch 46/250\n",
      "\u001b[1m703/703\u001b[0m \u001b[32m━━━━━━━━━━━━━━━━━━━━\u001b[0m\u001b[37m\u001b[0m \u001b[1m9s\u001b[0m 13ms/step - loss: 1.7179 - output1_accuracy: 0.7830 - output1_loss: 1.0189 - output2_accuracy: 0.8668 - output2_loss: 0.6871 - val_loss: 1.9596 - val_output1_accuracy: 0.6959 - val_output1_loss: 1.1309 - val_output2_accuracy: 0.7921 - val_output2_loss: 0.8168 - learning_rate: 8.0000e-06\n",
      "Epoch 47/250\n",
      "\u001b[1m703/703\u001b[0m \u001b[32m━━━━━━━━━━━━━━━━━━━━\u001b[0m\u001b[37m\u001b[0m \u001b[1m9s\u001b[0m 13ms/step - loss: 1.7282 - output1_accuracy: 0.7772 - output1_loss: 1.0274 - output2_accuracy: 0.8688 - output2_loss: 0.6889 - val_loss: 1.9205 - val_output1_accuracy: 0.7113 - val_output1_loss: 1.1053 - val_output2_accuracy: 0.8049 - val_output2_loss: 0.8033 - learning_rate: 8.0000e-06\n",
      "Epoch 48/250\n",
      "\u001b[1m703/703\u001b[0m \u001b[32m━━━━━━━━━━━━━━━━━━━━\u001b[0m\u001b[37m\u001b[0m \u001b[1m10s\u001b[0m 14ms/step - loss: 1.7205 - output1_accuracy: 0.7806 - output1_loss: 1.0205 - output2_accuracy: 0.8680 - output2_loss: 0.6881 - val_loss: 1.9257 - val_output1_accuracy: 0.6963 - val_output1_loss: 1.1184 - val_output2_accuracy: 0.8023 - val_output2_loss: 0.7954 - learning_rate: 8.0000e-06\n",
      "Epoch 49/250\n",
      "\u001b[1m702/703\u001b[0m \u001b[32m━━━━━━━━━━━━━━━━━━━\u001b[0m\u001b[37m━\u001b[0m \u001b[1m0s\u001b[0m 13ms/step - loss: 1.7312 - output1_accuracy: 0.7766 - output1_loss: 1.0289 - output2_accuracy: 0.8683 - output2_loss: 0.6904\n",
      "Epoch 49: ReduceLROnPlateau reducing learning rate to 1.6000001778593287e-06.\n",
      "\u001b[1m703/703\u001b[0m \u001b[32m━━━━━━━━━━━━━━━━━━━━\u001b[0m\u001b[37m\u001b[0m \u001b[1m10s\u001b[0m 14ms/step - loss: 1.7312 - output1_accuracy: 0.7766 - output1_loss: 1.0289 - output2_accuracy: 0.8683 - output2_loss: 0.6904 - val_loss: 1.9468 - val_output1_accuracy: 0.6963 - val_output1_loss: 1.1333 - val_output2_accuracy: 0.8033 - val_output2_loss: 0.8015 - learning_rate: 8.0000e-06\n",
      "Epoch 50/250\n",
      "\u001b[1m703/703\u001b[0m \u001b[32m━━━━━━━━━━━━━━━━━━━━\u001b[0m\u001b[37m\u001b[0m \u001b[1m10s\u001b[0m 14ms/step - loss: 1.7191 - output1_accuracy: 0.7781 - output1_loss: 1.0201 - output2_accuracy: 0.8695 - output2_loss: 0.6871 - val_loss: 1.9486 - val_output1_accuracy: 0.6939 - val_output1_loss: 1.1270 - val_output2_accuracy: 0.8009 - val_output2_loss: 0.8097 - learning_rate: 1.6000e-06\n",
      "Epoch 51/250\n",
      "\u001b[1m703/703\u001b[0m \u001b[32m━━━━━━━━━━━━━━━━━━━━\u001b[0m\u001b[37m\u001b[0m \u001b[1m10s\u001b[0m 14ms/step - loss: 1.7166 - output1_accuracy: 0.7836 - output1_loss: 1.0179 - output2_accuracy: 0.8715 - output2_loss: 0.6867 - val_loss: 1.9216 - val_output1_accuracy: 0.7021 - val_output1_loss: 1.1182 - val_output2_accuracy: 0.8107 - val_output2_loss: 0.7915 - learning_rate: 1.6000e-06\n",
      "Epoch 52/250\n",
      "\u001b[1m703/703\u001b[0m \u001b[32m━━━━━━━━━━━━━━━━━━━━\u001b[0m\u001b[37m\u001b[0m \u001b[1m9s\u001b[0m 13ms/step - loss: 1.7275 - output1_accuracy: 0.7776 - output1_loss: 1.0251 - output2_accuracy: 0.8678 - output2_loss: 0.6905 - val_loss: 1.9348 - val_output1_accuracy: 0.7113 - val_output1_loss: 1.1193 - val_output2_accuracy: 0.8043 - val_output2_loss: 0.8036 - learning_rate: 1.6000e-06\n",
      "Epoch 53/250\n",
      "\u001b[1m703/703\u001b[0m \u001b[32m━━━━━━━━━━━━━━━━━━━━\u001b[0m\u001b[37m\u001b[0m \u001b[1m10s\u001b[0m 14ms/step - loss: 1.7220 - output1_accuracy: 0.7776 - output1_loss: 1.0248 - output2_accuracy: 0.8713 - output2_loss: 0.6852 - val_loss: 1.9203 - val_output1_accuracy: 0.7125 - val_output1_loss: 1.1103 - val_output2_accuracy: 0.8087 - val_output2_loss: 0.7981 - learning_rate: 1.6000e-06\n",
      "Epoch 54/250\n",
      "\u001b[1m701/703\u001b[0m \u001b[32m━━━━━━━━━━━━━━━━━━━\u001b[0m\u001b[37m━\u001b[0m \u001b[1m0s\u001b[0m 13ms/step - loss: 1.7184 - output1_accuracy: 0.7819 - output1_loss: 1.0179 - output2_accuracy: 0.8699 - output2_loss: 0.6886\n",
      "Epoch 54: ReduceLROnPlateau reducing learning rate to 3.200000264769187e-07.\n",
      "\u001b[1m703/703\u001b[0m \u001b[32m━━━━━━━━━━━━━━━━━━━━\u001b[0m\u001b[37m\u001b[0m \u001b[1m10s\u001b[0m 14ms/step - loss: 1.7184 - output1_accuracy: 0.7819 - output1_loss: 1.0179 - output2_accuracy: 0.8699 - output2_loss: 0.6886 - val_loss: 1.9273 - val_output1_accuracy: 0.7021 - val_output1_loss: 1.1185 - val_output2_accuracy: 0.8019 - val_output2_loss: 0.7969 - learning_rate: 1.6000e-06\n",
      "Epoch 55/250\n",
      "\u001b[1m703/703\u001b[0m \u001b[32m━━━━━━━━━━━━━━━━━━━━\u001b[0m\u001b[37m\u001b[0m \u001b[1m10s\u001b[0m 14ms/step - loss: 1.7188 - output1_accuracy: 0.7806 - output1_loss: 1.0208 - output2_accuracy: 0.8720 - output2_loss: 0.6860 - val_loss: 1.9273 - val_output1_accuracy: 0.7077 - val_output1_loss: 1.1187 - val_output2_accuracy: 0.8093 - val_output2_loss: 0.7966 - learning_rate: 3.2000e-07\n",
      "Epoch 56/250\n",
      "\u001b[1m703/703\u001b[0m \u001b[32m━━━━━━━━━━━━━━━━━━━━\u001b[0m\u001b[37m\u001b[0m \u001b[1m9s\u001b[0m 13ms/step - loss: 1.7178 - output1_accuracy: 0.7814 - output1_loss: 1.0215 - output2_accuracy: 0.8684 - output2_loss: 0.6844 - val_loss: 1.9337 - val_output1_accuracy: 0.7041 - val_output1_loss: 1.1200 - val_output2_accuracy: 0.8063 - val_output2_loss: 0.8018 - learning_rate: 3.2000e-07\n",
      "Epoch 57/250\n",
      "\u001b[1m703/703\u001b[0m \u001b[32m━━━━━━━━━━━━━━━━━━━━\u001b[0m\u001b[37m\u001b[0m \u001b[1m10s\u001b[0m 14ms/step - loss: 1.7163 - output1_accuracy: 0.7825 - output1_loss: 1.0210 - output2_accuracy: 0.8723 - output2_loss: 0.6834 - val_loss: 1.9517 - val_output1_accuracy: 0.6879 - val_output1_loss: 1.1332 - val_output2_accuracy: 0.8027 - val_output2_loss: 0.8066 - learning_rate: 3.2000e-07\n",
      "Epoch 58/250\n",
      "\u001b[1m703/703\u001b[0m \u001b[32m━━━━━━━━━━━━━━━━━━━━\u001b[0m\u001b[37m\u001b[0m \u001b[1m9s\u001b[0m 13ms/step - loss: 1.7219 - output1_accuracy: 0.7769 - output1_loss: 1.0249 - output2_accuracy: 0.8703 - output2_loss: 0.6850 - val_loss: 1.9370 - val_output1_accuracy: 0.7085 - val_output1_loss: 1.1150 - val_output2_accuracy: 0.8083 - val_output2_loss: 0.8100 - learning_rate: 3.2000e-07\n",
      "Epoch 59/250\n",
      "\u001b[1m700/703\u001b[0m \u001b[32m━━━━━━━━━━━━━━━━━━━\u001b[0m\u001b[37m━\u001b[0m \u001b[1m0s\u001b[0m 13ms/step - loss: 1.7238 - output1_accuracy: 0.7809 - output1_loss: 1.0220 - output2_accuracy: 0.8680 - output2_loss: 0.6899\n",
      "Epoch 59: ReduceLROnPlateau reducing learning rate to 6.400000529538374e-08.\n",
      "\u001b[1m703/703\u001b[0m \u001b[32m━━━━━━━━━━━━━━━━━━━━\u001b[0m\u001b[37m\u001b[0m \u001b[1m9s\u001b[0m 13ms/step - loss: 1.7238 - output1_accuracy: 0.7809 - output1_loss: 1.0220 - output2_accuracy: 0.8680 - output2_loss: 0.6899 - val_loss: 1.9542 - val_output1_accuracy: 0.6907 - val_output1_loss: 1.1316 - val_output2_accuracy: 0.8031 - val_output2_loss: 0.8107 - learning_rate: 3.2000e-07\n",
      "Epoch 60/250\n",
      "\u001b[1m703/703\u001b[0m \u001b[32m━━━━━━━━━━━━━━━━━━━━\u001b[0m\u001b[37m\u001b[0m \u001b[1m10s\u001b[0m 14ms/step - loss: 1.7246 - output1_accuracy: 0.7783 - output1_loss: 1.0219 - output2_accuracy: 0.8646 - output2_loss: 0.6907 - val_loss: 1.9376 - val_output1_accuracy: 0.7069 - val_output1_loss: 1.1201 - val_output2_accuracy: 0.8005 - val_output2_loss: 0.8056 - learning_rate: 6.4000e-08\n",
      "Epoch 61/250\n",
      "\u001b[1m703/703\u001b[0m \u001b[32m━━━━━━━━━━━━━━━━━━━━\u001b[0m\u001b[37m\u001b[0m \u001b[1m10s\u001b[0m 14ms/step - loss: 1.7228 - output1_accuracy: 0.7785 - output1_loss: 1.0247 - output2_accuracy: 0.8695 - output2_loss: 0.6862 - val_loss: 1.9416 - val_output1_accuracy: 0.7015 - val_output1_loss: 1.1281 - val_output2_accuracy: 0.8043 - val_output2_loss: 0.8016 - learning_rate: 6.4000e-08\n",
      "Epoch 62/250\n",
      "\u001b[1m703/703\u001b[0m \u001b[32m━━━━━━━━━━━━━━━━━━━━\u001b[0m\u001b[37m\u001b[0m \u001b[1m10s\u001b[0m 14ms/step - loss: 1.7217 - output1_accuracy: 0.7794 - output1_loss: 1.0208 - output2_accuracy: 0.8669 - output2_loss: 0.6890 - val_loss: 1.9286 - val_output1_accuracy: 0.7061 - val_output1_loss: 1.1207 - val_output2_accuracy: 0.8079 - val_output2_loss: 0.7959 - learning_rate: 6.4000e-08\n",
      "Epoch 63/250\n",
      "\u001b[1m703/703\u001b[0m \u001b[32m━━━━━━━━━━━━━━━━━━━━\u001b[0m\u001b[37m\u001b[0m \u001b[1m10s\u001b[0m 15ms/step - loss: 1.7201 - output1_accuracy: 0.7789 - output1_loss: 1.0215 - output2_accuracy: 0.8685 - output2_loss: 0.6866 - val_loss: 1.9296 - val_output1_accuracy: 0.6989 - val_output1_loss: 1.1226 - val_output2_accuracy: 0.8077 - val_output2_loss: 0.7950 - learning_rate: 6.4000e-08\n",
      "Epoch 64/250\n",
      "\u001b[1m701/703\u001b[0m \u001b[32m━━━━━━━━━━━━━━━━━━━\u001b[0m\u001b[37m━\u001b[0m \u001b[1m0s\u001b[0m 13ms/step - loss: 1.7168 - output1_accuracy: 0.7840 - output1_loss: 1.0178 - output2_accuracy: 0.8689 - output2_loss: 0.6870\n",
      "Epoch 64: ReduceLROnPlateau reducing learning rate to 1.2800001059076749e-08.\n",
      "\u001b[1m703/703\u001b[0m \u001b[32m━━━━━━━━━━━━━━━━━━━━\u001b[0m\u001b[37m\u001b[0m \u001b[1m10s\u001b[0m 14ms/step - loss: 1.7168 - output1_accuracy: 0.7840 - output1_loss: 1.0178 - output2_accuracy: 0.8689 - output2_loss: 0.6870 - val_loss: 1.9338 - val_output1_accuracy: 0.7033 - val_output1_loss: 1.1210 - val_output2_accuracy: 0.8021 - val_output2_loss: 0.8009 - learning_rate: 6.4000e-08\n",
      "Epoch 65/250\n",
      "\u001b[1m703/703\u001b[0m \u001b[32m━━━━━━━━━━━━━━━━━━━━\u001b[0m\u001b[37m\u001b[0m \u001b[1m10s\u001b[0m 14ms/step - loss: 1.7192 - output1_accuracy: 0.7831 - output1_loss: 1.0184 - output2_accuracy: 0.8680 - output2_loss: 0.6889 - val_loss: 1.9377 - val_output1_accuracy: 0.6955 - val_output1_loss: 1.1294 - val_output2_accuracy: 0.8127 - val_output2_loss: 0.7963 - learning_rate: 1.2800e-08\n",
      "Epoch 66/250\n",
      "\u001b[1m703/703\u001b[0m \u001b[32m━━━━━━━━━━━━━━━━━━━━\u001b[0m\u001b[37m\u001b[0m \u001b[1m10s\u001b[0m 14ms/step - loss: 1.7224 - output1_accuracy: 0.7781 - output1_loss: 1.0263 - output2_accuracy: 0.8717 - output2_loss: 0.6842 - val_loss: 1.9257 - val_output1_accuracy: 0.7039 - val_output1_loss: 1.1132 - val_output2_accuracy: 0.8071 - val_output2_loss: 0.8006 - learning_rate: 1.2800e-08\n",
      "Epoch 67/250\n",
      "\u001b[1m703/703\u001b[0m \u001b[32m━━━━━━━━━━━━━━━━━━━━\u001b[0m\u001b[37m\u001b[0m \u001b[1m9s\u001b[0m 13ms/step - loss: 1.7185 - output1_accuracy: 0.7792 - output1_loss: 1.0196 - output2_accuracy: 0.8703 - output2_loss: 0.6870 - val_loss: 1.9214 - val_output1_accuracy: 0.7083 - val_output1_loss: 1.1170 - val_output2_accuracy: 0.8127 - val_output2_loss: 0.7925 - learning_rate: 1.2800e-08\n",
      "Epoch 68/250\n",
      "\u001b[1m703/703\u001b[0m \u001b[32m━━━━━━━━━━━━━━━━━━━━\u001b[0m\u001b[37m\u001b[0m \u001b[1m9s\u001b[0m 13ms/step - loss: 1.7176 - output1_accuracy: 0.7814 - output1_loss: 1.0193 - output2_accuracy: 0.8726 - output2_loss: 0.6864 - val_loss: 1.9238 - val_output1_accuracy: 0.7057 - val_output1_loss: 1.1179 - val_output2_accuracy: 0.8115 - val_output2_loss: 0.7940 - learning_rate: 1.2800e-08\n",
      "Epoch 69/250\n",
      "\u001b[1m703/703\u001b[0m \u001b[32m━━━━━━━━━━━━━━━━━━━━\u001b[0m\u001b[37m\u001b[0m \u001b[1m9s\u001b[0m 13ms/step - loss: 1.7264 - output1_accuracy: 0.7753 - output1_loss: 1.0241 - output2_accuracy: 0.8680 - output2_loss: 0.6903 - val_loss: 1.9199 - val_output1_accuracy: 0.7061 - val_output1_loss: 1.1150 - val_output2_accuracy: 0.8099 - val_output2_loss: 0.7930 - learning_rate: 1.2800e-08\n",
      "Epoch 70/250\n",
      "\u001b[1m703/703\u001b[0m \u001b[32m━━━━━━━━━━━━━━━━━━━━\u001b[0m\u001b[37m\u001b[0m \u001b[1m9s\u001b[0m 13ms/step - loss: 1.7256 - output1_accuracy: 0.7774 - output1_loss: 1.0235 - output2_accuracy: 0.8669 - output2_loss: 0.6902 - val_loss: 1.9389 - val_output1_accuracy: 0.7043 - val_output1_loss: 1.1243 - val_output2_accuracy: 0.8061 - val_output2_loss: 0.8027 - learning_rate: 1.2800e-08\n",
      "Epoch 71/250\n",
      "\u001b[1m703/703\u001b[0m \u001b[32m━━━━━━━━━━━━━━━━━━━━\u001b[0m\u001b[37m\u001b[0m \u001b[1m9s\u001b[0m 13ms/step - loss: 1.7248 - output1_accuracy: 0.7740 - output1_loss: 1.0267 - output2_accuracy: 0.8700 - output2_loss: 0.6861 - val_loss: 1.9537 - val_output1_accuracy: 0.6993 - val_output1_loss: 1.1256 - val_output2_accuracy: 0.7927 - val_output2_loss: 0.8162 - learning_rate: 1.2800e-08\n",
      "Epoch 72/250\n",
      "\u001b[1m703/703\u001b[0m \u001b[32m━━━━━━━━━━━━━━━━━━━━\u001b[0m\u001b[37m\u001b[0m \u001b[1m9s\u001b[0m 13ms/step - loss: 1.7212 - output1_accuracy: 0.7799 - output1_loss: 1.0237 - output2_accuracy: 0.8688 - output2_loss: 0.6856 - val_loss: 1.9231 - val_output1_accuracy: 0.7113 - val_output1_loss: 1.1154 - val_output2_accuracy: 0.8087 - val_output2_loss: 0.7958 - learning_rate: 1.2800e-08\n",
      "Epoch 73/250\n",
      "\u001b[1m703/703\u001b[0m \u001b[32m━━━━━━━━━━━━━━━━━━━━\u001b[0m\u001b[37m\u001b[0m \u001b[1m9s\u001b[0m 12ms/step - loss: 1.7211 - output1_accuracy: 0.7781 - output1_loss: 1.0215 - output2_accuracy: 0.8681 - output2_loss: 0.6876 - val_loss: 1.9252 - val_output1_accuracy: 0.7093 - val_output1_loss: 1.1104 - val_output2_accuracy: 0.8035 - val_output2_loss: 0.8028 - learning_rate: 1.2800e-08\n",
      "Epoch 74/250\n",
      "\u001b[1m703/703\u001b[0m \u001b[32m━━━━━━━━━━━━━━━━━━━━\u001b[0m\u001b[37m\u001b[0m \u001b[1m0s\u001b[0m 13ms/step - loss: 1.7291 - output1_accuracy: 0.7795 - output1_loss: 1.0222 - output2_accuracy: 0.8640 - output2_loss: 0.6950\n",
      "Epoch 74: ReduceLROnPlateau reducing learning rate to 2.5600002118153498e-09.\n",
      "\u001b[1m703/703\u001b[0m \u001b[32m━━━━━━━━━━━━━━━━━━━━\u001b[0m\u001b[37m\u001b[0m \u001b[1m10s\u001b[0m 14ms/step - loss: 1.7291 - output1_accuracy: 0.7795 - output1_loss: 1.0222 - output2_accuracy: 0.8640 - output2_loss: 0.6950 - val_loss: 1.9280 - val_output1_accuracy: 0.7107 - val_output1_loss: 1.1114 - val_output2_accuracy: 0.8027 - val_output2_loss: 0.8047 - learning_rate: 1.2800e-08\n",
      "Epoch 75/250\n",
      "\u001b[1m703/703\u001b[0m \u001b[32m━━━━━━━━━━━━━━━━━━━━\u001b[0m\u001b[37m\u001b[0m \u001b[1m9s\u001b[0m 12ms/step - loss: 1.7219 - output1_accuracy: 0.7816 - output1_loss: 1.0218 - output2_accuracy: 0.8679 - output2_loss: 0.6882 - val_loss: 1.9228 - val_output1_accuracy: 0.7041 - val_output1_loss: 1.1272 - val_output2_accuracy: 0.8167 - val_output2_loss: 0.7837 - learning_rate: 2.5600e-09\n",
      "Epoch 76/250\n",
      "\u001b[1m703/703\u001b[0m \u001b[32m━━━━━━━━━━━━━━━━━━━━\u001b[0m\u001b[37m\u001b[0m \u001b[1m9s\u001b[0m 12ms/step - loss: 1.7252 - output1_accuracy: 0.7740 - output1_loss: 1.0260 - output2_accuracy: 0.8699 - output2_loss: 0.6873 - val_loss: 1.9332 - val_output1_accuracy: 0.7005 - val_output1_loss: 1.1203 - val_output2_accuracy: 0.8093 - val_output2_loss: 0.8009 - learning_rate: 2.5600e-09\n",
      "Epoch 77/250\n",
      "\u001b[1m703/703\u001b[0m \u001b[32m━━━━━━━━━━━━━━━━━━━━\u001b[0m\u001b[37m\u001b[0m \u001b[1m9s\u001b[0m 12ms/step - loss: 1.7113 - output1_accuracy: 0.7868 - output1_loss: 1.0161 - output2_accuracy: 0.8705 - output2_loss: 0.6832 - val_loss: 1.9509 - val_output1_accuracy: 0.6899 - val_output1_loss: 1.1362 - val_output2_accuracy: 0.8031 - val_output2_loss: 0.8028 - learning_rate: 2.5600e-09\n",
      "Epoch 78/250\n",
      "\u001b[1m703/703\u001b[0m \u001b[32m━━━━━━━━━━━━━━━━━━━━\u001b[0m\u001b[37m\u001b[0m \u001b[1m9s\u001b[0m 12ms/step - loss: 1.7218 - output1_accuracy: 0.7839 - output1_loss: 1.0155 - output2_accuracy: 0.8654 - output2_loss: 0.6944 - val_loss: 1.9283 - val_output1_accuracy: 0.7069 - val_output1_loss: 1.1156 - val_output2_accuracy: 0.8085 - val_output2_loss: 0.8007 - learning_rate: 2.5600e-09\n",
      "Epoch 79/250\n",
      "\u001b[1m703/703\u001b[0m \u001b[32m━━━━━━━━━━━━━━━━━━━━\u001b[0m\u001b[37m\u001b[0m \u001b[1m0s\u001b[0m 12ms/step - loss: 1.7168 - output1_accuracy: 0.7788 - output1_loss: 1.0197 - output2_accuracy: 0.8727 - output2_loss: 0.6852\n",
      "Epoch 79: ReduceLROnPlateau reducing learning rate to 1e-09.\n",
      "\u001b[1m703/703\u001b[0m \u001b[32m━━━━━━━━━━━━━━━━━━━━\u001b[0m\u001b[37m\u001b[0m \u001b[1m9s\u001b[0m 13ms/step - loss: 1.7168 - output1_accuracy: 0.7788 - output1_loss: 1.0197 - output2_accuracy: 0.8727 - output2_loss: 0.6852 - val_loss: 1.9258 - val_output1_accuracy: 0.7041 - val_output1_loss: 1.1186 - val_output2_accuracy: 0.8049 - val_output2_loss: 0.7953 - learning_rate: 2.5600e-09\n",
      "Epoch 80/250\n",
      "\u001b[1m703/703\u001b[0m \u001b[32m━━━━━━━━━━━━━━━━━━━━\u001b[0m\u001b[37m\u001b[0m \u001b[1m9s\u001b[0m 13ms/step - loss: 1.7230 - output1_accuracy: 0.7802 - output1_loss: 1.0214 - output2_accuracy: 0.8686 - output2_loss: 0.6897 - val_loss: 1.9224 - val_output1_accuracy: 0.7081 - val_output1_loss: 1.1113 - val_output2_accuracy: 0.8071 - val_output2_loss: 0.7992 - learning_rate: 1.0000e-09\n",
      "Epoch 81/250\n",
      "\u001b[1m703/703\u001b[0m \u001b[32m━━━━━━━━━━━━━━━━━━━━\u001b[0m\u001b[37m\u001b[0m \u001b[1m9s\u001b[0m 13ms/step - loss: 1.7227 - output1_accuracy: 0.7822 - output1_loss: 1.0191 - output2_accuracy: 0.8679 - output2_loss: 0.6916 - val_loss: 1.9353 - val_output1_accuracy: 0.7065 - val_output1_loss: 1.1233 - val_output2_accuracy: 0.8015 - val_output2_loss: 0.8000 - learning_rate: 1.0000e-09\n",
      "Epoch 82/250\n",
      "\u001b[1m703/703\u001b[0m \u001b[32m━━━━━━━━━━━━━━━━━━━━\u001b[0m\u001b[37m\u001b[0m \u001b[1m9s\u001b[0m 13ms/step - loss: 1.7161 - output1_accuracy: 0.7785 - output1_loss: 1.0190 - output2_accuracy: 0.8707 - output2_loss: 0.6852 - val_loss: 1.9374 - val_output1_accuracy: 0.7065 - val_output1_loss: 1.1249 - val_output2_accuracy: 0.8021 - val_output2_loss: 0.8006 - learning_rate: 1.0000e-09\n",
      "Epoch 83/250\n",
      "\u001b[1m703/703\u001b[0m \u001b[32m━━━━━━━━━━━━━━━━━━━━\u001b[0m\u001b[37m\u001b[0m \u001b[1m9s\u001b[0m 13ms/step - loss: 1.7222 - output1_accuracy: 0.7766 - output1_loss: 1.0211 - output2_accuracy: 0.8669 - output2_loss: 0.6891 - val_loss: 1.9274 - val_output1_accuracy: 0.6947 - val_output1_loss: 1.1277 - val_output2_accuracy: 0.8069 - val_output2_loss: 0.7878 - learning_rate: 1.0000e-09\n",
      "Epoch 84/250\n",
      "\u001b[1m703/703\u001b[0m \u001b[32m━━━━━━━━━━━━━━━━━━━━\u001b[0m\u001b[37m\u001b[0m \u001b[1m9s\u001b[0m 13ms/step - loss: 1.7277 - output1_accuracy: 0.7788 - output1_loss: 1.0215 - output2_accuracy: 0.8652 - output2_loss: 0.6943 - val_loss: 1.9602 - val_output1_accuracy: 0.6971 - val_output1_loss: 1.1323 - val_output2_accuracy: 0.7957 - val_output2_loss: 0.8160 - learning_rate: 1.0000e-09\n",
      "Epoch 85/250\n",
      "\u001b[1m703/703\u001b[0m \u001b[32m━━━━━━━━━━━━━━━━━━━━\u001b[0m\u001b[37m\u001b[0m \u001b[1m9s\u001b[0m 12ms/step - loss: 1.7215 - output1_accuracy: 0.7838 - output1_loss: 1.0175 - output2_accuracy: 0.8672 - output2_loss: 0.6920 - val_loss: 1.9262 - val_output1_accuracy: 0.7057 - val_output1_loss: 1.1201 - val_output2_accuracy: 0.8109 - val_output2_loss: 0.7941 - learning_rate: 1.0000e-09\n",
      "Epoch 86/250\n",
      "\u001b[1m703/703\u001b[0m \u001b[32m━━━━━━━━━━━━━━━━━━━━\u001b[0m\u001b[37m\u001b[0m \u001b[1m9s\u001b[0m 12ms/step - loss: 1.7218 - output1_accuracy: 0.7836 - output1_loss: 1.0196 - output2_accuracy: 0.8660 - output2_loss: 0.6903 - val_loss: 1.9472 - val_output1_accuracy: 0.6993 - val_output1_loss: 1.1285 - val_output2_accuracy: 0.8049 - val_output2_loss: 0.8068 - learning_rate: 1.0000e-09\n",
      "Epoch 87/250\n",
      "\u001b[1m703/703\u001b[0m \u001b[32m━━━━━━━━━━━━━━━━━━━━\u001b[0m\u001b[37m\u001b[0m \u001b[1m9s\u001b[0m 12ms/step - loss: 1.7170 - output1_accuracy: 0.7826 - output1_loss: 1.0179 - output2_accuracy: 0.8676 - output2_loss: 0.6872 - val_loss: 1.9373 - val_output1_accuracy: 0.6947 - val_output1_loss: 1.1280 - val_output2_accuracy: 0.8033 - val_output2_loss: 0.7974 - learning_rate: 1.0000e-09\n",
      "Epoch 88/250\n",
      "\u001b[1m703/703\u001b[0m \u001b[32m━━━━━━━━━━━━━━━━━━━━\u001b[0m\u001b[37m\u001b[0m \u001b[1m9s\u001b[0m 13ms/step - loss: 1.7209 - output1_accuracy: 0.7794 - output1_loss: 1.0240 - output2_accuracy: 0.8706 - output2_loss: 0.6850 - val_loss: 1.9286 - val_output1_accuracy: 0.7073 - val_output1_loss: 1.1148 - val_output2_accuracy: 0.7991 - val_output2_loss: 0.8018 - learning_rate: 1.0000e-09\n",
      "Epoch 89/250\n",
      "\u001b[1m703/703\u001b[0m \u001b[32m━━━━━━━━━━━━━━━━━━━━\u001b[0m\u001b[37m\u001b[0m \u001b[1m9s\u001b[0m 13ms/step - loss: 1.7237 - output1_accuracy: 0.7846 - output1_loss: 1.0203 - output2_accuracy: 0.8666 - output2_loss: 0.6914 - val_loss: 1.9370 - val_output1_accuracy: 0.6945 - val_output1_loss: 1.1281 - val_output2_accuracy: 0.8091 - val_output2_loss: 0.7969 - learning_rate: 1.0000e-09\n",
      "Epoch 89: early stopping\n",
      "Restoring model weights from the end of the best epoch: 69.\n"
     ]
    }
   ],
   "source": [
    "K.clear_session() # garbage collection\n",
    "early_stopping = keras.callbacks.EarlyStopping(monitor='val_loss',  # Track the validation loss\n",
    "                               patience=20,         # Number of epochs to wait after the last improvement\n",
    "                               mode='min',         # Stop when the value stops decreasing (minimization)\n",
    "                               restore_best_weights=True,  # Restore the best weights when stopping\n",
    "                               verbose=1)\n",
    "model = ACCNRR4()\n",
    "model.compile(optimizer='rmsprop',\n",
    "              loss={'output1': keras.losses.CategoricalCrossentropy(label_smoothing=0.2), 'output2': keras.losses.CategoricalCrossentropy(label_smoothing=0.1)},\n",
    "              metrics={'output1': 'accuracy', 'output2': 'accuracy'})\n",
    "model.summary()\n",
    "model.compile(optimizer='rmsprop',\n",
    "              loss={'output1': keras.losses.CategoricalCrossentropy(label_smoothing=0.2), 'output2': keras.losses.CategoricalCrossentropy(label_smoothing=0.1)},\n",
    "              metrics={'output1': 'accuracy', 'output2': 'accuracy'})\n",
    "reduce_lr = keras.callbacks.ReduceLROnPlateau(monitor='val_loss', factor=0.2,\n",
    "                              patience=5, min_lr=1e-9, verbose=1)\n",
    "history = model.fit(\n",
    "    traingen,            \n",
    "    epochs=250,          \n",
    "    steps_per_epoch=len(cifar10_x_train)//batchsize, # necessary since generator loops infinitely\n",
    "    validation_data=valgen,\n",
    "    validation_steps=len(cifar10_x_val)//batchsize,  # necessary since generator loops infinitely\n",
    "    callbacks=[early_stopping, reduce_lr],\n",
    "    verbose=1\n",
    ")"
   ]
  },
  {
   "cell_type": "code",
   "execution_count": 93,
   "metadata": {},
   "outputs": [
    {
     "name": "stderr",
     "output_type": "stream",
     "text": [
      "100%|██████████| 10/10 [00:12<00:00,  1.21s/it]"
     ]
    },
    {
     "name": "stdout",
     "output_type": "stream",
     "text": [
      "mean accuracy =  0.7578449964523315\n",
      "standard deviation =  0.003335145901600307\n"
     ]
    },
    {
     "name": "stderr",
     "output_type": "stream",
     "text": [
      "\n"
     ]
    }
   ],
   "source": [
    "evaluate_model(model,testgen)"
   ]
  }
 ],
 "metadata": {
  "kernelspec": {
   "display_name": "Python 3",
   "language": "python",
   "name": "python3"
  },
  "language_info": {
   "codemirror_mode": {
    "name": "ipython",
    "version": 3
   },
   "file_extension": ".py",
   "mimetype": "text/x-python",
   "name": "python",
   "nbconvert_exporter": "python",
   "pygments_lexer": "ipython3",
   "version": "3.9.20"
  }
 },
 "nbformat": 4,
 "nbformat_minor": 2
}
